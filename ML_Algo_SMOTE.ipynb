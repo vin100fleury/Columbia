{
  "nbformat": 4,
  "nbformat_minor": 0,
  "metadata": {
    "colab": {
      "name": "ML_Algo_SMOTE.ipynb",
      "provenance": [],
      "collapsed_sections": [
        "zcb4ciA9gKYk",
        "gv6ugX7-SwMP",
        "Owmykkj1TwZa",
        "WQQl6BZJXrt7"
      ]
    },
    "kernelspec": {
      "name": "python3",
      "display_name": "Python 3"
    }
  },
  "cells": [
    {
      "cell_type": "markdown",
      "metadata": {
        "id": "2PXwYxTWgNNn"
      },
      "source": [
        "In this Notebook, we implemented the SMOTE method to rebalance our dataset and increase the importance of minorities."
      ]
    },
    {
      "cell_type": "markdown",
      "metadata": {
        "id": "zcb4ciA9gKYk"
      },
      "source": [
        "# Extraction"
      ]
    },
    {
      "cell_type": "code",
      "metadata": {
        "id": "XlE1b1s4H4-A",
        "outputId": "69d54ad0-2c87-4b17-cd02-d1634fc4d674",
        "colab": {
          "base_uri": "https://localhost:8080/",
          "height": 188
        }
      },
      "source": [
        "!pip install -U -q PyDrive\n",
        "!pip install -U scikit-learn\n",
        "from pydrive.auth import GoogleAuth\n",
        "from pydrive.drive import GoogleDrive\n",
        "from google.colab import auth\n",
        "from oauth2client.client import GoogleCredentials\n",
        "# Authenticate and create the PyDrive client.\n",
        "auth.authenticate_user()\n",
        "gauth = GoogleAuth()\n",
        "gauth.credentials = GoogleCredentials.get_application_default()\n",
        "drive = GoogleDrive(gauth)\n",
        "\n",
        "import pandas as pd\n",
        "import numpy as np\n",
        "\n",
        "import matplotlib.pyplot as plt\n",
        "\n",
        "import scipy.stats as spst\n",
        "from scipy.optimize import minimize\n",
        "import scipy.special as spsp\n",
        "import datetime\n",
        "\n",
        "from sklearn.neighbors import KNeighborsClassifier\n",
        "from sklearn.preprocessing import StandardScaler\n",
        "from sklearn.model_selection import train_test_split, KFold, GridSearchCV\n",
        "from sklearn.discriminant_analysis import LinearDiscriminantAnalysis as LDA\n",
        "from sklearn.linear_model import LogisticRegression\n",
        "from sklearn.ensemble import RandomForestClassifier, GradientBoostingClassifier\n",
        "from sklearn.metrics import confusion_matrix, plot_confusion_matrix\n",
        "from sklearn.naive_bayes import CategoricalNB\n",
        "import seaborn as sn\n",
        "\n",
        "from imblearn.over_sampling import SMOTE\n",
        "from imblearn.under_sampling import RandomUnderSampler\n",
        "\n",
        "link=\"https://drive.google.com/open?id=1ekH_MmN_ofsmz6bR3xHrRnmDfXSDCWQK\"\n",
        "_,id=link.split(\"=\")\n",
        "downloaded = drive.CreateFile({'id':id}) \n",
        "downloaded.GetContentFile('myfile.csv')\n",
        "hSSW_wdeltabike= pd.read_csv('myfile.csv')\n",
        "print('hSSW_wdeltabike imported')"
      ],
      "execution_count": null,
      "outputs": [
        {
          "output_type": "stream",
          "text": [
            "Requirement already up-to-date: scikit-learn in /usr/local/lib/python3.6/dist-packages (0.22)\n",
            "Requirement already satisfied, skipping upgrade: numpy>=1.11.0 in /usr/local/lib/python3.6/dist-packages (from scikit-learn) (1.17.4)\n",
            "Requirement already satisfied, skipping upgrade: joblib>=0.11 in /usr/local/lib/python3.6/dist-packages (from scikit-learn) (0.14.1)\n",
            "Requirement already satisfied, skipping upgrade: scipy>=0.17.0 in /usr/local/lib/python3.6/dist-packages (from scikit-learn) (1.3.3)\n"
          ],
          "name": "stdout"
        },
        {
          "output_type": "stream",
          "text": [
            "/usr/local/lib/python3.6/dist-packages/sklearn/externals/six.py:31: FutureWarning: The module is deprecated in version 0.21 and will be removed in version 0.23 since we've dropped support for Python 2.7. Please rely on the official version of six (https://pypi.org/project/six/).\n",
            "  \"(https://pypi.org/project/six/).\", FutureWarning)\n",
            "/usr/local/lib/python3.6/dist-packages/sklearn/utils/deprecation.py:144: FutureWarning: The sklearn.neighbors.base module is  deprecated in version 0.22 and will be removed in version 0.24. The corresponding classes / functions should instead be imported from sklearn.neighbors. Anything that cannot be imported from sklearn.neighbors is now part of the private API.\n",
            "  warnings.warn(message, FutureWarning)\n"
          ],
          "name": "stderr"
        },
        {
          "output_type": "stream",
          "text": [
            "hSSW_wdeltabike imported\n"
          ],
          "name": "stdout"
        }
      ]
    },
    {
      "cell_type": "code",
      "metadata": {
        "id": "I6m3fC_mIpiG",
        "outputId": "1dfa75f8-1b54-48b3-f5ec-1df7a134425a",
        "colab": {
          "base_uri": "https://localhost:8080/",
          "height": 825
        }
      },
      "source": [
        "hSSW_wdeltabike"
      ],
      "execution_count": null,
      "outputs": [
        {
          "output_type": "execute_result",
          "data": {
            "text/html": [
              "<div>\n",
              "<style scoped>\n",
              "    .dataframe tbody tr th:only-of-type {\n",
              "        vertical-align: middle;\n",
              "    }\n",
              "\n",
              "    .dataframe tbody tr th {\n",
              "        vertical-align: top;\n",
              "    }\n",
              "\n",
              "    .dataframe thead th {\n",
              "        text-align: right;\n",
              "    }\n",
              "</style>\n",
              "<table border=\"1\" class=\"dataframe\">\n",
              "  <thead>\n",
              "    <tr style=\"text-align: right;\">\n",
              "      <th></th>\n",
              "      <th>Unnamed: 0</th>\n",
              "      <th>station_id</th>\n",
              "      <th>bikes_available</th>\n",
              "      <th>docks_available</th>\n",
              "      <th>Holiday</th>\n",
              "      <th>Weekend</th>\n",
              "      <th>name</th>\n",
              "      <th>lat</th>\n",
              "      <th>long</th>\n",
              "      <th>dock_count</th>\n",
              "      <th>city</th>\n",
              "      <th>installation_date</th>\n",
              "      <th>delta_bike</th>\n",
              "      <th>datetime</th>\n",
              "      <th>Humidity</th>\n",
              "      <th>Pressure</th>\n",
              "      <th>Temperature</th>\n",
              "      <th>Weather_Description</th>\n",
              "      <th>Wind_Direction</th>\n",
              "      <th>Wind_Speed</th>\n",
              "    </tr>\n",
              "  </thead>\n",
              "  <tbody>\n",
              "    <tr>\n",
              "      <th>0</th>\n",
              "      <td>0</td>\n",
              "      <td>2</td>\n",
              "      <td>2</td>\n",
              "      <td>25</td>\n",
              "      <td>False</td>\n",
              "      <td>False</td>\n",
              "      <td>San Jose Diridon Caltrain Station</td>\n",
              "      <td>37.329732</td>\n",
              "      <td>-121.901782</td>\n",
              "      <td>27</td>\n",
              "      <td>San Jose</td>\n",
              "      <td>8/6/2013</td>\n",
              "      <td>NaN</td>\n",
              "      <td>8/29/2013 13:00</td>\n",
              "      <td>94.0</td>\n",
              "      <td>1021</td>\n",
              "      <td>287.2795</td>\n",
              "      <td>broken clouds</td>\n",
              "      <td>201</td>\n",
              "      <td>0</td>\n",
              "    </tr>\n",
              "    <tr>\n",
              "      <th>1</th>\n",
              "      <td>1</td>\n",
              "      <td>3</td>\n",
              "      <td>9</td>\n",
              "      <td>6</td>\n",
              "      <td>False</td>\n",
              "      <td>False</td>\n",
              "      <td>San Jose Civic Center</td>\n",
              "      <td>37.330698</td>\n",
              "      <td>-121.888979</td>\n",
              "      <td>15</td>\n",
              "      <td>San Jose</td>\n",
              "      <td>8/5/2013</td>\n",
              "      <td>NaN</td>\n",
              "      <td>8/29/2013 13:00</td>\n",
              "      <td>94.0</td>\n",
              "      <td>1021</td>\n",
              "      <td>287.2795</td>\n",
              "      <td>broken clouds</td>\n",
              "      <td>201</td>\n",
              "      <td>0</td>\n",
              "    </tr>\n",
              "    <tr>\n",
              "      <th>2</th>\n",
              "      <td>2</td>\n",
              "      <td>4</td>\n",
              "      <td>0</td>\n",
              "      <td>11</td>\n",
              "      <td>False</td>\n",
              "      <td>False</td>\n",
              "      <td>Santa Clara at Almaden</td>\n",
              "      <td>37.333988</td>\n",
              "      <td>-121.894902</td>\n",
              "      <td>11</td>\n",
              "      <td>San Jose</td>\n",
              "      <td>8/6/2013</td>\n",
              "      <td>NaN</td>\n",
              "      <td>8/29/2013 13:00</td>\n",
              "      <td>94.0</td>\n",
              "      <td>1021</td>\n",
              "      <td>287.2795</td>\n",
              "      <td>broken clouds</td>\n",
              "      <td>201</td>\n",
              "      <td>0</td>\n",
              "    </tr>\n",
              "    <tr>\n",
              "      <th>3</th>\n",
              "      <td>3</td>\n",
              "      <td>5</td>\n",
              "      <td>9</td>\n",
              "      <td>10</td>\n",
              "      <td>False</td>\n",
              "      <td>False</td>\n",
              "      <td>Adobe on Almaden</td>\n",
              "      <td>37.331415</td>\n",
              "      <td>-121.893200</td>\n",
              "      <td>19</td>\n",
              "      <td>San Jose</td>\n",
              "      <td>8/5/2013</td>\n",
              "      <td>NaN</td>\n",
              "      <td>8/29/2013 13:00</td>\n",
              "      <td>94.0</td>\n",
              "      <td>1021</td>\n",
              "      <td>287.2795</td>\n",
              "      <td>broken clouds</td>\n",
              "      <td>201</td>\n",
              "      <td>0</td>\n",
              "    </tr>\n",
              "    <tr>\n",
              "      <th>4</th>\n",
              "      <td>4</td>\n",
              "      <td>6</td>\n",
              "      <td>4</td>\n",
              "      <td>11</td>\n",
              "      <td>False</td>\n",
              "      <td>False</td>\n",
              "      <td>San Pedro Square</td>\n",
              "      <td>37.336721</td>\n",
              "      <td>-121.894074</td>\n",
              "      <td>15</td>\n",
              "      <td>San Jose</td>\n",
              "      <td>8/7/2013</td>\n",
              "      <td>NaN</td>\n",
              "      <td>8/29/2013 13:00</td>\n",
              "      <td>94.0</td>\n",
              "      <td>1021</td>\n",
              "      <td>287.2795</td>\n",
              "      <td>broken clouds</td>\n",
              "      <td>201</td>\n",
              "      <td>0</td>\n",
              "    </tr>\n",
              "    <tr>\n",
              "      <th>...</th>\n",
              "      <td>...</td>\n",
              "      <td>...</td>\n",
              "      <td>...</td>\n",
              "      <td>...</td>\n",
              "      <td>...</td>\n",
              "      <td>...</td>\n",
              "      <td>...</td>\n",
              "      <td>...</td>\n",
              "      <td>...</td>\n",
              "      <td>...</td>\n",
              "      <td>...</td>\n",
              "      <td>...</td>\n",
              "      <td>...</td>\n",
              "      <td>...</td>\n",
              "      <td>...</td>\n",
              "      <td>...</td>\n",
              "      <td>...</td>\n",
              "      <td>...</td>\n",
              "      <td>...</td>\n",
              "      <td>...</td>\n",
              "    </tr>\n",
              "    <tr>\n",
              "      <th>634687</th>\n",
              "      <td>634687</td>\n",
              "      <td>70</td>\n",
              "      <td>6</td>\n",
              "      <td>13</td>\n",
              "      <td>False</td>\n",
              "      <td>True</td>\n",
              "      <td>San Francisco Caltrain (Townsend at 4th)</td>\n",
              "      <td>37.776617</td>\n",
              "      <td>-122.395260</td>\n",
              "      <td>19</td>\n",
              "      <td>San Francisco</td>\n",
              "      <td>8/23/2013</td>\n",
              "      <td>0.0</td>\n",
              "      <td>9/28/2014 14:00</td>\n",
              "      <td>100.0</td>\n",
              "      <td>1024</td>\n",
              "      <td>286.7370</td>\n",
              "      <td>sky is clear</td>\n",
              "      <td>159</td>\n",
              "      <td>1</td>\n",
              "    </tr>\n",
              "    <tr>\n",
              "      <th>634688</th>\n",
              "      <td>634688</td>\n",
              "      <td>71</td>\n",
              "      <td>5</td>\n",
              "      <td>14</td>\n",
              "      <td>False</td>\n",
              "      <td>True</td>\n",
              "      <td>Powell at Post (Union Square)</td>\n",
              "      <td>37.788446</td>\n",
              "      <td>-122.408499</td>\n",
              "      <td>19</td>\n",
              "      <td>San Francisco</td>\n",
              "      <td>8/23/2013</td>\n",
              "      <td>-2.0</td>\n",
              "      <td>9/28/2014 14:00</td>\n",
              "      <td>100.0</td>\n",
              "      <td>1024</td>\n",
              "      <td>286.7370</td>\n",
              "      <td>sky is clear</td>\n",
              "      <td>159</td>\n",
              "      <td>1</td>\n",
              "    </tr>\n",
              "    <tr>\n",
              "      <th>634689</th>\n",
              "      <td>634689</td>\n",
              "      <td>72</td>\n",
              "      <td>14</td>\n",
              "      <td>9</td>\n",
              "      <td>False</td>\n",
              "      <td>True</td>\n",
              "      <td>Civic Center BART (7th at Market)</td>\n",
              "      <td>37.781039</td>\n",
              "      <td>-122.411748</td>\n",
              "      <td>23</td>\n",
              "      <td>San Francisco</td>\n",
              "      <td>8/23/2013</td>\n",
              "      <td>0.0</td>\n",
              "      <td>9/28/2014 14:00</td>\n",
              "      <td>100.0</td>\n",
              "      <td>1024</td>\n",
              "      <td>286.7370</td>\n",
              "      <td>sky is clear</td>\n",
              "      <td>159</td>\n",
              "      <td>1</td>\n",
              "    </tr>\n",
              "    <tr>\n",
              "      <th>634690</th>\n",
              "      <td>634690</td>\n",
              "      <td>73</td>\n",
              "      <td>10</td>\n",
              "      <td>4</td>\n",
              "      <td>False</td>\n",
              "      <td>True</td>\n",
              "      <td>Grant Avenue at Columbus Avenue</td>\n",
              "      <td>37.798522</td>\n",
              "      <td>-122.407245</td>\n",
              "      <td>15</td>\n",
              "      <td>San Francisco</td>\n",
              "      <td>8/21/2013</td>\n",
              "      <td>-3.0</td>\n",
              "      <td>9/28/2014 14:00</td>\n",
              "      <td>100.0</td>\n",
              "      <td>1024</td>\n",
              "      <td>286.7370</td>\n",
              "      <td>sky is clear</td>\n",
              "      <td>159</td>\n",
              "      <td>1</td>\n",
              "    </tr>\n",
              "    <tr>\n",
              "      <th>634691</th>\n",
              "      <td>634691</td>\n",
              "      <td>74</td>\n",
              "      <td>3</td>\n",
              "      <td>20</td>\n",
              "      <td>False</td>\n",
              "      <td>True</td>\n",
              "      <td>Steuart at Market</td>\n",
              "      <td>37.794139</td>\n",
              "      <td>-122.394434</td>\n",
              "      <td>23</td>\n",
              "      <td>San Francisco</td>\n",
              "      <td>8/25/2013</td>\n",
              "      <td>0.0</td>\n",
              "      <td>9/28/2014 14:00</td>\n",
              "      <td>100.0</td>\n",
              "      <td>1024</td>\n",
              "      <td>286.7370</td>\n",
              "      <td>sky is clear</td>\n",
              "      <td>159</td>\n",
              "      <td>1</td>\n",
              "    </tr>\n",
              "  </tbody>\n",
              "</table>\n",
              "<p>634692 rows × 20 columns</p>\n",
              "</div>"
            ],
            "text/plain": [
              "        Unnamed: 0  station_id  ...  Wind_Direction  Wind_Speed\n",
              "0                0           2  ...             201           0\n",
              "1                1           3  ...             201           0\n",
              "2                2           4  ...             201           0\n",
              "3                3           5  ...             201           0\n",
              "4                4           6  ...             201           0\n",
              "...            ...         ...  ...             ...         ...\n",
              "634687      634687          70  ...             159           1\n",
              "634688      634688          71  ...             159           1\n",
              "634689      634689          72  ...             159           1\n",
              "634690      634690          73  ...             159           1\n",
              "634691      634691          74  ...             159           1\n",
              "\n",
              "[634692 rows x 20 columns]"
            ]
          },
          "metadata": {
            "tags": []
          },
          "execution_count": 2
        }
      ]
    },
    {
      "cell_type": "code",
      "metadata": {
        "id": "dD5itaZgKHdP",
        "outputId": "b77e9058-624c-446e-8ada-767a91313243",
        "colab": {
          "base_uri": "https://localhost:8080/",
          "height": 50
        }
      },
      "source": [
        "hSSW_wdeltabike['city'].unique()"
      ],
      "execution_count": null,
      "outputs": [
        {
          "output_type": "execute_result",
          "data": {
            "text/plain": [
              "array(['San Jose', 'Redwood City', 'Mountain View', 'Palo Alto',\n",
              "       'San Francisco'], dtype=object)"
            ]
          },
          "metadata": {
            "tags": []
          },
          "execution_count": 3
        }
      ]
    },
    {
      "cell_type": "code",
      "metadata": {
        "id": "QbsMfpC3KV28",
        "outputId": "bb4ff125-9172-494b-eec0-e5b5fbe4c32d",
        "colab": {
          "base_uri": "https://localhost:8080/",
          "height": 168
        }
      },
      "source": [
        "hSSW_wdeltabike['Weather_Description'].unique()"
      ],
      "execution_count": null,
      "outputs": [
        {
          "output_type": "execute_result",
          "data": {
            "text/plain": [
              "array(['broken clouds', 'mist', 'few clouds', 'sky is clear',\n",
              "       'thunderstorm', 'scattered clouds', 'overcast clouds',\n",
              "       'moderate rain', 'light rain', 'proximity thunderstorm', 'fog',\n",
              "       'haze', 'light intensity drizzle', 'heavy intensity drizzle',\n",
              "       'drizzle', 'thunderstorm with rain', 'proximity shower rain',\n",
              "       'thunderstorm with light rain', 'heavy intensity rain',\n",
              "       'very heavy rain', 'thunderstorm with heavy rain',\n",
              "       'proximity thunderstorm with rain', 'light intensity shower rain'],\n",
              "      dtype=object)"
            ]
          },
          "metadata": {
            "tags": []
          },
          "execution_count": 4
        }
      ]
    },
    {
      "cell_type": "markdown",
      "metadata": {
        "id": "gv6ugX7-SwMP"
      },
      "source": [
        "# Coherence Check and Cleaning"
      ]
    },
    {
      "cell_type": "code",
      "metadata": {
        "id": "Sy6athEfI9Sn",
        "outputId": "9c33c63f-de08-4e7c-d187-33ba8ef4bbc8",
        "colab": {
          "base_uri": "https://localhost:8080/",
          "height": 282
        }
      },
      "source": [
        "hSSW_wdeltabike['check']=hSSW_wdeltabike['bikes_available']+hSSW_wdeltabike['docks_available']-hSSW_wdeltabike['dock_count']\n",
        "unique,count=np.unique(hSSW_wdeltabike['check'],return_counts=True)\n",
        "plt.bar(np.delete(unique,-3),np.delete(count,-3)) #delete count of value 0"
      ],
      "execution_count": null,
      "outputs": [
        {
          "output_type": "execute_result",
          "data": {
            "text/plain": [
              "<BarContainer object of 14 artists>"
            ]
          },
          "metadata": {
            "tags": []
          },
          "execution_count": 5
        },
        {
          "output_type": "display_data",
          "data": {
            "image/png": "[encoded data removed]",
            "text/plain": [
              "<Figure size 432x288 with 1 Axes>"
            ]
          },
          "metadata": {
            "tags": []
          }
        }
      ]
    },
    {
      "cell_type": "code",
      "metadata": {
        "id": "_paz44K3MeAw",
        "outputId": "643bf793-9e22-4102-c560-825cab150dad",
        "colab": {
          "base_uri": "https://localhost:8080/",
          "height": 282
        }
      },
      "source": [
        "unique_id,count_id=np.unique(hSSW_wdeltabike[hSSW_wdeltabike['check']!=0]['station_id'],return_counts=True)\n",
        "plt.bar(unique_id,count_id)"
      ],
      "execution_count": null,
      "outputs": [
        {
          "output_type": "execute_result",
          "data": {
            "text/plain": [
              "<BarContainer object of 69 artists>"
            ]
          },
          "metadata": {
            "tags": []
          },
          "execution_count": 6
        },
        {
          "output_type": "display_data",
          "data": {
            "image/png": "[encoded data removed]",
            "text/plain": [
              "<Figure size 432x288 with 1 Axes>"
            ]
          },
          "metadata": {
            "tags": []
          }
        }
      ]
    },
    {
      "cell_type": "code",
      "metadata": {
        "id": "CsQ4YW38MyLh",
        "outputId": "0d34361c-ae06-4e44-ac76-6c356b41f3cd",
        "colab": {
          "base_uri": "https://localhost:8080/",
          "height": 218
        }
      },
      "source": [
        "unique_id,count_id"
      ],
      "execution_count": null,
      "outputs": [
        {
          "output_type": "execute_result",
          "data": {
            "text/plain": [
              "(array([ 2,  3,  4,  5,  6,  7,  8,  9, 10, 11, 12, 13, 14, 16, 21, 22, 23,\n",
              "        24, 26, 27, 28, 29, 30, 31, 32, 33, 34, 35, 36, 37, 38, 39, 41, 42,\n",
              "        45, 46, 47, 48, 49, 50, 51, 54, 55, 56, 57, 58, 59, 60, 61, 62, 63,\n",
              "        64, 65, 66, 67, 68, 69, 70, 71, 72, 73, 74, 75, 76, 77, 80, 82, 83,\n",
              "        84], dtype=int64),\n",
              " array([ 298,   56,  124,   52,   38,  105,  110,   33,   78,   78,   83,\n",
              "          98,   84,   50,   60, 9130,   22,    2,    4,   23,  122,    2,\n",
              "          22,    5,  112,   45,  257,   70,   15,   30,   26,  382,  162,\n",
              "         100,  133,   63,  261,  104,   79,  667,  110,  147,  227,  107,\n",
              "         200,  212,  174,  161, 3675,  198,  170,  133,  207,  341,  434,\n",
              "         172,  223,  246,   82,  434,   66, 3715,  118,  317, 3714,   19,\n",
              "          56,   32,   66]))"
            ]
          },
          "metadata": {
            "tags": []
          },
          "execution_count": 7
        }
      ]
    },
    {
      "cell_type": "code",
      "metadata": {
        "id": "BSKjdX_kPzvE",
        "outputId": "32e0065e-c2f5-417a-bceb-a93c15a2eaac",
        "colab": {
          "base_uri": "https://localhost:8080/",
          "height": 34
        }
      },
      "source": [
        "count_id[np.argsort(count_id)[-4:]],unique_id[np.argsort(count_id)[-4:]]"
      ],
      "execution_count": null,
      "outputs": [
        {
          "output_type": "execute_result",
          "data": {
            "text/plain": [
              "(array([3675, 3714, 3715, 9130]), array([61, 77, 74, 22], dtype=int64))"
            ]
          },
          "metadata": {
            "tags": []
          },
          "execution_count": 8
        }
      ]
    },
    {
      "cell_type": "code",
      "metadata": {
        "id": "NPDW3GIAQF97",
        "outputId": "033a10fb-12e9-4315-9ee7-737ebc10f697",
        "colab": {
          "base_uri": "https://localhost:8080/",
          "height": 34
        }
      },
      "source": [
        "np.unique(hSSW_wdeltabike[hSSW_wdeltabike['station_id']==22]['check'],return_counts=True)"
      ],
      "execution_count": null,
      "outputs": [
        {
          "output_type": "execute_result",
          "data": {
            "text/plain": [
              "(array([-1,  0,  1,  2], dtype=int64), array([   3,  250,   39, 9088]))"
            ]
          },
          "metadata": {
            "tags": []
          },
          "execution_count": 9
        }
      ]
    },
    {
      "cell_type": "markdown",
      "metadata": {
        "id": "1r-lSa0rSuoS"
      },
      "source": [
        "We can certainly deduce an error in the dock count. In addition, the number of bikes and docks available is varaible, contrary to the dock_count, which is fixed. If some docks are under repair, we will see them in the availability variable, but not in the dock_count."
      ]
    },
    {
      "cell_type": "code",
      "metadata": {
        "id": "P2wstyG2R0rf",
        "outputId": "15d5d8f2-9616-4547-affd-81f4cc998a4e",
        "colab": {
          "base_uri": "https://localhost:8080/",
          "height": 50
        }
      },
      "source": [
        "np.unique(hSSW_wdeltabike['dock_count'],return_counts=True)"
      ],
      "execution_count": null,
      "outputs": [
        {
          "output_type": "execute_result",
          "data": {
            "text/plain": [
              "(array([11, 15, 19, 23, 25, 27], dtype=int64),\n",
              " array([ 34598, 300137, 168663,  84397,   9380,  37517]))"
            ]
          },
          "metadata": {
            "tags": []
          },
          "execution_count": 10
        }
      ]
    },
    {
      "cell_type": "code",
      "metadata": {
        "id": "de-pkJIcSfFS"
      },
      "source": [
        "hSSW_wdeltabike['dock_total']=hSSW_wdeltabike['bikes_available']+hSSW_wdeltabike['docks_available']"
      ],
      "execution_count": null,
      "outputs": []
    },
    {
      "cell_type": "markdown",
      "metadata": {
        "id": "Owmykkj1TwZa"
      },
      "source": [
        "# Categorical Label Implementation"
      ]
    },
    {
      "cell_type": "code",
      "metadata": {
        "id": "JdajVaa5Tn5E"
      },
      "source": [
        "hSSW_wdeltabike['Category']=1"
      ],
      "execution_count": null,
      "outputs": []
    },
    {
      "cell_type": "code",
      "metadata": {
        "id": "8jcrBaaAVHC1"
      },
      "source": [
        "hSSW_wdeltabike.loc[(hSSW_wdeltabike['bikes_available']/hSSW_wdeltabike['dock_total'])<0.1,'Category']=0\n",
        "hSSW_wdeltabike.loc[(hSSW_wdeltabike['docks_available']/hSSW_wdeltabike['dock_total'])<0.1,'Category']=2"
      ],
      "execution_count": null,
      "outputs": []
    },
    {
      "cell_type": "markdown",
      "metadata": {
        "id": "WQQl6BZJXrt7"
      },
      "source": [
        "# Features Selection and Modification"
      ]
    },
    {
      "cell_type": "markdown",
      "metadata": {
        "id": "BXxshqXYfvve"
      },
      "source": [
        "### City"
      ]
    },
    {
      "cell_type": "code",
      "metadata": {
        "id": "_o08lj9GVhOz",
        "outputId": "c0dc10ff-3434-4d16-9ea9-2aeaa48c0395",
        "colab": {
          "base_uri": "https://localhost:8080/",
          "height": 195
        }
      },
      "source": [
        "City=pd.get_dummies(hSSW_wdeltabike['city'])\n",
        "City.head()"
      ],
      "execution_count": null,
      "outputs": [
        {
          "output_type": "execute_result",
          "data": {
            "text/html": [
              "<div>\n",
              "<style scoped>\n",
              "    .dataframe tbody tr th:only-of-type {\n",
              "        vertical-align: middle;\n",
              "    }\n",
              "\n",
              "    .dataframe tbody tr th {\n",
              "        vertical-align: top;\n",
              "    }\n",
              "\n",
              "    .dataframe thead th {\n",
              "        text-align: right;\n",
              "    }\n",
              "</style>\n",
              "<table border=\"1\" class=\"dataframe\">\n",
              "  <thead>\n",
              "    <tr style=\"text-align: right;\">\n",
              "      <th></th>\n",
              "      <th>Mountain View</th>\n",
              "      <th>Palo Alto</th>\n",
              "      <th>Redwood City</th>\n",
              "      <th>San Francisco</th>\n",
              "      <th>San Jose</th>\n",
              "    </tr>\n",
              "  </thead>\n",
              "  <tbody>\n",
              "    <tr>\n",
              "      <th>0</th>\n",
              "      <td>0</td>\n",
              "      <td>0</td>\n",
              "      <td>0</td>\n",
              "      <td>0</td>\n",
              "      <td>1</td>\n",
              "    </tr>\n",
              "    <tr>\n",
              "      <th>1</th>\n",
              "      <td>0</td>\n",
              "      <td>0</td>\n",
              "      <td>0</td>\n",
              "      <td>0</td>\n",
              "      <td>1</td>\n",
              "    </tr>\n",
              "    <tr>\n",
              "      <th>2</th>\n",
              "      <td>0</td>\n",
              "      <td>0</td>\n",
              "      <td>0</td>\n",
              "      <td>0</td>\n",
              "      <td>1</td>\n",
              "    </tr>\n",
              "    <tr>\n",
              "      <th>3</th>\n",
              "      <td>0</td>\n",
              "      <td>0</td>\n",
              "      <td>0</td>\n",
              "      <td>0</td>\n",
              "      <td>1</td>\n",
              "    </tr>\n",
              "    <tr>\n",
              "      <th>4</th>\n",
              "      <td>0</td>\n",
              "      <td>0</td>\n",
              "      <td>0</td>\n",
              "      <td>0</td>\n",
              "      <td>1</td>\n",
              "    </tr>\n",
              "  </tbody>\n",
              "</table>\n",
              "</div>"
            ],
            "text/plain": [
              "   Mountain View  Palo Alto  Redwood City  San Francisco  San Jose\n",
              "0              0          0             0              0         1\n",
              "1              0          0             0              0         1\n",
              "2              0          0             0              0         1\n",
              "3              0          0             0              0         1\n",
              "4              0          0             0              0         1"
            ]
          },
          "metadata": {
            "tags": []
          },
          "execution_count": 14
        }
      ]
    },
    {
      "cell_type": "markdown",
      "metadata": {
        "id": "wUV5-M7vf0OS"
      },
      "source": [
        "### Weather"
      ]
    },
    {
      "cell_type": "code",
      "metadata": {
        "id": "9oGnJ4P4X26z",
        "outputId": "52dda58d-2ea9-433b-d153-25cefc3df6dd",
        "colab": {
          "base_uri": "https://localhost:8080/",
          "height": 168
        }
      },
      "source": [
        "hSSW_wdeltabike['Weather_Description'].unique()"
      ],
      "execution_count": null,
      "outputs": [
        {
          "output_type": "execute_result",
          "data": {
            "text/plain": [
              "array(['broken clouds', 'mist', 'few clouds', 'sky is clear',\n",
              "       'thunderstorm', 'scattered clouds', 'overcast clouds',\n",
              "       'moderate rain', 'light rain', 'proximity thunderstorm', 'fog',\n",
              "       'haze', 'light intensity drizzle', 'heavy intensity drizzle',\n",
              "       'drizzle', 'thunderstorm with rain', 'proximity shower rain',\n",
              "       'thunderstorm with light rain', 'heavy intensity rain',\n",
              "       'very heavy rain', 'thunderstorm with heavy rain',\n",
              "       'proximity thunderstorm with rain', 'light intensity shower rain'],\n",
              "      dtype=object)"
            ]
          },
          "metadata": {
            "tags": []
          },
          "execution_count": 15
        }
      ]
    },
    {
      "cell_type": "markdown",
      "metadata": {
        "id": "Sd0-aXaeYh7W"
      },
      "source": [
        "Goal: Simplify the Weather Description to a more General weather:\n",
        "- Sunny: Sky is clear\n",
        "- Cloudy: Broken clouds, Few clouds, Scattered clouds, Overcast clouds\n",
        "- Foggy: Mist, Fog, Haze, \n",
        "- Light Rain: light rain, light intensity drizzle, thunderstorm with light rain,light intensity shower rain\n",
        "- Moderate Rain: moderate rain, drizzle, thunderstorm with rain\n",
        "- Heavy Rain: heavy intensity rain, heavy intensity drizzle, thunderstorm with heavy rain, very heavy rain\n",
        "- Proximity to Rain: thunderstorm, proximity thunderstorm, proximity shower rain, proximity thunderstorm with rain"
      ]
    },
    {
      "cell_type": "code",
      "metadata": {
        "id": "oNN_swrxYgjN"
      },
      "source": [
        "hSSW_wdeltabike['Weather_Simplified']=hSSW_wdeltabike['Weather_Description']"
      ],
      "execution_count": null,
      "outputs": []
    },
    {
      "cell_type": "code",
      "metadata": {
        "id": "fMVYe6Uib4lr"
      },
      "source": [
        "hSSW_wdeltabike.loc[hSSW_wdeltabike['Weather_Description']=='sky is clear','Weather_Simplified']='Sunny'\n",
        "hSSW_wdeltabike.loc[hSSW_wdeltabike['Weather_Description']=='broken clouds','Weather_Simplified']='Cloudy'\n",
        "hSSW_wdeltabike.loc[hSSW_wdeltabike['Weather_Description']=='few clouds','Weather_Simplified']='Cloudy'\n",
        "hSSW_wdeltabike.loc[hSSW_wdeltabike['Weather_Description']=='scattered clouds','Weather_Simplified']='Cloudy'\n",
        "hSSW_wdeltabike.loc[hSSW_wdeltabike['Weather_Description']=='overcast clouds','Weather_Simplified']='Cloudy'\n",
        "hSSW_wdeltabike.loc[hSSW_wdeltabike['Weather_Description']=='mist','Weather_Simplified']='Foggy'\n",
        "hSSW_wdeltabike.loc[hSSW_wdeltabike['Weather_Description']=='fog','Weather_Simplified']='Foggy'\n",
        "hSSW_wdeltabike.loc[hSSW_wdeltabike['Weather_Description']=='haze','Weather_Simplified']='Foggy'\n",
        "hSSW_wdeltabike.loc[hSSW_wdeltabike['Weather_Description']=='light rain','Weather_Simplified']='Light Rain'\n",
        "hSSW_wdeltabike.loc[hSSW_wdeltabike['Weather_Description']=='light intensity drizzle','Weather_Simplified']='Light Rain'\n",
        "hSSW_wdeltabike.loc[hSSW_wdeltabike['Weather_Description']=='thunderstorm with light rain','Weather_Simplified']='Light Rain'\n",
        "hSSW_wdeltabike.loc[hSSW_wdeltabike['Weather_Description']=='light intensity shower rain','Weather_Simplified']='Light Rain'\n",
        "hSSW_wdeltabike.loc[hSSW_wdeltabike['Weather_Description']=='moderate rain','Weather_Simplified']='Moderate Rain'\n",
        "hSSW_wdeltabike.loc[hSSW_wdeltabike['Weather_Description']=='drizzle','Weather_Simplified']='Moderate Rain'\n",
        "hSSW_wdeltabike.loc[hSSW_wdeltabike['Weather_Description']=='thunderstorm with rain','Weather_Simplified']='Moderate Rain'\n",
        "hSSW_wdeltabike.loc[hSSW_wdeltabike['Weather_Description']=='heavy intensity rain','Weather_Simplified']='Heavy Rain'\n",
        "hSSW_wdeltabike.loc[hSSW_wdeltabike['Weather_Description']=='heavy intensity drizzle','Weather_Simplified']='Heavy Rain'\n",
        "hSSW_wdeltabike.loc[hSSW_wdeltabike['Weather_Description']=='thunderstorm with heavy rain','Weather_Simplified']='Heavy Rain'\n",
        "hSSW_wdeltabike.loc[hSSW_wdeltabike['Weather_Description']=='very heavy rain','Weather_Simplified']='Heavy Rain'\n",
        "hSSW_wdeltabike.loc[hSSW_wdeltabike['Weather_Description']=='thunderstorm','Weather_Simplified']='Proximity to Rain'\n",
        "hSSW_wdeltabike.loc[hSSW_wdeltabike['Weather_Description']=='proximity thunderstorm','Weather_Simplified']='Proximity to Rain'\n",
        "hSSW_wdeltabike.loc[hSSW_wdeltabike['Weather_Description']=='proximity shower rain','Weather_Simplified']='Proximity to Rain'\n",
        "hSSW_wdeltabike.loc[hSSW_wdeltabike['Weather_Description']=='proximity thunderstorm with rain','Weather_Simplified']='Proximity to Rain'"
      ],
      "execution_count": null,
      "outputs": []
    },
    {
      "cell_type": "code",
      "metadata": {
        "id": "byxrAer_cECE"
      },
      "source": [
        "hSSW_wdeltabike['Rain']=1\n",
        "hSSW_wdeltabike.loc[hSSW_wdeltabike['Weather_Simplified']=='Sunny','Rain']=0\n",
        "hSSW_wdeltabike.loc[hSSW_wdeltabike['Weather_Simplified']=='Cloudy','Rain']=0\n",
        "hSSW_wdeltabike.loc[hSSW_wdeltabike['Weather_Simplified']=='Foggy','Rain']=0\n",
        "hSSW_wdeltabike.loc[hSSW_wdeltabike['Weather_Simplified']=='Proximity to Rain','Rain']=0"
      ],
      "execution_count": null,
      "outputs": []
    },
    {
      "cell_type": "markdown",
      "metadata": {
        "id": "UBqK8MFRe8gY"
      },
      "source": [
        "Weather Description from 23 to 7 categories, and an additional dummy Rain column."
      ]
    },
    {
      "cell_type": "code",
      "metadata": {
        "id": "hRs9TUCEcUaV",
        "outputId": "4b446091-a40f-41cd-f3bd-9216843ef5eb",
        "colab": {
          "base_uri": "https://localhost:8080/",
          "height": 195
        }
      },
      "source": [
        "Weather_Simplified=pd.get_dummies(hSSW_wdeltabike['Weather_Simplified'])\n",
        "Weather_Simplified.head()"
      ],
      "execution_count": null,
      "outputs": [
        {
          "output_type": "execute_result",
          "data": {
            "text/html": [
              "<div>\n",
              "<style scoped>\n",
              "    .dataframe tbody tr th:only-of-type {\n",
              "        vertical-align: middle;\n",
              "    }\n",
              "\n",
              "    .dataframe tbody tr th {\n",
              "        vertical-align: top;\n",
              "    }\n",
              "\n",
              "    .dataframe thead th {\n",
              "        text-align: right;\n",
              "    }\n",
              "</style>\n",
              "<table border=\"1\" class=\"dataframe\">\n",
              "  <thead>\n",
              "    <tr style=\"text-align: right;\">\n",
              "      <th></th>\n",
              "      <th>Cloudy</th>\n",
              "      <th>Foggy</th>\n",
              "      <th>Heavy Rain</th>\n",
              "      <th>Light Rain</th>\n",
              "      <th>Moderate Rain</th>\n",
              "      <th>Proximity to Rain</th>\n",
              "      <th>Sunny</th>\n",
              "    </tr>\n",
              "  </thead>\n",
              "  <tbody>\n",
              "    <tr>\n",
              "      <th>0</th>\n",
              "      <td>1</td>\n",
              "      <td>0</td>\n",
              "      <td>0</td>\n",
              "      <td>0</td>\n",
              "      <td>0</td>\n",
              "      <td>0</td>\n",
              "      <td>0</td>\n",
              "    </tr>\n",
              "    <tr>\n",
              "      <th>1</th>\n",
              "      <td>1</td>\n",
              "      <td>0</td>\n",
              "      <td>0</td>\n",
              "      <td>0</td>\n",
              "      <td>0</td>\n",
              "      <td>0</td>\n",
              "      <td>0</td>\n",
              "    </tr>\n",
              "    <tr>\n",
              "      <th>2</th>\n",
              "      <td>1</td>\n",
              "      <td>0</td>\n",
              "      <td>0</td>\n",
              "      <td>0</td>\n",
              "      <td>0</td>\n",
              "      <td>0</td>\n",
              "      <td>0</td>\n",
              "    </tr>\n",
              "    <tr>\n",
              "      <th>3</th>\n",
              "      <td>1</td>\n",
              "      <td>0</td>\n",
              "      <td>0</td>\n",
              "      <td>0</td>\n",
              "      <td>0</td>\n",
              "      <td>0</td>\n",
              "      <td>0</td>\n",
              "    </tr>\n",
              "    <tr>\n",
              "      <th>4</th>\n",
              "      <td>1</td>\n",
              "      <td>0</td>\n",
              "      <td>0</td>\n",
              "      <td>0</td>\n",
              "      <td>0</td>\n",
              "      <td>0</td>\n",
              "      <td>0</td>\n",
              "    </tr>\n",
              "  </tbody>\n",
              "</table>\n",
              "</div>"
            ],
            "text/plain": [
              "   Cloudy  Foggy  Heavy Rain  ...  Moderate Rain  Proximity to Rain  Sunny\n",
              "0       1      0           0  ...              0                  0      0\n",
              "1       1      0           0  ...              0                  0      0\n",
              "2       1      0           0  ...              0                  0      0\n",
              "3       1      0           0  ...              0                  0      0\n",
              "4       1      0           0  ...              0                  0      0\n",
              "\n",
              "[5 rows x 7 columns]"
            ]
          },
          "metadata": {
            "tags": []
          },
          "execution_count": 19
        }
      ]
    },
    {
      "cell_type": "markdown",
      "metadata": {
        "id": "8-zIC-OBf6j8"
      },
      "source": [
        "### Wind Direction"
      ]
    },
    {
      "cell_type": "code",
      "metadata": {
        "id": "UIO3fKuOfanL"
      },
      "source": [
        "hSSW_wdeltabike['Wind_Orientation']='North'"
      ],
      "execution_count": null,
      "outputs": []
    },
    {
      "cell_type": "code",
      "metadata": {
        "id": "dXolIvKbhDGo"
      },
      "source": [
        "hSSW_wdeltabike.loc[(hSSW_wdeltabike['Wind_Direction'].astype(int)>45) & (hSSW_wdeltabike['Wind_Direction'].astype(int)<=135),'Wind_Orientation']='East'\n",
        "hSSW_wdeltabike.loc[(hSSW_wdeltabike['Wind_Direction'].astype(int)>135) & (hSSW_wdeltabike['Wind_Direction'].astype(int)<=225),'Wind_Orientation']='South'\n",
        "hSSW_wdeltabike.loc[(hSSW_wdeltabike['Wind_Direction'].astype(int)>225) & (hSSW_wdeltabike['Wind_Direction'].astype(int)<=315),'Wind_Orientation']='West'"
      ],
      "execution_count": null,
      "outputs": []
    },
    {
      "cell_type": "code",
      "metadata": {
        "id": "1Vdns2e8hifm",
        "outputId": "ed042c81-4bba-4d35-b356-8f8f65460732",
        "colab": {
          "base_uri": "https://localhost:8080/",
          "height": 195
        }
      },
      "source": [
        "Wind_Orientation=pd.get_dummies(hSSW_wdeltabike['Wind_Orientation'])\n",
        "Wind_Orientation.head()"
      ],
      "execution_count": null,
      "outputs": [
        {
          "output_type": "execute_result",
          "data": {
            "text/html": [
              "<div>\n",
              "<style scoped>\n",
              "    .dataframe tbody tr th:only-of-type {\n",
              "        vertical-align: middle;\n",
              "    }\n",
              "\n",
              "    .dataframe tbody tr th {\n",
              "        vertical-align: top;\n",
              "    }\n",
              "\n",
              "    .dataframe thead th {\n",
              "        text-align: right;\n",
              "    }\n",
              "</style>\n",
              "<table border=\"1\" class=\"dataframe\">\n",
              "  <thead>\n",
              "    <tr style=\"text-align: right;\">\n",
              "      <th></th>\n",
              "      <th>East</th>\n",
              "      <th>North</th>\n",
              "      <th>South</th>\n",
              "      <th>West</th>\n",
              "    </tr>\n",
              "  </thead>\n",
              "  <tbody>\n",
              "    <tr>\n",
              "      <th>0</th>\n",
              "      <td>0</td>\n",
              "      <td>0</td>\n",
              "      <td>1</td>\n",
              "      <td>0</td>\n",
              "    </tr>\n",
              "    <tr>\n",
              "      <th>1</th>\n",
              "      <td>0</td>\n",
              "      <td>0</td>\n",
              "      <td>1</td>\n",
              "      <td>0</td>\n",
              "    </tr>\n",
              "    <tr>\n",
              "      <th>2</th>\n",
              "      <td>0</td>\n",
              "      <td>0</td>\n",
              "      <td>1</td>\n",
              "      <td>0</td>\n",
              "    </tr>\n",
              "    <tr>\n",
              "      <th>3</th>\n",
              "      <td>0</td>\n",
              "      <td>0</td>\n",
              "      <td>1</td>\n",
              "      <td>0</td>\n",
              "    </tr>\n",
              "    <tr>\n",
              "      <th>4</th>\n",
              "      <td>0</td>\n",
              "      <td>0</td>\n",
              "      <td>1</td>\n",
              "      <td>0</td>\n",
              "    </tr>\n",
              "  </tbody>\n",
              "</table>\n",
              "</div>"
            ],
            "text/plain": [
              "   East  North  South  West\n",
              "0     0      0      1     0\n",
              "1     0      0      1     0\n",
              "2     0      0      1     0\n",
              "3     0      0      1     0\n",
              "4     0      0      1     0"
            ]
          },
          "metadata": {
            "tags": []
          },
          "execution_count": 22
        }
      ]
    },
    {
      "cell_type": "markdown",
      "metadata": {
        "id": "Sp4fjoN-rf7_"
      },
      "source": [
        "### Time"
      ]
    },
    {
      "cell_type": "code",
      "metadata": {
        "id": "JJKPMXX2h3-U"
      },
      "source": [
        "hSSW_wdeltabike['Hour']=hSSW_wdeltabike['datetime'].astype('datetime64').dt.hour\n",
        "hSSW_wdeltabike['Month']=hSSW_wdeltabike['datetime'].astype('datetime64').dt.month"
      ],
      "execution_count": null,
      "outputs": []
    },
    {
      "cell_type": "code",
      "metadata": {
        "id": "mraBVj5prpWJ",
        "outputId": "5b2e591a-a845-4260-b3f1-fc8b8d70de73",
        "colab": {
          "base_uri": "https://localhost:8080/",
          "height": 450
        }
      },
      "source": [
        "hSSW_wdeltabike.head()"
      ],
      "execution_count": null,
      "outputs": [
        {
          "output_type": "execute_result",
          "data": {
            "text/html": [
              "<div>\n",
              "<style scoped>\n",
              "    .dataframe tbody tr th:only-of-type {\n",
              "        vertical-align: middle;\n",
              "    }\n",
              "\n",
              "    .dataframe tbody tr th {\n",
              "        vertical-align: top;\n",
              "    }\n",
              "\n",
              "    .dataframe thead th {\n",
              "        text-align: right;\n",
              "    }\n",
              "</style>\n",
              "<table border=\"1\" class=\"dataframe\">\n",
              "  <thead>\n",
              "    <tr style=\"text-align: right;\">\n",
              "      <th></th>\n",
              "      <th>Unnamed: 0</th>\n",
              "      <th>station_id</th>\n",
              "      <th>bikes_available</th>\n",
              "      <th>docks_available</th>\n",
              "      <th>Holiday</th>\n",
              "      <th>Weekend</th>\n",
              "      <th>name</th>\n",
              "      <th>lat</th>\n",
              "      <th>long</th>\n",
              "      <th>dock_count</th>\n",
              "      <th>city</th>\n",
              "      <th>installation_date</th>\n",
              "      <th>delta_bike</th>\n",
              "      <th>datetime</th>\n",
              "      <th>Humidity</th>\n",
              "      <th>Pressure</th>\n",
              "      <th>Temperature</th>\n",
              "      <th>Weather_Description</th>\n",
              "      <th>Wind_Direction</th>\n",
              "      <th>Wind_Speed</th>\n",
              "      <th>check</th>\n",
              "      <th>dock_total</th>\n",
              "      <th>Category</th>\n",
              "      <th>Weather_Simplified</th>\n",
              "      <th>Rain</th>\n",
              "      <th>Wind_Orientation</th>\n",
              "      <th>Hour</th>\n",
              "      <th>Month</th>\n",
              "    </tr>\n",
              "  </thead>\n",
              "  <tbody>\n",
              "    <tr>\n",
              "      <th>0</th>\n",
              "      <td>0</td>\n",
              "      <td>2</td>\n",
              "      <td>2</td>\n",
              "      <td>25</td>\n",
              "      <td>False</td>\n",
              "      <td>False</td>\n",
              "      <td>San Jose Diridon Caltrain Station</td>\n",
              "      <td>37.329732</td>\n",
              "      <td>-121.901782</td>\n",
              "      <td>27</td>\n",
              "      <td>San Jose</td>\n",
              "      <td>8/6/2013</td>\n",
              "      <td>NaN</td>\n",
              "      <td>8/29/2013 13:00</td>\n",
              "      <td>94.0</td>\n",
              "      <td>1021</td>\n",
              "      <td>287.2795</td>\n",
              "      <td>broken clouds</td>\n",
              "      <td>201</td>\n",
              "      <td>0</td>\n",
              "      <td>0</td>\n",
              "      <td>27</td>\n",
              "      <td>0</td>\n",
              "      <td>Cloudy</td>\n",
              "      <td>0</td>\n",
              "      <td>South</td>\n",
              "      <td>13</td>\n",
              "      <td>8</td>\n",
              "    </tr>\n",
              "    <tr>\n",
              "      <th>1</th>\n",
              "      <td>1</td>\n",
              "      <td>3</td>\n",
              "      <td>9</td>\n",
              "      <td>6</td>\n",
              "      <td>False</td>\n",
              "      <td>False</td>\n",
              "      <td>San Jose Civic Center</td>\n",
              "      <td>37.330698</td>\n",
              "      <td>-121.888979</td>\n",
              "      <td>15</td>\n",
              "      <td>San Jose</td>\n",
              "      <td>8/5/2013</td>\n",
              "      <td>NaN</td>\n",
              "      <td>8/29/2013 13:00</td>\n",
              "      <td>94.0</td>\n",
              "      <td>1021</td>\n",
              "      <td>287.2795</td>\n",
              "      <td>broken clouds</td>\n",
              "      <td>201</td>\n",
              "      <td>0</td>\n",
              "      <td>0</td>\n",
              "      <td>15</td>\n",
              "      <td>1</td>\n",
              "      <td>Cloudy</td>\n",
              "      <td>0</td>\n",
              "      <td>South</td>\n",
              "      <td>13</td>\n",
              "      <td>8</td>\n",
              "    </tr>\n",
              "    <tr>\n",
              "      <th>2</th>\n",
              "      <td>2</td>\n",
              "      <td>4</td>\n",
              "      <td>0</td>\n",
              "      <td>11</td>\n",
              "      <td>False</td>\n",
              "      <td>False</td>\n",
              "      <td>Santa Clara at Almaden</td>\n",
              "      <td>37.333988</td>\n",
              "      <td>-121.894902</td>\n",
              "      <td>11</td>\n",
              "      <td>San Jose</td>\n",
              "      <td>8/6/2013</td>\n",
              "      <td>NaN</td>\n",
              "      <td>8/29/2013 13:00</td>\n",
              "      <td>94.0</td>\n",
              "      <td>1021</td>\n",
              "      <td>287.2795</td>\n",
              "      <td>broken clouds</td>\n",
              "      <td>201</td>\n",
              "      <td>0</td>\n",
              "      <td>0</td>\n",
              "      <td>11</td>\n",
              "      <td>0</td>\n",
              "      <td>Cloudy</td>\n",
              "      <td>0</td>\n",
              "      <td>South</td>\n",
              "      <td>13</td>\n",
              "      <td>8</td>\n",
              "    </tr>\n",
              "    <tr>\n",
              "      <th>3</th>\n",
              "      <td>3</td>\n",
              "      <td>5</td>\n",
              "      <td>9</td>\n",
              "      <td>10</td>\n",
              "      <td>False</td>\n",
              "      <td>False</td>\n",
              "      <td>Adobe on Almaden</td>\n",
              "      <td>37.331415</td>\n",
              "      <td>-121.893200</td>\n",
              "      <td>19</td>\n",
              "      <td>San Jose</td>\n",
              "      <td>8/5/2013</td>\n",
              "      <td>NaN</td>\n",
              "      <td>8/29/2013 13:00</td>\n",
              "      <td>94.0</td>\n",
              "      <td>1021</td>\n",
              "      <td>287.2795</td>\n",
              "      <td>broken clouds</td>\n",
              "      <td>201</td>\n",
              "      <td>0</td>\n",
              "      <td>0</td>\n",
              "      <td>19</td>\n",
              "      <td>1</td>\n",
              "      <td>Cloudy</td>\n",
              "      <td>0</td>\n",
              "      <td>South</td>\n",
              "      <td>13</td>\n",
              "      <td>8</td>\n",
              "    </tr>\n",
              "    <tr>\n",
              "      <th>4</th>\n",
              "      <td>4</td>\n",
              "      <td>6</td>\n",
              "      <td>4</td>\n",
              "      <td>11</td>\n",
              "      <td>False</td>\n",
              "      <td>False</td>\n",
              "      <td>San Pedro Square</td>\n",
              "      <td>37.336721</td>\n",
              "      <td>-121.894074</td>\n",
              "      <td>15</td>\n",
              "      <td>San Jose</td>\n",
              "      <td>8/7/2013</td>\n",
              "      <td>NaN</td>\n",
              "      <td>8/29/2013 13:00</td>\n",
              "      <td>94.0</td>\n",
              "      <td>1021</td>\n",
              "      <td>287.2795</td>\n",
              "      <td>broken clouds</td>\n",
              "      <td>201</td>\n",
              "      <td>0</td>\n",
              "      <td>0</td>\n",
              "      <td>15</td>\n",
              "      <td>1</td>\n",
              "      <td>Cloudy</td>\n",
              "      <td>0</td>\n",
              "      <td>South</td>\n",
              "      <td>13</td>\n",
              "      <td>8</td>\n",
              "    </tr>\n",
              "  </tbody>\n",
              "</table>\n",
              "</div>"
            ],
            "text/plain": [
              "   Unnamed: 0  station_id  bikes_available  ...  Wind_Orientation  Hour  Month\n",
              "0           0           2                2  ...             South    13      8\n",
              "1           1           3                9  ...             South    13      8\n",
              "2           2           4                0  ...             South    13      8\n",
              "3           3           5                9  ...             South    13      8\n",
              "4           4           6                4  ...             South    13      8\n",
              "\n",
              "[5 rows x 28 columns]"
            ]
          },
          "metadata": {
            "tags": []
          },
          "execution_count": 24
        }
      ]
    },
    {
      "cell_type": "markdown",
      "metadata": {
        "id": "1sMbjfmBvVdw"
      },
      "source": [
        "### Merge"
      ]
    },
    {
      "cell_type": "code",
      "metadata": {
        "id": "3WEyBwZCsP7O"
      },
      "source": [
        "ML_data=hSSW_wdeltabike[['Category','station_id','bikes_available','docks_available','Holiday','Weekend','Humidity','Pressure','Temperature',\\\n",
        "                         'Wind_Direction','Wind_Speed','Rain','Hour','Month']]"
      ],
      "execution_count": null,
      "outputs": []
    },
    {
      "cell_type": "code",
      "metadata": {
        "id": "u-D-rKnJtqx_"
      },
      "source": [
        "ML_data=pd.merge(ML_data,City,left_index=True,right_index=True)\n",
        "ML_data=pd.merge(ML_data,Weather_Simplified,left_index=True,right_index=True)\n",
        "ML_data=pd.merge(ML_data,Wind_Orientation,left_index=True,right_index=True)"
      ],
      "execution_count": null,
      "outputs": []
    },
    {
      "cell_type": "code",
      "metadata": {
        "id": "iDsuqkEDvupu"
      },
      "source": [
        "ML_data=ML_data.astype({'Holiday': int, 'Weekend': int})"
      ],
      "execution_count": null,
      "outputs": []
    },
    {
      "cell_type": "code",
      "metadata": {
        "id": "PbnPC2tGtxf1",
        "outputId": "6dc439c4-6827-4973-fe34-311b94c64510",
        "colab": {
          "base_uri": "https://localhost:8080/",
          "height": 438
        }
      },
      "source": [
        "ML_data"
      ],
      "execution_count": null,
      "outputs": [
        {
          "output_type": "execute_result",
          "data": {
            "text/html": [
              "<div>\n",
              "<style scoped>\n",
              "    .dataframe tbody tr th:only-of-type {\n",
              "        vertical-align: middle;\n",
              "    }\n",
              "\n",
              "    .dataframe tbody tr th {\n",
              "        vertical-align: top;\n",
              "    }\n",
              "\n",
              "    .dataframe thead th {\n",
              "        text-align: right;\n",
              "    }\n",
              "</style>\n",
              "<table border=\"1\" class=\"dataframe\">\n",
              "  <thead>\n",
              "    <tr style=\"text-align: right;\">\n",
              "      <th></th>\n",
              "      <th>Category</th>\n",
              "      <th>station_id</th>\n",
              "      <th>bikes_available</th>\n",
              "      <th>docks_available</th>\n",
              "      <th>Holiday</th>\n",
              "      <th>Weekend</th>\n",
              "      <th>Humidity</th>\n",
              "      <th>Pressure</th>\n",
              "      <th>Temperature</th>\n",
              "      <th>Wind_Direction</th>\n",
              "      <th>Wind_Speed</th>\n",
              "      <th>Rain</th>\n",
              "      <th>Hour</th>\n",
              "      <th>Month</th>\n",
              "      <th>Mountain View</th>\n",
              "      <th>Palo Alto</th>\n",
              "      <th>Redwood City</th>\n",
              "      <th>San Francisco</th>\n",
              "      <th>San Jose</th>\n",
              "      <th>Cloudy</th>\n",
              "      <th>Foggy</th>\n",
              "      <th>Heavy Rain</th>\n",
              "      <th>Light Rain</th>\n",
              "      <th>Moderate Rain</th>\n",
              "      <th>Proximity to Rain</th>\n",
              "      <th>Sunny</th>\n",
              "      <th>East</th>\n",
              "      <th>North</th>\n",
              "      <th>South</th>\n",
              "      <th>West</th>\n",
              "    </tr>\n",
              "  </thead>\n",
              "  <tbody>\n",
              "    <tr>\n",
              "      <th>0</th>\n",
              "      <td>0</td>\n",
              "      <td>2</td>\n",
              "      <td>2</td>\n",
              "      <td>25</td>\n",
              "      <td>0</td>\n",
              "      <td>0</td>\n",
              "      <td>94.0</td>\n",
              "      <td>1021</td>\n",
              "      <td>287.2795</td>\n",
              "      <td>201</td>\n",
              "      <td>0</td>\n",
              "      <td>0</td>\n",
              "      <td>13</td>\n",
              "      <td>8</td>\n",
              "      <td>0</td>\n",
              "      <td>0</td>\n",
              "      <td>0</td>\n",
              "      <td>0</td>\n",
              "      <td>1</td>\n",
              "      <td>1</td>\n",
              "      <td>0</td>\n",
              "      <td>0</td>\n",
              "      <td>0</td>\n",
              "      <td>0</td>\n",
              "      <td>0</td>\n",
              "      <td>0</td>\n",
              "      <td>0</td>\n",
              "      <td>0</td>\n",
              "      <td>1</td>\n",
              "      <td>0</td>\n",
              "    </tr>\n",
              "    <tr>\n",
              "      <th>1</th>\n",
              "      <td>1</td>\n",
              "      <td>3</td>\n",
              "      <td>9</td>\n",
              "      <td>6</td>\n",
              "      <td>0</td>\n",
              "      <td>0</td>\n",
              "      <td>94.0</td>\n",
              "      <td>1021</td>\n",
              "      <td>287.2795</td>\n",
              "      <td>201</td>\n",
              "      <td>0</td>\n",
              "      <td>0</td>\n",
              "      <td>13</td>\n",
              "      <td>8</td>\n",
              "      <td>0</td>\n",
              "      <td>0</td>\n",
              "      <td>0</td>\n",
              "      <td>0</td>\n",
              "      <td>1</td>\n",
              "      <td>1</td>\n",
              "      <td>0</td>\n",
              "      <td>0</td>\n",
              "      <td>0</td>\n",
              "      <td>0</td>\n",
              "      <td>0</td>\n",
              "      <td>0</td>\n",
              "      <td>0</td>\n",
              "      <td>0</td>\n",
              "      <td>1</td>\n",
              "      <td>0</td>\n",
              "    </tr>\n",
              "    <tr>\n",
              "      <th>2</th>\n",
              "      <td>0</td>\n",
              "      <td>4</td>\n",
              "      <td>0</td>\n",
              "      <td>11</td>\n",
              "      <td>0</td>\n",
              "      <td>0</td>\n",
              "      <td>94.0</td>\n",
              "      <td>1021</td>\n",
              "      <td>287.2795</td>\n",
              "      <td>201</td>\n",
              "      <td>0</td>\n",
              "      <td>0</td>\n",
              "      <td>13</td>\n",
              "      <td>8</td>\n",
              "      <td>0</td>\n",
              "      <td>0</td>\n",
              "      <td>0</td>\n",
              "      <td>0</td>\n",
              "      <td>1</td>\n",
              "      <td>1</td>\n",
              "      <td>0</td>\n",
              "      <td>0</td>\n",
              "      <td>0</td>\n",
              "      <td>0</td>\n",
              "      <td>0</td>\n",
              "      <td>0</td>\n",
              "      <td>0</td>\n",
              "      <td>0</td>\n",
              "      <td>1</td>\n",
              "      <td>0</td>\n",
              "    </tr>\n",
              "    <tr>\n",
              "      <th>3</th>\n",
              "      <td>1</td>\n",
              "      <td>5</td>\n",
              "      <td>9</td>\n",
              "      <td>10</td>\n",
              "      <td>0</td>\n",
              "      <td>0</td>\n",
              "      <td>94.0</td>\n",
              "      <td>1021</td>\n",
              "      <td>287.2795</td>\n",
              "      <td>201</td>\n",
              "      <td>0</td>\n",
              "      <td>0</td>\n",
              "      <td>13</td>\n",
              "      <td>8</td>\n",
              "      <td>0</td>\n",
              "      <td>0</td>\n",
              "      <td>0</td>\n",
              "      <td>0</td>\n",
              "      <td>1</td>\n",
              "      <td>1</td>\n",
              "      <td>0</td>\n",
              "      <td>0</td>\n",
              "      <td>0</td>\n",
              "      <td>0</td>\n",
              "      <td>0</td>\n",
              "      <td>0</td>\n",
              "      <td>0</td>\n",
              "      <td>0</td>\n",
              "      <td>1</td>\n",
              "      <td>0</td>\n",
              "    </tr>\n",
              "    <tr>\n",
              "      <th>4</th>\n",
              "      <td>1</td>\n",
              "      <td>6</td>\n",
              "      <td>4</td>\n",
              "      <td>11</td>\n",
              "      <td>0</td>\n",
              "      <td>0</td>\n",
              "      <td>94.0</td>\n",
              "      <td>1021</td>\n",
              "      <td>287.2795</td>\n",
              "      <td>201</td>\n",
              "      <td>0</td>\n",
              "      <td>0</td>\n",
              "      <td>13</td>\n",
              "      <td>8</td>\n",
              "      <td>0</td>\n",
              "      <td>0</td>\n",
              "      <td>0</td>\n",
              "      <td>0</td>\n",
              "      <td>1</td>\n",
              "      <td>1</td>\n",
              "      <td>0</td>\n",
              "      <td>0</td>\n",
              "      <td>0</td>\n",
              "      <td>0</td>\n",
              "      <td>0</td>\n",
              "      <td>0</td>\n",
              "      <td>0</td>\n",
              "      <td>0</td>\n",
              "      <td>1</td>\n",
              "      <td>0</td>\n",
              "    </tr>\n",
              "    <tr>\n",
              "      <th>...</th>\n",
              "      <td>...</td>\n",
              "      <td>...</td>\n",
              "      <td>...</td>\n",
              "      <td>...</td>\n",
              "      <td>...</td>\n",
              "      <td>...</td>\n",
              "      <td>...</td>\n",
              "      <td>...</td>\n",
              "      <td>...</td>\n",
              "      <td>...</td>\n",
              "      <td>...</td>\n",
              "      <td>...</td>\n",
              "      <td>...</td>\n",
              "      <td>...</td>\n",
              "      <td>...</td>\n",
              "      <td>...</td>\n",
              "      <td>...</td>\n",
              "      <td>...</td>\n",
              "      <td>...</td>\n",
              "      <td>...</td>\n",
              "      <td>...</td>\n",
              "      <td>...</td>\n",
              "      <td>...</td>\n",
              "      <td>...</td>\n",
              "      <td>...</td>\n",
              "      <td>...</td>\n",
              "      <td>...</td>\n",
              "      <td>...</td>\n",
              "      <td>...</td>\n",
              "      <td>...</td>\n",
              "    </tr>\n",
              "    <tr>\n",
              "      <th>634687</th>\n",
              "      <td>1</td>\n",
              "      <td>70</td>\n",
              "      <td>6</td>\n",
              "      <td>13</td>\n",
              "      <td>0</td>\n",
              "      <td>1</td>\n",
              "      <td>100.0</td>\n",
              "      <td>1024</td>\n",
              "      <td>286.7370</td>\n",
              "      <td>159</td>\n",
              "      <td>1</td>\n",
              "      <td>0</td>\n",
              "      <td>14</td>\n",
              "      <td>9</td>\n",
              "      <td>0</td>\n",
              "      <td>0</td>\n",
              "      <td>0</td>\n",
              "      <td>1</td>\n",
              "      <td>0</td>\n",
              "      <td>0</td>\n",
              "      <td>0</td>\n",
              "      <td>0</td>\n",
              "      <td>0</td>\n",
              "      <td>0</td>\n",
              "      <td>0</td>\n",
              "      <td>1</td>\n",
              "      <td>0</td>\n",
              "      <td>0</td>\n",
              "      <td>1</td>\n",
              "      <td>0</td>\n",
              "    </tr>\n",
              "    <tr>\n",
              "      <th>634688</th>\n",
              "      <td>1</td>\n",
              "      <td>71</td>\n",
              "      <td>5</td>\n",
              "      <td>14</td>\n",
              "      <td>0</td>\n",
              "      <td>1</td>\n",
              "      <td>100.0</td>\n",
              "      <td>1024</td>\n",
              "      <td>286.7370</td>\n",
              "      <td>159</td>\n",
              "      <td>1</td>\n",
              "      <td>0</td>\n",
              "      <td>14</td>\n",
              "      <td>9</td>\n",
              "      <td>0</td>\n",
              "      <td>0</td>\n",
              "      <td>0</td>\n",
              "      <td>1</td>\n",
              "      <td>0</td>\n",
              "      <td>0</td>\n",
              "      <td>0</td>\n",
              "      <td>0</td>\n",
              "      <td>0</td>\n",
              "      <td>0</td>\n",
              "      <td>0</td>\n",
              "      <td>1</td>\n",
              "      <td>0</td>\n",
              "      <td>0</td>\n",
              "      <td>1</td>\n",
              "      <td>0</td>\n",
              "    </tr>\n",
              "    <tr>\n",
              "      <th>634689</th>\n",
              "      <td>1</td>\n",
              "      <td>72</td>\n",
              "      <td>14</td>\n",
              "      <td>9</td>\n",
              "      <td>0</td>\n",
              "      <td>1</td>\n",
              "      <td>100.0</td>\n",
              "      <td>1024</td>\n",
              "      <td>286.7370</td>\n",
              "      <td>159</td>\n",
              "      <td>1</td>\n",
              "      <td>0</td>\n",
              "      <td>14</td>\n",
              "      <td>9</td>\n",
              "      <td>0</td>\n",
              "      <td>0</td>\n",
              "      <td>0</td>\n",
              "      <td>1</td>\n",
              "      <td>0</td>\n",
              "      <td>0</td>\n",
              "      <td>0</td>\n",
              "      <td>0</td>\n",
              "      <td>0</td>\n",
              "      <td>0</td>\n",
              "      <td>0</td>\n",
              "      <td>1</td>\n",
              "      <td>0</td>\n",
              "      <td>0</td>\n",
              "      <td>1</td>\n",
              "      <td>0</td>\n",
              "    </tr>\n",
              "    <tr>\n",
              "      <th>634690</th>\n",
              "      <td>1</td>\n",
              "      <td>73</td>\n",
              "      <td>10</td>\n",
              "      <td>4</td>\n",
              "      <td>0</td>\n",
              "      <td>1</td>\n",
              "      <td>100.0</td>\n",
              "      <td>1024</td>\n",
              "      <td>286.7370</td>\n",
              "      <td>159</td>\n",
              "      <td>1</td>\n",
              "      <td>0</td>\n",
              "      <td>14</td>\n",
              "      <td>9</td>\n",
              "      <td>0</td>\n",
              "      <td>0</td>\n",
              "      <td>0</td>\n",
              "      <td>1</td>\n",
              "      <td>0</td>\n",
              "      <td>0</td>\n",
              "      <td>0</td>\n",
              "      <td>0</td>\n",
              "      <td>0</td>\n",
              "      <td>0</td>\n",
              "      <td>0</td>\n",
              "      <td>1</td>\n",
              "      <td>0</td>\n",
              "      <td>0</td>\n",
              "      <td>1</td>\n",
              "      <td>0</td>\n",
              "    </tr>\n",
              "    <tr>\n",
              "      <th>634691</th>\n",
              "      <td>1</td>\n",
              "      <td>74</td>\n",
              "      <td>3</td>\n",
              "      <td>20</td>\n",
              "      <td>0</td>\n",
              "      <td>1</td>\n",
              "      <td>100.0</td>\n",
              "      <td>1024</td>\n",
              "      <td>286.7370</td>\n",
              "      <td>159</td>\n",
              "      <td>1</td>\n",
              "      <td>0</td>\n",
              "      <td>14</td>\n",
              "      <td>9</td>\n",
              "      <td>0</td>\n",
              "      <td>0</td>\n",
              "      <td>0</td>\n",
              "      <td>1</td>\n",
              "      <td>0</td>\n",
              "      <td>0</td>\n",
              "      <td>0</td>\n",
              "      <td>0</td>\n",
              "      <td>0</td>\n",
              "      <td>0</td>\n",
              "      <td>0</td>\n",
              "      <td>1</td>\n",
              "      <td>0</td>\n",
              "      <td>0</td>\n",
              "      <td>1</td>\n",
              "      <td>0</td>\n",
              "    </tr>\n",
              "  </tbody>\n",
              "</table>\n",
              "<p>634692 rows × 30 columns</p>\n",
              "</div>"
            ],
            "text/plain": [
              "        Category  station_id  bikes_available  ...  North  South  West\n",
              "0              0           2                2  ...      0      1     0\n",
              "1              1           3                9  ...      0      1     0\n",
              "2              0           4                0  ...      0      1     0\n",
              "3              1           5                9  ...      0      1     0\n",
              "4              1           6                4  ...      0      1     0\n",
              "...          ...         ...              ...  ...    ...    ...   ...\n",
              "634687         1          70                6  ...      0      1     0\n",
              "634688         1          71                5  ...      0      1     0\n",
              "634689         1          72               14  ...      0      1     0\n",
              "634690         1          73               10  ...      0      1     0\n",
              "634691         1          74                3  ...      0      1     0\n",
              "\n",
              "[634692 rows x 30 columns]"
            ]
          },
          "metadata": {
            "tags": []
          },
          "execution_count": 28
        }
      ]
    },
    {
      "cell_type": "markdown",
      "metadata": {
        "id": "UBDrc-yLvHlS"
      },
      "source": [
        "# Machine Learning Models"
      ]
    },
    {
      "cell_type": "markdown",
      "metadata": {
        "id": "kwim5hIvvPkA"
      },
      "source": [
        "### SMOTE"
      ]
    },
    {
      "cell_type": "markdown",
      "metadata": {
        "id": "P0oz3b9O4kv3"
      },
      "source": [
        "First, we implement a beginning model with all features"
      ]
    },
    {
      "cell_type": "code",
      "metadata": {
        "id": "6eV0w090uVAO"
      },
      "source": [
        "data1=ML_data.copy()"
      ],
      "execution_count": null,
      "outputs": []
    },
    {
      "cell_type": "code",
      "metadata": {
        "id": "j5dVB5ItvfUX"
      },
      "source": [
        "data1.drop(columns=['bikes_available','docks_available','Wind_Direction'],inplace=True)"
      ],
      "execution_count": null,
      "outputs": []
    },
    {
      "cell_type": "code",
      "metadata": {
        "id": "ONuvytD6zK1M"
      },
      "source": [
        "X1_rest,X1_test,Y1_rest,Y1_test=train_test_split(data1.drop(columns=['Category']),data1['Category'],train_size=0.8,shuffle=True)\n",
        "X1_train,X1_validation,Y1_train,Y1_validation=train_test_split(X1_rest,Y1_rest,train_size=0.8,shuffle=True)"
      ],
      "execution_count": null,
      "outputs": []
    },
    {
      "cell_type": "markdown",
      "metadata": {
        "id": "EiiEF6lVg-eo"
      },
      "source": [
        "We saw in the ML_Algo_KNN_RF_LDA Notebook that the best Nearest Neighbor Classifier parameter is 3, so we implement it again in the SMOTE Method. We are using a 'not majority' sampling startegy, we equalize all sampling at the number of the majority group."
      ]
    },
    {
      "cell_type": "code",
      "metadata": {
        "id": "lBnY3HdQhJvr"
      },
      "source": [
        "model0=SMOTE(sampling_strategy='not majority',k_neighbors=3)"
      ],
      "execution_count": null,
      "outputs": []
    },
    {
      "cell_type": "code",
      "metadata": {
        "id": "N_A8YqluhJiC",
        "outputId": "8a8140fb-6dcc-44d4-ad21-2eb0f552f62c",
        "colab": {
          "base_uri": "https://localhost:8080/",
          "height": 104
        }
      },
      "source": [
        "Xresamp0_train,Yresamp0_train=model0.fit_sample(X1_train,Y1_train)"
      ],
      "execution_count": null,
      "outputs": [
        {
          "output_type": "stream",
          "text": [
            "/usr/local/lib/python3.6/dist-packages/sklearn/utils/deprecation.py:87: FutureWarning: Function safe_indexing is deprecated; safe_indexing is deprecated in version 0.22 and will be removed in version 0.24.\n",
            "  warnings.warn(msg, category=FutureWarning)\n",
            "/usr/local/lib/python3.6/dist-packages/sklearn/utils/deprecation.py:87: FutureWarning: Function safe_indexing is deprecated; safe_indexing is deprecated in version 0.22 and will be removed in version 0.24.\n",
            "  warnings.warn(msg, category=FutureWarning)\n"
          ],
          "name": "stderr"
        }
      ]
    },
    {
      "cell_type": "code",
      "metadata": {
        "id": "moxEjRxqhJR5",
        "outputId": "f89a51e1-39cd-4918-8377-3b604262ba5b",
        "colab": {
          "base_uri": "https://localhost:8080/",
          "height": 67
        }
      },
      "source": [
        "modelK0=KNeighborsClassifier(3)\n",
        "modelK0.fit(Xresamp0_train,Yresamp0_train)"
      ],
      "execution_count": null,
      "outputs": [
        {
          "output_type": "execute_result",
          "data": {
            "text/plain": [
              "KNeighborsClassifier(algorithm='auto', leaf_size=30, metric='minkowski',\n",
              "                     metric_params=None, n_jobs=None, n_neighbors=3, p=2,\n",
              "                     weights='uniform')"
            ]
          },
          "metadata": {
            "tags": []
          },
          "execution_count": 34
        }
      ]
    },
    {
      "cell_type": "code",
      "metadata": {
        "id": "hAfo7kaFhYAe",
        "outputId": "0ca00381-3aa7-4f60-b1bf-147919a9903e",
        "colab": {
          "base_uri": "https://localhost:8080/",
          "height": 34
        }
      },
      "source": [
        "Y1_validation_pred=modelK0.predict(X1_validation)\n",
        "np.average(Y1_validation_pred==Y1_validation)"
      ],
      "execution_count": null,
      "outputs": [
        {
          "output_type": "execute_result",
          "data": {
            "text/plain": [
              "0.8942501797126567"
            ]
          },
          "metadata": {
            "tags": []
          },
          "execution_count": 35
        }
      ]
    },
    {
      "cell_type": "code",
      "metadata": {
        "id": "FLV__o4HhcbJ",
        "outputId": "64ff52fc-50ab-46f4-b99e-beb7fc1647b9",
        "colab": {
          "base_uri": "https://localhost:8080/",
          "height": 279
        }
      },
      "source": [
        "CM0_SMOTE=plot_confusion_matrix(modelK0,X1_validation,Y1_validation,normalize='true')"
      ],
      "execution_count": null,
      "outputs": [
        {
          "output_type": "display_data",
          "data": {
            "image/png": "[encoded data removed]",
            "text/plain": [
              "<Figure size 432x288 with 2 Axes>"
            ]
          },
          "metadata": {
            "tags": []
          }
        }
      ]
    },
    {
      "cell_type": "markdown",
      "metadata": {
        "id": "Xk5aS5UGhX4l"
      },
      "source": [
        "We fit our new data to a KNN model, and get better results on the minorities that the one we get without resampling data."
      ]
    },
    {
      "cell_type": "markdown",
      "metadata": {
        "id": "1ZPX48xriOMn"
      },
      "source": [
        "We also tested it on the same data set, but by changing the weight of each class."
      ]
    },
    {
      "cell_type": "code",
      "metadata": {
        "id": "AzPLlnyqyOXu"
      },
      "source": [
        "model1=SMOTE(sampling_strategy={0:240000,1:400000,2:270000},k_neighbors=3)"
      ],
      "execution_count": null,
      "outputs": []
    },
    {
      "cell_type": "code",
      "metadata": {
        "id": "P52zH2AZSIQn",
        "outputId": "0e312574-434c-47b8-88f6-2f32b20cf460",
        "colab": {
          "base_uri": "https://localhost:8080/",
          "height": 171
        }
      },
      "source": [
        "Xresamp1_train,Yresamp1_train=model1.fit_sample(X1_train,Y1_train)"
      ],
      "execution_count": null,
      "outputs": [
        {
          "output_type": "stream",
          "text": [
            "/usr/local/lib/python3.6/dist-packages/imblearn/utils/_validation.py:257: UserWarning: After over-sampling, the number of samples (400000) in class 1 will be larger than the number of samples in the majority class (class #1 -> 392284)\n",
            "  n_samples_majority))\n",
            "/usr/local/lib/python3.6/dist-packages/sklearn/utils/deprecation.py:87: FutureWarning: Function safe_indexing is deprecated; safe_indexing is deprecated in version 0.22 and will be removed in version 0.24.\n",
            "  warnings.warn(msg, category=FutureWarning)\n",
            "/usr/local/lib/python3.6/dist-packages/sklearn/utils/deprecation.py:87: FutureWarning: Function safe_indexing is deprecated; safe_indexing is deprecated in version 0.22 and will be removed in version 0.24.\n",
            "  warnings.warn(msg, category=FutureWarning)\n",
            "/usr/local/lib/python3.6/dist-packages/sklearn/utils/deprecation.py:87: FutureWarning: Function safe_indexing is deprecated; safe_indexing is deprecated in version 0.22 and will be removed in version 0.24.\n",
            "  warnings.warn(msg, category=FutureWarning)\n"
          ],
          "name": "stderr"
        }
      ]
    },
    {
      "cell_type": "code",
      "metadata": {
        "id": "McsxgLiZUt8D",
        "outputId": "ae53258b-e7f2-4da3-f983-ccf667273de8",
        "colab": {
          "base_uri": "https://localhost:8080/",
          "height": 67
        }
      },
      "source": [
        "modelK1=KNeighborsClassifier(3)\n",
        "modelK1.fit(Xresamp1_train,Yresamp1_train)"
      ],
      "execution_count": null,
      "outputs": [
        {
          "output_type": "execute_result",
          "data": {
            "text/plain": [
              "KNeighborsClassifier(algorithm='auto', leaf_size=30, metric='minkowski',\n",
              "                     metric_params=None, n_jobs=None, n_neighbors=3, p=2,\n",
              "                     weights='uniform')"
            ]
          },
          "metadata": {
            "tags": []
          },
          "execution_count": 39
        }
      ]
    },
    {
      "cell_type": "code",
      "metadata": {
        "id": "CpRmLBuy0HCS",
        "outputId": "62a9f277-933c-4ad8-f772-6b4e1a92d2c8",
        "colab": {
          "base_uri": "https://localhost:8080/",
          "height": 34
        }
      },
      "source": [
        "Y1_validation_pred=modelK1.predict(X1_validation)\n",
        "np.average(Y1_validation_pred==Y1_validation)"
      ],
      "execution_count": null,
      "outputs": [
        {
          "output_type": "execute_result",
          "data": {
            "text/plain": [
              "0.8965741351636124"
            ]
          },
          "metadata": {
            "tags": []
          },
          "execution_count": 40
        }
      ]
    },
    {
      "cell_type": "code",
      "metadata": {
        "id": "J_vExLeAVDSj",
        "outputId": "374238f1-836a-42e3-ec55-bb0989ab3fb8",
        "colab": {
          "base_uri": "https://localhost:8080/",
          "height": 279
        }
      },
      "source": [
        "CM1_SMOTE=plot_confusion_matrix(modelK1,X1_validation,Y1_validation,normalize='true')"
      ],
      "execution_count": null,
      "outputs": [
        {
          "output_type": "display_data",
          "data": {
            "image/png": "[encoded data removed]",
            "text/plain": [
              "<Figure size 432x288 with 2 Axes>"
            ]
          },
          "metadata": {
            "tags": []
          }
        }
      ]
    },
    {
      "cell_type": "markdown",
      "metadata": {
        "id": "BSV0fgyPiZAU"
      },
      "source": [
        "We get worse result. Thus, we keep our equal strategy."
      ]
    },
    {
      "cell_type": "markdown",
      "metadata": {
        "id": "yQoBmXA4iepa"
      },
      "source": [
        "We also wanted to test Under Sampling, by selecting only a few number of our majority dataset."
      ]
    },
    {
      "cell_type": "code",
      "metadata": {
        "id": "UAnocjbyYolq",
        "outputId": "fff642f0-23a0-4b3c-f58c-5ec89477fbfc",
        "colab": {
          "base_uri": "https://localhost:8080/",
          "height": 121
        }
      },
      "source": [
        "model1U=RandomUnderSampler()\n",
        "Xresamp1U_train,Yresamp1U_train=model1U.fit_sample(X1_train,Y1_train)\n",
        "modelK1U=KNeighborsClassifier(3)\n",
        "modelK1U.fit(Xresamp1U_train,Yresamp1U_train)"
      ],
      "execution_count": null,
      "outputs": [
        {
          "output_type": "stream",
          "text": [
            "/usr/local/lib/python3.6/dist-packages/sklearn/utils/deprecation.py:87: FutureWarning: Function safe_indexing is deprecated; safe_indexing is deprecated in version 0.22 and will be removed in version 0.24.\n",
            "  warnings.warn(msg, category=FutureWarning)\n"
          ],
          "name": "stderr"
        },
        {
          "output_type": "execute_result",
          "data": {
            "text/plain": [
              "KNeighborsClassifier(algorithm='auto', leaf_size=30, metric='minkowski',\n",
              "                     metric_params=None, n_jobs=None, n_neighbors=3, p=2,\n",
              "                     weights='uniform')"
            ]
          },
          "metadata": {
            "tags": []
          },
          "execution_count": 42
        }
      ]
    },
    {
      "cell_type": "code",
      "metadata": {
        "id": "aMlHSSVlZDbS",
        "outputId": "e01b0f7b-88d7-405d-9cb0-74aff0100d0b",
        "colab": {
          "base_uri": "https://localhost:8080/",
          "height": 34
        }
      },
      "source": [
        "Y1_validation_pred=modelK1U.predict(X1_validation)\n",
        "np.average(Y1_validation_pred==Y1_validation)"
      ],
      "execution_count": null,
      "outputs": [
        {
          "output_type": "execute_result",
          "data": {
            "text/plain": [
              "0.4744217191361976"
            ]
          },
          "metadata": {
            "tags": []
          },
          "execution_count": 43
        }
      ]
    },
    {
      "cell_type": "code",
      "metadata": {
        "id": "XYKTA0tYZE_y",
        "outputId": "93bf0140-a930-4209-bb5d-461b19889a3c",
        "colab": {
          "base_uri": "https://localhost:8080/",
          "height": 279
        }
      },
      "source": [
        "CM1U_SMOTE_true=plot_confusion_matrix(modelK1U,X1_validation,Y1_validation,normalize='true')"
      ],
      "execution_count": null,
      "outputs": [
        {
          "output_type": "display_data",
          "data": {
            "image/png": "[encoded data removed]",
            "text/plain": [
              "<Figure size 432x288 with 2 Axes>"
            ]
          },
          "metadata": {
            "tags": []
          }
        }
      ]
    },
    {
      "cell_type": "markdown",
      "metadata": {
        "id": "AwoIflW6i1Nq"
      },
      "source": [
        "We get bad result, so we continued with the SMOTE method."
      ]
    },
    {
      "cell_type": "markdown",
      "metadata": {
        "id": "cVa-Pl9o4qYp"
      },
      "source": [
        "We trained a Second Model without Weather features"
      ]
    },
    {
      "cell_type": "code",
      "metadata": {
        "id": "CxlO0CQR0z9f"
      },
      "source": [
        "data2=ML_data.copy()"
      ],
      "execution_count": null,
      "outputs": []
    },
    {
      "cell_type": "code",
      "metadata": {
        "id": "KTxRD-Gl1UXd"
      },
      "source": [
        "data2.drop(columns=['bikes_available','docks_available','Wind_Direction','Humidity','Pressure','Temperature','Wind_Speed','Rain',\\\n",
        "                    'Sunny','Cloudy','Foggy','Light Rain','Moderate Rain','Heavy Rain','Proximity to Rain','East','North','South','West'],inplace=True)"
      ],
      "execution_count": null,
      "outputs": []
    },
    {
      "cell_type": "code",
      "metadata": {
        "id": "RREGJvlu2Yo3"
      },
      "source": [
        "X2_rest,X2_test,Y2_rest,Y2_test=train_test_split(data2.drop(columns=['Category']),data2['Category'],train_size=0.8,shuffle=True)\n",
        "X2_train,X2_validation,Y2_train,Y2_validation=train_test_split(X2_rest,Y2_rest,train_size=0.8,shuffle=True)"
      ],
      "execution_count": null,
      "outputs": []
    },
    {
      "cell_type": "code",
      "metadata": {
        "id": "WRxITnQ_Oq0g",
        "outputId": "b1b4ef44-e222-4bc0-e277-b548815de92c",
        "colab": {
          "base_uri": "https://localhost:8080/",
          "height": 67
        }
      },
      "source": [
        "X2_train.columns"
      ],
      "execution_count": null,
      "outputs": [
        {
          "output_type": "execute_result",
          "data": {
            "text/plain": [
              "Index(['station_id', 'Holiday', 'Weekend', 'Hour', 'Month', 'Mountain View',\n",
              "       'Palo Alto', 'Redwood City', 'San Francisco', 'San Jose'],\n",
              "      dtype='object')"
            ]
          },
          "metadata": {
            "tags": []
          },
          "execution_count": 48
        }
      ]
    },
    {
      "cell_type": "code",
      "metadata": {
        "id": "JZGfdOHgjDon"
      },
      "source": [
        "model2=SMOTE(sampling_strategy={0:200000,1:400000,2:240000},k_neighbors=3)"
      ],
      "execution_count": null,
      "outputs": []
    },
    {
      "cell_type": "code",
      "metadata": {
        "id": "0X-9fX1HkB0F",
        "outputId": "020200c7-5213-4b89-8653-5d268b61bf5f",
        "colab": {
          "base_uri": "https://localhost:8080/",
          "height": 171
        }
      },
      "source": [
        "Xresamp2_train,Yresamp2_train=model2.fit_sample(X2_train,Y2_train)"
      ],
      "execution_count": null,
      "outputs": [
        {
          "output_type": "stream",
          "text": [
            "/usr/local/lib/python3.6/dist-packages/imblearn/utils/_validation.py:257: UserWarning: After over-sampling, the number of samples (400000) in class 1 will be larger than the number of samples in the majority class (class #1 -> 392183)\n",
            "  n_samples_majority))\n",
            "/usr/local/lib/python3.6/dist-packages/sklearn/utils/deprecation.py:87: FutureWarning: Function safe_indexing is deprecated; safe_indexing is deprecated in version 0.22 and will be removed in version 0.24.\n",
            "  warnings.warn(msg, category=FutureWarning)\n",
            "/usr/local/lib/python3.6/dist-packages/sklearn/utils/deprecation.py:87: FutureWarning: Function safe_indexing is deprecated; safe_indexing is deprecated in version 0.22 and will be removed in version 0.24.\n",
            "  warnings.warn(msg, category=FutureWarning)\n",
            "/usr/local/lib/python3.6/dist-packages/sklearn/utils/deprecation.py:87: FutureWarning: Function safe_indexing is deprecated; safe_indexing is deprecated in version 0.22 and will be removed in version 0.24.\n",
            "  warnings.warn(msg, category=FutureWarning)\n"
          ],
          "name": "stderr"
        }
      ]
    },
    {
      "cell_type": "code",
      "metadata": {
        "id": "Uws8PAHC3Vhq",
        "outputId": "bdf9caed-5ab7-47bd-d1e8-3296d47d805b",
        "colab": {
          "base_uri": "https://localhost:8080/",
          "height": 67
        }
      },
      "source": [
        "modelK2=KNeighborsClassifier()\n",
        "modelK2.fit(Xresamp2_train,Yresamp2_train)"
      ],
      "execution_count": null,
      "outputs": [
        {
          "output_type": "execute_result",
          "data": {
            "text/plain": [
              "KNeighborsClassifier(algorithm='auto', leaf_size=30, metric='minkowski',\n",
              "                     metric_params=None, n_jobs=None, n_neighbors=5, p=2,\n",
              "                     weights='uniform')"
            ]
          },
          "metadata": {
            "tags": []
          },
          "execution_count": 51
        }
      ]
    },
    {
      "cell_type": "code",
      "metadata": {
        "id": "RAWTw_573vQj",
        "outputId": "4911d794-6e9f-43c7-8116-75b51df508b7",
        "colab": {
          "base_uri": "https://localhost:8080/",
          "height": 34
        }
      },
      "source": [
        "Y2_validation_pred=modelK2.predict(X2_validation)\n",
        "np.average(Y2_validation_pred==Y2_validation)"
      ],
      "execution_count": null,
      "outputs": [
        {
          "output_type": "execute_result",
          "data": {
            "text/plain": [
              "0.7898494352591309"
            ]
          },
          "metadata": {
            "tags": []
          },
          "execution_count": 52
        }
      ]
    },
    {
      "cell_type": "code",
      "metadata": {
        "id": "V2HCWtl6lm_5",
        "outputId": "ef58729c-248e-4717-d733-72074eba1016",
        "colab": {
          "base_uri": "https://localhost:8080/",
          "height": 283
        }
      },
      "source": [
        "CM2_SMOTE_true=plot_confusion_matrix(modelK2,X2_validation,Y2_validation,normalize='true')"
      ],
      "execution_count": null,
      "outputs": [
        {
          "output_type": "display_data",
          "data": {
            "image/png": "[encoded data removed]",
            "text/plain": [
              "<Figure size 432x288 with 2 Axes>"
            ]
          },
          "metadata": {
            "tags": []
          }
        }
      ]
    },
    {
      "cell_type": "code",
      "metadata": {
        "id": "cFMeSBEXl0YI",
        "outputId": "48b383ce-35be-4952-968e-f106f8400b35",
        "colab": {
          "base_uri": "https://localhost:8080/",
          "height": 279
        }
      },
      "source": [
        "CM2_SMOTE_pred=plot_confusion_matrix(modelK2,X2_validation,Y2_validation,normalize='pred')"
      ],
      "execution_count": null,
      "outputs": [
        {
          "output_type": "display_data",
          "data": {
            "image/png": "[encoded data removed]",
            "text/plain": [
              "<Figure size 432x288 with 2 Axes>"
            ]
          },
          "metadata": {
            "tags": []
          }
        }
      ]
    },
    {
      "cell_type": "markdown",
      "metadata": {
        "id": "aAhdYhSLjKA-"
      },
      "source": [
        "We get a better accuracy on the True Labels, but we degrade the accuracy on the Predicted Labels. We have also a lower accuracy on the majority set."
      ]
    },
    {
      "cell_type": "markdown",
      "metadata": {
        "id": "NkD5AGunjgNd"
      },
      "source": [
        "We implemented a Gradient Boosting Classifier after the resampling, instead of a KNN, and on the same data set, to compare performances."
      ]
    },
    {
      "cell_type": "code",
      "metadata": {
        "id": "c3bsPJ9YYHM3"
      },
      "source": [
        "modelGBC2=GradientBoostingClassifier(n_estimators=50,max_depth=3,verbose=2,learning_rate=0.25)"
      ],
      "execution_count": null,
      "outputs": []
    },
    {
      "cell_type": "code",
      "metadata": {
        "id": "6lX_ER4HYJS5",
        "outputId": "273e89c8-af69-4bce-e8c2-1191feb121fa",
        "colab": {
          "base_uri": "https://localhost:8080/",
          "height": 1000
        }
      },
      "source": [
        "modelGBC2.fit(Xresamp2_train,Yresamp2_train)"
      ],
      "execution_count": null,
      "outputs": [
        {
          "output_type": "stream",
          "text": [
            "      Iter       Train Loss   Remaining Time \n",
            "         1      830840.7449            3.63m\n",
            "         2      799821.6842            3.12m\n",
            "         3      778690.9002            2.93m\n",
            "         4      761258.1628            2.79m\n",
            "         5      750172.1266            2.71m\n",
            "         6      743305.7080            2.64m\n",
            "         7      732911.2799            2.58m\n",
            "         8      725552.7160            2.53m\n",
            "         9      719000.6227            2.48m\n",
            "        10      714971.0658            2.43m\n",
            "        11      708972.0170            2.39m\n",
            "        12      704968.4672            2.33m\n",
            "        13      700689.4422            2.29m\n",
            "        14      697725.1146            2.23m\n",
            "        15      694306.7116            2.17m\n",
            "        16      691184.3593            2.10m\n",
            "        17      687244.3779            2.05m\n",
            "        18      684554.5670            1.99m\n",
            "        19      682412.2931            1.93m\n",
            "        20      679665.8110            1.87m\n",
            "        21      676065.3191            1.80m\n",
            "        22      672194.8661            1.74m\n",
            "        23      668512.8034            1.67m\n",
            "        24      665773.2731            1.61m\n",
            "        25      662443.4035            1.55m\n",
            "        26      659119.9159            1.49m\n",
            "        27      656812.4829            1.42m\n",
            "        28      653885.5944            1.36m\n",
            "        29      651961.2226            1.30m\n",
            "        30      650076.2303            1.24m\n",
            "        31      648164.1418            1.18m\n",
            "        32      646024.8911            1.12m\n",
            "        33      643681.5574            1.06m\n",
            "        34      642344.6943           59.91s\n",
            "        35      640669.6037           56.28s\n",
            "        36      639273.9718           52.49s\n",
            "        37      637747.0266           48.79s\n",
            "        38      636116.3781           45.11s\n",
            "        39      635030.7694           41.28s\n",
            "        40      633728.3534           37.50s\n",
            "        41      631982.7207           33.78s\n",
            "        42      630735.0648           30.01s\n",
            "        43      629801.0121           26.25s\n",
            "        44      628793.4416           22.52s\n",
            "        45      626686.9617           18.78s\n",
            "        46      625004.5191           15.03s\n",
            "        47      623278.7264           11.26s\n",
            "        48      622101.1781            7.51s\n",
            "        49      621414.0281            3.76s\n",
            "        50      620514.8529            0.00s\n"
          ],
          "name": "stdout"
        },
        {
          "output_type": "execute_result",
          "data": {
            "text/plain": [
              "GradientBoostingClassifier(ccp_alpha=0.0, criterion='friedman_mse', init=None,\n",
              "                           learning_rate=0.25, loss='deviance', max_depth=3,\n",
              "                           max_features=None, max_leaf_nodes=None,\n",
              "                           min_impurity_decrease=0.0, min_impurity_split=None,\n",
              "                           min_samples_leaf=1, min_samples_split=2,\n",
              "                           min_weight_fraction_leaf=0.0, n_estimators=50,\n",
              "                           n_iter_no_change=None, presort='deprecated',\n",
              "                           random_state=None, subsample=1.0, tol=0.0001,\n",
              "                           validation_fraction=0.1, verbose=2,\n",
              "                           warm_start=False)"
            ]
          },
          "metadata": {
            "tags": []
          },
          "execution_count": 56
        }
      ]
    },
    {
      "cell_type": "code",
      "metadata": {
        "id": "hdXW1e1AYT1V",
        "outputId": "f4388189-6a7f-4702-ce75-2753b0e399a6",
        "colab": {
          "base_uri": "https://localhost:8080/",
          "height": 34
        }
      },
      "source": [
        "Y2_validation_pred=modelGBC2.predict(X2_validation)\n",
        "np.average(Y2_validation_pred==Y2_validation)"
      ],
      "execution_count": null,
      "outputs": [
        {
          "output_type": "execute_result",
          "data": {
            "text/plain": [
              "0.7310513928961803"
            ]
          },
          "metadata": {
            "tags": []
          },
          "execution_count": 57
        }
      ]
    },
    {
      "cell_type": "code",
      "metadata": {
        "id": "AqFq4t6EYXri",
        "outputId": "ad958dba-8751-4499-bf0d-6338c9804e66",
        "colab": {
          "base_uri": "https://localhost:8080/",
          "height": 279
        }
      },
      "source": [
        "CMGBC2_SMOTE_true=plot_confusion_matrix(modelGBC2,X2_validation,Y2_validation,normalize='true')"
      ],
      "execution_count": null,
      "outputs": [
        {
          "output_type": "display_data",
          "data": {
            "image/png": "[encoded data removed]",
            "text/plain": [
              "<Figure size 432x288 with 2 Axes>"
            ]
          },
          "metadata": {
            "tags": []
          }
        }
      ]
    },
    {
      "cell_type": "code",
      "metadata": {
        "id": "XbtElPAoYh9W",
        "outputId": "c18f008d-72e1-4a73-b062-52fee10a3ea5",
        "colab": {
          "base_uri": "https://localhost:8080/",
          "height": 279
        }
      },
      "source": [
        "CMGBC2_SMOTE_pred=plot_confusion_matrix(modelGBC2,X2_validation,Y2_validation,normalize='pred')"
      ],
      "execution_count": null,
      "outputs": [
        {
          "output_type": "display_data",
          "data": {
            "image/png": "[encoded data removed]",
            "text/plain": [
              "<Figure size 432x288 with 2 Axes>"
            ]
          },
          "metadata": {
            "tags": []
          }
        }
      ]
    },
    {
      "cell_type": "markdown",
      "metadata": {
        "id": "iUTamKDRjt2L"
      },
      "source": [
        "In this case, we get better accuracies on minorities, but we continue to degrade our performance on the normal stations."
      ]
    },
    {
      "cell_type": "code",
      "metadata": {
        "id": "ok_0XYNrYm6Q",
        "outputId": "df9cf76e-4b61-41f1-bb93-002fea035baf",
        "colab": {
          "base_uri": "https://localhost:8080/",
          "height": 34
        }
      },
      "source": [
        "Y2_test_pred=modelGBC2.predict(X2_test)\n",
        "np.average(Y2_test_pred==Y2_test)"
      ],
      "execution_count": null,
      "outputs": [
        {
          "output_type": "execute_result",
          "data": {
            "text/plain": [
              "0.7304532098094361"
            ]
          },
          "metadata": {
            "tags": []
          },
          "execution_count": 60
        }
      ]
    },
    {
      "cell_type": "code",
      "metadata": {
        "id": "Rl4MkiNJYu6a",
        "outputId": "ce8f99fa-eb4d-4428-a7de-92a083d3c2d4",
        "colab": {
          "base_uri": "https://localhost:8080/",
          "height": 279
        }
      },
      "source": [
        "CMGBC2_SMOTE_test_true=plot_confusion_matrix(modelGBC2,X2_test,Y2_test,normalize='true')"
      ],
      "execution_count": null,
      "outputs": [
        {
          "output_type": "display_data",
          "data": {
            "image/png": "[encoded data removed]",
            "text/plain": [
              "<Figure size 432x288 with 2 Axes>"
            ]
          },
          "metadata": {
            "tags": []
          }
        }
      ]
    },
    {
      "cell_type": "code",
      "metadata": {
        "id": "6SzGlEOrZB0_",
        "outputId": "07ef84e1-dec3-4208-a128-0e723206612c",
        "colab": {
          "base_uri": "https://localhost:8080/",
          "height": 279
        }
      },
      "source": [
        "CMGBC2_SMOTE_test_pred=plot_confusion_matrix(modelGBC2,X2_test,Y2_test,normalize='pred')"
      ],
      "execution_count": null,
      "outputs": [
        {
          "output_type": "display_data",
          "data": {
            "image/png": "[encoded data removed]",
            "text/plain": [
              "<Figure size 432x288 with 2 Axes>"
            ]
          },
          "metadata": {
            "tags": []
          }
        }
      ]
    },
    {
      "cell_type": "code",
      "metadata": {
        "id": "FjNwDZJnbO_s",
        "outputId": "17c4cff0-1f17-4d98-f48e-94c83a02fcf3",
        "colab": {
          "base_uri": "https://localhost:8080/",
          "height": 547
        }
      },
      "source": [
        "plt.figure(figsize=(16,8))\n",
        "plt.bar(X2_train.columns,modelGBC2.feature_importances_)\n",
        "plt.setp(plt.gca().get_xticklabels(), rotation=90, horizontalalignment='right')\n",
        "plt.show()"
      ],
      "execution_count": null,
      "outputs": [
        {
          "output_type": "display_data",
          "data": {
            "image/png": "[encoded data removed]",
            "text/plain": [
              "<Figure size 1152x576 with 1 Axes>"
            ]
          },
          "metadata": {
            "tags": []
          }
        }
      ]
    },
    {
      "cell_type": "markdown",
      "metadata": {
        "id": "-QjhzofakPkU"
      },
      "source": [
        "We selected Best Features from this model to train another one and limit the number of parameters.\n",
        "But before, we implemented the same model than in KNN, which were our best model."
      ]
    },
    {
      "cell_type": "code",
      "metadata": {
        "id": "bgX2PlTP4V_X"
      },
      "source": [
        "data3=ML_data.copy()"
      ],
      "execution_count": null,
      "outputs": []
    },
    {
      "cell_type": "code",
      "metadata": {
        "id": "0ydHDIrv5AXv"
      },
      "source": [
        "data3.drop(columns=['bikes_available','docks_available','Holiday','Weekend','Mountain View','Palo Alto','Redwood City','San Francisco','San Jose'],inplace=True)"
      ],
      "execution_count": null,
      "outputs": []
    },
    {
      "cell_type": "code",
      "metadata": {
        "id": "bVR7dgYF4OdI",
        "outputId": "0fbced0a-d2ba-46d7-c318-e75fbf61c21e",
        "colab": {
          "base_uri": "https://localhost:8080/",
          "height": 101
        }
      },
      "source": [
        "data3.columns"
      ],
      "execution_count": null,
      "outputs": [
        {
          "output_type": "execute_result",
          "data": {
            "text/plain": [
              "Index(['Category', 'station_id', 'Humidity', 'Pressure', 'Temperature',\n",
              "       'Wind_Direction', 'Wind_Speed', 'Rain', 'Hour', 'Month', 'Cloudy',\n",
              "       'Foggy', 'Heavy Rain', 'Light Rain', 'Moderate Rain',\n",
              "       'Proximity to Rain', 'Sunny', 'East', 'North', 'South', 'West'],\n",
              "      dtype='object')"
            ]
          },
          "metadata": {
            "tags": []
          },
          "execution_count": 66
        }
      ]
    },
    {
      "cell_type": "code",
      "metadata": {
        "id": "D5ubVqTg5cQS"
      },
      "source": [
        "X3_rest,X3_test,Y3_rest,Y3_test=train_test_split(data3.drop(columns=['Category']),data3['Category'],train_size=0.8,shuffle=True)\n",
        "X3_train,X3_validation,Y3_train,Y3_validation=train_test_split(X3_rest,Y3_rest,train_size=0.8,shuffle=True)"
      ],
      "execution_count": null,
      "outputs": []
    },
    {
      "cell_type": "code",
      "metadata": {
        "id": "pXqAMr6Nia09"
      },
      "source": [
        "# model3=SMOTE(sampling_strategy={0:200000,1:400000,2:220000},k_neighbors=3)\n",
        "# model3=SMOTE(sampling_strategy={0:120000,1:400000,2:140000},k_neighbors=3)\n",
        "model3=SMOTE(sampling_strategy='not majority',k_neighbors=3)"
      ],
      "execution_count": null,
      "outputs": []
    },
    {
      "cell_type": "code",
      "metadata": {
        "id": "twmPfWSGiglR",
        "outputId": "8a5bb5bd-b7da-4893-ef36-80add151cabf",
        "colab": {
          "base_uri": "https://localhost:8080/",
          "height": 104
        }
      },
      "source": [
        "Xresamp3_train,Yresamp3_train=model3.fit_sample(X3_train,Y3_train)"
      ],
      "execution_count": null,
      "outputs": [
        {
          "output_type": "stream",
          "text": [
            "/usr/local/lib/python3.6/dist-packages/sklearn/utils/deprecation.py:87: FutureWarning: Function safe_indexing is deprecated; safe_indexing is deprecated in version 0.22 and will be removed in version 0.24.\n",
            "  warnings.warn(msg, category=FutureWarning)\n",
            "/usr/local/lib/python3.6/dist-packages/sklearn/utils/deprecation.py:87: FutureWarning: Function safe_indexing is deprecated; safe_indexing is deprecated in version 0.22 and will be removed in version 0.24.\n",
            "  warnings.warn(msg, category=FutureWarning)\n"
          ],
          "name": "stderr"
        }
      ]
    },
    {
      "cell_type": "code",
      "metadata": {
        "id": "n2gIvsTo5iWn",
        "outputId": "663d9613-01a9-4b9f-ed27-6af71a089370",
        "colab": {
          "base_uri": "https://localhost:8080/",
          "height": 67
        }
      },
      "source": [
        "modelK3=KNeighborsClassifier(3)\n",
        "modelK3.fit(Xresamp3_train,Yresamp3_train)"
      ],
      "execution_count": null,
      "outputs": [
        {
          "output_type": "execute_result",
          "data": {
            "text/plain": [
              "KNeighborsClassifier(algorithm='auto', leaf_size=30, metric='minkowski',\n",
              "                     metric_params=None, n_jobs=None, n_neighbors=3, p=2,\n",
              "                     weights='uniform')"
            ]
          },
          "metadata": {
            "tags": []
          },
          "execution_count": 70
        }
      ]
    },
    {
      "cell_type": "code",
      "metadata": {
        "id": "SbiAiPzw5rhB",
        "outputId": "9594b38f-6dcc-4219-8c58-c76fd22cf3b9",
        "colab": {
          "base_uri": "https://localhost:8080/",
          "height": 34
        }
      },
      "source": [
        "Y3_validation_pred=modelK3.predict(X3_validation)\n",
        "np.average(Y3_validation_pred==Y3_validation)"
      ],
      "execution_count": null,
      "outputs": [
        {
          "output_type": "execute_result",
          "data": {
            "text/plain": [
              "0.8920640860257407"
            ]
          },
          "metadata": {
            "tags": []
          },
          "execution_count": 71
        }
      ]
    },
    {
      "cell_type": "code",
      "metadata": {
        "id": "wLYc8-zHmFZA",
        "outputId": "1950f65e-9d00-4c0d-e834-a5c57033b963",
        "colab": {
          "base_uri": "https://localhost:8080/",
          "height": 279
        }
      },
      "source": [
        "CM3_SMOTE_true=plot_confusion_matrix(modelK3,X3_validation,Y3_validation,normalize='true')"
      ],
      "execution_count": null,
      "outputs": [
        {
          "output_type": "display_data",
          "data": {
            "image/png": "[encoded data removed]",
            "text/plain": [
              "<Figure size 432x288 with 2 Axes>"
            ]
          },
          "metadata": {
            "tags": []
          }
        }
      ]
    },
    {
      "cell_type": "code",
      "metadata": {
        "id": "Gdcb0YaynH4V",
        "outputId": "1da81ea9-b6e2-4b31-dfb1-68ff3b23ef2c",
        "colab": {
          "base_uri": "https://localhost:8080/",
          "height": 279
        }
      },
      "source": [
        "CM3_SMOTE_pred=plot_confusion_matrix(modelK3,X3_validation,Y3_validation,normalize='pred')"
      ],
      "execution_count": null,
      "outputs": [
        {
          "output_type": "display_data",
          "data": {
            "image/png": "[encoded data removed]",
            "text/plain": [
              "<Figure size 432x288 with 2 Axes>"
            ]
          },
          "metadata": {
            "tags": []
          }
        }
      ]
    },
    {
      "cell_type": "markdown",
      "metadata": {
        "id": "DehCA2kkklpr"
      },
      "source": [
        "We see that resampled KNN underperform compared to vanilla KNN."
      ]
    },
    {
      "cell_type": "code",
      "metadata": {
        "id": "gkf33ch4sX9q"
      },
      "source": [
        "modelGBC3=GradientBoostingClassifier(n_estimators=50,max_depth=3,verbose=2,learning_rate=0.25)"
      ],
      "execution_count": null,
      "outputs": []
    },
    {
      "cell_type": "code",
      "metadata": {
        "id": "3CVjWdQ2sw4Y",
        "outputId": "67bddff3-df7a-44d8-8681-22456b29fc05",
        "colab": {
          "base_uri": "https://localhost:8080/",
          "height": 1000
        }
      },
      "source": [
        "modelGBC3.fit(Xresamp3_train,Yresamp3_train)"
      ],
      "execution_count": null,
      "outputs": [
        {
          "output_type": "stream",
          "text": [
            "      Iter       Train Loss   Remaining Time \n",
            "         1     1217741.5655           16.34m\n",
            "         2     1171046.2943           15.99m\n",
            "         3     1136080.3158           15.72m\n",
            "         4     1106877.3036           15.40m\n",
            "         5     1087481.1575           15.13m\n",
            "         6     1061744.5798           14.77m\n",
            "         7     1034951.5312           14.45m\n",
            "         8     1019301.9147           14.08m\n",
            "         9      999485.7461           13.69m\n",
            "        10      990519.8391           13.32m\n",
            "        11      983900.9628           12.95m\n",
            "        12      972118.8016           12.58m\n",
            "        13      956649.7757           12.21m\n",
            "        14      950315.3974           11.91m\n",
            "        15      941072.6254           11.62m\n",
            "        16      932393.2324           11.28m\n",
            "        17      921536.9985           10.95m\n",
            "        18      916695.4157           10.61m\n",
            "        19      910271.2160           10.33m\n",
            "        20      904674.1038           10.03m\n",
            "        21      899455.4746            9.70m\n",
            "        22      889859.9404            9.37m\n",
            "        23      881396.9480            9.04m\n",
            "        24      877793.8527            8.69m\n",
            "        25      873881.7129            8.35m\n",
            "        26      870294.2809            8.01m\n",
            "        27      865965.6293            7.67m\n",
            "        28      862320.8447            7.35m\n",
            "        29      859672.5648            7.03m\n",
            "        30      855913.6737            6.70m\n",
            "        31      849890.3611            6.37m\n",
            "        32      843327.2160            6.04m\n",
            "        33      836298.9005            5.70m\n",
            "        34      831986.3038            5.38m\n",
            "        35      826721.4826            5.04m\n",
            "        36      820890.2618            4.70m\n",
            "        37      819047.0294            4.37m\n",
            "        38      815988.8394            4.04m\n",
            "        39      812723.9086            3.70m\n",
            "        40      806822.1871            3.36m\n",
            "        41      801400.4352            3.03m\n",
            "        42      799636.0291            2.69m\n",
            "        43      796010.2449            2.36m\n",
            "        44      793570.9106            2.02m\n",
            "        45      792151.8194            1.68m\n",
            "        46      789320.1275            1.35m\n",
            "        47      785037.8848            1.01m\n",
            "        48      781975.3714           40.39s\n",
            "        49      778176.6020           20.22s\n",
            "        50      776719.1939            0.00s\n"
          ],
          "name": "stdout"
        },
        {
          "output_type": "execute_result",
          "data": {
            "text/plain": [
              "GradientBoostingClassifier(ccp_alpha=0.0, criterion='friedman_mse', init=None,\n",
              "                           learning_rate=0.25, loss='deviance', max_depth=3,\n",
              "                           max_features=None, max_leaf_nodes=None,\n",
              "                           min_impurity_decrease=0.0, min_impurity_split=None,\n",
              "                           min_samples_leaf=1, min_samples_split=2,\n",
              "                           min_weight_fraction_leaf=0.0, n_estimators=50,\n",
              "                           n_iter_no_change=None, presort='deprecated',\n",
              "                           random_state=None, subsample=1.0, tol=0.0001,\n",
              "                           validation_fraction=0.1, verbose=2,\n",
              "                           warm_start=False)"
            ]
          },
          "metadata": {
            "tags": []
          },
          "execution_count": 75
        }
      ]
    },
    {
      "cell_type": "code",
      "metadata": {
        "id": "B9GU_icHs_nF",
        "outputId": "5b20f940-2d0e-49a8-9574-287cd22e2362",
        "colab": {
          "base_uri": "https://localhost:8080/",
          "height": 34
        }
      },
      "source": [
        "Y3_validation_pred=modelGBC3.predict(X3_validation)\n",
        "np.average(Y3_validation_pred==Y3_validation)"
      ],
      "execution_count": null,
      "outputs": [
        {
          "output_type": "execute_result",
          "data": {
            "text/plain": [
              "0.809662140205414"
            ]
          },
          "metadata": {
            "tags": []
          },
          "execution_count": 76
        }
      ]
    },
    {
      "cell_type": "code",
      "metadata": {
        "id": "pjTsN1n7tFxM",
        "outputId": "ebb7950b-9c5f-44cd-b182-07b857a7b5aa",
        "colab": {
          "base_uri": "https://localhost:8080/",
          "height": 279
        }
      },
      "source": [
        "CMGBC3_SMOTE_true=plot_confusion_matrix(modelGBC3,X3_validation,Y3_validation,normalize='true')"
      ],
      "execution_count": null,
      "outputs": [
        {
          "output_type": "display_data",
          "data": {
            "image/png": "[encoded data removed]",
            "text/plain": [
              "<Figure size 432x288 with 2 Axes>"
            ]
          },
          "metadata": {
            "tags": []
          }
        }
      ]
    },
    {
      "cell_type": "code",
      "metadata": {
        "id": "COHzwmk6taZE",
        "outputId": "6f7be442-7298-4f19-fbcd-f4b2452333e6",
        "colab": {
          "base_uri": "https://localhost:8080/",
          "height": 279
        }
      },
      "source": [
        "CMGBC3_SMOTE_pred=plot_confusion_matrix(modelGBC3,X3_validation,Y3_validation,normalize='pred')"
      ],
      "execution_count": null,
      "outputs": [
        {
          "output_type": "display_data",
          "data": {
            "image/png": "[encoded data removed]",
            "text/plain": [
              "<Figure size 432x288 with 2 Axes>"
            ]
          },
          "metadata": {
            "tags": []
          }
        }
      ]
    },
    {
      "cell_type": "markdown",
      "metadata": {
        "id": "TAYowWRtkusu"
      },
      "source": [
        "And this is the same for GBC."
      ]
    },
    {
      "cell_type": "code",
      "metadata": {
        "id": "8KG1mW3KviEo",
        "outputId": "83e9c68e-a974-49d9-8f82-7133db265584",
        "colab": {
          "base_uri": "https://localhost:8080/",
          "height": 34
        }
      },
      "source": [
        "Y3_test_pred=modelGBC3.predict(X3_test)\n",
        "np.average(Y3_test_pred==Y3_test)"
      ],
      "execution_count": null,
      "outputs": [
        {
          "output_type": "execute_result",
          "data": {
            "text/plain": [
              "0.8111691442346324"
            ]
          },
          "metadata": {
            "tags": []
          },
          "execution_count": 79
        }
      ]
    },
    {
      "cell_type": "code",
      "metadata": {
        "id": "cf8fZZAvvu-S",
        "outputId": "cc5d31ea-b143-4692-dba3-cb3d9f42ca4d",
        "colab": {
          "base_uri": "https://localhost:8080/",
          "height": 279
        }
      },
      "source": [
        "CMGBC3_SMOTE_test_true=plot_confusion_matrix(modelGBC3,X3_test,Y3_test,normalize='true')"
      ],
      "execution_count": null,
      "outputs": [
        {
          "output_type": "display_data",
          "data": {
            "image/png": "[encoded data removed]",
            "text/plain": [
              "<Figure size 432x288 with 2 Axes>"
            ]
          },
          "metadata": {
            "tags": []
          }
        }
      ]
    },
    {
      "cell_type": "code",
      "metadata": {
        "id": "u4S54abPvuzH",
        "outputId": "df9f185b-6512-479a-cd8d-4f962f79f449",
        "colab": {
          "base_uri": "https://localhost:8080/",
          "height": 279
        }
      },
      "source": [
        "CMGBC3_SMOTE_test_pred=plot_confusion_matrix(modelGBC3,X3_test,Y3_test,normalize='pred')"
      ],
      "execution_count": null,
      "outputs": [
        {
          "output_type": "display_data",
          "data": {
            "image/png": "[encoded data removed]",
            "text/plain": [
              "<Figure size 432x288 with 2 Axes>"
            ]
          },
          "metadata": {
            "tags": []
          }
        }
      ]
    },
    {
      "cell_type": "code",
      "metadata": {
        "id": "-U0GTK_V4GMr",
        "outputId": "7d714fff-07ec-4777-d6f0-1c01f6bf0850",
        "colab": {
          "base_uri": "https://localhost:8080/",
          "height": 558
        }
      },
      "source": [
        "plt.figure(figsize=(16,8))\n",
        "plt.bar(X3_train.columns,modelGBC3.feature_importances_)\n",
        "plt.setp(plt.gca().get_xticklabels(), rotation=90, horizontalalignment='right')\n",
        "plt.show()"
      ],
      "execution_count": null,
      "outputs": [
        {
          "output_type": "display_data",
          "data": {
            "image/png": "[encoded data removed]",
            "text/plain": [
              "<Figure size 1152x576 with 1 Axes>"
            ]
          },
          "metadata": {
            "tags": []
          }
        }
      ]
    },
    {
      "cell_type": "markdown",
      "metadata": {
        "id": "GzRr3C0Sk6hQ"
      },
      "source": [
        "We selected only best Features to fit our model, and resample our data."
      ]
    },
    {
      "cell_type": "code",
      "metadata": {
        "id": "oecotoZH6L4U"
      },
      "source": [
        "data4=ML_data.copy()\n",
        "data4.drop(columns=['bikes_available','docks_available','Holiday','Mountain View','Palo Alto','Redwood City','San Francisco','San Jose','Wind_Direction',\\\n",
        "                    'Humidity','Heavy Rain','Light Rain','Moderate Rain','Proximity to Rain','East','North','South','West'],inplace=True)"
      ],
      "execution_count": null,
      "outputs": []
    },
    {
      "cell_type": "code",
      "metadata": {
        "id": "TAOpkkUvVtKg"
      },
      "source": [
        "X4_rest,X4_test,Y4_rest,Y4_test=train_test_split(data4.drop(columns=['Category']),data4['Category'],train_size=0.8,shuffle=True)\n",
        "X4_train,X4_validation,Y4_train,Y4_validation=train_test_split(X4_rest,Y4_rest,train_size=0.8,shuffle=True)"
      ],
      "execution_count": null,
      "outputs": []
    },
    {
      "cell_type": "code",
      "metadata": {
        "id": "J2Wqv16tV5Iw"
      },
      "source": [
        "# model4=SMOTE(sampling_strategy={0:200000,1:400000,2:220000},k_neighbors=3)\n",
        "# model4=SMOTE(sampling_strategy={0:120000,1:400000,2:140000},k_neighbors=3)\n",
        "model4=SMOTE(sampling_strategy='not majority',k_neighbors=3)"
      ],
      "execution_count": null,
      "outputs": []
    },
    {
      "cell_type": "code",
      "metadata": {
        "id": "Ftf5eDLIV_fV",
        "outputId": "021a834a-5e5f-48d8-eed3-f0319ccc772d",
        "colab": {
          "base_uri": "https://localhost:8080/",
          "height": 104
        }
      },
      "source": [
        "Xresamp4_train,Yresamp4_train=model4.fit_sample(X4_train,Y4_train)"
      ],
      "execution_count": null,
      "outputs": [
        {
          "output_type": "stream",
          "text": [
            "/usr/local/lib/python3.6/dist-packages/sklearn/utils/deprecation.py:87: FutureWarning: Function safe_indexing is deprecated; safe_indexing is deprecated in version 0.22 and will be removed in version 0.24.\n",
            "  warnings.warn(msg, category=FutureWarning)\n",
            "/usr/local/lib/python3.6/dist-packages/sklearn/utils/deprecation.py:87: FutureWarning: Function safe_indexing is deprecated; safe_indexing is deprecated in version 0.22 and will be removed in version 0.24.\n",
            "  warnings.warn(msg, category=FutureWarning)\n"
          ],
          "name": "stderr"
        }
      ]
    },
    {
      "cell_type": "code",
      "metadata": {
        "id": "r7bY3H1AWFis",
        "outputId": "00386d03-bb3e-4129-b2dc-b9f6e1a3e215",
        "colab": {
          "base_uri": "https://localhost:8080/",
          "height": 67
        }
      },
      "source": [
        "modelK4=KNeighborsClassifier(3)\n",
        "modelK4.fit(Xresamp4_train,Yresamp4_train)"
      ],
      "execution_count": null,
      "outputs": [
        {
          "output_type": "execute_result",
          "data": {
            "text/plain": [
              "KNeighborsClassifier(algorithm='auto', leaf_size=30, metric='minkowski',\n",
              "                     metric_params=None, n_jobs=None, n_neighbors=3, p=2,\n",
              "                     weights='uniform')"
            ]
          },
          "metadata": {
            "tags": []
          },
          "execution_count": 87
        }
      ]
    },
    {
      "cell_type": "code",
      "metadata": {
        "id": "aMJr7vskWKKy",
        "outputId": "330f55db-8e07-440d-ffeb-40de765ec3a2",
        "colab": {
          "base_uri": "https://localhost:8080/",
          "height": 34
        }
      },
      "source": [
        "Y4_validation_pred=modelK4.predict(X4_validation)\n",
        "np.average(Y4_validation_pred==Y4_validation)"
      ],
      "execution_count": null,
      "outputs": [
        {
          "output_type": "execute_result",
          "data": {
            "text/plain": [
              "0.8922314895963604"
            ]
          },
          "metadata": {
            "tags": []
          },
          "execution_count": 88
        }
      ]
    },
    {
      "cell_type": "code",
      "metadata": {
        "id": "47r-_aDDWQIn",
        "outputId": "ac8a3d2d-adaa-4231-b340-381c94f8ad10",
        "colab": {
          "base_uri": "https://localhost:8080/",
          "height": 280
        }
      },
      "source": [
        "CM4_SMOTE_true=plot_confusion_matrix(modelK4,X4_validation,Y4_validation,normalize='true')"
      ],
      "execution_count": null,
      "outputs": [
        {
          "output_type": "display_data",
          "data": {
            "image/png": "[encoded data removed]",
            "text/plain": [
              "<Figure size 432x288 with 2 Axes>"
            ]
          },
          "metadata": {
            "tags": []
          }
        }
      ]
    },
    {
      "cell_type": "code",
      "metadata": {
        "id": "jbqz9jGIWWjx",
        "outputId": "851000a6-756d-4d16-8f57-847be8a1bb59",
        "colab": {
          "base_uri": "https://localhost:8080/",
          "height": 279
        }
      },
      "source": [
        "CM4_SMOTE_pred=plot_confusion_matrix(modelK4,X4_validation,Y4_validation,normalize='pred')"
      ],
      "execution_count": null,
      "outputs": [
        {
          "output_type": "display_data",
          "data": {
            "image/png": "[encoded data removed]",
            "text/plain": [
              "<Figure size 432x288 with 2 Axes>"
            ]
          },
          "metadata": {
            "tags": []
          }
        }
      ]
    },
    {
      "cell_type": "markdown",
      "metadata": {
        "id": "79ERqlcWlDPU"
      },
      "source": [
        "We get our best result for the moment with resampled KNN, but this is still under vanilla KNN."
      ]
    },
    {
      "cell_type": "code",
      "metadata": {
        "id": "LEuHhzfkWbl9"
      },
      "source": [
        "modelGBC4=GradientBoostingClassifier(n_estimators=50,max_depth=3,verbose=2,learning_rate=0.25)"
      ],
      "execution_count": null,
      "outputs": []
    },
    {
      "cell_type": "code",
      "metadata": {
        "id": "vHzSPeGAWrGW",
        "outputId": "5f13ef2b-7d86-46c8-a3d2-b82e5cd9a903",
        "colab": {
          "base_uri": "https://localhost:8080/",
          "height": 1000
        }
      },
      "source": [
        "modelGBC4.fit(Xresamp4_train,Yresamp4_train)"
      ],
      "execution_count": null,
      "outputs": [
        {
          "output_type": "stream",
          "text": [
            "      Iter       Train Loss   Remaining Time \n",
            "         1     1215270.1651           11.50m\n",
            "         2     1166353.5983           11.52m\n",
            "         3     1128821.7128           11.39m\n",
            "         4     1101053.3904           11.06m\n",
            "         5     1081973.0114           10.74m\n",
            "         6     1060075.1453           10.63m\n",
            "         7     1042876.7935           10.48m\n",
            "         8     1027984.2163           10.24m\n",
            "         9     1016381.6183            9.94m\n",
            "        10      996594.3768            9.70m\n",
            "        11      985415.6723            9.44m\n",
            "        12      975235.2000            9.16m\n",
            "        13      964567.2115            8.95m\n",
            "        14      949499.2728            8.74m\n",
            "        15      942096.7578            8.54m\n",
            "        16      932284.6220            8.31m\n",
            "        17      925575.8889            8.07m\n",
            "        18      919426.7810            7.80m\n",
            "        19      908328.9205            7.55m\n",
            "        20      900906.9957            7.32m\n",
            "        21      894822.8568            7.06m\n",
            "        22      889329.1936            6.82m\n",
            "        23      882942.8665            6.56m\n",
            "        24      875815.2738            6.32m\n",
            "        25      869500.0483            6.07m\n",
            "        26      856962.9843            5.83m\n",
            "        27      851502.4376            5.60m\n",
            "        28      841769.0467            5.35m\n",
            "        29      836183.3791            5.10m\n",
            "        30      830650.3178            4.85m\n",
            "        31      823580.6911            4.61m\n",
            "        32      815895.8130            4.37m\n",
            "        33      808495.2722            4.13m\n",
            "        34      802382.6650            3.89m\n",
            "        35      794058.2937            3.65m\n",
            "        36      788979.7994            3.41m\n",
            "        37      784185.0434            3.17m\n",
            "        38      781204.9687            2.92m\n",
            "        39      777503.2961            2.68m\n",
            "        40      774827.0243            2.44m\n",
            "        41      771302.2301            2.20m\n",
            "        42      765415.8101            1.95m\n",
            "        43      761831.9460            1.71m\n",
            "        44      756993.4450            1.46m\n",
            "        45      751654.0168            1.22m\n",
            "        46      745626.7515           58.71s\n",
            "        47      741124.0204           44.01s\n",
            "        48      736758.1701           29.34s\n",
            "        49      734605.2928           14.68s\n",
            "        50      729953.1785            0.00s\n"
          ],
          "name": "stdout"
        },
        {
          "output_type": "execute_result",
          "data": {
            "text/plain": [
              "GradientBoostingClassifier(ccp_alpha=0.0, criterion='friedman_mse', init=None,\n",
              "                           learning_rate=0.25, loss='deviance', max_depth=3,\n",
              "                           max_features=None, max_leaf_nodes=None,\n",
              "                           min_impurity_decrease=0.0, min_impurity_split=None,\n",
              "                           min_samples_leaf=1, min_samples_split=2,\n",
              "                           min_weight_fraction_leaf=0.0, n_estimators=50,\n",
              "                           n_iter_no_change=None, presort='deprecated',\n",
              "                           random_state=None, subsample=1.0, tol=0.0001,\n",
              "                           validation_fraction=0.1, verbose=2,\n",
              "                           warm_start=False)"
            ]
          },
          "metadata": {
            "tags": []
          },
          "execution_count": 92
        }
      ]
    },
    {
      "cell_type": "code",
      "metadata": {
        "id": "JNjvigLOW0NK",
        "outputId": "e78fd8b2-9b12-4579-f96a-11426ab968af",
        "colab": {
          "base_uri": "https://localhost:8080/",
          "height": 34
        }
      },
      "source": [
        "Y4_validation_pred=modelGBC4.predict(X4_validation)\n",
        "np.average(Y4_validation_pred==Y4_validation)"
      ],
      "execution_count": null,
      "outputs": [
        {
          "output_type": "execute_result",
          "data": {
            "text/plain": [
              "0.8070624612263788"
            ]
          },
          "metadata": {
            "tags": []
          },
          "execution_count": 93
        }
      ]
    },
    {
      "cell_type": "code",
      "metadata": {
        "id": "UWW1ZAT6W6dy",
        "outputId": "76f56db8-5630-4c0a-9b99-d21238f2f544",
        "colab": {
          "base_uri": "https://localhost:8080/",
          "height": 279
        }
      },
      "source": [
        "CMGBC4_SMOTE_true=plot_confusion_matrix(modelGBC4,X4_validation,Y4_validation,normalize='true')"
      ],
      "execution_count": null,
      "outputs": [
        {
          "output_type": "display_data",
          "data": {
            "image/png": "[encoded data removed]",
            "text/plain": [
              "<Figure size 432x288 with 2 Axes>"
            ]
          },
          "metadata": {
            "tags": []
          }
        }
      ]
    },
    {
      "cell_type": "code",
      "metadata": {
        "id": "z14kjI03XQhE",
        "outputId": "3b4a5c6e-a85f-487a-9f21-6c425d27c08a",
        "colab": {
          "base_uri": "https://localhost:8080/",
          "height": 279
        }
      },
      "source": [
        "CMGBC4_SMOTE_pred=plot_confusion_matrix(modelGBC4,X4_validation,Y4_validation,normalize='pred')"
      ],
      "execution_count": null,
      "outputs": [
        {
          "output_type": "display_data",
          "data": {
            "image/png": "[encoded data removed]",
            "text/plain": [
              "<Figure size 432x288 with 2 Axes>"
            ]
          },
          "metadata": {
            "tags": []
          }
        }
      ]
    },
    {
      "cell_type": "code",
      "metadata": {
        "id": "CpmIiSWyXcOw",
        "outputId": "e207404d-7818-4579-f158-592ac67a62d3",
        "colab": {
          "base_uri": "https://localhost:8080/",
          "height": 34
        }
      },
      "source": [
        "Y4_test_pred=modelGBC4.predict(X4_test)\n",
        "np.average(Y4_test_pred==Y4_test)"
      ],
      "execution_count": null,
      "outputs": [
        {
          "output_type": "execute_result",
          "data": {
            "text/plain": [
              "0.8099638408999599"
            ]
          },
          "metadata": {
            "tags": []
          },
          "execution_count": 96
        }
      ]
    },
    {
      "cell_type": "code",
      "metadata": {
        "id": "9oCleZRMXnO4",
        "outputId": "b79302c3-508f-401f-c72f-1dc463f64bd9",
        "colab": {
          "base_uri": "https://localhost:8080/",
          "height": 279
        }
      },
      "source": [
        "CMGBC4_SMOTE_test_true=plot_confusion_matrix(modelGBC4,X4_test,Y4_test,normalize='true')"
      ],
      "execution_count": null,
      "outputs": [
        {
          "output_type": "display_data",
          "data": {
            "image/png": "[encoded data removed]",
            "text/plain": [
              "<Figure size 432x288 with 2 Axes>"
            ]
          },
          "metadata": {
            "tags": []
          }
        }
      ]
    },
    {
      "cell_type": "code",
      "metadata": {
        "id": "ocpbjo5lXuG4",
        "outputId": "00969b78-465f-4c1b-f21e-588a2f420334",
        "colab": {
          "base_uri": "https://localhost:8080/",
          "height": 279
        }
      },
      "source": [
        "CMGBC4_SMOTE_test_pred=plot_confusion_matrix(modelGBC4,X4_test,Y4_test,normalize='pred')"
      ],
      "execution_count": null,
      "outputs": [
        {
          "output_type": "display_data",
          "data": {
            "image/png": "[encoded data removed]",
            "text/plain": [
              "<Figure size 432x288 with 2 Axes>"
            ]
          },
          "metadata": {
            "tags": []
          }
        }
      ]
    },
    {
      "cell_type": "code",
      "metadata": {
        "id": "BWMBN1b8Xx_n",
        "outputId": "fea01b34-c423-4769-8db1-8916f2083d7e",
        "colab": {
          "base_uri": "https://localhost:8080/",
          "height": 541
        }
      },
      "source": [
        "plt.figure(figsize=(16,8))\n",
        "plt.bar(X4_train.columns,modelGBC4.feature_importances_)\n",
        "plt.setp(plt.gca().get_xticklabels(), rotation=90, horizontalalignment='right')\n",
        "plt.show()"
      ],
      "execution_count": null,
      "outputs": [
        {
          "output_type": "display_data",
          "data": {
            "image/png": "[encoded data removed]",
            "text/plain": [
              "<Figure size 1152x576 with 1 Axes>"
            ]
          },
          "metadata": {
            "tags": []
          }
        }
      ]
    },
    {
      "cell_type": "markdown",
      "metadata": {
        "id": "x71pEacPlN9e"
      },
      "source": [
        "Our performance on GBC is comparable to the one we get in the first Notebook."
      ]
    },
    {
      "cell_type": "code",
      "metadata": {
        "id": "5K18pH2YZ64m"
      },
      "source": [
        "data5=ML_data.copy()\n",
        "data5.drop(columns=['bikes_available','docks_available','Holiday','Mountain View','Palo Alto','Redwood City','San Jose','Wind_Direction',\\\n",
        "                    'Humidity','Heavy Rain','Light Rain','Moderate Rain','Proximity to Rain','East','North','South','West',\\\n",
        "                    'Pressure','Temperature','Rain','Cloudy','Foggy','Sunny','Wind_Speed'],inplace=True)"
      ],
      "execution_count": null,
      "outputs": []
    },
    {
      "cell_type": "code",
      "metadata": {
        "id": "z5j3J-SQZ64o"
      },
      "source": [
        "X5_rest,X5_test,Y5_rest,Y5_test=train_test_split(data5.drop(columns=['Category']),data5['Category'],train_size=0.8,shuffle=True)\n",
        "X5_train,X5_validation,Y5_train,Y5_validation=train_test_split(X5_rest,Y5_rest,train_size=0.8,shuffle=True)"
      ],
      "execution_count": null,
      "outputs": []
    },
    {
      "cell_type": "code",
      "metadata": {
        "id": "kwGoPRvfZ64u"
      },
      "source": [
        "model5=SMOTE(sampling_strategy='not majority',k_neighbors=3)"
      ],
      "execution_count": null,
      "outputs": []
    },
    {
      "cell_type": "code",
      "metadata": {
        "id": "P-aKeBkrZ64w",
        "outputId": "56f2008b-c56f-4537-a54d-2bf55ed0f40f",
        "colab": {
          "base_uri": "https://localhost:8080/",
          "height": 104
        }
      },
      "source": [
        "Xresamp5_train,Yresamp5_train=model5.fit_sample(X5_train,Y5_train)"
      ],
      "execution_count": null,
      "outputs": [
        {
          "output_type": "stream",
          "text": [
            "/usr/local/lib/python3.6/dist-packages/sklearn/utils/deprecation.py:87: FutureWarning: Function safe_indexing is deprecated; safe_indexing is deprecated in version 0.22 and will be removed in version 0.24.\n",
            "  warnings.warn(msg, category=FutureWarning)\n",
            "/usr/local/lib/python3.6/dist-packages/sklearn/utils/deprecation.py:87: FutureWarning: Function safe_indexing is deprecated; safe_indexing is deprecated in version 0.22 and will be removed in version 0.24.\n",
            "  warnings.warn(msg, category=FutureWarning)\n"
          ],
          "name": "stderr"
        }
      ]
    },
    {
      "cell_type": "code",
      "metadata": {
        "id": "zt8KQRfGZ640",
        "outputId": "552c4d7e-7cf7-42c6-8a9e-5fdeafece0e0",
        "colab": {
          "base_uri": "https://localhost:8080/",
          "height": 67
        }
      },
      "source": [
        "modelK5=KNeighborsClassifier(3)\n",
        "modelK5.fit(Xresamp5_train,Yresamp5_train)"
      ],
      "execution_count": null,
      "outputs": [
        {
          "output_type": "execute_result",
          "data": {
            "text/plain": [
              "KNeighborsClassifier(algorithm='auto', leaf_size=30, metric='minkowski',\n",
              "                     metric_params=None, n_jobs=None, n_neighbors=3, p=2,\n",
              "                     weights='uniform')"
            ]
          },
          "metadata": {
            "tags": []
          },
          "execution_count": 104
        }
      ]
    },
    {
      "cell_type": "code",
      "metadata": {
        "id": "SXL-Qz_BZ642",
        "outputId": "4e6252f0-f6ad-4d96-aa92-d0f0f3e5e5de",
        "colab": {
          "base_uri": "https://localhost:8080/",
          "height": 34
        }
      },
      "source": [
        "Y5_validation_pred=modelK5.predict(X5_validation)\n",
        "np.average(Y5_validation_pred==Y5_validation)"
      ],
      "execution_count": null,
      "outputs": [
        {
          "output_type": "execute_result",
          "data": {
            "text/plain": [
              "0.7586138984352689"
            ]
          },
          "metadata": {
            "tags": []
          },
          "execution_count": 105
        }
      ]
    },
    {
      "cell_type": "code",
      "metadata": {
        "id": "kCeihBqhZ646",
        "outputId": "ee1dc608-237a-4818-be68-10b7065865e5",
        "colab": {
          "base_uri": "https://localhost:8080/",
          "height": 279
        }
      },
      "source": [
        "CM5_SMOTE_true=plot_confusion_matrix(modelK5,X5_validation,Y5_validation,normalize='true')"
      ],
      "execution_count": null,
      "outputs": [
        {
          "output_type": "display_data",
          "data": {
            "image/png": "[encoded data removed]",
            "text/plain": [
              "<Figure size 432x288 with 2 Axes>"
            ]
          },
          "metadata": {
            "tags": []
          }
        }
      ]
    },
    {
      "cell_type": "code",
      "metadata": {
        "id": "CKgU_Hl5Z65A",
        "outputId": "319f858f-ced0-4322-dd83-9941a2081cd1",
        "colab": {
          "base_uri": "https://localhost:8080/",
          "height": 279
        }
      },
      "source": [
        "CM5_SMOTE_pred=plot_confusion_matrix(modelK5,X5_validation,Y5_validation,normalize='pred')"
      ],
      "execution_count": null,
      "outputs": [
        {
          "output_type": "display_data",
          "data": {
            "image/png": "[encoded data removed]",
            "text/plain": [
              "<Figure size 432x288 with 2 Axes>"
            ]
          },
          "metadata": {
            "tags": []
          }
        }
      ]
    },
    {
      "cell_type": "markdown",
      "metadata": {
        "id": "DDGBZTNwmfcL"
      },
      "source": [
        "We see amore accurate results on the minority classes. let's test it with a GBC model.\n",
        "\n",
        "We optimized the max_depth and the learning_rate by hand validation to converge to this optimal model."
      ]
    },
    {
      "cell_type": "code",
      "metadata": {
        "id": "-wHQ7uOtZzJJ"
      },
      "source": [
        "modelGBC5=GradientBoostingClassifier(n_estimators=50,max_depth=6,verbose=2,learning_rate=0.9)"
      ],
      "execution_count": null,
      "outputs": []
    },
    {
      "cell_type": "code",
      "metadata": {
        "id": "KDHoIVPgZzJN",
        "outputId": "09c9cc92-8e49-41e5-d237-0dd1d4759dbd",
        "colab": {
          "base_uri": "https://localhost:8080/",
          "height": 1000
        }
      },
      "source": [
        "modelGBC5.fit(Xresamp5_train,Yresamp5_train)"
      ],
      "execution_count": null,
      "outputs": [
        {
          "output_type": "stream",
          "text": [
            "      Iter       Train Loss   Remaining Time \n",
            "         1      988299.5071            6.58m\n",
            "         2      920001.0332            6.46m\n",
            "         3      864461.5695            6.73m\n",
            "         4      813986.4396            6.62m\n",
            "         5      767867.5768            6.55m\n",
            "         6      744024.3129            6.34m\n",
            "         7      731174.5066            6.15m\n",
            "         8      712424.9598            5.94m\n",
            "         9      693476.2370            5.75m\n",
            "        10      678680.8511            5.59m\n",
            "        11      669451.1197            5.43m\n",
            "        12      658068.7480            5.27m\n",
            "        13      647081.4595            5.11m\n",
            "        14      640173.4455            4.97m\n",
            "        15      633280.5812            4.83m\n",
            "        16      626192.7766            4.68m\n",
            "        17      619431.0889            4.53m\n",
            "        18      614804.7698            4.42m\n",
            "        19      609688.5178            4.29m\n",
            "        20      602954.1998            4.15m\n",
            "        21      597953.8568            4.00m\n",
            "        22      592749.3004            3.88m\n",
            "        23      587978.6321            3.74m\n",
            "        24      584437.9466            3.61m\n",
            "        25      579405.3053            3.48m\n",
            "        26      574486.0293            3.34m\n",
            "        27      570692.2244            3.20m\n",
            "        28      567387.5069            3.06m\n",
            "        29      564143.8666            2.91m\n",
            "        30      562034.8641            2.77m\n",
            "        31      558098.3051            2.63m\n",
            "        32      554659.6653            2.50m\n",
            "        33      551471.8628            2.36m\n",
            "        34      548336.1742            2.23m\n",
            "        35      545998.0413            2.09m\n",
            "        36      543115.7519            1.96m\n",
            "        37      540962.5974            1.82m\n",
            "        38      538907.2201            1.68m\n",
            "        39      536179.3569            1.54m\n",
            "        40      533688.4610            1.41m\n",
            "        41      531280.2905            1.27m\n",
            "        42      529250.1665            1.13m\n",
            "        43      526879.7368           59.15s\n",
            "        44      523914.7934           50.79s\n",
            "        45      521776.8259           42.35s\n",
            "        46      519995.7073           33.83s\n",
            "        47      517873.3356           25.39s\n",
            "        48      515333.0823           16.92s\n",
            "        49      513574.2308            8.47s\n",
            "        50      512290.4538            0.00s\n"
          ],
          "name": "stdout"
        },
        {
          "output_type": "execute_result",
          "data": {
            "text/plain": [
              "GradientBoostingClassifier(ccp_alpha=0.0, criterion='friedman_mse', init=None,\n",
              "                           learning_rate=0.9, loss='deviance', max_depth=6,\n",
              "                           max_features=None, max_leaf_nodes=None,\n",
              "                           min_impurity_decrease=0.0, min_impurity_split=None,\n",
              "                           min_samples_leaf=1, min_samples_split=2,\n",
              "                           min_weight_fraction_leaf=0.0, n_estimators=50,\n",
              "                           n_iter_no_change=None, presort='deprecated',\n",
              "                           random_state=None, subsample=1.0, tol=0.0001,\n",
              "                           validation_fraction=0.1, verbose=2,\n",
              "                           warm_start=False)"
            ]
          },
          "metadata": {
            "tags": []
          },
          "execution_count": 109
        }
      ]
    },
    {
      "cell_type": "code",
      "metadata": {
        "id": "pc9V3gXFZzJO",
        "outputId": "b04dd9ce-5adc-4def-d135-5ab307d69368",
        "colab": {
          "base_uri": "https://localhost:8080/",
          "height": 34
        }
      },
      "source": [
        "Y5_validation_pred=modelGBC5.predict(X5_validation)\n",
        "np.average(Y5_validation_pred==Y5_validation)"
      ],
      "execution_count": null,
      "outputs": [
        {
          "output_type": "execute_result",
          "data": {
            "text/plain": [
              "0.6925781134602318"
            ]
          },
          "metadata": {
            "tags": []
          },
          "execution_count": 110
        }
      ]
    },
    {
      "cell_type": "code",
      "metadata": {
        "id": "Dv0uPL2PZzJV",
        "outputId": "f5b2d769-60d5-4ca9-d2ed-ae6d60ca8cb1",
        "colab": {
          "base_uri": "https://localhost:8080/",
          "height": 279
        }
      },
      "source": [
        "CMGBC5_SMOTE_true=plot_confusion_matrix(modelGBC5,X5_validation,Y5_validation,normalize='true')"
      ],
      "execution_count": null,
      "outputs": [
        {
          "output_type": "display_data",
          "data": {
            "image/png": "[encoded data removed]",
            "text/plain": [
              "<Figure size 432x288 with 2 Axes>"
            ]
          },
          "metadata": {
            "tags": []
          }
        }
      ]
    },
    {
      "cell_type": "code",
      "metadata": {
        "id": "PUku7wxQZzJd",
        "outputId": "f12edc3a-fe15-48e2-d759-44e48cbbb21d",
        "colab": {
          "base_uri": "https://localhost:8080/",
          "height": 279
        }
      },
      "source": [
        "CMGBC5_SMOTE_pred=plot_confusion_matrix(modelGBC5,X5_validation,Y5_validation,normalize='pred')"
      ],
      "execution_count": null,
      "outputs": [
        {
          "output_type": "display_data",
          "data": {
            "image/png": "[encoded data removed]",
            "text/plain": [
              "<Figure size 432x288 with 2 Axes>"
            ]
          },
          "metadata": {
            "tags": []
          }
        }
      ]
    },
    {
      "cell_type": "markdown",
      "metadata": {
        "id": "49L2Ufs7m7Fw"
      },
      "source": [
        "We get good predictions on both minorities, on both validation and testing sets.\n",
        "\n",
        "But, we have deteriorated the accuracy on the normal situation."
      ]
    },
    {
      "cell_type": "code",
      "metadata": {
        "id": "7wS5b2EOZzJf",
        "outputId": "80671377-e338-4a2a-9e4e-119a71ef4037",
        "colab": {
          "base_uri": "https://localhost:8080/",
          "height": 34
        }
      },
      "source": [
        "Y5_test_pred=modelGBC5.predict(X5_test)\n",
        "np.average(Y5_test_pred==Y5_test)"
      ],
      "execution_count": null,
      "outputs": [
        {
          "output_type": "execute_result",
          "data": {
            "text/plain": [
              "0.6925688716627671"
            ]
          },
          "metadata": {
            "tags": []
          },
          "execution_count": 113
        }
      ]
    },
    {
      "cell_type": "code",
      "metadata": {
        "id": "jo5-uYmEZzJi",
        "outputId": "c122e022-2c10-4285-a60b-2f281d034106",
        "colab": {
          "base_uri": "https://localhost:8080/",
          "height": 279
        }
      },
      "source": [
        "CMGBC5_SMOTE_test_true=plot_confusion_matrix(modelGBC5,X5_test,Y5_test,normalize='true')"
      ],
      "execution_count": null,
      "outputs": [
        {
          "output_type": "display_data",
          "data": {
            "image/png": "[encoded data removed]",
            "text/plain": [
              "<Figure size 432x288 with 2 Axes>"
            ]
          },
          "metadata": {
            "tags": []
          }
        }
      ]
    },
    {
      "cell_type": "code",
      "metadata": {
        "id": "yMfrTtLlZzJl",
        "outputId": "e52fd48f-27c6-4e4d-b2a4-3775d735cbd4",
        "colab": {
          "base_uri": "https://localhost:8080/",
          "height": 279
        }
      },
      "source": [
        "CMGBC5_SMOTE_test_pred=plot_confusion_matrix(modelGBC5,X5_test,Y5_test,normalize='pred')"
      ],
      "execution_count": null,
      "outputs": [
        {
          "output_type": "display_data",
          "data": {
            "image/png": "[encoded data removed]",
            "text/plain": [
              "<Figure size 432x288 with 2 Axes>"
            ]
          },
          "metadata": {
            "tags": []
          }
        }
      ]
    },
    {
      "cell_type": "code",
      "metadata": {
        "id": "qThLLgeibBrJ",
        "outputId": "d237e15e-a6a9-4a5f-8221-729588627ece",
        "colab": {
          "base_uri": "https://localhost:8080/",
          "height": 542
        }
      },
      "source": [
        "plt.figure(figsize=(16,8))\n",
        "plt.bar(X5_train.columns,modelGBC5.feature_importances_)\n",
        "plt.setp(plt.gca().get_xticklabels(), rotation=90, horizontalalignment='right')\n",
        "plt.show()"
      ],
      "execution_count": null,
      "outputs": [
        {
          "output_type": "display_data",
          "data": {
            "image/png": "[encoded data removed]",
            "text/plain": [
              "<Figure size 1152x576 with 1 Axes>"
            ]
          },
          "metadata": {
            "tags": []
          }
        }
      ]
    },
    {
      "cell_type": "markdown",
      "metadata": {
        "id": "QnNXhXEFnz-K"
      },
      "source": [
        "An interesting analysis, if we increase the maximum depth by 1, we will see the accuracy of the majority increasing again, letting the minority accuracies decreasing. Therefore, we find a (at least local) optimal model for handling minorities."
      ]
    },
    {
      "cell_type": "code",
      "metadata": {
        "id": "bbsjGSWXwB7K"
      },
      "source": [
        "modelGBC5_bis=GradientBoostingClassifier(n_estimators=50,max_depth=7,verbose=2,learning_rate=0.8)"
      ],
      "execution_count": null,
      "outputs": []
    },
    {
      "cell_type": "code",
      "metadata": {
        "id": "2Un_QopqwB7P",
        "outputId": "aa480f6c-414b-4c8c-eaa7-65957edbb669",
        "colab": {
          "base_uri": "https://localhost:8080/",
          "height": 1000
        }
      },
      "source": [
        "modelGBC5_bis.fit(Xresamp5_train,Yresamp5_train)"
      ],
      "execution_count": null,
      "outputs": [
        {
          "output_type": "stream",
          "text": [
            "      Iter       Train Loss   Remaining Time \n",
            "         1      953311.8469            7.09m\n",
            "         2      876830.1507            6.95m\n",
            "         3      795983.7719            7.05m\n",
            "         4      739108.3187            6.88m\n",
            "         5      709908.8505            6.75m\n",
            "         6      685443.7433            6.64m\n",
            "         7      668520.1934            6.53m\n",
            "         8      652717.9730            6.43m\n",
            "         9      637741.3063            6.30m\n",
            "        10      625292.6879            6.16m\n",
            "        11      611705.2059            6.01m\n",
            "        12      602025.3989            5.85m\n",
            "        13      591315.8699            5.73m\n",
            "        14      585560.8856            5.67m\n",
            "        15      577733.4856            5.57m\n",
            "        16      570551.6898            5.46m\n",
            "        17      562660.4409            5.35m\n",
            "        18      557767.8367            5.21m\n",
            "        19      551150.2219            5.06m\n",
            "        20      547938.1014            4.90m\n",
            "        21      541801.7707            4.76m\n",
            "        22      534206.9305            4.60m\n",
            "        23      528287.5368            4.45m\n",
            "        24      523555.1625            4.30m\n",
            "        25      519142.4130            4.14m\n",
            "        26      515999.6886            3.99m\n",
            "        27      511308.9749            3.84m\n",
            "        28      507785.5950            3.67m\n",
            "        29      503943.9003            3.50m\n",
            "        30      499742.1224            3.34m\n",
            "        31      497061.1768            3.18m\n",
            "        32      494301.2918            3.01m\n",
            "        33      491481.4351            2.85m\n",
            "        34      488579.4044            2.68m\n",
            "        35      485627.9431            2.51m\n",
            "        36      482890.1556            2.35m\n",
            "        37      480655.2732            2.18m\n",
            "        38      478159.2007            2.01m\n",
            "        39      475526.1185            1.84m\n",
            "        40      472346.5005            1.68m\n",
            "        41      470106.1330            1.51m\n",
            "        42      467353.3112            1.35m\n",
            "        43      465097.0343            1.18m\n",
            "        44      463147.0737            1.01m\n",
            "        45      461692.0941           50.48s\n",
            "        46      459812.6802           40.42s\n",
            "        47      457568.0427           30.37s\n",
            "        48      456206.0955           20.26s\n",
            "        49      454385.2569           10.14s\n",
            "        50      452457.9263            0.00s\n"
          ],
          "name": "stdout"
        },
        {
          "output_type": "execute_result",
          "data": {
            "text/plain": [
              "GradientBoostingClassifier(ccp_alpha=0.0, criterion='friedman_mse', init=None,\n",
              "                           learning_rate=0.8, loss='deviance', max_depth=7,\n",
              "                           max_features=None, max_leaf_nodes=None,\n",
              "                           min_impurity_decrease=0.0, min_impurity_split=None,\n",
              "                           min_samples_leaf=1, min_samples_split=2,\n",
              "                           min_weight_fraction_leaf=0.0, n_estimators=50,\n",
              "                           n_iter_no_change=None, presort='deprecated',\n",
              "                           random_state=None, subsample=1.0, tol=0.0001,\n",
              "                           validation_fraction=0.1, verbose=2,\n",
              "                           warm_start=False)"
            ]
          },
          "metadata": {
            "tags": []
          },
          "execution_count": 122
        }
      ]
    },
    {
      "cell_type": "code",
      "metadata": {
        "id": "W0dk0hTAwB7S",
        "outputId": "ed267f48-46b3-41ad-fc9e-d066a48c90be",
        "colab": {
          "base_uri": "https://localhost:8080/",
          "height": 34
        }
      },
      "source": [
        "Y5_bis_validation_pred=modelGBC5_bis.predict(X5_validation)\n",
        "np.average(Y5_bis_validation_pred==Y5_validation)"
      ],
      "execution_count": null,
      "outputs": [
        {
          "output_type": "execute_result",
          "data": {
            "text/plain": [
              "0.7128339455052142"
            ]
          },
          "metadata": {
            "tags": []
          },
          "execution_count": 123
        }
      ]
    },
    {
      "cell_type": "code",
      "metadata": {
        "id": "PY0U-nwDwB7U",
        "outputId": "05396206-385d-4903-f637-ca1eeebf356c",
        "colab": {
          "base_uri": "https://localhost:8080/",
          "height": 279
        }
      },
      "source": [
        "CMGBC5_bis_SMOTE_true=plot_confusion_matrix(modelGBC5_bis,X5_validation,Y5_validation,normalize='true')"
      ],
      "execution_count": null,
      "outputs": [
        {
          "output_type": "display_data",
          "data": {
            "image/png": "[encoded data removed]",
            "text/plain": [
              "<Figure size 432x288 with 2 Axes>"
            ]
          },
          "metadata": {
            "tags": []
          }
        }
      ]
    },
    {
      "cell_type": "code",
      "metadata": {
        "id": "kdaVjqRNwB7W",
        "outputId": "1fc39264-52f8-4c82-f245-868115cf80d0",
        "colab": {
          "base_uri": "https://localhost:8080/",
          "height": 279
        }
      },
      "source": [
        "CMGBC5_bis_SMOTE_pred=plot_confusion_matrix(modelGBC5_bis,X5_validation,Y5_validation,normalize='pred')"
      ],
      "execution_count": null,
      "outputs": [
        {
          "output_type": "display_data",
          "data": {
            "image/png": "[encoded data removed]",
            "text/plain": [
              "<Figure size 432x288 with 2 Axes>"
            ]
          },
          "metadata": {
            "tags": []
          }
        }
      ]
    },
    {
      "cell_type": "code",
      "metadata": {
        "id": "bd3aVY7YwB7b",
        "outputId": "fffdfd1e-3bba-42cf-f659-3d6287500d7b",
        "colab": {
          "base_uri": "https://localhost:8080/",
          "height": 34
        }
      },
      "source": [
        "Y5_bis_test_pred=modelGBC5_bis.predict(X5_test)\n",
        "np.average(Y5_bis_test_pred==Y5_test)"
      ],
      "execution_count": null,
      "outputs": [
        {
          "output_type": "execute_result",
          "data": {
            "text/plain": [
              "0.7138861973073681"
            ]
          },
          "metadata": {
            "tags": []
          },
          "execution_count": 126
        }
      ]
    },
    {
      "cell_type": "code",
      "metadata": {
        "id": "Oe0bExTgwB7d",
        "outputId": "255ded10-b0bb-4805-e567-7475f733df78",
        "colab": {
          "base_uri": "https://localhost:8080/",
          "height": 279
        }
      },
      "source": [
        "CMGBC5_bis_SMOTE_test_true=plot_confusion_matrix(modelGBC5_bis,X5_test,Y5_test,normalize='true')"
      ],
      "execution_count": null,
      "outputs": [
        {
          "output_type": "display_data",
          "data": {
            "image/png": "[encoded data removed]",
            "text/plain": [
              "<Figure size 432x288 with 2 Axes>"
            ]
          },
          "metadata": {
            "tags": []
          }
        }
      ]
    },
    {
      "cell_type": "code",
      "metadata": {
        "id": "ZcPok-ccwB7f",
        "outputId": "57dd6f47-6e70-4983-8b9a-6764f4e567ac",
        "colab": {
          "base_uri": "https://localhost:8080/",
          "height": 279
        }
      },
      "source": [
        "CMGBC5_bis_SMOTE_test_pred=plot_confusion_matrix(modelGBC5_bis,X5_test,Y5_test,normalize='pred')"
      ],
      "execution_count": null,
      "outputs": [
        {
          "output_type": "display_data",
          "data": {
            "image/png": "[encoded data removed]",
            "text/plain": [
              "<Figure size 432x288 with 2 Axes>"
            ]
          },
          "metadata": {
            "tags": []
          }
        }
      ]
    },
    {
      "cell_type": "code",
      "metadata": {
        "id": "0m58ZrtRwB7h",
        "outputId": "2a1eeb01-adcc-4a64-d594-6d26245355f8",
        "colab": {
          "base_uri": "https://localhost:8080/",
          "height": 542
        }
      },
      "source": [
        "plt.figure(figsize=(16,8))\n",
        "plt.bar(X5_train.columns,modelGBC5_bis.feature_importances_)\n",
        "plt.setp(plt.gca().get_xticklabels(), rotation=90, horizontalalignment='right')\n",
        "plt.show()"
      ],
      "execution_count": null,
      "outputs": [
        {
          "output_type": "display_data",
          "data": {
            "image/png": "[encoded data removed]",
            "text/plain": [
              "<Figure size 1152x576 with 1 Axes>"
            ]
          },
          "metadata": {
            "tags": []
          }
        }
      ]
    },
    {
      "cell_type": "code",
      "metadata": {
        "id": "xoBJHCwfwakz"
      },
      "source": [
        ""
      ],
      "execution_count": null,
      "outputs": []
    }
  ]
}