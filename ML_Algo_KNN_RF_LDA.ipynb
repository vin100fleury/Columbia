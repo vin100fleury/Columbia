{
  "nbformat": 4,
  "nbformat_minor": 0,
  "metadata": {
    "colab": {
      "name": "ML_Algo_KNN_RF_LDA.ipynb",
      "provenance": [],
      "collapsed_sections": [
        "YwoDsgHFU4is",
        "gv6ugX7-SwMP",
        "Owmykkj1TwZa",
        "WQQl6BZJXrt7"
      ]
    },
    "kernelspec": {
      "name": "python3",
      "display_name": "Python 3"
    }
  },
  "cells": [
    {
      "cell_type": "markdown",
      "metadata": {
        "id": "WqWiH8WyU4ta"
      },
      "source": [
        "We take the same introduction to correctly organize our data."
      ]
    },
    {
      "cell_type": "markdown",
      "metadata": {
        "id": "YwoDsgHFU4is"
      },
      "source": [
        "# Extraction"
      ]
    },
    {
      "cell_type": "code",
      "metadata": {
        "id": "XlE1b1s4H4-A",
        "outputId": "92da3fc0-f6d2-4c8e-ae01-21afc1cc417f",
        "colab": {
          "base_uri": "https://localhost:8080/"
        }
      },
      "source": [
        "!pip install -U -q PyDrive\n",
        "!pip install -U scikit-learn\n",
        "from pydrive.auth import GoogleAuth\n",
        "from pydrive.drive import GoogleDrive\n",
        "from google.colab import auth\n",
        "from oauth2client.client import GoogleCredentials\n",
        "# Authenticate and create the PyDrive client.\n",
        "auth.authenticate_user()\n",
        "gauth = GoogleAuth()\n",
        "gauth.credentials = GoogleCredentials.get_application_default()\n",
        "drive = GoogleDrive(gauth)\n",
        "\n",
        "import pandas as pd\n",
        "import numpy as np\n",
        "\n",
        "import matplotlib.pyplot as plt\n",
        "\n",
        "import scipy.stats as spst\n",
        "from scipy.optimize import minimize\n",
        "import scipy.special as spsp\n",
        "import datetime\n",
        "\n",
        "from sklearn.neighbors import KNeighborsClassifier\n",
        "from sklearn.preprocessing import StandardScaler\n",
        "from sklearn.model_selection import train_test_split, KFold, GridSearchCV\n",
        "from sklearn.discriminant_analysis import LinearDiscriminantAnalysis as LDA\n",
        "from sklearn.linear_model import LogisticRegression\n",
        "from sklearn.ensemble import RandomForestClassifier\n",
        "from sklearn.metrics import confusion_matrix, plot_confusion_matrix\n",
        "\n",
        "import seaborn as sn\n",
        "\n",
        "link=\"https://drive.google.com/open?id=1ekH_MmN_ofsmz6bR3xHrRnmDfXSDCWQK\"\n",
        "_,id=link.split(\"=\")\n",
        "downloaded = drive.CreateFile({'id':id}) \n",
        "downloaded.GetContentFile('myfile.csv')\n",
        "hSSW_wdeltabike= pd.read_csv('myfile.csv')\n",
        "print('hSSW_wdeltabike imported')"
      ],
      "execution_count": null,
      "outputs": [
        {
          "output_type": "stream",
          "text": [
            "Requirement already up-to-date: scikit-learn in /usr/local/lib/python3.6/dist-packages (0.22)\n",
            "Requirement already satisfied, skipping upgrade: scipy>=0.17.0 in /usr/local/lib/python3.6/dist-packages (from scikit-learn) (1.3.3)\n",
            "Requirement already satisfied, skipping upgrade: joblib>=0.11 in /usr/local/lib/python3.6/dist-packages (from scikit-learn) (0.14.1)\n",
            "Requirement already satisfied, skipping upgrade: numpy>=1.11.0 in /usr/local/lib/python3.6/dist-packages (from scikit-learn) (1.17.4)\n",
            "hSSW_wdeltabike imported\n"
          ],
          "name": "stdout"
        }
      ]
    },
    {
      "cell_type": "code",
      "metadata": {
        "id": "I6m3fC_mIpiG",
        "outputId": "3ba4c345-c63d-4265-8dc0-f49633339c92",
        "colab": {
          "base_uri": "https://localhost:8080/"
        }
      },
      "source": [
        "hSSW_wdeltabike"
      ],
      "execution_count": null,
      "outputs": [
        {
          "output_type": "execute_result",
          "data": {
            "text/html": [
              "<div>\n",
              "<style scoped>\n",
              "    .dataframe tbody tr th:only-of-type {\n",
              "        vertical-align: middle;\n",
              "    }\n",
              "\n",
              "    .dataframe tbody tr th {\n",
              "        vertical-align: top;\n",
              "    }\n",
              "\n",
              "    .dataframe thead th {\n",
              "        text-align: right;\n",
              "    }\n",
              "</style>\n",
              "<table border=\"1\" class=\"dataframe\">\n",
              "  <thead>\n",
              "    <tr style=\"text-align: right;\">\n",
              "      <th></th>\n",
              "      <th>Unnamed: 0</th>\n",
              "      <th>station_id</th>\n",
              "      <th>bikes_available</th>\n",
              "      <th>docks_available</th>\n",
              "      <th>Holiday</th>\n",
              "      <th>Weekend</th>\n",
              "      <th>name</th>\n",
              "      <th>lat</th>\n",
              "      <th>long</th>\n",
              "      <th>dock_count</th>\n",
              "      <th>city</th>\n",
              "      <th>installation_date</th>\n",
              "      <th>delta_bike</th>\n",
              "      <th>datetime</th>\n",
              "      <th>Humidity</th>\n",
              "      <th>Pressure</th>\n",
              "      <th>Temperature</th>\n",
              "      <th>Weather_Description</th>\n",
              "      <th>Wind_Direction</th>\n",
              "      <th>Wind_Speed</th>\n",
              "    </tr>\n",
              "  </thead>\n",
              "  <tbody>\n",
              "    <tr>\n",
              "      <th>0</th>\n",
              "      <td>0</td>\n",
              "      <td>2</td>\n",
              "      <td>2</td>\n",
              "      <td>25</td>\n",
              "      <td>False</td>\n",
              "      <td>False</td>\n",
              "      <td>San Jose Diridon Caltrain Station</td>\n",
              "      <td>37.329732</td>\n",
              "      <td>-121.901782</td>\n",
              "      <td>27</td>\n",
              "      <td>San Jose</td>\n",
              "      <td>8/6/2013</td>\n",
              "      <td>NaN</td>\n",
              "      <td>8/29/2013 13:00</td>\n",
              "      <td>94.0</td>\n",
              "      <td>1021</td>\n",
              "      <td>287.2795</td>\n",
              "      <td>broken clouds</td>\n",
              "      <td>201</td>\n",
              "      <td>0</td>\n",
              "    </tr>\n",
              "    <tr>\n",
              "      <th>1</th>\n",
              "      <td>1</td>\n",
              "      <td>3</td>\n",
              "      <td>9</td>\n",
              "      <td>6</td>\n",
              "      <td>False</td>\n",
              "      <td>False</td>\n",
              "      <td>San Jose Civic Center</td>\n",
              "      <td>37.330698</td>\n",
              "      <td>-121.888979</td>\n",
              "      <td>15</td>\n",
              "      <td>San Jose</td>\n",
              "      <td>8/5/2013</td>\n",
              "      <td>NaN</td>\n",
              "      <td>8/29/2013 13:00</td>\n",
              "      <td>94.0</td>\n",
              "      <td>1021</td>\n",
              "      <td>287.2795</td>\n",
              "      <td>broken clouds</td>\n",
              "      <td>201</td>\n",
              "      <td>0</td>\n",
              "    </tr>\n",
              "    <tr>\n",
              "      <th>2</th>\n",
              "      <td>2</td>\n",
              "      <td>4</td>\n",
              "      <td>0</td>\n",
              "      <td>11</td>\n",
              "      <td>False</td>\n",
              "      <td>False</td>\n",
              "      <td>Santa Clara at Almaden</td>\n",
              "      <td>37.333988</td>\n",
              "      <td>-121.894902</td>\n",
              "      <td>11</td>\n",
              "      <td>San Jose</td>\n",
              "      <td>8/6/2013</td>\n",
              "      <td>NaN</td>\n",
              "      <td>8/29/2013 13:00</td>\n",
              "      <td>94.0</td>\n",
              "      <td>1021</td>\n",
              "      <td>287.2795</td>\n",
              "      <td>broken clouds</td>\n",
              "      <td>201</td>\n",
              "      <td>0</td>\n",
              "    </tr>\n",
              "    <tr>\n",
              "      <th>3</th>\n",
              "      <td>3</td>\n",
              "      <td>5</td>\n",
              "      <td>9</td>\n",
              "      <td>10</td>\n",
              "      <td>False</td>\n",
              "      <td>False</td>\n",
              "      <td>Adobe on Almaden</td>\n",
              "      <td>37.331415</td>\n",
              "      <td>-121.893200</td>\n",
              "      <td>19</td>\n",
              "      <td>San Jose</td>\n",
              "      <td>8/5/2013</td>\n",
              "      <td>NaN</td>\n",
              "      <td>8/29/2013 13:00</td>\n",
              "      <td>94.0</td>\n",
              "      <td>1021</td>\n",
              "      <td>287.2795</td>\n",
              "      <td>broken clouds</td>\n",
              "      <td>201</td>\n",
              "      <td>0</td>\n",
              "    </tr>\n",
              "    <tr>\n",
              "      <th>4</th>\n",
              "      <td>4</td>\n",
              "      <td>6</td>\n",
              "      <td>4</td>\n",
              "      <td>11</td>\n",
              "      <td>False</td>\n",
              "      <td>False</td>\n",
              "      <td>San Pedro Square</td>\n",
              "      <td>37.336721</td>\n",
              "      <td>-121.894074</td>\n",
              "      <td>15</td>\n",
              "      <td>San Jose</td>\n",
              "      <td>8/7/2013</td>\n",
              "      <td>NaN</td>\n",
              "      <td>8/29/2013 13:00</td>\n",
              "      <td>94.0</td>\n",
              "      <td>1021</td>\n",
              "      <td>287.2795</td>\n",
              "      <td>broken clouds</td>\n",
              "      <td>201</td>\n",
              "      <td>0</td>\n",
              "    </tr>\n",
              "    <tr>\n",
              "      <th>...</th>\n",
              "      <td>...</td>\n",
              "      <td>...</td>\n",
              "      <td>...</td>\n",
              "      <td>...</td>\n",
              "      <td>...</td>\n",
              "      <td>...</td>\n",
              "      <td>...</td>\n",
              "      <td>...</td>\n",
              "      <td>...</td>\n",
              "      <td>...</td>\n",
              "      <td>...</td>\n",
              "      <td>...</td>\n",
              "      <td>...</td>\n",
              "      <td>...</td>\n",
              "      <td>...</td>\n",
              "      <td>...</td>\n",
              "      <td>...</td>\n",
              "      <td>...</td>\n",
              "      <td>...</td>\n",
              "      <td>...</td>\n",
              "    </tr>\n",
              "    <tr>\n",
              "      <th>634687</th>\n",
              "      <td>634687</td>\n",
              "      <td>70</td>\n",
              "      <td>6</td>\n",
              "      <td>13</td>\n",
              "      <td>False</td>\n",
              "      <td>True</td>\n",
              "      <td>San Francisco Caltrain (Townsend at 4th)</td>\n",
              "      <td>37.776617</td>\n",
              "      <td>-122.395260</td>\n",
              "      <td>19</td>\n",
              "      <td>San Francisco</td>\n",
              "      <td>8/23/2013</td>\n",
              "      <td>0.0</td>\n",
              "      <td>9/28/2014 14:00</td>\n",
              "      <td>100.0</td>\n",
              "      <td>1024</td>\n",
              "      <td>286.7370</td>\n",
              "      <td>sky is clear</td>\n",
              "      <td>159</td>\n",
              "      <td>1</td>\n",
              "    </tr>\n",
              "    <tr>\n",
              "      <th>634688</th>\n",
              "      <td>634688</td>\n",
              "      <td>71</td>\n",
              "      <td>5</td>\n",
              "      <td>14</td>\n",
              "      <td>False</td>\n",
              "      <td>True</td>\n",
              "      <td>Powell at Post (Union Square)</td>\n",
              "      <td>37.788446</td>\n",
              "      <td>-122.408499</td>\n",
              "      <td>19</td>\n",
              "      <td>San Francisco</td>\n",
              "      <td>8/23/2013</td>\n",
              "      <td>-2.0</td>\n",
              "      <td>9/28/2014 14:00</td>\n",
              "      <td>100.0</td>\n",
              "      <td>1024</td>\n",
              "      <td>286.7370</td>\n",
              "      <td>sky is clear</td>\n",
              "      <td>159</td>\n",
              "      <td>1</td>\n",
              "    </tr>\n",
              "    <tr>\n",
              "      <th>634689</th>\n",
              "      <td>634689</td>\n",
              "      <td>72</td>\n",
              "      <td>14</td>\n",
              "      <td>9</td>\n",
              "      <td>False</td>\n",
              "      <td>True</td>\n",
              "      <td>Civic Center BART (7th at Market)</td>\n",
              "      <td>37.781039</td>\n",
              "      <td>-122.411748</td>\n",
              "      <td>23</td>\n",
              "      <td>San Francisco</td>\n",
              "      <td>8/23/2013</td>\n",
              "      <td>0.0</td>\n",
              "      <td>9/28/2014 14:00</td>\n",
              "      <td>100.0</td>\n",
              "      <td>1024</td>\n",
              "      <td>286.7370</td>\n",
              "      <td>sky is clear</td>\n",
              "      <td>159</td>\n",
              "      <td>1</td>\n",
              "    </tr>\n",
              "    <tr>\n",
              "      <th>634690</th>\n",
              "      <td>634690</td>\n",
              "      <td>73</td>\n",
              "      <td>10</td>\n",
              "      <td>4</td>\n",
              "      <td>False</td>\n",
              "      <td>True</td>\n",
              "      <td>Grant Avenue at Columbus Avenue</td>\n",
              "      <td>37.798522</td>\n",
              "      <td>-122.407245</td>\n",
              "      <td>15</td>\n",
              "      <td>San Francisco</td>\n",
              "      <td>8/21/2013</td>\n",
              "      <td>-3.0</td>\n",
              "      <td>9/28/2014 14:00</td>\n",
              "      <td>100.0</td>\n",
              "      <td>1024</td>\n",
              "      <td>286.7370</td>\n",
              "      <td>sky is clear</td>\n",
              "      <td>159</td>\n",
              "      <td>1</td>\n",
              "    </tr>\n",
              "    <tr>\n",
              "      <th>634691</th>\n",
              "      <td>634691</td>\n",
              "      <td>74</td>\n",
              "      <td>3</td>\n",
              "      <td>20</td>\n",
              "      <td>False</td>\n",
              "      <td>True</td>\n",
              "      <td>Steuart at Market</td>\n",
              "      <td>37.794139</td>\n",
              "      <td>-122.394434</td>\n",
              "      <td>23</td>\n",
              "      <td>San Francisco</td>\n",
              "      <td>8/25/2013</td>\n",
              "      <td>0.0</td>\n",
              "      <td>9/28/2014 14:00</td>\n",
              "      <td>100.0</td>\n",
              "      <td>1024</td>\n",
              "      <td>286.7370</td>\n",
              "      <td>sky is clear</td>\n",
              "      <td>159</td>\n",
              "      <td>1</td>\n",
              "    </tr>\n",
              "  </tbody>\n",
              "</table>\n",
              "<p>634692 rows × 20 columns</p>\n",
              "</div>"
            ],
            "text/plain": [
              "        Unnamed: 0  station_id  ...  Wind_Direction  Wind_Speed\n",
              "0                0           2  ...             201           0\n",
              "1                1           3  ...             201           0\n",
              "2                2           4  ...             201           0\n",
              "3                3           5  ...             201           0\n",
              "4                4           6  ...             201           0\n",
              "...            ...         ...  ...             ...         ...\n",
              "634687      634687          70  ...             159           1\n",
              "634688      634688          71  ...             159           1\n",
              "634689      634689          72  ...             159           1\n",
              "634690      634690          73  ...             159           1\n",
              "634691      634691          74  ...             159           1\n",
              "\n",
              "[634692 rows x 20 columns]"
            ]
          },
          "metadata": {
            "tags": []
          },
          "execution_count": 2
        }
      ]
    },
    {
      "cell_type": "code",
      "metadata": {
        "id": "dD5itaZgKHdP",
        "outputId": "226777e2-8411-4d01-ddf5-6a3165bb1905",
        "colab": {
          "base_uri": "https://localhost:8080/"
        }
      },
      "source": [
        "hSSW_wdeltabike['city'].unique()"
      ],
      "execution_count": null,
      "outputs": [
        {
          "output_type": "execute_result",
          "data": {
            "text/plain": [
              "array(['San Jose', 'Redwood City', 'Mountain View', 'Palo Alto',\n",
              "       'San Francisco'], dtype=object)"
            ]
          },
          "metadata": {
            "tags": []
          },
          "execution_count": 3
        }
      ]
    },
    {
      "cell_type": "code",
      "metadata": {
        "id": "QbsMfpC3KV28",
        "outputId": "86bfa754-8f20-4eb4-f5fe-798dac73371a",
        "colab": {
          "base_uri": "https://localhost:8080/"
        }
      },
      "source": [
        "hSSW_wdeltabike['Weather_Description'].unique()"
      ],
      "execution_count": null,
      "outputs": [
        {
          "output_type": "execute_result",
          "data": {
            "text/plain": [
              "array(['broken clouds', 'mist', 'few clouds', 'sky is clear',\n",
              "       'thunderstorm', 'scattered clouds', 'overcast clouds',\n",
              "       'moderate rain', 'light rain', 'proximity thunderstorm', 'fog',\n",
              "       'haze', 'light intensity drizzle', 'heavy intensity drizzle',\n",
              "       'drizzle', 'thunderstorm with rain', 'proximity shower rain',\n",
              "       'thunderstorm with light rain', 'heavy intensity rain',\n",
              "       'very heavy rain', 'thunderstorm with heavy rain',\n",
              "       'proximity thunderstorm with rain', 'light intensity shower rain'],\n",
              "      dtype=object)"
            ]
          },
          "metadata": {
            "tags": []
          },
          "execution_count": 4
        }
      ]
    },
    {
      "cell_type": "markdown",
      "metadata": {
        "id": "gv6ugX7-SwMP"
      },
      "source": [
        "# Coherence Check and Cleaning"
      ]
    },
    {
      "cell_type": "code",
      "metadata": {
        "id": "Sy6athEfI9Sn",
        "outputId": "4a8d15ea-d97d-4465-c27c-e9638e0aa4ff",
        "colab": {
          "base_uri": "https://localhost:8080/"
        }
      },
      "source": [
        "hSSW_wdeltabike['check']=hSSW_wdeltabike['bikes_available']+hSSW_wdeltabike['docks_available']-hSSW_wdeltabike['dock_count']\n",
        "unique,count=np.unique(hSSW_wdeltabike['check'],return_counts=True)\n",
        "plt.bar(np.delete(unique,-3),np.delete(count,-3)) #delete count of value 0"
      ],
      "execution_count": null,
      "outputs": [
        {
          "output_type": "execute_result",
          "data": {
            "text/plain": [
              "<BarContainer object of 14 artists>"
            ]
          },
          "metadata": {
            "tags": []
          },
          "execution_count": 5
        },
        {
          "output_type": "display_data",
          "data": {
            "image/png": "[encoded data removed]",
            "text/plain": [
              "<Figure size 432x288 with 1 Axes>"
            ]
          },
          "metadata": {
            "tags": []
          }
        }
      ]
    },
    {
      "cell_type": "code",
      "metadata": {
        "id": "_paz44K3MeAw",
        "outputId": "c1c910a2-18fe-4f49-f14f-1ec355b96eac",
        "colab": {
          "base_uri": "https://localhost:8080/"
        }
      },
      "source": [
        "unique_id,count_id=np.unique(hSSW_wdeltabike[hSSW_wdeltabike['check']!=0]['station_id'],return_counts=True)\n",
        "plt.bar(unique_id,count_id)"
      ],
      "execution_count": null,
      "outputs": [
        {
          "output_type": "execute_result",
          "data": {
            "text/plain": [
              "<BarContainer object of 69 artists>"
            ]
          },
          "metadata": {
            "tags": []
          },
          "execution_count": 6
        },
        {
          "output_type": "display_data",
          "data": {
            "image/png": "[encoded data removed]",
            "text/plain": [
              "<Figure size 432x288 with 1 Axes>"
            ]
          },
          "metadata": {
            "tags": []
          }
        }
      ]
    },
    {
      "cell_type": "code",
      "metadata": {
        "id": "CsQ4YW38MyLh",
        "outputId": "ce61aa1d-d02d-4177-d7f1-345e6310b24b",
        "colab": {
          "base_uri": "https://localhost:8080/"
        }
      },
      "source": [
        "unique_id,count_id"
      ],
      "execution_count": null,
      "outputs": [
        {
          "output_type": "execute_result",
          "data": {
            "text/plain": [
              "(array([ 2,  3,  4,  5,  6,  7,  8,  9, 10, 11, 12, 13, 14, 16, 21, 22, 23,\n",
              "        24, 26, 27, 28, 29, 30, 31, 32, 33, 34, 35, 36, 37, 38, 39, 41, 42,\n",
              "        45, 46, 47, 48, 49, 50, 51, 54, 55, 56, 57, 58, 59, 60, 61, 62, 63,\n",
              "        64, 65, 66, 67, 68, 69, 70, 71, 72, 73, 74, 75, 76, 77, 80, 82, 83,\n",
              "        84], dtype=int64),\n",
              " array([ 298,   56,  124,   52,   38,  105,  110,   33,   78,   78,   83,\n",
              "          98,   84,   50,   60, 9130,   22,    2,    4,   23,  122,    2,\n",
              "          22,    5,  112,   45,  257,   70,   15,   30,   26,  382,  162,\n",
              "         100,  133,   63,  261,  104,   79,  667,  110,  147,  227,  107,\n",
              "         200,  212,  174,  161, 3675,  198,  170,  133,  207,  341,  434,\n",
              "         172,  223,  246,   82,  434,   66, 3715,  118,  317, 3714,   19,\n",
              "          56,   32,   66]))"
            ]
          },
          "metadata": {
            "tags": []
          },
          "execution_count": 7
        }
      ]
    },
    {
      "cell_type": "code",
      "metadata": {
        "id": "BSKjdX_kPzvE",
        "outputId": "d7fa27c4-ce7c-4d92-96fc-c7716e0bcafc",
        "colab": {
          "base_uri": "https://localhost:8080/"
        }
      },
      "source": [
        "count_id[np.argsort(count_id)[-4:]],unique_id[np.argsort(count_id)[-4:]]"
      ],
      "execution_count": null,
      "outputs": [
        {
          "output_type": "execute_result",
          "data": {
            "text/plain": [
              "(array([3675, 3714, 3715, 9130]), array([61, 77, 74, 22], dtype=int64))"
            ]
          },
          "metadata": {
            "tags": []
          },
          "execution_count": 8
        }
      ]
    },
    {
      "cell_type": "code",
      "metadata": {
        "id": "NPDW3GIAQF97",
        "outputId": "a7eaa14a-6f3a-4c44-9f96-53aaa8e89526",
        "colab": {
          "base_uri": "https://localhost:8080/"
        }
      },
      "source": [
        "np.unique(hSSW_wdeltabike[hSSW_wdeltabike['station_id']==22]['check'],return_counts=True)"
      ],
      "execution_count": null,
      "outputs": [
        {
          "output_type": "execute_result",
          "data": {
            "text/plain": [
              "(array([-1,  0,  1,  2], dtype=int64), array([   3,  250,   39, 9088]))"
            ]
          },
          "metadata": {
            "tags": []
          },
          "execution_count": 9
        }
      ]
    },
    {
      "cell_type": "markdown",
      "metadata": {
        "id": "1r-lSa0rSuoS"
      },
      "source": [
        "We can certainly deduce an error in the dock count. In addition, the number of bikes and docks available is varaible, contrary to the dock_count, which is fixed. If some docks are under repair, we will see them in the availability variable, but not in the dock_count."
      ]
    },
    {
      "cell_type": "code",
      "metadata": {
        "id": "P2wstyG2R0rf",
        "outputId": "991cf849-879b-4350-f200-6670d923bc36",
        "colab": {
          "base_uri": "https://localhost:8080/"
        }
      },
      "source": [
        "np.unique(hSSW_wdeltabike['dock_count'],return_counts=True)"
      ],
      "execution_count": null,
      "outputs": [
        {
          "output_type": "execute_result",
          "data": {
            "text/plain": [
              "(array([11, 15, 19, 23, 25, 27], dtype=int64),\n",
              " array([ 34598, 300137, 168663,  84397,   9380,  37517]))"
            ]
          },
          "metadata": {
            "tags": []
          },
          "execution_count": 10
        }
      ]
    },
    {
      "cell_type": "code",
      "metadata": {
        "id": "de-pkJIcSfFS"
      },
      "source": [
        "hSSW_wdeltabike['dock_total']=hSSW_wdeltabike['bikes_available']+hSSW_wdeltabike['docks_available']"
      ],
      "execution_count": null,
      "outputs": []
    },
    {
      "cell_type": "markdown",
      "metadata": {
        "id": "Owmykkj1TwZa"
      },
      "source": [
        "# Categorical Label Implementation"
      ]
    },
    {
      "cell_type": "code",
      "metadata": {
        "id": "JdajVaa5Tn5E"
      },
      "source": [
        "hSSW_wdeltabike['Category']=1"
      ],
      "execution_count": null,
      "outputs": []
    },
    {
      "cell_type": "code",
      "metadata": {
        "id": "8jcrBaaAVHC1"
      },
      "source": [
        "hSSW_wdeltabike.loc[(hSSW_wdeltabike['bikes_available']/hSSW_wdeltabike['dock_total'])<0.1,'Category']=0\n",
        "hSSW_wdeltabike.loc[(hSSW_wdeltabike['docks_available']/hSSW_wdeltabike['dock_total'])<0.1,'Category']=2"
      ],
      "execution_count": null,
      "outputs": []
    },
    {
      "cell_type": "markdown",
      "metadata": {
        "id": "WQQl6BZJXrt7"
      },
      "source": [
        "# Features Selection and Modification"
      ]
    },
    {
      "cell_type": "markdown",
      "metadata": {
        "id": "BXxshqXYfvve"
      },
      "source": [
        "### City"
      ]
    },
    {
      "cell_type": "code",
      "metadata": {
        "id": "_o08lj9GVhOz",
        "outputId": "70642fdf-3480-411b-a0dd-9f85bc0575be",
        "colab": {
          "base_uri": "https://localhost:8080/"
        }
      },
      "source": [
        "City=pd.get_dummies(hSSW_wdeltabike['city'])\n",
        "City.head()"
      ],
      "execution_count": null,
      "outputs": [
        {
          "output_type": "execute_result",
          "data": {
            "text/html": [
              "<div>\n",
              "<style scoped>\n",
              "    .dataframe tbody tr th:only-of-type {\n",
              "        vertical-align: middle;\n",
              "    }\n",
              "\n",
              "    .dataframe tbody tr th {\n",
              "        vertical-align: top;\n",
              "    }\n",
              "\n",
              "    .dataframe thead th {\n",
              "        text-align: right;\n",
              "    }\n",
              "</style>\n",
              "<table border=\"1\" class=\"dataframe\">\n",
              "  <thead>\n",
              "    <tr style=\"text-align: right;\">\n",
              "      <th></th>\n",
              "      <th>Mountain View</th>\n",
              "      <th>Palo Alto</th>\n",
              "      <th>Redwood City</th>\n",
              "      <th>San Francisco</th>\n",
              "      <th>San Jose</th>\n",
              "    </tr>\n",
              "  </thead>\n",
              "  <tbody>\n",
              "    <tr>\n",
              "      <th>0</th>\n",
              "      <td>0</td>\n",
              "      <td>0</td>\n",
              "      <td>0</td>\n",
              "      <td>0</td>\n",
              "      <td>1</td>\n",
              "    </tr>\n",
              "    <tr>\n",
              "      <th>1</th>\n",
              "      <td>0</td>\n",
              "      <td>0</td>\n",
              "      <td>0</td>\n",
              "      <td>0</td>\n",
              "      <td>1</td>\n",
              "    </tr>\n",
              "    <tr>\n",
              "      <th>2</th>\n",
              "      <td>0</td>\n",
              "      <td>0</td>\n",
              "      <td>0</td>\n",
              "      <td>0</td>\n",
              "      <td>1</td>\n",
              "    </tr>\n",
              "    <tr>\n",
              "      <th>3</th>\n",
              "      <td>0</td>\n",
              "      <td>0</td>\n",
              "      <td>0</td>\n",
              "      <td>0</td>\n",
              "      <td>1</td>\n",
              "    </tr>\n",
              "    <tr>\n",
              "      <th>4</th>\n",
              "      <td>0</td>\n",
              "      <td>0</td>\n",
              "      <td>0</td>\n",
              "      <td>0</td>\n",
              "      <td>1</td>\n",
              "    </tr>\n",
              "  </tbody>\n",
              "</table>\n",
              "</div>"
            ],
            "text/plain": [
              "   Mountain View  Palo Alto  Redwood City  San Francisco  San Jose\n",
              "0              0          0             0              0         1\n",
              "1              0          0             0              0         1\n",
              "2              0          0             0              0         1\n",
              "3              0          0             0              0         1\n",
              "4              0          0             0              0         1"
            ]
          },
          "metadata": {
            "tags": []
          },
          "execution_count": 14
        }
      ]
    },
    {
      "cell_type": "markdown",
      "metadata": {
        "id": "wUV5-M7vf0OS"
      },
      "source": [
        "### Weather"
      ]
    },
    {
      "cell_type": "code",
      "metadata": {
        "id": "9oGnJ4P4X26z",
        "outputId": "23f3d87b-83ef-49c1-92bc-850ad73506d1",
        "colab": {
          "base_uri": "https://localhost:8080/"
        }
      },
      "source": [
        "hSSW_wdeltabike['Weather_Description'].unique()"
      ],
      "execution_count": null,
      "outputs": [
        {
          "output_type": "execute_result",
          "data": {
            "text/plain": [
              "array(['broken clouds', 'mist', 'few clouds', 'sky is clear',\n",
              "       'thunderstorm', 'scattered clouds', 'overcast clouds',\n",
              "       'moderate rain', 'light rain', 'proximity thunderstorm', 'fog',\n",
              "       'haze', 'light intensity drizzle', 'heavy intensity drizzle',\n",
              "       'drizzle', 'thunderstorm with rain', 'proximity shower rain',\n",
              "       'thunderstorm with light rain', 'heavy intensity rain',\n",
              "       'very heavy rain', 'thunderstorm with heavy rain',\n",
              "       'proximity thunderstorm with rain', 'light intensity shower rain'],\n",
              "      dtype=object)"
            ]
          },
          "metadata": {
            "tags": []
          },
          "execution_count": 15
        }
      ]
    },
    {
      "cell_type": "markdown",
      "metadata": {
        "id": "Sd0-aXaeYh7W"
      },
      "source": [
        "Goal: Simplify the Weather Description to a more General weather:\n",
        "- Sunny: Sky is clear\n",
        "- Cloudy: Broken clouds, Few clouds, Scattered clouds, Overcast clouds\n",
        "- Foggy: Mist, Fog, Haze, \n",
        "- Light Rain: light rain, light intensity drizzle, thunderstorm with light rain,light intensity shower rain\n",
        "- Moderate Rain: moderate rain, drizzle, thunderstorm with rain\n",
        "- Heavy Rain: heavy intensity rain, heavy intensity drizzle, thunderstorm with heavy rain, very heavy rain\n",
        "- Proximity to Rain: thunderstorm, proximity thunderstorm, proximity shower rain, proximity thunderstorm with rain"
      ]
    },
    {
      "cell_type": "code",
      "metadata": {
        "id": "oNN_swrxYgjN"
      },
      "source": [
        "hSSW_wdeltabike['Weather_Simplified']=hSSW_wdeltabike['Weather_Description']"
      ],
      "execution_count": null,
      "outputs": []
    },
    {
      "cell_type": "code",
      "metadata": {
        "id": "fMVYe6Uib4lr"
      },
      "source": [
        "hSSW_wdeltabike.loc[hSSW_wdeltabike['Weather_Description']=='sky is clear','Weather_Simplified']='Sunny'\n",
        "hSSW_wdeltabike.loc[hSSW_wdeltabike['Weather_Description']=='broken clouds','Weather_Simplified']='Cloudy'\n",
        "hSSW_wdeltabike.loc[hSSW_wdeltabike['Weather_Description']=='few clouds','Weather_Simplified']='Cloudy'\n",
        "hSSW_wdeltabike.loc[hSSW_wdeltabike['Weather_Description']=='scattered clouds','Weather_Simplified']='Cloudy'\n",
        "hSSW_wdeltabike.loc[hSSW_wdeltabike['Weather_Description']=='overcast clouds','Weather_Simplified']='Cloudy'\n",
        "hSSW_wdeltabike.loc[hSSW_wdeltabike['Weather_Description']=='mist','Weather_Simplified']='Foggy'\n",
        "hSSW_wdeltabike.loc[hSSW_wdeltabike['Weather_Description']=='fog','Weather_Simplified']='Foggy'\n",
        "hSSW_wdeltabike.loc[hSSW_wdeltabike['Weather_Description']=='haze','Weather_Simplified']='Foggy'\n",
        "hSSW_wdeltabike.loc[hSSW_wdeltabike['Weather_Description']=='light rain','Weather_Simplified']='Light Rain'\n",
        "hSSW_wdeltabike.loc[hSSW_wdeltabike['Weather_Description']=='light intensity drizzle','Weather_Simplified']='Light Rain'\n",
        "hSSW_wdeltabike.loc[hSSW_wdeltabike['Weather_Description']=='thunderstorm with light rain','Weather_Simplified']='Light Rain'\n",
        "hSSW_wdeltabike.loc[hSSW_wdeltabike['Weather_Description']=='light intensity shower rain','Weather_Simplified']='Light Rain'\n",
        "hSSW_wdeltabike.loc[hSSW_wdeltabike['Weather_Description']=='moderate rain','Weather_Simplified']='Moderate Rain'\n",
        "hSSW_wdeltabike.loc[hSSW_wdeltabike['Weather_Description']=='drizzle','Weather_Simplified']='Moderate Rain'\n",
        "hSSW_wdeltabike.loc[hSSW_wdeltabike['Weather_Description']=='thunderstorm with rain','Weather_Simplified']='Moderate Rain'\n",
        "hSSW_wdeltabike.loc[hSSW_wdeltabike['Weather_Description']=='heavy intensity rain','Weather_Simplified']='Heavy Rain'\n",
        "hSSW_wdeltabike.loc[hSSW_wdeltabike['Weather_Description']=='heavy intensity drizzle','Weather_Simplified']='Heavy Rain'\n",
        "hSSW_wdeltabike.loc[hSSW_wdeltabike['Weather_Description']=='thunderstorm with heavy rain','Weather_Simplified']='Heavy Rain'\n",
        "hSSW_wdeltabike.loc[hSSW_wdeltabike['Weather_Description']=='very heavy rain','Weather_Simplified']='Heavy Rain'\n",
        "hSSW_wdeltabike.loc[hSSW_wdeltabike['Weather_Description']=='thunderstorm','Weather_Simplified']='Proximity to Rain'\n",
        "hSSW_wdeltabike.loc[hSSW_wdeltabike['Weather_Description']=='proximity thunderstorm','Weather_Simplified']='Proximity to Rain'\n",
        "hSSW_wdeltabike.loc[hSSW_wdeltabike['Weather_Description']=='proximity shower rain','Weather_Simplified']='Proximity to Rain'\n",
        "hSSW_wdeltabike.loc[hSSW_wdeltabike['Weather_Description']=='proximity thunderstorm with rain','Weather_Simplified']='Proximity to Rain'"
      ],
      "execution_count": null,
      "outputs": []
    },
    {
      "cell_type": "code",
      "metadata": {
        "id": "byxrAer_cECE"
      },
      "source": [
        "hSSW_wdeltabike['Rain']=1\n",
        "hSSW_wdeltabike.loc[hSSW_wdeltabike['Weather_Simplified']=='Sunny','Rain']=0\n",
        "hSSW_wdeltabike.loc[hSSW_wdeltabike['Weather_Simplified']=='Cloudy','Rain']=0\n",
        "hSSW_wdeltabike.loc[hSSW_wdeltabike['Weather_Simplified']=='Foggy','Rain']=0\n",
        "hSSW_wdeltabike.loc[hSSW_wdeltabike['Weather_Simplified']=='Proximity to Rain','Rain']=0"
      ],
      "execution_count": null,
      "outputs": []
    },
    {
      "cell_type": "markdown",
      "metadata": {
        "id": "UBqK8MFRe8gY"
      },
      "source": [
        "Weather Description from 23 to 7 categories, and an additional dummy Rain column."
      ]
    },
    {
      "cell_type": "code",
      "metadata": {
        "id": "hRs9TUCEcUaV",
        "outputId": "73eef2c4-88fb-480e-90e6-4c563d4ad4a8",
        "colab": {
          "base_uri": "https://localhost:8080/"
        }
      },
      "source": [
        "Weather_Simplified=pd.get_dummies(hSSW_wdeltabike['Weather_Simplified'])\n",
        "Weather_Simplified.head()"
      ],
      "execution_count": null,
      "outputs": [
        {
          "output_type": "execute_result",
          "data": {
            "text/html": [
              "<div>\n",
              "<style scoped>\n",
              "    .dataframe tbody tr th:only-of-type {\n",
              "        vertical-align: middle;\n",
              "    }\n",
              "\n",
              "    .dataframe tbody tr th {\n",
              "        vertical-align: top;\n",
              "    }\n",
              "\n",
              "    .dataframe thead th {\n",
              "        text-align: right;\n",
              "    }\n",
              "</style>\n",
              "<table border=\"1\" class=\"dataframe\">\n",
              "  <thead>\n",
              "    <tr style=\"text-align: right;\">\n",
              "      <th></th>\n",
              "      <th>Cloudy</th>\n",
              "      <th>Foggy</th>\n",
              "      <th>Heavy Rain</th>\n",
              "      <th>Light Rain</th>\n",
              "      <th>Moderate Rain</th>\n",
              "      <th>Proximity to Rain</th>\n",
              "      <th>Sunny</th>\n",
              "    </tr>\n",
              "  </thead>\n",
              "  <tbody>\n",
              "    <tr>\n",
              "      <th>0</th>\n",
              "      <td>1</td>\n",
              "      <td>0</td>\n",
              "      <td>0</td>\n",
              "      <td>0</td>\n",
              "      <td>0</td>\n",
              "      <td>0</td>\n",
              "      <td>0</td>\n",
              "    </tr>\n",
              "    <tr>\n",
              "      <th>1</th>\n",
              "      <td>1</td>\n",
              "      <td>0</td>\n",
              "      <td>0</td>\n",
              "      <td>0</td>\n",
              "      <td>0</td>\n",
              "      <td>0</td>\n",
              "      <td>0</td>\n",
              "    </tr>\n",
              "    <tr>\n",
              "      <th>2</th>\n",
              "      <td>1</td>\n",
              "      <td>0</td>\n",
              "      <td>0</td>\n",
              "      <td>0</td>\n",
              "      <td>0</td>\n",
              "      <td>0</td>\n",
              "      <td>0</td>\n",
              "    </tr>\n",
              "    <tr>\n",
              "      <th>3</th>\n",
              "      <td>1</td>\n",
              "      <td>0</td>\n",
              "      <td>0</td>\n",
              "      <td>0</td>\n",
              "      <td>0</td>\n",
              "      <td>0</td>\n",
              "      <td>0</td>\n",
              "    </tr>\n",
              "    <tr>\n",
              "      <th>4</th>\n",
              "      <td>1</td>\n",
              "      <td>0</td>\n",
              "      <td>0</td>\n",
              "      <td>0</td>\n",
              "      <td>0</td>\n",
              "      <td>0</td>\n",
              "      <td>0</td>\n",
              "    </tr>\n",
              "  </tbody>\n",
              "</table>\n",
              "</div>"
            ],
            "text/plain": [
              "   Cloudy  Foggy  Heavy Rain  ...  Moderate Rain  Proximity to Rain  Sunny\n",
              "0       1      0           0  ...              0                  0      0\n",
              "1       1      0           0  ...              0                  0      0\n",
              "2       1      0           0  ...              0                  0      0\n",
              "3       1      0           0  ...              0                  0      0\n",
              "4       1      0           0  ...              0                  0      0\n",
              "\n",
              "[5 rows x 7 columns]"
            ]
          },
          "metadata": {
            "tags": []
          },
          "execution_count": 19
        }
      ]
    },
    {
      "cell_type": "markdown",
      "metadata": {
        "id": "8-zIC-OBf6j8"
      },
      "source": [
        "### Wind Direction"
      ]
    },
    {
      "cell_type": "code",
      "metadata": {
        "id": "UIO3fKuOfanL"
      },
      "source": [
        "hSSW_wdeltabike['Wind_Orientation']='North'"
      ],
      "execution_count": null,
      "outputs": []
    },
    {
      "cell_type": "code",
      "metadata": {
        "id": "dXolIvKbhDGo"
      },
      "source": [
        "hSSW_wdeltabike.loc[(hSSW_wdeltabike['Wind_Direction'].astype(int)>45) & (hSSW_wdeltabike['Wind_Direction'].astype(int)<=135),'Wind_Orientation']='East'\n",
        "hSSW_wdeltabike.loc[(hSSW_wdeltabike['Wind_Direction'].astype(int)>135) & (hSSW_wdeltabike['Wind_Direction'].astype(int)<=225),'Wind_Orientation']='South'\n",
        "hSSW_wdeltabike.loc[(hSSW_wdeltabike['Wind_Direction'].astype(int)>225) & (hSSW_wdeltabike['Wind_Direction'].astype(int)<=315),'Wind_Orientation']='West'"
      ],
      "execution_count": null,
      "outputs": []
    },
    {
      "cell_type": "code",
      "metadata": {
        "id": "1Vdns2e8hifm",
        "outputId": "c86a32e7-5586-4199-8421-f2761b86bfd0",
        "colab": {
          "base_uri": "https://localhost:8080/"
        }
      },
      "source": [
        "Wind_Orientation=pd.get_dummies(hSSW_wdeltabike['Wind_Orientation'])\n",
        "Wind_Orientation.head()"
      ],
      "execution_count": null,
      "outputs": [
        {
          "output_type": "execute_result",
          "data": {
            "text/html": [
              "<div>\n",
              "<style scoped>\n",
              "    .dataframe tbody tr th:only-of-type {\n",
              "        vertical-align: middle;\n",
              "    }\n",
              "\n",
              "    .dataframe tbody tr th {\n",
              "        vertical-align: top;\n",
              "    }\n",
              "\n",
              "    .dataframe thead th {\n",
              "        text-align: right;\n",
              "    }\n",
              "</style>\n",
              "<table border=\"1\" class=\"dataframe\">\n",
              "  <thead>\n",
              "    <tr style=\"text-align: right;\">\n",
              "      <th></th>\n",
              "      <th>East</th>\n",
              "      <th>North</th>\n",
              "      <th>South</th>\n",
              "      <th>West</th>\n",
              "    </tr>\n",
              "  </thead>\n",
              "  <tbody>\n",
              "    <tr>\n",
              "      <th>0</th>\n",
              "      <td>0</td>\n",
              "      <td>0</td>\n",
              "      <td>1</td>\n",
              "      <td>0</td>\n",
              "    </tr>\n",
              "    <tr>\n",
              "      <th>1</th>\n",
              "      <td>0</td>\n",
              "      <td>0</td>\n",
              "      <td>1</td>\n",
              "      <td>0</td>\n",
              "    </tr>\n",
              "    <tr>\n",
              "      <th>2</th>\n",
              "      <td>0</td>\n",
              "      <td>0</td>\n",
              "      <td>1</td>\n",
              "      <td>0</td>\n",
              "    </tr>\n",
              "    <tr>\n",
              "      <th>3</th>\n",
              "      <td>0</td>\n",
              "      <td>0</td>\n",
              "      <td>1</td>\n",
              "      <td>0</td>\n",
              "    </tr>\n",
              "    <tr>\n",
              "      <th>4</th>\n",
              "      <td>0</td>\n",
              "      <td>0</td>\n",
              "      <td>1</td>\n",
              "      <td>0</td>\n",
              "    </tr>\n",
              "  </tbody>\n",
              "</table>\n",
              "</div>"
            ],
            "text/plain": [
              "   East  North  South  West\n",
              "0     0      0      1     0\n",
              "1     0      0      1     0\n",
              "2     0      0      1     0\n",
              "3     0      0      1     0\n",
              "4     0      0      1     0"
            ]
          },
          "metadata": {
            "tags": []
          },
          "execution_count": 22
        }
      ]
    },
    {
      "cell_type": "markdown",
      "metadata": {
        "id": "Sp4fjoN-rf7_"
      },
      "source": [
        "### Time"
      ]
    },
    {
      "cell_type": "code",
      "metadata": {
        "id": "JJKPMXX2h3-U"
      },
      "source": [
        "hSSW_wdeltabike['Hour']=hSSW_wdeltabike['datetime'].astype('datetime64').dt.hour\n",
        "hSSW_wdeltabike['Month']=hSSW_wdeltabike['datetime'].astype('datetime64').dt.month"
      ],
      "execution_count": null,
      "outputs": []
    },
    {
      "cell_type": "code",
      "metadata": {
        "id": "mraBVj5prpWJ",
        "outputId": "b6d73f15-dc55-4b1e-8f5a-a63d5c57c329",
        "colab": {
          "base_uri": "https://localhost:8080/"
        }
      },
      "source": [
        "hSSW_wdeltabike.head()"
      ],
      "execution_count": null,
      "outputs": [
        {
          "output_type": "execute_result",
          "data": {
            "text/html": [
              "<div>\n",
              "<style scoped>\n",
              "    .dataframe tbody tr th:only-of-type {\n",
              "        vertical-align: middle;\n",
              "    }\n",
              "\n",
              "    .dataframe tbody tr th {\n",
              "        vertical-align: top;\n",
              "    }\n",
              "\n",
              "    .dataframe thead th {\n",
              "        text-align: right;\n",
              "    }\n",
              "</style>\n",
              "<table border=\"1\" class=\"dataframe\">\n",
              "  <thead>\n",
              "    <tr style=\"text-align: right;\">\n",
              "      <th></th>\n",
              "      <th>Unnamed: 0</th>\n",
              "      <th>station_id</th>\n",
              "      <th>bikes_available</th>\n",
              "      <th>docks_available</th>\n",
              "      <th>Holiday</th>\n",
              "      <th>Weekend</th>\n",
              "      <th>name</th>\n",
              "      <th>lat</th>\n",
              "      <th>long</th>\n",
              "      <th>dock_count</th>\n",
              "      <th>city</th>\n",
              "      <th>installation_date</th>\n",
              "      <th>delta_bike</th>\n",
              "      <th>datetime</th>\n",
              "      <th>Humidity</th>\n",
              "      <th>Pressure</th>\n",
              "      <th>Temperature</th>\n",
              "      <th>Weather_Description</th>\n",
              "      <th>Wind_Direction</th>\n",
              "      <th>Wind_Speed</th>\n",
              "      <th>check</th>\n",
              "      <th>dock_total</th>\n",
              "      <th>Category</th>\n",
              "      <th>Weather_Simplified</th>\n",
              "      <th>Rain</th>\n",
              "      <th>Wind_Orientation</th>\n",
              "      <th>Hour</th>\n",
              "      <th>Month</th>\n",
              "    </tr>\n",
              "  </thead>\n",
              "  <tbody>\n",
              "    <tr>\n",
              "      <th>0</th>\n",
              "      <td>0</td>\n",
              "      <td>2</td>\n",
              "      <td>2</td>\n",
              "      <td>25</td>\n",
              "      <td>False</td>\n",
              "      <td>False</td>\n",
              "      <td>San Jose Diridon Caltrain Station</td>\n",
              "      <td>37.329732</td>\n",
              "      <td>-121.901782</td>\n",
              "      <td>27</td>\n",
              "      <td>San Jose</td>\n",
              "      <td>8/6/2013</td>\n",
              "      <td>NaN</td>\n",
              "      <td>8/29/2013 13:00</td>\n",
              "      <td>94.0</td>\n",
              "      <td>1021</td>\n",
              "      <td>287.2795</td>\n",
              "      <td>broken clouds</td>\n",
              "      <td>201</td>\n",
              "      <td>0</td>\n",
              "      <td>0</td>\n",
              "      <td>27</td>\n",
              "      <td>0</td>\n",
              "      <td>Cloudy</td>\n",
              "      <td>0</td>\n",
              "      <td>South</td>\n",
              "      <td>13</td>\n",
              "      <td>8</td>\n",
              "    </tr>\n",
              "    <tr>\n",
              "      <th>1</th>\n",
              "      <td>1</td>\n",
              "      <td>3</td>\n",
              "      <td>9</td>\n",
              "      <td>6</td>\n",
              "      <td>False</td>\n",
              "      <td>False</td>\n",
              "      <td>San Jose Civic Center</td>\n",
              "      <td>37.330698</td>\n",
              "      <td>-121.888979</td>\n",
              "      <td>15</td>\n",
              "      <td>San Jose</td>\n",
              "      <td>8/5/2013</td>\n",
              "      <td>NaN</td>\n",
              "      <td>8/29/2013 13:00</td>\n",
              "      <td>94.0</td>\n",
              "      <td>1021</td>\n",
              "      <td>287.2795</td>\n",
              "      <td>broken clouds</td>\n",
              "      <td>201</td>\n",
              "      <td>0</td>\n",
              "      <td>0</td>\n",
              "      <td>15</td>\n",
              "      <td>1</td>\n",
              "      <td>Cloudy</td>\n",
              "      <td>0</td>\n",
              "      <td>South</td>\n",
              "      <td>13</td>\n",
              "      <td>8</td>\n",
              "    </tr>\n",
              "    <tr>\n",
              "      <th>2</th>\n",
              "      <td>2</td>\n",
              "      <td>4</td>\n",
              "      <td>0</td>\n",
              "      <td>11</td>\n",
              "      <td>False</td>\n",
              "      <td>False</td>\n",
              "      <td>Santa Clara at Almaden</td>\n",
              "      <td>37.333988</td>\n",
              "      <td>-121.894902</td>\n",
              "      <td>11</td>\n",
              "      <td>San Jose</td>\n",
              "      <td>8/6/2013</td>\n",
              "      <td>NaN</td>\n",
              "      <td>8/29/2013 13:00</td>\n",
              "      <td>94.0</td>\n",
              "      <td>1021</td>\n",
              "      <td>287.2795</td>\n",
              "      <td>broken clouds</td>\n",
              "      <td>201</td>\n",
              "      <td>0</td>\n",
              "      <td>0</td>\n",
              "      <td>11</td>\n",
              "      <td>0</td>\n",
              "      <td>Cloudy</td>\n",
              "      <td>0</td>\n",
              "      <td>South</td>\n",
              "      <td>13</td>\n",
              "      <td>8</td>\n",
              "    </tr>\n",
              "    <tr>\n",
              "      <th>3</th>\n",
              "      <td>3</td>\n",
              "      <td>5</td>\n",
              "      <td>9</td>\n",
              "      <td>10</td>\n",
              "      <td>False</td>\n",
              "      <td>False</td>\n",
              "      <td>Adobe on Almaden</td>\n",
              "      <td>37.331415</td>\n",
              "      <td>-121.893200</td>\n",
              "      <td>19</td>\n",
              "      <td>San Jose</td>\n",
              "      <td>8/5/2013</td>\n",
              "      <td>NaN</td>\n",
              "      <td>8/29/2013 13:00</td>\n",
              "      <td>94.0</td>\n",
              "      <td>1021</td>\n",
              "      <td>287.2795</td>\n",
              "      <td>broken clouds</td>\n",
              "      <td>201</td>\n",
              "      <td>0</td>\n",
              "      <td>0</td>\n",
              "      <td>19</td>\n",
              "      <td>1</td>\n",
              "      <td>Cloudy</td>\n",
              "      <td>0</td>\n",
              "      <td>South</td>\n",
              "      <td>13</td>\n",
              "      <td>8</td>\n",
              "    </tr>\n",
              "    <tr>\n",
              "      <th>4</th>\n",
              "      <td>4</td>\n",
              "      <td>6</td>\n",
              "      <td>4</td>\n",
              "      <td>11</td>\n",
              "      <td>False</td>\n",
              "      <td>False</td>\n",
              "      <td>San Pedro Square</td>\n",
              "      <td>37.336721</td>\n",
              "      <td>-121.894074</td>\n",
              "      <td>15</td>\n",
              "      <td>San Jose</td>\n",
              "      <td>8/7/2013</td>\n",
              "      <td>NaN</td>\n",
              "      <td>8/29/2013 13:00</td>\n",
              "      <td>94.0</td>\n",
              "      <td>1021</td>\n",
              "      <td>287.2795</td>\n",
              "      <td>broken clouds</td>\n",
              "      <td>201</td>\n",
              "      <td>0</td>\n",
              "      <td>0</td>\n",
              "      <td>15</td>\n",
              "      <td>1</td>\n",
              "      <td>Cloudy</td>\n",
              "      <td>0</td>\n",
              "      <td>South</td>\n",
              "      <td>13</td>\n",
              "      <td>8</td>\n",
              "    </tr>\n",
              "  </tbody>\n",
              "</table>\n",
              "</div>"
            ],
            "text/plain": [
              "   Unnamed: 0  station_id  bikes_available  ...  Wind_Orientation  Hour  Month\n",
              "0           0           2                2  ...             South    13      8\n",
              "1           1           3                9  ...             South    13      8\n",
              "2           2           4                0  ...             South    13      8\n",
              "3           3           5                9  ...             South    13      8\n",
              "4           4           6                4  ...             South    13      8\n",
              "\n",
              "[5 rows x 28 columns]"
            ]
          },
          "metadata": {
            "tags": []
          },
          "execution_count": 24
        }
      ]
    },
    {
      "cell_type": "markdown",
      "metadata": {
        "id": "1sMbjfmBvVdw"
      },
      "source": [
        "### Merge"
      ]
    },
    {
      "cell_type": "code",
      "metadata": {
        "id": "3WEyBwZCsP7O"
      },
      "source": [
        "ML_data=hSSW_wdeltabike[['Category','station_id','bikes_available','docks_available','Holiday','Weekend','Humidity','Pressure','Temperature',\\\n",
        "                         'Wind_Direction','Wind_Speed','Rain','Hour','Month']]"
      ],
      "execution_count": null,
      "outputs": []
    },
    {
      "cell_type": "code",
      "metadata": {
        "id": "u-D-rKnJtqx_"
      },
      "source": [
        "ML_data=pd.merge(ML_data,City,left_index=True,right_index=True)\n",
        "ML_data=pd.merge(ML_data,Weather_Simplified,left_index=True,right_index=True)\n",
        "ML_data=pd.merge(ML_data,Wind_Orientation,left_index=True,right_index=True)"
      ],
      "execution_count": null,
      "outputs": []
    },
    {
      "cell_type": "code",
      "metadata": {
        "id": "iDsuqkEDvupu"
      },
      "source": [
        "ML_data=ML_data.astype({'Holiday': int, 'Weekend': int})"
      ],
      "execution_count": null,
      "outputs": []
    },
    {
      "cell_type": "code",
      "metadata": {
        "id": "PbnPC2tGtxf1",
        "outputId": "86fac92d-e96b-4f16-8a9f-e504dd79f66b",
        "colab": {
          "base_uri": "https://localhost:8080/"
        }
      },
      "source": [
        "ML_data"
      ],
      "execution_count": null,
      "outputs": [
        {
          "output_type": "execute_result",
          "data": {
            "text/html": [
              "<div>\n",
              "<style scoped>\n",
              "    .dataframe tbody tr th:only-of-type {\n",
              "        vertical-align: middle;\n",
              "    }\n",
              "\n",
              "    .dataframe tbody tr th {\n",
              "        vertical-align: top;\n",
              "    }\n",
              "\n",
              "    .dataframe thead th {\n",
              "        text-align: right;\n",
              "    }\n",
              "</style>\n",
              "<table border=\"1\" class=\"dataframe\">\n",
              "  <thead>\n",
              "    <tr style=\"text-align: right;\">\n",
              "      <th></th>\n",
              "      <th>Category</th>\n",
              "      <th>station_id</th>\n",
              "      <th>bikes_available</th>\n",
              "      <th>docks_available</th>\n",
              "      <th>Holiday</th>\n",
              "      <th>Weekend</th>\n",
              "      <th>Humidity</th>\n",
              "      <th>Pressure</th>\n",
              "      <th>Temperature</th>\n",
              "      <th>Wind_Direction</th>\n",
              "      <th>Wind_Speed</th>\n",
              "      <th>Rain</th>\n",
              "      <th>Hour</th>\n",
              "      <th>Month</th>\n",
              "      <th>Mountain View</th>\n",
              "      <th>Palo Alto</th>\n",
              "      <th>Redwood City</th>\n",
              "      <th>San Francisco</th>\n",
              "      <th>San Jose</th>\n",
              "      <th>Cloudy</th>\n",
              "      <th>Foggy</th>\n",
              "      <th>Heavy Rain</th>\n",
              "      <th>Light Rain</th>\n",
              "      <th>Moderate Rain</th>\n",
              "      <th>Proximity to Rain</th>\n",
              "      <th>Sunny</th>\n",
              "      <th>East</th>\n",
              "      <th>North</th>\n",
              "      <th>South</th>\n",
              "      <th>West</th>\n",
              "    </tr>\n",
              "  </thead>\n",
              "  <tbody>\n",
              "    <tr>\n",
              "      <th>0</th>\n",
              "      <td>0</td>\n",
              "      <td>2</td>\n",
              "      <td>2</td>\n",
              "      <td>25</td>\n",
              "      <td>0</td>\n",
              "      <td>0</td>\n",
              "      <td>94.0</td>\n",
              "      <td>1021</td>\n",
              "      <td>287.2795</td>\n",
              "      <td>201</td>\n",
              "      <td>0</td>\n",
              "      <td>0</td>\n",
              "      <td>13</td>\n",
              "      <td>8</td>\n",
              "      <td>0</td>\n",
              "      <td>0</td>\n",
              "      <td>0</td>\n",
              "      <td>0</td>\n",
              "      <td>1</td>\n",
              "      <td>1</td>\n",
              "      <td>0</td>\n",
              "      <td>0</td>\n",
              "      <td>0</td>\n",
              "      <td>0</td>\n",
              "      <td>0</td>\n",
              "      <td>0</td>\n",
              "      <td>0</td>\n",
              "      <td>0</td>\n",
              "      <td>1</td>\n",
              "      <td>0</td>\n",
              "    </tr>\n",
              "    <tr>\n",
              "      <th>1</th>\n",
              "      <td>1</td>\n",
              "      <td>3</td>\n",
              "      <td>9</td>\n",
              "      <td>6</td>\n",
              "      <td>0</td>\n",
              "      <td>0</td>\n",
              "      <td>94.0</td>\n",
              "      <td>1021</td>\n",
              "      <td>287.2795</td>\n",
              "      <td>201</td>\n",
              "      <td>0</td>\n",
              "      <td>0</td>\n",
              "      <td>13</td>\n",
              "      <td>8</td>\n",
              "      <td>0</td>\n",
              "      <td>0</td>\n",
              "      <td>0</td>\n",
              "      <td>0</td>\n",
              "      <td>1</td>\n",
              "      <td>1</td>\n",
              "      <td>0</td>\n",
              "      <td>0</td>\n",
              "      <td>0</td>\n",
              "      <td>0</td>\n",
              "      <td>0</td>\n",
              "      <td>0</td>\n",
              "      <td>0</td>\n",
              "      <td>0</td>\n",
              "      <td>1</td>\n",
              "      <td>0</td>\n",
              "    </tr>\n",
              "    <tr>\n",
              "      <th>2</th>\n",
              "      <td>0</td>\n",
              "      <td>4</td>\n",
              "      <td>0</td>\n",
              "      <td>11</td>\n",
              "      <td>0</td>\n",
              "      <td>0</td>\n",
              "      <td>94.0</td>\n",
              "      <td>1021</td>\n",
              "      <td>287.2795</td>\n",
              "      <td>201</td>\n",
              "      <td>0</td>\n",
              "      <td>0</td>\n",
              "      <td>13</td>\n",
              "      <td>8</td>\n",
              "      <td>0</td>\n",
              "      <td>0</td>\n",
              "      <td>0</td>\n",
              "      <td>0</td>\n",
              "      <td>1</td>\n",
              "      <td>1</td>\n",
              "      <td>0</td>\n",
              "      <td>0</td>\n",
              "      <td>0</td>\n",
              "      <td>0</td>\n",
              "      <td>0</td>\n",
              "      <td>0</td>\n",
              "      <td>0</td>\n",
              "      <td>0</td>\n",
              "      <td>1</td>\n",
              "      <td>0</td>\n",
              "    </tr>\n",
              "    <tr>\n",
              "      <th>3</th>\n",
              "      <td>1</td>\n",
              "      <td>5</td>\n",
              "      <td>9</td>\n",
              "      <td>10</td>\n",
              "      <td>0</td>\n",
              "      <td>0</td>\n",
              "      <td>94.0</td>\n",
              "      <td>1021</td>\n",
              "      <td>287.2795</td>\n",
              "      <td>201</td>\n",
              "      <td>0</td>\n",
              "      <td>0</td>\n",
              "      <td>13</td>\n",
              "      <td>8</td>\n",
              "      <td>0</td>\n",
              "      <td>0</td>\n",
              "      <td>0</td>\n",
              "      <td>0</td>\n",
              "      <td>1</td>\n",
              "      <td>1</td>\n",
              "      <td>0</td>\n",
              "      <td>0</td>\n",
              "      <td>0</td>\n",
              "      <td>0</td>\n",
              "      <td>0</td>\n",
              "      <td>0</td>\n",
              "      <td>0</td>\n",
              "      <td>0</td>\n",
              "      <td>1</td>\n",
              "      <td>0</td>\n",
              "    </tr>\n",
              "    <tr>\n",
              "      <th>4</th>\n",
              "      <td>1</td>\n",
              "      <td>6</td>\n",
              "      <td>4</td>\n",
              "      <td>11</td>\n",
              "      <td>0</td>\n",
              "      <td>0</td>\n",
              "      <td>94.0</td>\n",
              "      <td>1021</td>\n",
              "      <td>287.2795</td>\n",
              "      <td>201</td>\n",
              "      <td>0</td>\n",
              "      <td>0</td>\n",
              "      <td>13</td>\n",
              "      <td>8</td>\n",
              "      <td>0</td>\n",
              "      <td>0</td>\n",
              "      <td>0</td>\n",
              "      <td>0</td>\n",
              "      <td>1</td>\n",
              "      <td>1</td>\n",
              "      <td>0</td>\n",
              "      <td>0</td>\n",
              "      <td>0</td>\n",
              "      <td>0</td>\n",
              "      <td>0</td>\n",
              "      <td>0</td>\n",
              "      <td>0</td>\n",
              "      <td>0</td>\n",
              "      <td>1</td>\n",
              "      <td>0</td>\n",
              "    </tr>\n",
              "    <tr>\n",
              "      <th>...</th>\n",
              "      <td>...</td>\n",
              "      <td>...</td>\n",
              "      <td>...</td>\n",
              "      <td>...</td>\n",
              "      <td>...</td>\n",
              "      <td>...</td>\n",
              "      <td>...</td>\n",
              "      <td>...</td>\n",
              "      <td>...</td>\n",
              "      <td>...</td>\n",
              "      <td>...</td>\n",
              "      <td>...</td>\n",
              "      <td>...</td>\n",
              "      <td>...</td>\n",
              "      <td>...</td>\n",
              "      <td>...</td>\n",
              "      <td>...</td>\n",
              "      <td>...</td>\n",
              "      <td>...</td>\n",
              "      <td>...</td>\n",
              "      <td>...</td>\n",
              "      <td>...</td>\n",
              "      <td>...</td>\n",
              "      <td>...</td>\n",
              "      <td>...</td>\n",
              "      <td>...</td>\n",
              "      <td>...</td>\n",
              "      <td>...</td>\n",
              "      <td>...</td>\n",
              "      <td>...</td>\n",
              "    </tr>\n",
              "    <tr>\n",
              "      <th>634687</th>\n",
              "      <td>1</td>\n",
              "      <td>70</td>\n",
              "      <td>6</td>\n",
              "      <td>13</td>\n",
              "      <td>0</td>\n",
              "      <td>1</td>\n",
              "      <td>100.0</td>\n",
              "      <td>1024</td>\n",
              "      <td>286.7370</td>\n",
              "      <td>159</td>\n",
              "      <td>1</td>\n",
              "      <td>0</td>\n",
              "      <td>14</td>\n",
              "      <td>9</td>\n",
              "      <td>0</td>\n",
              "      <td>0</td>\n",
              "      <td>0</td>\n",
              "      <td>1</td>\n",
              "      <td>0</td>\n",
              "      <td>0</td>\n",
              "      <td>0</td>\n",
              "      <td>0</td>\n",
              "      <td>0</td>\n",
              "      <td>0</td>\n",
              "      <td>0</td>\n",
              "      <td>1</td>\n",
              "      <td>0</td>\n",
              "      <td>0</td>\n",
              "      <td>1</td>\n",
              "      <td>0</td>\n",
              "    </tr>\n",
              "    <tr>\n",
              "      <th>634688</th>\n",
              "      <td>1</td>\n",
              "      <td>71</td>\n",
              "      <td>5</td>\n",
              "      <td>14</td>\n",
              "      <td>0</td>\n",
              "      <td>1</td>\n",
              "      <td>100.0</td>\n",
              "      <td>1024</td>\n",
              "      <td>286.7370</td>\n",
              "      <td>159</td>\n",
              "      <td>1</td>\n",
              "      <td>0</td>\n",
              "      <td>14</td>\n",
              "      <td>9</td>\n",
              "      <td>0</td>\n",
              "      <td>0</td>\n",
              "      <td>0</td>\n",
              "      <td>1</td>\n",
              "      <td>0</td>\n",
              "      <td>0</td>\n",
              "      <td>0</td>\n",
              "      <td>0</td>\n",
              "      <td>0</td>\n",
              "      <td>0</td>\n",
              "      <td>0</td>\n",
              "      <td>1</td>\n",
              "      <td>0</td>\n",
              "      <td>0</td>\n",
              "      <td>1</td>\n",
              "      <td>0</td>\n",
              "    </tr>\n",
              "    <tr>\n",
              "      <th>634689</th>\n",
              "      <td>1</td>\n",
              "      <td>72</td>\n",
              "      <td>14</td>\n",
              "      <td>9</td>\n",
              "      <td>0</td>\n",
              "      <td>1</td>\n",
              "      <td>100.0</td>\n",
              "      <td>1024</td>\n",
              "      <td>286.7370</td>\n",
              "      <td>159</td>\n",
              "      <td>1</td>\n",
              "      <td>0</td>\n",
              "      <td>14</td>\n",
              "      <td>9</td>\n",
              "      <td>0</td>\n",
              "      <td>0</td>\n",
              "      <td>0</td>\n",
              "      <td>1</td>\n",
              "      <td>0</td>\n",
              "      <td>0</td>\n",
              "      <td>0</td>\n",
              "      <td>0</td>\n",
              "      <td>0</td>\n",
              "      <td>0</td>\n",
              "      <td>0</td>\n",
              "      <td>1</td>\n",
              "      <td>0</td>\n",
              "      <td>0</td>\n",
              "      <td>1</td>\n",
              "      <td>0</td>\n",
              "    </tr>\n",
              "    <tr>\n",
              "      <th>634690</th>\n",
              "      <td>1</td>\n",
              "      <td>73</td>\n",
              "      <td>10</td>\n",
              "      <td>4</td>\n",
              "      <td>0</td>\n",
              "      <td>1</td>\n",
              "      <td>100.0</td>\n",
              "      <td>1024</td>\n",
              "      <td>286.7370</td>\n",
              "      <td>159</td>\n",
              "      <td>1</td>\n",
              "      <td>0</td>\n",
              "      <td>14</td>\n",
              "      <td>9</td>\n",
              "      <td>0</td>\n",
              "      <td>0</td>\n",
              "      <td>0</td>\n",
              "      <td>1</td>\n",
              "      <td>0</td>\n",
              "      <td>0</td>\n",
              "      <td>0</td>\n",
              "      <td>0</td>\n",
              "      <td>0</td>\n",
              "      <td>0</td>\n",
              "      <td>0</td>\n",
              "      <td>1</td>\n",
              "      <td>0</td>\n",
              "      <td>0</td>\n",
              "      <td>1</td>\n",
              "      <td>0</td>\n",
              "    </tr>\n",
              "    <tr>\n",
              "      <th>634691</th>\n",
              "      <td>1</td>\n",
              "      <td>74</td>\n",
              "      <td>3</td>\n",
              "      <td>20</td>\n",
              "      <td>0</td>\n",
              "      <td>1</td>\n",
              "      <td>100.0</td>\n",
              "      <td>1024</td>\n",
              "      <td>286.7370</td>\n",
              "      <td>159</td>\n",
              "      <td>1</td>\n",
              "      <td>0</td>\n",
              "      <td>14</td>\n",
              "      <td>9</td>\n",
              "      <td>0</td>\n",
              "      <td>0</td>\n",
              "      <td>0</td>\n",
              "      <td>1</td>\n",
              "      <td>0</td>\n",
              "      <td>0</td>\n",
              "      <td>0</td>\n",
              "      <td>0</td>\n",
              "      <td>0</td>\n",
              "      <td>0</td>\n",
              "      <td>0</td>\n",
              "      <td>1</td>\n",
              "      <td>0</td>\n",
              "      <td>0</td>\n",
              "      <td>1</td>\n",
              "      <td>0</td>\n",
              "    </tr>\n",
              "  </tbody>\n",
              "</table>\n",
              "<p>634692 rows × 30 columns</p>\n",
              "</div>"
            ],
            "text/plain": [
              "        Category  station_id  bikes_available  ...  North  South  West\n",
              "0              0           2                2  ...      0      1     0\n",
              "1              1           3                9  ...      0      1     0\n",
              "2              0           4                0  ...      0      1     0\n",
              "3              1           5                9  ...      0      1     0\n",
              "4              1           6                4  ...      0      1     0\n",
              "...          ...         ...              ...  ...    ...    ...   ...\n",
              "634687         1          70                6  ...      0      1     0\n",
              "634688         1          71                5  ...      0      1     0\n",
              "634689         1          72               14  ...      0      1     0\n",
              "634690         1          73               10  ...      0      1     0\n",
              "634691         1          74                3  ...      0      1     0\n",
              "\n",
              "[634692 rows x 30 columns]"
            ]
          },
          "metadata": {
            "tags": []
          },
          "execution_count": 28
        }
      ]
    },
    {
      "cell_type": "markdown",
      "metadata": {
        "id": "UBDrc-yLvHlS"
      },
      "source": [
        "# Machine Learning Models"
      ]
    },
    {
      "cell_type": "markdown",
      "metadata": {
        "id": "kwim5hIvvPkA"
      },
      "source": [
        "### K-Neighbors"
      ]
    },
    {
      "cell_type": "markdown",
      "metadata": {
        "id": "P0oz3b9O4kv3"
      },
      "source": [
        "First model with all features and non-standardized data, in order to have a first result without any modification or Feature Engineering."
      ]
    },
    {
      "cell_type": "code",
      "metadata": {
        "id": "6eV0w090uVAO"
      },
      "source": [
        "data1=ML_data.copy()"
      ],
      "execution_count": null,
      "outputs": []
    },
    {
      "cell_type": "code",
      "metadata": {
        "id": "j5dVB5ItvfUX"
      },
      "source": [
        "data1.drop(columns=['bikes_available','docks_available','Wind_Direction'],inplace=True)"
      ],
      "execution_count": null,
      "outputs": []
    },
    {
      "cell_type": "code",
      "metadata": {
        "id": "ONuvytD6zK1M"
      },
      "source": [
        "X1_rest,X1_test,Y1_rest,Y1_test=train_test_split(data1.drop(columns=['Category']),data1['Category'],train_size=0.8,shuffle=True)\n",
        "X1_train,X1_validation,Y1_train,Y1_validation=train_test_split(X1_rest,Y1_rest,train_size=0.8,shuffle=True)"
      ],
      "execution_count": null,
      "outputs": []
    },
    {
      "cell_type": "code",
      "metadata": {
        "id": "AzPLlnyqyOXu",
        "outputId": "425a6308-e9d8-4fd3-ec0d-3fb2fba78780",
        "colab": {
          "base_uri": "https://localhost:8080/",
          "height": 67
        }
      },
      "source": [
        "model1=KNeighborsClassifier()\n",
        "model1.fit(X1_train,Y1_train)"
      ],
      "execution_count": null,
      "outputs": [
        {
          "output_type": "execute_result",
          "data": {
            "text/plain": [
              "KNeighborsClassifier(algorithm='auto', leaf_size=30, metric='minkowski',\n",
              "                     metric_params=None, n_jobs=None, n_neighbors=5, p=2,\n",
              "                     weights='uniform')"
            ]
          },
          "metadata": {
            "tags": []
          },
          "execution_count": 110
        }
      ]
    },
    {
      "cell_type": "code",
      "metadata": {
        "id": "nCkLeOkJz0fR",
        "outputId": "39e802ac-69ec-47e3-8793-7950d23cfdf6",
        "colab": {
          "base_uri": "https://localhost:8080/",
          "height": 34
        }
      },
      "source": [
        "Y1_train_pred=model1.predict(X1_train)\n",
        "np.average(Y1_train_pred==Y1_train)"
      ],
      "execution_count": null,
      "outputs": [
        {
          "output_type": "execute_result",
          "data": {
            "text/plain": [
              "0.9670114868956824"
            ]
          },
          "metadata": {
            "tags": []
          },
          "execution_count": 111
        }
      ]
    },
    {
      "cell_type": "code",
      "metadata": {
        "id": "CpRmLBuy0HCS",
        "outputId": "4e3897aa-3298-4a62-f521-7c872b7a1572",
        "colab": {
          "base_uri": "https://localhost:8080/",
          "height": 34
        }
      },
      "source": [
        "Y1_validation_pred=model1.predict(X1_validation)\n",
        "np.average(Y1_validation_pred==Y1_validation)"
      ],
      "execution_count": null,
      "outputs": [
        {
          "output_type": "execute_result",
          "data": {
            "text/plain": [
              "0.9644218176088861"
            ]
          },
          "metadata": {
            "tags": []
          },
          "execution_count": 112
        }
      ]
    },
    {
      "cell_type": "markdown",
      "metadata": {
        "id": "5oDQ8eZLBdQn"
      },
      "source": [
        "We get pretty good accuracy, let's check with the confusion matrix."
      ]
    },
    {
      "cell_type": "code",
      "metadata": {
        "id": "otc3Od-MayT9",
        "outputId": "7febae57-a762-4335-a247-746b64a1bd3d",
        "colab": {
          "base_uri": "https://localhost:8080/",
          "height": 279
        }
      },
      "source": [
        "CM1_validation_true=plot_confusion_matrix(model1,X1_validation,Y1_validation,normalize='true')"
      ],
      "execution_count": null,
      "outputs": [
        {
          "output_type": "display_data",
          "data": {
            "image/png": "[encoded data removed]",
            "text/plain": [
              "<Figure size 432x288 with 2 Axes>"
            ]
          },
          "metadata": {
            "tags": []
          }
        }
      ]
    },
    {
      "cell_type": "markdown",
      "metadata": {
        "id": "mMI8LFbhBlGb"
      },
      "source": [
        "In fact, we have a bad prediction of minority classes. We only detect 2% of empty stations, and 1% of full stations."
      ]
    },
    {
      "cell_type": "code",
      "metadata": {
        "id": "b-D43fTDa5km",
        "outputId": "e4c74622-1535-448e-8add-d3a64d9883a6",
        "colab": {
          "base_uri": "https://localhost:8080/",
          "height": 279
        }
      },
      "source": [
        "CM1_validation_pred=plot_confusion_matrix(model1,X1_validation,Y1_validation,normalize='pred')"
      ],
      "execution_count": null,
      "outputs": [
        {
          "output_type": "display_data",
          "data": {
            "image/png": "[encoded data removed]",
            "text/plain": [
              "<Figure size 432x288 with 2 Axes>"
            ]
          },
          "metadata": {
            "tags": []
          }
        }
      ]
    },
    {
      "cell_type": "markdown",
      "metadata": {
        "id": "AjWdqzQqCddy"
      },
      "source": [
        "In addition, on this model, 80% of our 0 predictions are false predictions, and 79% of our 2 predictions are false predictions."
      ]
    },
    {
      "cell_type": "markdown",
      "metadata": {
        "id": "cVa-Pl9o4qYp"
      },
      "source": [
        "We test a Second Model without Weather features"
      ]
    },
    {
      "cell_type": "code",
      "metadata": {
        "id": "CxlO0CQR0z9f"
      },
      "source": [
        "data2=ML_data.copy()"
      ],
      "execution_count": null,
      "outputs": []
    },
    {
      "cell_type": "code",
      "metadata": {
        "id": "KTxRD-Gl1UXd"
      },
      "source": [
        "data2.drop(columns=['bikes_available','docks_available','Wind_Direction','Humidity','Pressure','Temperature','Wind_Speed','Rain',\\\n",
        "                    'Sunny','Cloudy','Foggy','Light Rain','Moderate Rain','Heavy Rain','Proximity to Rain','East','North','South','West'],inplace=True)"
      ],
      "execution_count": null,
      "outputs": []
    },
    {
      "cell_type": "code",
      "metadata": {
        "id": "RREGJvlu2Yo3"
      },
      "source": [
        "X2_rest,X2_test,Y2_rest,Y2_test=train_test_split(data2.drop(columns=['Category']),data2['Category'],train_size=0.8,shuffle=True)\n",
        "X2_train,X2_validation,Y2_train,Y2_validation=train_test_split(X2_rest,Y2_rest,train_size=0.8,shuffle=True)"
      ],
      "execution_count": null,
      "outputs": []
    },
    {
      "cell_type": "code",
      "metadata": {
        "id": "Uws8PAHC3Vhq",
        "outputId": "f42712d9-8a38-4d14-f6f8-663cfadfd780",
        "colab": {
          "base_uri": "https://localhost:8080/",
          "height": 67
        }
      },
      "source": [
        "model2=KNeighborsClassifier()\n",
        "model2.fit(X2_train,Y2_train)"
      ],
      "execution_count": null,
      "outputs": [
        {
          "output_type": "execute_result",
          "data": {
            "text/plain": [
              "KNeighborsClassifier(algorithm='auto', leaf_size=30, metric='minkowski',\n",
              "                     metric_params=None, n_jobs=None, n_neighbors=5, p=2,\n",
              "                     weights='uniform')"
            ]
          },
          "metadata": {
            "tags": []
          },
          "execution_count": 118
        }
      ]
    },
    {
      "cell_type": "code",
      "metadata": {
        "id": "f_kbRl323nbx",
        "outputId": "9187555c-5aab-424c-9739-54a5149d98d1",
        "colab": {
          "base_uri": "https://localhost:8080/",
          "height": 34
        }
      },
      "source": [
        "Y2_train_pred=model2.predict(X2_train)\n",
        "np.average(Y2_train_pred==Y2_train)"
      ],
      "execution_count": null,
      "outputs": [
        {
          "output_type": "execute_result",
          "data": {
            "text/plain": [
              "0.9646924436610357"
            ]
          },
          "metadata": {
            "tags": []
          },
          "execution_count": 119
        }
      ]
    },
    {
      "cell_type": "code",
      "metadata": {
        "id": "RAWTw_573vQj",
        "outputId": "a75c71ae-7f42-4bd2-b435-66e0ce4d756b",
        "colab": {
          "base_uri": "https://localhost:8080/",
          "height": 34
        }
      },
      "source": [
        "Y2_validation_pred=model2.predict(X2_validation)\n",
        "np.average(Y2_validation_pred==Y2_validation)"
      ],
      "execution_count": null,
      "outputs": [
        {
          "output_type": "execute_result",
          "data": {
            "text/plain": [
              "0.9640968577365068"
            ]
          },
          "metadata": {
            "tags": []
          },
          "execution_count": 120
        }
      ]
    },
    {
      "cell_type": "code",
      "metadata": {
        "id": "YBOQgw8bbE9k",
        "outputId": "a5cb6311-c137-43ef-faae-5aef09f37e79",
        "colab": {
          "base_uri": "https://localhost:8080/",
          "height": 279
        }
      },
      "source": [
        "CM2_validation_true=plot_confusion_matrix(model2,X2_validation,Y2_validation,normalize='true')"
      ],
      "execution_count": null,
      "outputs": [
        {
          "output_type": "display_data",
          "data": {
            "image/png": "[encoded data removed]",
            "text/plain": [
              "<Figure size 432x288 with 2 Axes>"
            ]
          },
          "metadata": {
            "tags": []
          }
        }
      ]
    },
    {
      "cell_type": "code",
      "metadata": {
        "id": "tWS5yEgmbE9n",
        "outputId": "3b64973a-a911-4597-8809-37aa125b3b90",
        "colab": {
          "base_uri": "https://localhost:8080/",
          "height": 279
        }
      },
      "source": [
        "CM2_validation_pred=plot_confusion_matrix(model2,X2_validation,Y2_validation,normalize='pred')"
      ],
      "execution_count": null,
      "outputs": [
        {
          "output_type": "display_data",
          "data": {
            "image/png": "[encoded data removed]",
            "text/plain": [
              "<Figure size 432x288 with 2 Axes>"
            ]
          },
          "metadata": {
            "tags": []
          }
        }
      ]
    },
    {
      "cell_type": "markdown",
      "metadata": {
        "id": "K9vFCzWWCuDO"
      },
      "source": [
        "We get the same results..."
      ]
    },
    {
      "cell_type": "markdown",
      "metadata": {
        "id": "cv2mJ-4y4xKm"
      },
      "source": [
        "We test a third Model without City, and Time features"
      ]
    },
    {
      "cell_type": "code",
      "metadata": {
        "id": "bgX2PlTP4V_X"
      },
      "source": [
        "data3=ML_data.copy()"
      ],
      "execution_count": null,
      "outputs": []
    },
    {
      "cell_type": "code",
      "metadata": {
        "id": "0ydHDIrv5AXv"
      },
      "source": [
        "data3.drop(columns=['Holiday','Weekend','Hour','Month','Mountain View','Palo Alto','Redwood City','San Francisco','San Jose'],inplace=True)"
      ],
      "execution_count": null,
      "outputs": []
    },
    {
      "cell_type": "code",
      "metadata": {
        "id": "D5ubVqTg5cQS"
      },
      "source": [
        "X3_rest,X3_test,Y3_rest,Y3_test=train_test_split(data3.drop(columns=['Category']),data3['Category'],train_size=0.8,shuffle=True)\n",
        "X3_train,X3_validation,Y3_train,Y3_validation=train_test_split(X3_rest,Y3_rest,train_size=0.8,shuffle=True)"
      ],
      "execution_count": null,
      "outputs": []
    },
    {
      "cell_type": "code",
      "metadata": {
        "id": "n2gIvsTo5iWn",
        "outputId": "2e004872-fe33-4a22-85d3-28f8f75eb867",
        "colab": {
          "base_uri": "https://localhost:8080/",
          "height": 67
        }
      },
      "source": [
        "model3=KNeighborsClassifier()\n",
        "model3.fit(X3_train,Y3_train)"
      ],
      "execution_count": null,
      "outputs": [
        {
          "output_type": "execute_result",
          "data": {
            "text/plain": [
              "KNeighborsClassifier(algorithm='auto', leaf_size=30, metric='minkowski',\n",
              "                     metric_params=None, n_jobs=None, n_neighbors=5, p=2,\n",
              "                     weights='uniform')"
            ]
          },
          "metadata": {
            "tags": []
          },
          "execution_count": 211
        }
      ]
    },
    {
      "cell_type": "code",
      "metadata": {
        "id": "zvGXLyh75mhL",
        "outputId": "5b3cdc6a-36f8-4285-9f70-1c654d2ea94f",
        "colab": {
          "base_uri": "https://localhost:8080/",
          "height": 34
        }
      },
      "source": [
        "Y3_train_pred=model3.predict(X3_train)\n",
        "np.average(Y3_train_pred==Y3_train)"
      ],
      "execution_count": null,
      "outputs": [
        {
          "output_type": "execute_result",
          "data": {
            "text/plain": [
              "0.9808765097168404"
            ]
          },
          "metadata": {
            "tags": []
          },
          "execution_count": 212
        }
      ]
    },
    {
      "cell_type": "code",
      "metadata": {
        "id": "SbiAiPzw5rhB",
        "outputId": "a03dbabc-1516-4c1c-9427-02948ebbef06",
        "colab": {
          "base_uri": "https://localhost:8080/",
          "height": 34
        }
      },
      "source": [
        "Y3_validation_pred=model3.predict(X3_validation)\n",
        "np.average(Y3_validation_pred==Y3_validation)"
      ],
      "execution_count": null,
      "outputs": [
        {
          "output_type": "execute_result",
          "data": {
            "text/plain": [
              "0.9734222213469095"
            ]
          },
          "metadata": {
            "tags": []
          },
          "execution_count": 213
        }
      ]
    },
    {
      "cell_type": "code",
      "metadata": {
        "id": "_5Hr0TmPbUAI",
        "outputId": "63b75300-8f23-487b-c391-e9d5075d856b",
        "colab": {
          "base_uri": "https://localhost:8080/",
          "height": 279
        }
      },
      "source": [
        "CM3_validation_true=plot_confusion_matrix(model3,X3_validation,Y3_validation,normalize='true')"
      ],
      "execution_count": null,
      "outputs": [
        {
          "output_type": "display_data",
          "data": {
            "image/png": "[encoded data removed]",
            "text/plain": [
              "<Figure size 432x288 with 2 Axes>"
            ]
          },
          "metadata": {
            "tags": []
          }
        }
      ]
    },
    {
      "cell_type": "markdown",
      "metadata": {
        "id": "9kCSOUQ9C0lW"
      },
      "source": [
        "We get much better results. Now we detect 29% of 0 situations and 33% of 2 situations."
      ]
    },
    {
      "cell_type": "code",
      "metadata": {
        "id": "CEM9q7J2bUAL",
        "outputId": "f8887ac1-55fe-4d66-e28d-b2fd3be4981c",
        "colab": {
          "base_uri": "https://localhost:8080/",
          "height": 279
        }
      },
      "source": [
        "CM3_validation_pred=plot_confusion_matrix(model3,X3_validation,Y3_validation,normalize='pred')"
      ],
      "execution_count": null,
      "outputs": [
        {
          "output_type": "display_data",
          "data": {
            "image/png": "[encoded data removed]",
            "text/plain": [
              "<Figure size 432x288 with 2 Axes>"
            ]
          },
          "metadata": {
            "tags": []
          }
        }
      ]
    },
    {
      "cell_type": "markdown",
      "metadata": {
        "id": "Oriiogo7C_Pk"
      },
      "source": [
        "In addition, 79% of our 0 predictions are accurate, and up to 84% for full stations predictions."
      ]
    },
    {
      "cell_type": "markdown",
      "metadata": {
        "id": "8tYGXAqYDLpd"
      },
      "source": [
        "We decided to add to this model Time informations, Hours and Months, to see if we get an improvement."
      ]
    },
    {
      "cell_type": "code",
      "metadata": {
        "id": "ayyJuRhoWT0Z"
      },
      "source": [
        "data3_bis=ML_data.copy()"
      ],
      "execution_count": null,
      "outputs": []
    },
    {
      "cell_type": "code",
      "metadata": {
        "id": "VuEOfPz4WR6o"
      },
      "source": [
        "data3_bis.drop(columns=['Holiday','Weekend','Mountain View','Palo Alto','Redwood City','San Francisco','San Jose'],inplace=True)"
      ],
      "execution_count": null,
      "outputs": []
    },
    {
      "cell_type": "code",
      "metadata": {
        "id": "scuILlV3WR6q"
      },
      "source": [
        "X3_bis_rest,X3_bis_test,Y3_bis_rest,Y3_bis_test=train_test_split(data3_bis.drop(columns=['Category']),data3_bis['Category'],train_size=0.8,shuffle=True)\n",
        "X3_bis_train,X3_bis_validation,Y3_bis_train,Y3_bis_validation=train_test_split(X3_bis_rest,Y3_bis_rest,train_size=0.8,shuffle=True)"
      ],
      "execution_count": null,
      "outputs": []
    },
    {
      "cell_type": "code",
      "metadata": {
        "id": "Wi3y1E-eWR6s",
        "outputId": "db490b82-b453-4813-dc53-6e8fa331bcb9",
        "colab": {
          "base_uri": "https://localhost:8080/",
          "height": 67
        }
      },
      "source": [
        "model3_bis=KNeighborsClassifier()\n",
        "model3_bis.fit(X3_bis_train,Y3_bis_train)"
      ],
      "execution_count": null,
      "outputs": [
        {
          "output_type": "execute_result",
          "data": {
            "text/plain": [
              "KNeighborsClassifier(algorithm='auto', leaf_size=30, metric='minkowski',\n",
              "                     metric_params=None, n_jobs=None, n_neighbors=5, p=2,\n",
              "                     weights='uniform')"
            ]
          },
          "metadata": {
            "tags": []
          },
          "execution_count": 219
        }
      ]
    },
    {
      "cell_type": "code",
      "metadata": {
        "id": "HXzsmNSSWR6v",
        "outputId": "1bfd8f1d-8176-44e6-983e-ce65ffb17537",
        "colab": {
          "base_uri": "https://localhost:8080/",
          "height": 34
        }
      },
      "source": [
        "Y3_bis_train_pred=model3_bis.predict(X3_bis_train)\n",
        "np.average(Y3_bis_train_pred==Y3_bis_train)"
      ],
      "execution_count": null,
      "outputs": [
        {
          "output_type": "execute_result",
          "data": {
            "text/plain": [
              "0.9789735156400018"
            ]
          },
          "metadata": {
            "tags": []
          },
          "execution_count": 220
        }
      ]
    },
    {
      "cell_type": "code",
      "metadata": {
        "id": "79A65ET2WR6x",
        "outputId": "333b3b0b-88f8-4816-c33f-6ab351adef2a",
        "colab": {
          "base_uri": "https://localhost:8080/",
          "height": 34
        }
      },
      "source": [
        "Y3_bis_validation_pred=model3_bis.predict(X3_bis_validation)\n",
        "np.average(Y3_bis_validation_pred==Y3_bis_validation)"
      ],
      "execution_count": null,
      "outputs": [
        {
          "output_type": "execute_result",
          "data": {
            "text/plain": [
              "0.9700643026656557"
            ]
          },
          "metadata": {
            "tags": []
          },
          "execution_count": 221
        }
      ]
    },
    {
      "cell_type": "code",
      "metadata": {
        "id": "wWiF6rIXbbGF",
        "outputId": "8e66be5f-0517-4134-c55e-a90be2ca4638",
        "colab": {
          "base_uri": "https://localhost:8080/",
          "height": 279
        }
      },
      "source": [
        "CM3_bis_validation_true=plot_confusion_matrix(model3_bis,X3_bis_validation,Y3_bis_validation,normalize='true')"
      ],
      "execution_count": null,
      "outputs": [
        {
          "output_type": "display_data",
          "data": {
            "image/png": "[encoded data removed]",
            "text/plain": [
              "<Figure size 432x288 with 2 Axes>"
            ]
          },
          "metadata": {
            "tags": []
          }
        }
      ]
    },
    {
      "cell_type": "code",
      "metadata": {
        "id": "t-YpIDUMbbGH",
        "outputId": "2615c89b-e2ab-4d79-bb95-7e35a10353fa",
        "colab": {
          "base_uri": "https://localhost:8080/",
          "height": 279
        }
      },
      "source": [
        "CM3_bis_validation_pred=plot_confusion_matrix(model3_bis,X3_bis_validation,Y3_bis_validation,normalize='pred')"
      ],
      "execution_count": null,
      "outputs": [
        {
          "output_type": "display_data",
          "data": {
            "image/png": "[encoded data removed]",
            "text/plain": [
              "<Figure size 432x288 with 2 Axes>"
            ]
          },
          "metadata": {
            "tags": []
          }
        }
      ]
    },
    {
      "cell_type": "markdown",
      "metadata": {
        "id": "6Xbe505NDVL1"
      },
      "source": [
        "We don't get better result. Thus the best model is the third one."
      ]
    },
    {
      "cell_type": "markdown",
      "metadata": {
        "id": "5nlhEgkNDfpr"
      },
      "source": [
        "Now, we can optimize the K Hyper-Parameter by Cross-Validation."
      ]
    },
    {
      "cell_type": "code",
      "metadata": {
        "id": "Y_nmEk5vArwp",
        "outputId": "1dba4763-3551-46ed-ca7a-8f515baa3292",
        "colab": {
          "base_uri": "https://localhost:8080/",
          "height": 282
        }
      },
      "source": [
        "K=np.arange(1,21)\n",
        "accuracy_list=[]\n",
        "for k in K:\n",
        "  model3_cv=KNeighborsClassifier(k)\n",
        "  model3_cv.fit(X3_train,Y3_train)\n",
        "  Y3_validation_pred=model3_cv.predict(X3_validation)\n",
        "  accuracy_list.append(np.average(Y3_validation_pred==Y3_validation))\n",
        "plt.plot(K,accuracy_list)"
      ],
      "execution_count": null,
      "outputs": [
        {
          "output_type": "execute_result",
          "data": {
            "text/plain": [
              "[<matplotlib.lines.Line2D at 0x7f6fcf87d940>]"
            ]
          },
          "metadata": {
            "tags": []
          },
          "execution_count": 224
        },
        {
          "output_type": "display_data",
          "data": {
            "image/png": "[encoded data removed]",
            "text/plain": [
              "<Figure size 432x288 with 1 Axes>"
            ]
          },
          "metadata": {
            "tags": []
          }
        }
      ]
    },
    {
      "cell_type": "markdown",
      "metadata": {
        "id": "UWsR0DYOFWLD"
      },
      "source": [
        "We deduce that the best K parameter is K=3."
      ]
    },
    {
      "cell_type": "code",
      "metadata": {
        "id": "XX6aSdt1eWoe",
        "outputId": "9725edf8-5be0-43e4-f1b5-71ae5fbe0c21",
        "colab": {
          "base_uri": "https://localhost:8080/",
          "height": 67
        }
      },
      "source": [
        "best_model3=KNeighborsClassifier(3)\n",
        "best_model3.fit(X3_train,Y3_train)"
      ],
      "execution_count": null,
      "outputs": [
        {
          "output_type": "execute_result",
          "data": {
            "text/plain": [
              "KNeighborsClassifier(algorithm='auto', leaf_size=30, metric='minkowski',\n",
              "                     metric_params=None, n_jobs=None, n_neighbors=3, p=2,\n",
              "                     weights='uniform')"
            ]
          },
          "metadata": {
            "tags": []
          },
          "execution_count": 225
        }
      ]
    },
    {
      "cell_type": "code",
      "metadata": {
        "id": "TVUDcyxueh2G",
        "outputId": "8447bdc9-0bd8-4322-a9a2-ca198500a540",
        "colab": {
          "base_uri": "https://localhost:8080/",
          "height": 34
        }
      },
      "source": [
        "Y3_train_pred=best_model3.predict(X3_train)\n",
        "np.average(Y3_train_pred==Y3_train)"
      ],
      "execution_count": null,
      "outputs": [
        {
          "output_type": "execute_result",
          "data": {
            "text/plain": [
              "0.9864008547471456"
            ]
          },
          "metadata": {
            "tags": []
          },
          "execution_count": 226
        }
      ]
    },
    {
      "cell_type": "code",
      "metadata": {
        "id": "9_JFaCaZeiqE",
        "outputId": "2224d2f4-ecf6-4131-f8a9-dd4314c2b434",
        "colab": {
          "base_uri": "https://localhost:8080/",
          "height": 34
        }
      },
      "source": [
        "Y3_validation_pred=best_model3.predict(X3_validation)\n",
        "np.average(Y3_validation_pred==Y3_validation)"
      ],
      "execution_count": null,
      "outputs": [
        {
          "output_type": "execute_result",
          "data": {
            "text/plain": [
              "0.9742395446622879"
            ]
          },
          "metadata": {
            "tags": []
          },
          "execution_count": 227
        }
      ]
    },
    {
      "cell_type": "code",
      "metadata": {
        "id": "Tjfw1yiteoEf",
        "outputId": "c840e738-9b82-448a-a3b2-8b17e9aa33cc",
        "colab": {
          "base_uri": "https://localhost:8080/",
          "height": 279
        }
      },
      "source": [
        "CM3_best_validation_true=plot_confusion_matrix(best_model3,X3_validation,Y3_validation,normalize='true')"
      ],
      "execution_count": null,
      "outputs": [
        {
          "output_type": "display_data",
          "data": {
            "image/png": "[encoded data removed]",
            "text/plain": [
              "<Figure size 432x288 with 2 Axes>"
            ]
          },
          "metadata": {
            "tags": []
          }
        }
      ]
    },
    {
      "cell_type": "code",
      "metadata": {
        "id": "Y3HcoGsfhzjo",
        "outputId": "22604340-ab8b-4ac0-a254-5f9ed580e47a",
        "colab": {
          "base_uri": "https://localhost:8080/",
          "height": 279
        }
      },
      "source": [
        "CM3_best_validation_pred=plot_confusion_matrix(best_model3,X3_validation,Y3_validation,normalize='pred')"
      ],
      "execution_count": null,
      "outputs": [
        {
          "output_type": "display_data",
          "data": {
            "image/png": "[encoded data removed]",
            "text/plain": [
              "<Figure size 432x288 with 2 Axes>"
            ]
          },
          "metadata": {
            "tags": []
          }
        }
      ]
    },
    {
      "cell_type": "code",
      "metadata": {
        "id": "h2hblFYPJWKh",
        "outputId": "574fc927-ce0f-42d5-ddeb-dbe5dcc7c27f",
        "colab": {
          "base_uri": "https://localhost:8080/",
          "height": 34
        }
      },
      "source": [
        "Y3_test_pred=best_model3.predict(X3_test)\n",
        "np.average(Y3_test_pred==Y3_test)"
      ],
      "execution_count": null,
      "outputs": [
        {
          "output_type": "execute_result",
          "data": {
            "text/plain": [
              "0.9747358967693144"
            ]
          },
          "metadata": {
            "tags": []
          },
          "execution_count": 230
        }
      ]
    },
    {
      "cell_type": "code",
      "metadata": {
        "id": "Y-o7H4ddJUNd",
        "outputId": "a3a565df-3d87-49ad-e5ab-4abda9480a50",
        "colab": {
          "base_uri": "https://localhost:8080/",
          "height": 279
        }
      },
      "source": [
        "CM3_best_test_true=plot_confusion_matrix(best_model3,X3_test,Y3_test,normalize='true')"
      ],
      "execution_count": null,
      "outputs": [
        {
          "output_type": "display_data",
          "data": {
            "image/png": "[encoded data removed]",
            "text/plain": [
              "<Figure size 432x288 with 2 Axes>"
            ]
          },
          "metadata": {
            "tags": []
          }
        }
      ]
    },
    {
      "cell_type": "code",
      "metadata": {
        "id": "u5xkpBGBJUNg",
        "outputId": "adc616f7-d3ed-424f-d4c5-4d30faec9b3f",
        "colab": {
          "base_uri": "https://localhost:8080/",
          "height": 279
        }
      },
      "source": [
        "CM3_best_test_pred=plot_confusion_matrix(best_model3,X3_test,Y3_test,normalize='pred')"
      ],
      "execution_count": null,
      "outputs": [
        {
          "output_type": "display_data",
          "data": {
            "image/png": "[encoded data removed]",
            "text/plain": [
              "<Figure size 432x288 with 2 Axes>"
            ]
          },
          "metadata": {
            "tags": []
          }
        }
      ]
    },
    {
      "cell_type": "markdown",
      "metadata": {
        "id": "_Qen2EqFGWHK"
      },
      "source": [
        "Hence, we boost our detection accuracy to 37% on empty station, and 37% on full stations.\n",
        "\n",
        "Moreover, 76% of predictions are accurate, both on empty and full stations."
      ]
    },
    {
      "cell_type": "code",
      "metadata": {
        "id": "G2oS81_1c3BN",
        "outputId": "ddb6dfc8-f144-418e-ae3d-cf41494dc718",
        "colab": {
          "base_uri": "https://localhost:8080/",
          "height": 279
        }
      },
      "source": [
        "CM3_best_validation_all=plot_confusion_matrix(best_model3,X3_validation,Y3_validation)"
      ],
      "execution_count": null,
      "outputs": [
        {
          "output_type": "display_data",
          "data": {
            "image/png": "[encoded data removed]",
            "text/plain": [
              "<Figure size 432x288 with 2 Axes>"
            ]
          },
          "metadata": {
            "tags": []
          }
        }
      ]
    },
    {
      "cell_type": "code",
      "metadata": {
        "id": "LLvUOXSpc4-q",
        "outputId": "5f6dd275-4cce-4aa7-bd53-5a2821ba0df7",
        "colab": {
          "base_uri": "https://localhost:8080/",
          "height": 67
        }
      },
      "source": [
        "CM3_best_validation_all.confusion_matrix"
      ],
      "execution_count": null,
      "outputs": [
        {
          "output_type": "execute_result",
          "data": {
            "text/plain": [
              "array([[  767,  1252,     0],\n",
              "       [  257, 97585,   181],\n",
              "       [    0,   926,   583]])"
            ]
          },
          "metadata": {
            "tags": []
          },
          "execution_count": 234
        }
      ]
    },
    {
      "cell_type": "markdown",
      "metadata": {
        "id": "s04ONRmqLmwy"
      },
      "source": [
        "We tried to implement a Feature Forward Selection, but it didn't work well, as we couldn't find a particular better Feature."
      ]
    },
    {
      "cell_type": "code",
      "metadata": {
        "id": "Eq7AA-vK5xDF"
      },
      "source": [
        "data4=ML_data.copy()"
      ],
      "execution_count": null,
      "outputs": []
    },
    {
      "cell_type": "code",
      "metadata": {
        "id": "j9VOPPsiJwt7"
      },
      "source": [
        "features=['station_id', 'Holiday', 'Weekend', 'Humidity', 'Pressure',\\\n",
        "       'Temperature', 'Wind_Direction', 'Wind_Speed', 'Rain', 'Hour',\\\n",
        "       'Month']"
      ],
      "execution_count": null,
      "outputs": []
    },
    {
      "cell_type": "code",
      "metadata": {
        "id": "Kl_dxycWI7yL"
      },
      "source": [
        "data4.drop(columns=['bikes_available','docks_available'],inplace=True)"
      ],
      "execution_count": null,
      "outputs": []
    },
    {
      "cell_type": "code",
      "metadata": {
        "id": "C6BBuzs-XMSF"
      },
      "source": [
        "X4_rest,X4_test,Y4_rest,Y4_train=train_test_split(data4[features],data4['Category'],train_size=0.8,shuffle=True)\n",
        "X4_train,X4_validation,Y4_train,Y4_validation=train_test_split(X4_rest,Y4_rest,train_size=0.8,shuffle=True)"
      ],
      "execution_count": null,
      "outputs": []
    },
    {
      "cell_type": "code",
      "metadata": {
        "id": "4uv1IM_tJI5i",
        "outputId": "6eba3dcf-89c3-4f70-e797-88e730aceec6",
        "colab": {
          "base_uri": "https://localhost:8080/",
          "height": 118
        }
      },
      "source": [
        "candidate_variables=np.array(data4.drop(columns=['Category']).columns)\n",
        "candidate_variables"
      ],
      "execution_count": null,
      "outputs": [
        {
          "output_type": "execute_result",
          "data": {
            "text/plain": [
              "array(['station_id', 'Holiday', 'Weekend', 'Humidity', 'Pressure',\n",
              "       'Temperature', 'Wind_Direction', 'Wind_Speed', 'Rain', 'Hour',\n",
              "       'Month', 'Mountain View', 'Palo Alto', 'Redwood City',\n",
              "       'San Francisco', 'San Jose', 'Cloudy', 'Foggy', 'Heavy Rain',\n",
              "       'Light Rain', 'Moderate Rain', 'Proximity to Rain', 'Sunny',\n",
              "       'East', 'North', 'South', 'West'], dtype=object)"
            ]
          },
          "metadata": {
            "tags": []
          },
          "execution_count": 76
        }
      ]
    },
    {
      "cell_type": "code",
      "metadata": {
        "id": "dxNOeHMles76"
      },
      "source": [
        "def forward_selection(features,X_train,Y_train,X_val,Y_val,model):\n",
        "    remaining_features=features[:]\n",
        "    features_kept=[]\n",
        "    best_accuracy=0\n",
        "    count=0\n",
        "    while len(remaining_features)>0:\n",
        "        accuracy_min=0\n",
        "        feature_candidate=None\n",
        "        for feature in remaining_features:\n",
        "            print(\"REMAINING:\", remaining_features)\n",
        "            print(\"KEPT: \",features_kept)\n",
        "            print(\"TRYING:\",feature)\n",
        "            print(\"CANDIDATE\",feature_candidate)\n",
        "            features_tried=features_kept+[feature]\n",
        "            model.fit(X_train[features_tried],Y_train)\n",
        "            count+=1\n",
        "            Y_pred=model.predict(X_val[features_tried])\n",
        "            accuracy=np.average(Y_pred==Y_val)\n",
        "            print(accuracy,accuracy_min)\n",
        "            if (accuracy>accuracy_min):\n",
        "                feature_candidate=feature\n",
        "                accuracy_min=accuracy\n",
        "                \n",
        "        if accuracy_min>best_accuracy: # accept new feature\n",
        "            features_kept.append(feature_candidate)\n",
        "            remaining_features.remove(feature_candidate)\n",
        "            best_accuracy=accuracy_min\n",
        "        else: # we did not improve on the valuation set, stop searching\n",
        "            break\n",
        "    return features_kept,best_accuracy,count"
      ],
      "execution_count": null,
      "outputs": []
    },
    {
      "cell_type": "code",
      "metadata": {
        "id": "hD8G25rEi-A4"
      },
      "source": [
        "model4=KNeighborsClassifier(3)"
      ],
      "execution_count": null,
      "outputs": []
    },
    {
      "cell_type": "code",
      "metadata": {
        "id": "mXi0fj5NgA1p",
        "outputId": "d6e5a7e9-4f91-4381-c498-5f50da37f8d3",
        "colab": {
          "base_uri": "https://localhost:8080/",
          "height": 1000
        }
      },
      "source": [
        "forward_selection(features,X4_train,Y4_train,X4_validation,Y4_validation,model4)"
      ],
      "execution_count": null,
      "outputs": [
        {
          "output_type": "stream",
          "text": [
            "REMAINING: ['station_id', 'Holiday', 'Weekend', 'Humidity', 'Pressure', 'Temperature', 'Wind_Direction', 'Wind_Speed', 'Rain', 'Hour', 'Month']\n",
            "KEPT:  []\n",
            "TRYING: station_id\n",
            "CANDIDATE None\n",
            "0.9520438006518892 0\n",
            "REMAINING: ['station_id', 'Holiday', 'Weekend', 'Humidity', 'Pressure', 'Temperature', 'Wind_Direction', 'Wind_Speed', 'Rain', 'Hour', 'Month']\n",
            "KEPT:  []\n",
            "TRYING: Holiday\n",
            "CANDIDATE station_id\n",
            "0.9659481442821833 0.9520438006518892\n",
            "REMAINING: ['station_id', 'Holiday', 'Weekend', 'Humidity', 'Pressure', 'Temperature', 'Wind_Direction', 'Wind_Speed', 'Rain', 'Hour', 'Month']\n",
            "KEPT:  []\n",
            "TRYING: Weekend\n",
            "CANDIDATE Holiday\n",
            "0.9659481442821833 0.9659481442821833\n",
            "REMAINING: ['station_id', 'Holiday', 'Weekend', 'Humidity', 'Pressure', 'Temperature', 'Wind_Direction', 'Wind_Speed', 'Rain', 'Hour', 'Month']\n",
            "KEPT:  []\n",
            "TRYING: Humidity\n",
            "CANDIDATE Holiday\n",
            "0.9659481442821833 0.9659481442821833\n",
            "REMAINING: ['station_id', 'Holiday', 'Weekend', 'Humidity', 'Pressure', 'Temperature', 'Wind_Direction', 'Wind_Speed', 'Rain', 'Hour', 'Month']\n",
            "KEPT:  []\n",
            "TRYING: Pressure\n",
            "CANDIDATE Holiday\n",
            "0.9659481442821833 0.9659481442821833\n",
            "REMAINING: ['station_id', 'Holiday', 'Weekend', 'Humidity', 'Pressure', 'Temperature', 'Wind_Direction', 'Wind_Speed', 'Rain', 'Hour', 'Month']\n",
            "KEPT:  []\n",
            "TRYING: Temperature\n",
            "CANDIDATE Holiday\n",
            "0.9621963348465303 0.9659481442821833\n",
            "REMAINING: ['station_id', 'Holiday', 'Weekend', 'Humidity', 'Pressure', 'Temperature', 'Wind_Direction', 'Wind_Speed', 'Rain', 'Hour', 'Month']\n",
            "KEPT:  []\n",
            "TRYING: Wind_Direction\n",
            "CANDIDATE Holiday\n",
            "0.9649535701273252 0.9659481442821833\n",
            "REMAINING: ['station_id', 'Holiday', 'Weekend', 'Humidity', 'Pressure', 'Temperature', 'Wind_Direction', 'Wind_Speed', 'Rain', 'Hour', 'Month']\n",
            "KEPT:  []\n",
            "TRYING: Wind_Speed\n",
            "CANDIDATE Holiday\n",
            "0.9659481442821833 0.9659481442821833\n",
            "REMAINING: ['station_id', 'Holiday', 'Weekend', 'Humidity', 'Pressure', 'Temperature', 'Wind_Direction', 'Wind_Speed', 'Rain', 'Hour', 'Month']\n",
            "KEPT:  []\n",
            "TRYING: Rain\n",
            "CANDIDATE Holiday\n",
            "0.9659481442821833 0.9659481442821833\n",
            "REMAINING: ['station_id', 'Holiday', 'Weekend', 'Humidity', 'Pressure', 'Temperature', 'Wind_Direction', 'Wind_Speed', 'Rain', 'Hour', 'Month']\n",
            "KEPT:  []\n",
            "TRYING: Hour\n",
            "CANDIDATE Holiday\n",
            "0.9659481442821833 0.9659481442821833\n",
            "REMAINING: ['station_id', 'Holiday', 'Weekend', 'Humidity', 'Pressure', 'Temperature', 'Wind_Direction', 'Wind_Speed', 'Rain', 'Hour', 'Month']\n",
            "KEPT:  []\n",
            "TRYING: Month\n",
            "CANDIDATE Holiday\n",
            "0.9659481442821833 0.9659481442821833\n",
            "REMAINING: ['station_id', 'Weekend', 'Humidity', 'Pressure', 'Temperature', 'Wind_Direction', 'Wind_Speed', 'Rain', 'Hour', 'Month']\n",
            "KEPT:  ['Holiday']\n",
            "TRYING: station_id\n",
            "CANDIDATE None\n",
            "0.9520438006518892 0\n",
            "REMAINING: ['station_id', 'Weekend', 'Humidity', 'Pressure', 'Temperature', 'Wind_Direction', 'Wind_Speed', 'Rain', 'Hour', 'Month']\n",
            "KEPT:  ['Holiday']\n",
            "TRYING: Weekend\n",
            "CANDIDATE station_id\n",
            "0.9659481442821833 0.9520438006518892\n",
            "REMAINING: ['station_id', 'Weekend', 'Humidity', 'Pressure', 'Temperature', 'Wind_Direction', 'Wind_Speed', 'Rain', 'Hour', 'Month']\n",
            "KEPT:  ['Holiday']\n",
            "TRYING: Humidity\n",
            "CANDIDATE Weekend\n",
            "0.9659481442821833 0.9659481442821833\n",
            "REMAINING: ['station_id', 'Weekend', 'Humidity', 'Pressure', 'Temperature', 'Wind_Direction', 'Wind_Speed', 'Rain', 'Hour', 'Month']\n",
            "KEPT:  ['Holiday']\n",
            "TRYING: Pressure\n",
            "CANDIDATE Weekend\n",
            "0.9659481442821833 0.9659481442821833\n",
            "REMAINING: ['station_id', 'Weekend', 'Humidity', 'Pressure', 'Temperature', 'Wind_Direction', 'Wind_Speed', 'Rain', 'Hour', 'Month']\n",
            "KEPT:  ['Holiday']\n",
            "TRYING: Temperature\n",
            "CANDIDATE Weekend\n",
            "0.9621963348465303 0.9659481442821833\n",
            "REMAINING: ['station_id', 'Weekend', 'Humidity', 'Pressure', 'Temperature', 'Wind_Direction', 'Wind_Speed', 'Rain', 'Hour', 'Month']\n",
            "KEPT:  ['Holiday']\n",
            "TRYING: Wind_Direction\n",
            "CANDIDATE Weekend\n",
            "0.9649535701273252 0.9659481442821833\n",
            "REMAINING: ['station_id', 'Weekend', 'Humidity', 'Pressure', 'Temperature', 'Wind_Direction', 'Wind_Speed', 'Rain', 'Hour', 'Month']\n",
            "KEPT:  ['Holiday']\n",
            "TRYING: Wind_Speed\n",
            "CANDIDATE Weekend\n",
            "0.9659481442821833 0.9659481442821833\n",
            "REMAINING: ['station_id', 'Weekend', 'Humidity', 'Pressure', 'Temperature', 'Wind_Direction', 'Wind_Speed', 'Rain', 'Hour', 'Month']\n",
            "KEPT:  ['Holiday']\n",
            "TRYING: Rain\n",
            "CANDIDATE Weekend\n",
            "0.9659481442821833 0.9659481442821833\n",
            "REMAINING: ['station_id', 'Weekend', 'Humidity', 'Pressure', 'Temperature', 'Wind_Direction', 'Wind_Speed', 'Rain', 'Hour', 'Month']\n",
            "KEPT:  ['Holiday']\n",
            "TRYING: Hour\n",
            "CANDIDATE Weekend\n",
            "0.9659481442821833 0.9659481442821833\n",
            "REMAINING: ['station_id', 'Weekend', 'Humidity', 'Pressure', 'Temperature', 'Wind_Direction', 'Wind_Speed', 'Rain', 'Hour', 'Month']\n",
            "KEPT:  ['Holiday']\n",
            "TRYING: Month\n",
            "CANDIDATE Weekend\n",
            "0.9659481442821833 0.9659481442821833\n"
          ],
          "name": "stdout"
        },
        {
          "output_type": "execute_result",
          "data": {
            "text/plain": [
              "(['Holiday'], 0.9659481442821833, 21)"
            ]
          },
          "metadata": {
            "tags": []
          },
          "execution_count": 79
        }
      ]
    },
    {
      "cell_type": "markdown",
      "metadata": {
        "id": "6J1D90XLOihN"
      },
      "source": [
        "Finally, we only get that the better model is the model using only station_id, or Holiday or Weekend. This Feature Selection is a bit random, because of the huge amount of majority datas."
      ]
    },
    {
      "cell_type": "code",
      "metadata": {
        "id": "0Df5Ani8PCMp"
      },
      "source": [
        "data4_bis=ML_data.copy()"
      ],
      "execution_count": null,
      "outputs": []
    },
    {
      "cell_type": "code",
      "metadata": {
        "id": "fYsN6pUHPCMt"
      },
      "source": [
        "features=['station_id', 'Holiday', 'Weekend', 'Humidity', 'Pressure',\\\n",
        "       'Temperature', 'Wind_Direction', 'Wind_Speed', 'Rain', 'Hour',\\\n",
        "       'Month']"
      ],
      "execution_count": null,
      "outputs": []
    },
    {
      "cell_type": "code",
      "metadata": {
        "id": "hfbOjBDxPCMv"
      },
      "source": [
        "data4_bis=data4_bis[['Category','station_id']]"
      ],
      "execution_count": null,
      "outputs": []
    },
    {
      "cell_type": "code",
      "metadata": {
        "id": "rY9DcvlePCMy"
      },
      "source": [
        "X4_bis_rest,X4_bis_test,Y4_bis_rest,Y4_bis_train=train_test_split(data4_bis['station_id'],data4_bis['Category'],train_size=0.8,shuffle=True)\n",
        "X4_bis_train,X4_bis_validation,Y4_bis_train,Y4_bis_validation=train_test_split(X4_bis_rest,Y4_bis_rest,train_size=0.8,shuffle=True)"
      ],
      "execution_count": null,
      "outputs": []
    },
    {
      "cell_type": "code",
      "metadata": {
        "id": "-8ATOhdSPkQn",
        "outputId": "e602b5ab-6111-4b25-a60a-8bc1ab5854a9",
        "colab": {
          "base_uri": "https://localhost:8080/",
          "height": 67
        }
      },
      "source": [
        "model4.fit(np.array(X4_bis_train).reshape(-1,1),Y4_bis_train)"
      ],
      "execution_count": null,
      "outputs": [
        {
          "output_type": "execute_result",
          "data": {
            "text/plain": [
              "KNeighborsClassifier(algorithm='auto', leaf_size=30, metric='minkowski',\n",
              "                     metric_params=None, n_jobs=None, n_neighbors=3, p=2,\n",
              "                     weights='uniform')"
            ]
          },
          "metadata": {
            "tags": []
          },
          "execution_count": 84
        }
      ]
    },
    {
      "cell_type": "code",
      "metadata": {
        "id": "KMF4nH4oP6dO",
        "outputId": "14bf7d8d-146f-4b93-8225-74593bf4de08",
        "colab": {
          "base_uri": "https://localhost:8080/",
          "height": 34
        }
      },
      "source": [
        "Y4_bis_train_pred=model4.predict(np.array(X4_bis_train).reshape(-1,1))\n",
        "np.average(Y4_bis_train_pred==Y4_bis_train)"
      ],
      "execution_count": null,
      "outputs": [
        {
          "output_type": "execute_result",
          "data": {
            "text/plain": [
              "0.9654950000246183"
            ]
          },
          "metadata": {
            "tags": []
          },
          "execution_count": 85
        }
      ]
    },
    {
      "cell_type": "code",
      "metadata": {
        "id": "k5noOgWmP6dS",
        "outputId": "683a6092-825d-4034-9adc-eed13f594dd2",
        "colab": {
          "base_uri": "https://localhost:8080/",
          "height": 34
        }
      },
      "source": [
        "Y4_bis_validation_pred=model4.predict(np.array(X4_bis_validation).reshape(-1,1))\n",
        "np.average(Y4_bis_validation_pred==Y4_bis_validation)"
      ],
      "execution_count": null,
      "outputs": [
        {
          "output_type": "execute_result",
          "data": {
            "text/plain": [
              "0.9658693661313035"
            ]
          },
          "metadata": {
            "tags": []
          },
          "execution_count": 86
        }
      ]
    },
    {
      "cell_type": "code",
      "metadata": {
        "id": "6I4cFA9EP6dU",
        "outputId": "be424b23-8b4c-41d9-c7a6-145b0878f455",
        "colab": {
          "base_uri": "https://localhost:8080/",
          "height": 283
        }
      },
      "source": [
        "CM4_bis_validation_true=plot_confusion_matrix(model4,np.array(X4_bis_validation).reshape(-1,1),Y4_bis_validation,normalize='true')"
      ],
      "execution_count": null,
      "outputs": [
        {
          "output_type": "display_data",
          "data": {
            "image/png": "[encoded data removed]",
            "text/plain": [
              "<Figure size 432x288 with 2 Axes>"
            ]
          },
          "metadata": {
            "tags": []
          }
        }
      ]
    },
    {
      "cell_type": "code",
      "metadata": {
        "id": "aa1HIlXEP6dW",
        "outputId": "88a721b8-9a15-4d16-cf3d-6e29f8a2d7ba",
        "colab": {
          "base_uri": "https://localhost:8080/",
          "height": 279
        }
      },
      "source": [
        "CM4_bis_validation_pred=plot_confusion_matrix(model4,np.array(X4_bis_validation).reshape(-1,1),Y4_bis_validation,normalize='pred')"
      ],
      "execution_count": null,
      "outputs": [
        {
          "output_type": "display_data",
          "data": {
            "image/png": "[encoded data removed]",
            "text/plain": [
              "<Figure size 432x288 with 2 Axes>"
            ]
          },
          "metadata": {
            "tags": []
          }
        }
      ]
    },
    {
      "cell_type": "markdown",
      "metadata": {
        "id": "EmTUM4YRQeQb"
      },
      "source": [
        "But we get poor results, as we do nothing, and we can't predict any problematic situation."
      ]
    },
    {
      "cell_type": "markdown",
      "metadata": {
        "id": "CpAKw2eRI6wT"
      },
      "source": [
        "### Random Forest Classifier"
      ]
    },
    {
      "cell_type": "markdown",
      "metadata": {
        "id": "zLtoZi-WJE_G"
      },
      "source": [
        "We tried another classifier, which is a RandomForestClassifier"
      ]
    },
    {
      "cell_type": "code",
      "metadata": {
        "id": "FsdCCR-SOR5j"
      },
      "source": [
        "model5=RandomForestClassifier(max_depth=5)"
      ],
      "execution_count": null,
      "outputs": []
    },
    {
      "cell_type": "code",
      "metadata": {
        "id": "iojveSZVOR5o",
        "outputId": "4df371c4-fa35-40a0-b4e8-4105361e1ea4",
        "colab": {
          "base_uri": "https://localhost:8080/",
          "height": 151
        }
      },
      "source": [
        "model5.fit(X3_train,Y3_train)"
      ],
      "execution_count": null,
      "outputs": [
        {
          "output_type": "execute_result",
          "data": {
            "text/plain": [
              "RandomForestClassifier(bootstrap=True, ccp_alpha=0.0, class_weight=None,\n",
              "                       criterion='gini', max_depth=5, max_features='auto',\n",
              "                       max_leaf_nodes=None, max_samples=None,\n",
              "                       min_impurity_decrease=0.0, min_impurity_split=None,\n",
              "                       min_samples_leaf=1, min_samples_split=2,\n",
              "                       min_weight_fraction_leaf=0.0, n_estimators=100,\n",
              "                       n_jobs=None, oob_score=False, random_state=None,\n",
              "                       verbose=0, warm_start=False)"
            ]
          },
          "metadata": {
            "tags": []
          },
          "execution_count": 90
        }
      ]
    },
    {
      "cell_type": "code",
      "metadata": {
        "id": "nTxDW_P2OR5q",
        "outputId": "e54a7bb1-b919-4c82-f728-7489a6b01f5a",
        "colab": {
          "base_uri": "https://localhost:8080/",
          "height": 101
        }
      },
      "source": [
        "model5.feature_importances_"
      ],
      "execution_count": null,
      "outputs": [
        {
          "output_type": "execute_result",
          "data": {
            "text/plain": [
              "array([7.82323532e-01, 3.26909239e-02, 3.93811206e-02, 7.58326102e-02,\n",
              "       2.84168059e-02, 1.11075373e-02, 3.50564450e-03, 2.90926261e-03,\n",
              "       1.69500448e-03, 4.60069300e-04, 1.03626732e-03, 4.74477702e-03,\n",
              "       1.93975759e-03, 1.86053699e-03, 2.97027044e-03, 2.43412052e-03,\n",
              "       5.13576786e-03, 1.55599173e-03])"
            ]
          },
          "metadata": {
            "tags": []
          },
          "execution_count": 91
        }
      ]
    },
    {
      "cell_type": "code",
      "metadata": {
        "id": "7r2qRVpfWImq",
        "outputId": "684cf861-b455-4d7f-9816-0a8e6f207fcf",
        "colab": {
          "base_uri": "https://localhost:8080/",
          "height": 101
        }
      },
      "source": [
        "X3_train.columns"
      ],
      "execution_count": null,
      "outputs": [
        {
          "output_type": "execute_result",
          "data": {
            "text/plain": [
              "Index(['station_id', 'Humidity', 'Pressure', 'Temperature', 'Wind_Direction',\n",
              "       'Wind_Speed', 'Rain', 'Cloudy', 'Foggy', 'Heavy Rain', 'Light Rain',\n",
              "       'Moderate Rain', 'Proximity to Rain', 'Sunny', 'East', 'North', 'South',\n",
              "       'West'],\n",
              "      dtype='object')"
            ]
          },
          "metadata": {
            "tags": []
          },
          "execution_count": 92
        }
      ]
    },
    {
      "cell_type": "code",
      "metadata": {
        "id": "gscuS56uSIE3",
        "outputId": "c5d5863c-0fba-4810-cceb-3c3ca324e5cd",
        "colab": {
          "base_uri": "https://localhost:8080/",
          "height": 34
        }
      },
      "source": [
        "Y5_validation_pred=model5.predict(X3_validation)\n",
        "np.average(Y5_validation_pred==Y3_validation)"
      ],
      "execution_count": null,
      "outputs": [
        {
          "output_type": "execute_result",
          "data": {
            "text/plain": [
              "0.9653966972260244"
            ]
          },
          "metadata": {
            "tags": []
          },
          "execution_count": 93
        }
      ]
    },
    {
      "cell_type": "code",
      "metadata": {
        "id": "Kj2haIFwR2Fn",
        "outputId": "78b62a26-a12b-47de-d8fd-8f5195107924",
        "colab": {
          "base_uri": "https://localhost:8080/",
          "height": 34
        }
      },
      "source": [
        "Y5_test_pred=model5.predict(X3_test)\n",
        "np.average(Y5_test_pred==Y3_test)"
      ],
      "execution_count": null,
      "outputs": [
        {
          "output_type": "execute_result",
          "data": {
            "text/plain": [
              "0.9661175840364269"
            ]
          },
          "metadata": {
            "tags": []
          },
          "execution_count": 94
        }
      ]
    },
    {
      "cell_type": "code",
      "metadata": {
        "id": "6FEjkdDjOR5s",
        "outputId": "a5549b47-ebf2-427a-cfd1-2c426cd2a928",
        "colab": {
          "base_uri": "https://localhost:8080/",
          "height": 545
        }
      },
      "source": [
        "MT5_validation_true=plot_confusion_matrix(model5,X3_validation,Y3_validation,normalize='true')\n",
        "MT5_validation_pred=plot_confusion_matrix(model5,X3_validation,Y3_validation,normalize='pred')"
      ],
      "execution_count": null,
      "outputs": [
        {
          "output_type": "display_data",
          "data": {
            "image/png": "[encoded data removed]",
            "text/plain": [
              "<Figure size 432x288 with 2 Axes>"
            ]
          },
          "metadata": {
            "tags": []
          }
        },
        {
          "output_type": "display_data",
          "data": {
            "image/png": "[encoded data removed]",
            "text/plain": [
              "<Figure size 432x288 with 2 Axes>"
            ]
          },
          "metadata": {
            "tags": []
          }
        }
      ]
    },
    {
      "cell_type": "code",
      "metadata": {
        "id": "lEbSX4cYSzSW",
        "outputId": "22473273-398a-4d51-9b58-ec6b52e2d0e7",
        "colab": {
          "base_uri": "https://localhost:8080/",
          "height": 545
        }
      },
      "source": [
        "MT5_test_true=plot_confusion_matrix(model5,X3_test,Y3_test,normalize='true')\n",
        "MT5_test_pred=plot_confusion_matrix(model5,X3_test,Y3_test,normalize='pred')"
      ],
      "execution_count": null,
      "outputs": [
        {
          "output_type": "display_data",
          "data": {
            "image/png": "[encoded data removed]",
            "text/plain": [
              "<Figure size 432x288 with 2 Axes>"
            ]
          },
          "metadata": {
            "tags": []
          }
        },
        {
          "output_type": "display_data",
          "data": {
            "image/png": "[encoded data removed]",
            "text/plain": [
              "<Figure size 432x288 with 2 Axes>"
            ]
          },
          "metadata": {
            "tags": []
          }
        }
      ]
    },
    {
      "cell_type": "markdown",
      "metadata": {
        "id": "AVx4gRzbUsIN"
      },
      "source": [
        "We conclude that we get horrible results, because we are overfitting our model."
      ]
    },
    {
      "cell_type": "code",
      "metadata": {
        "id": "vi-wxvLs-Xbu"
      },
      "source": [
        "model5_bis=RandomForestClassifier(max_depth=5,class_weight={0:40,1:1,2:55})"
      ],
      "execution_count": null,
      "outputs": []
    },
    {
      "cell_type": "markdown",
      "metadata": {
        "id": "5SGRDonYV4Tc"
      },
      "source": [
        "We decided to weight minority classes in order to increase the accuracy on these minority classes"
      ]
    },
    {
      "cell_type": "code",
      "metadata": {
        "id": "jxYPVGo9-tfh",
        "outputId": "4afdcba4-98cd-4585-d5a5-871f5b12aed3",
        "colab": {
          "base_uri": "https://localhost:8080/",
          "height": 151
        }
      },
      "source": [
        "model5_bis.fit(X3_train,Y3_train)"
      ],
      "execution_count": null,
      "outputs": [
        {
          "output_type": "execute_result",
          "data": {
            "text/plain": [
              "RandomForestClassifier(bootstrap=True, ccp_alpha=0.0,\n",
              "                       class_weight={0: 40, 1: 1, 2: 55}, criterion='gini',\n",
              "                       max_depth=5, max_features='auto', max_leaf_nodes=None,\n",
              "                       max_samples=None, min_impurity_decrease=0.0,\n",
              "                       min_impurity_split=None, min_samples_leaf=1,\n",
              "                       min_samples_split=2, min_weight_fraction_leaf=0.0,\n",
              "                       n_estimators=100, n_jobs=None, oob_score=False,\n",
              "                       random_state=None, verbose=0, warm_start=False)"
            ]
          },
          "metadata": {
            "tags": []
          },
          "execution_count": 98
        }
      ]
    },
    {
      "cell_type": "code",
      "metadata": {
        "id": "iwt6QseTHfb7",
        "outputId": "1d984a09-4e76-4ea9-862b-501cfbf61d55",
        "colab": {
          "base_uri": "https://localhost:8080/",
          "height": 101
        }
      },
      "source": [
        "model5_bis.feature_importances_"
      ],
      "execution_count": null,
      "outputs": [
        {
          "output_type": "execute_result",
          "data": {
            "text/plain": [
              "array([8.08601665e-01, 2.81675121e-02, 2.94807664e-02, 6.01217231e-02,\n",
              "       3.05549068e-02, 1.17405317e-02, 3.20062972e-03, 1.68237957e-03,\n",
              "       2.45722623e-03, 4.26589079e-04, 1.63314788e-03, 4.56514308e-03,\n",
              "       2.06320985e-04, 1.90151636e-03, 2.12576191e-03, 1.61507102e-03,\n",
              "       7.57835023e-03, 3.94075891e-03])"
            ]
          },
          "metadata": {
            "tags": []
          },
          "execution_count": 99
        }
      ]
    },
    {
      "cell_type": "code",
      "metadata": {
        "id": "lsMrBfDbSFDH",
        "outputId": "fb8c3442-1095-43f7-ac3d-4060d163c949",
        "colab": {
          "base_uri": "https://localhost:8080/",
          "height": 34
        }
      },
      "source": [
        "Y5_bis_validation_pred=model5.predict(X3_validation)\n",
        "np.average(Y5_bis_validation_pred==Y3_validation)"
      ],
      "execution_count": null,
      "outputs": [
        {
          "output_type": "execute_result",
          "data": {
            "text/plain": [
              "0.9653966972260244"
            ]
          },
          "metadata": {
            "tags": []
          },
          "execution_count": 100
        }
      ]
    },
    {
      "cell_type": "code",
      "metadata": {
        "id": "u5Vk83sA_FOl",
        "outputId": "69acfbb6-372a-4dd9-d62c-7ad20c8dc095",
        "colab": {
          "base_uri": "https://localhost:8080/",
          "height": 541
        }
      },
      "source": [
        "MT5_bis_validation_true=plot_confusion_matrix(model5_bis,X3_validation,Y3_validation,normalize='true')\n",
        "MT5_bis_validation_pred=plot_confusion_matrix(model5_bis,X3_validation,Y3_validation,normalize='pred')"
      ],
      "execution_count": null,
      "outputs": [
        {
          "output_type": "display_data",
          "data": {
            "image/png": "[encoded data removed]",
            "text/plain": [
              "<Figure size 432x288 with 2 Axes>"
            ]
          },
          "metadata": {
            "tags": []
          }
        },
        {
          "output_type": "display_data",
          "data": {
            "image/png": "[encoded data removed]",
            "text/plain": [
              "<Figure size 432x288 with 2 Axes>"
            ]
          },
          "metadata": {
            "tags": []
          }
        }
      ]
    },
    {
      "cell_type": "markdown",
      "metadata": {
        "id": "4Fkj8qjrlj_t"
      },
      "source": [
        "In this case, we correctly predict full station, but badly empty stations. In addition, we have a bad prediction of normal stations too."
      ]
    },
    {
      "cell_type": "markdown",
      "metadata": {
        "id": "19Yu46H0XP5p"
      },
      "source": [
        "Finally, we tested a LDA, Linear Discriminant Analysis, as we can approach some parameters by a Gaussian Distribution."
      ]
    },
    {
      "cell_type": "code",
      "metadata": {
        "id": "DsgoDtPwVf_G"
      },
      "source": [
        "model6=LDA()"
      ],
      "execution_count": null,
      "outputs": []
    },
    {
      "cell_type": "code",
      "metadata": {
        "id": "UXnyHJYxVq2S",
        "outputId": "1bfd9b90-c614-4765-ee92-3afb3cc0fb8b",
        "colab": {
          "base_uri": "https://localhost:8080/",
          "height": 50
        }
      },
      "source": [
        "model6.fit(X3_train,Y3_train)"
      ],
      "execution_count": null,
      "outputs": [
        {
          "output_type": "execute_result",
          "data": {
            "text/plain": [
              "LinearDiscriminantAnalysis(n_components=None, priors=None, shrinkage=None,\n",
              "                           solver='svd', store_covariance=False, tol=0.0001)"
            ]
          },
          "metadata": {
            "tags": []
          },
          "execution_count": 103
        }
      ]
    },
    {
      "cell_type": "code",
      "metadata": {
        "id": "zd85OopgXHHL",
        "outputId": "3a1f0350-9e21-441a-fd1a-1976c192e4ce",
        "colab": {
          "base_uri": "https://localhost:8080/",
          "height": 34
        }
      },
      "source": [
        "Y6_validation_pred=model6.predict(X3_validation)\n",
        "np.average(Y6_validation_pred==Y3_validation)"
      ],
      "execution_count": null,
      "outputs": [
        {
          "output_type": "execute_result",
          "data": {
            "text/plain": [
              "0.9653966972260244"
            ]
          },
          "metadata": {
            "tags": []
          },
          "execution_count": 104
        }
      ]
    },
    {
      "cell_type": "code",
      "metadata": {
        "id": "bYn4dsYvV0u0",
        "outputId": "79bbb2ec-e6c4-486d-b439-1b6872d1777e",
        "colab": {
          "base_uri": "https://localhost:8080/",
          "height": 545
        }
      },
      "source": [
        "MT6_validation_true=plot_confusion_matrix(model6,X3_validation,Y3_validation,normalize='true')\n",
        "MT6_validation_pred=plot_confusion_matrix(model6,X3_validation,Y3_validation,normalize='pred')"
      ],
      "execution_count": null,
      "outputs": [
        {
          "output_type": "display_data",
          "data": {
            "image/png": "[encoded data removed]",
            "text/plain": [
              "<Figure size 432x288 with 2 Axes>"
            ]
          },
          "metadata": {
            "tags": []
          }
        },
        {
          "output_type": "display_data",
          "data": {
            "image/png": "[encoded data removed]",
            "text/plain": [
              "<Figure size 432x288 with 2 Axes>"
            ]
          },
          "metadata": {
            "tags": []
          }
        }
      ]
    },
    {
      "cell_type": "markdown",
      "metadata": {
        "id": "Fw3v5u6hl5bN"
      },
      "source": [
        "Again, we find that this model is not adapted."
      ]
    },
    {
      "cell_type": "code",
      "metadata": {
        "id": "HkgxyN6vj48S"
      },
      "source": [
        ""
      ],
      "execution_count": null,
      "outputs": []
    }
  ]
}