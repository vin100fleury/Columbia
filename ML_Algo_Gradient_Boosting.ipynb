{
  "nbformat": 4,
  "nbformat_minor": 0,
  "metadata": {
    "colab": {
      "name": "ML_Algo_Gradient_Boosting.ipynb",
      "provenance": [],
      "collapsed_sections": []
    },
    "kernelspec": {
      "name": "python3",
      "display_name": "Python 3"
    },
    "accelerator": "GPU"
  },
  "cells": [
    {
      "cell_type": "markdown",
      "metadata": {
        "id": "4DXgJ2xCdORY"
      },
      "source": [
        "In this Notebook, we implemented Gradient Boositng Trees to better perform on classification errors."
      ]
    },
    {
      "cell_type": "markdown",
      "metadata": {
        "id": "JHSOh2s5dKtj"
      },
      "source": [
        "# Extraction"
      ]
    },
    {
      "cell_type": "code",
      "metadata": {
        "id": "XlE1b1s4H4-A",
        "outputId": "4199768e-a5ee-4c3c-8353-ea18501b8e9b",
        "colab": {
          "base_uri": "https://localhost:8080/",
          "height": 101
        }
      },
      "source": [
        "!pip install -U -q PyDrive\n",
        "!pip install -U scikit-learn\n",
        "from pydrive.auth import GoogleAuth\n",
        "from pydrive.drive import GoogleDrive\n",
        "from google.colab import auth\n",
        "from oauth2client.client import GoogleCredentials\n",
        "# Authenticate and create the PyDrive client.\n",
        "auth.authenticate_user()\n",
        "gauth = GoogleAuth()\n",
        "gauth.credentials = GoogleCredentials.get_application_default()\n",
        "drive = GoogleDrive(gauth)\n",
        "\n",
        "import pandas as pd\n",
        "import numpy as np\n",
        "\n",
        "import matplotlib.pyplot as plt\n",
        "\n",
        "import scipy.stats as spst\n",
        "from scipy.optimize import minimize\n",
        "import scipy.special as spsp\n",
        "import datetime\n",
        "\n",
        "from sklearn.neighbors import KNeighborsClassifier\n",
        "from sklearn.preprocessing import StandardScaler\n",
        "from sklearn.model_selection import train_test_split, KFold, GridSearchCV\n",
        "from sklearn.discriminant_analysis import LinearDiscriminantAnalysis as LDA\n",
        "from sklearn.linear_model import LogisticRegression\n",
        "from sklearn.ensemble import RandomForestClassifier, GradientBoostingClassifier\n",
        "from sklearn.metrics import confusion_matrix, plot_confusion_matrix\n",
        "\n",
        "import seaborn as sn\n",
        "\n",
        "link=\"https://drive.google.com/open?id=1ekH_MmN_ofsmz6bR3xHrRnmDfXSDCWQK\"\n",
        "_,id=link.split(\"=\")\n",
        "downloaded = drive.CreateFile({'id':id}) \n",
        "downloaded.GetContentFile('myfile.csv')\n",
        "hSSW_wdeltabike= pd.read_csv('myfile.csv')\n",
        "print('hSSW_wdeltabike imported')"
      ],
      "execution_count": null,
      "outputs": [
        {
          "output_type": "stream",
          "text": [
            "Requirement already up-to-date: scikit-learn in /usr/local/lib/python3.6/dist-packages (0.22)\n",
            "Requirement already satisfied, skipping upgrade: scipy>=0.17.0 in /usr/local/lib/python3.6/dist-packages (from scikit-learn) (1.3.3)\n",
            "Requirement already satisfied, skipping upgrade: joblib>=0.11 in /usr/local/lib/python3.6/dist-packages (from scikit-learn) (0.14.1)\n",
            "Requirement already satisfied, skipping upgrade: numpy>=1.11.0 in /usr/local/lib/python3.6/dist-packages (from scikit-learn) (1.17.4)\n",
            "hSSW_wdeltabike imported\n"
          ],
          "name": "stdout"
        }
      ]
    },
    {
      "cell_type": "code",
      "metadata": {
        "id": "I6m3fC_mIpiG",
        "outputId": "b6e372cb-c6a6-4d60-cc62-82e021b47b50",
        "colab": {
          "base_uri": "https://localhost:8080/",
          "height": 825
        }
      },
      "source": [
        "hSSW_wdeltabike"
      ],
      "execution_count": null,
      "outputs": [
        {
          "output_type": "execute_result",
          "data": {
            "text/html": [
              "<div>\n",
              "<style scoped>\n",
              "    .dataframe tbody tr th:only-of-type {\n",
              "        vertical-align: middle;\n",
              "    }\n",
              "\n",
              "    .dataframe tbody tr th {\n",
              "        vertical-align: top;\n",
              "    }\n",
              "\n",
              "    .dataframe thead th {\n",
              "        text-align: right;\n",
              "    }\n",
              "</style>\n",
              "<table border=\"1\" class=\"dataframe\">\n",
              "  <thead>\n",
              "    <tr style=\"text-align: right;\">\n",
              "      <th></th>\n",
              "      <th>Unnamed: 0</th>\n",
              "      <th>station_id</th>\n",
              "      <th>bikes_available</th>\n",
              "      <th>docks_available</th>\n",
              "      <th>Holiday</th>\n",
              "      <th>Weekend</th>\n",
              "      <th>name</th>\n",
              "      <th>lat</th>\n",
              "      <th>long</th>\n",
              "      <th>dock_count</th>\n",
              "      <th>city</th>\n",
              "      <th>installation_date</th>\n",
              "      <th>delta_bike</th>\n",
              "      <th>datetime</th>\n",
              "      <th>Humidity</th>\n",
              "      <th>Pressure</th>\n",
              "      <th>Temperature</th>\n",
              "      <th>Weather_Description</th>\n",
              "      <th>Wind_Direction</th>\n",
              "      <th>Wind_Speed</th>\n",
              "    </tr>\n",
              "  </thead>\n",
              "  <tbody>\n",
              "    <tr>\n",
              "      <th>0</th>\n",
              "      <td>0</td>\n",
              "      <td>2</td>\n",
              "      <td>2</td>\n",
              "      <td>25</td>\n",
              "      <td>False</td>\n",
              "      <td>False</td>\n",
              "      <td>San Jose Diridon Caltrain Station</td>\n",
              "      <td>37.329732</td>\n",
              "      <td>-121.901782</td>\n",
              "      <td>27</td>\n",
              "      <td>San Jose</td>\n",
              "      <td>8/6/2013</td>\n",
              "      <td>NaN</td>\n",
              "      <td>8/29/2013 13:00</td>\n",
              "      <td>94.0</td>\n",
              "      <td>1021</td>\n",
              "      <td>287.2795</td>\n",
              "      <td>broken clouds</td>\n",
              "      <td>201</td>\n",
              "      <td>0</td>\n",
              "    </tr>\n",
              "    <tr>\n",
              "      <th>1</th>\n",
              "      <td>1</td>\n",
              "      <td>3</td>\n",
              "      <td>9</td>\n",
              "      <td>6</td>\n",
              "      <td>False</td>\n",
              "      <td>False</td>\n",
              "      <td>San Jose Civic Center</td>\n",
              "      <td>37.330698</td>\n",
              "      <td>-121.888979</td>\n",
              "      <td>15</td>\n",
              "      <td>San Jose</td>\n",
              "      <td>8/5/2013</td>\n",
              "      <td>NaN</td>\n",
              "      <td>8/29/2013 13:00</td>\n",
              "      <td>94.0</td>\n",
              "      <td>1021</td>\n",
              "      <td>287.2795</td>\n",
              "      <td>broken clouds</td>\n",
              "      <td>201</td>\n",
              "      <td>0</td>\n",
              "    </tr>\n",
              "    <tr>\n",
              "      <th>2</th>\n",
              "      <td>2</td>\n",
              "      <td>4</td>\n",
              "      <td>0</td>\n",
              "      <td>11</td>\n",
              "      <td>False</td>\n",
              "      <td>False</td>\n",
              "      <td>Santa Clara at Almaden</td>\n",
              "      <td>37.333988</td>\n",
              "      <td>-121.894902</td>\n",
              "      <td>11</td>\n",
              "      <td>San Jose</td>\n",
              "      <td>8/6/2013</td>\n",
              "      <td>NaN</td>\n",
              "      <td>8/29/2013 13:00</td>\n",
              "      <td>94.0</td>\n",
              "      <td>1021</td>\n",
              "      <td>287.2795</td>\n",
              "      <td>broken clouds</td>\n",
              "      <td>201</td>\n",
              "      <td>0</td>\n",
              "    </tr>\n",
              "    <tr>\n",
              "      <th>3</th>\n",
              "      <td>3</td>\n",
              "      <td>5</td>\n",
              "      <td>9</td>\n",
              "      <td>10</td>\n",
              "      <td>False</td>\n",
              "      <td>False</td>\n",
              "      <td>Adobe on Almaden</td>\n",
              "      <td>37.331415</td>\n",
              "      <td>-121.893200</td>\n",
              "      <td>19</td>\n",
              "      <td>San Jose</td>\n",
              "      <td>8/5/2013</td>\n",
              "      <td>NaN</td>\n",
              "      <td>8/29/2013 13:00</td>\n",
              "      <td>94.0</td>\n",
              "      <td>1021</td>\n",
              "      <td>287.2795</td>\n",
              "      <td>broken clouds</td>\n",
              "      <td>201</td>\n",
              "      <td>0</td>\n",
              "    </tr>\n",
              "    <tr>\n",
              "      <th>4</th>\n",
              "      <td>4</td>\n",
              "      <td>6</td>\n",
              "      <td>4</td>\n",
              "      <td>11</td>\n",
              "      <td>False</td>\n",
              "      <td>False</td>\n",
              "      <td>San Pedro Square</td>\n",
              "      <td>37.336721</td>\n",
              "      <td>-121.894074</td>\n",
              "      <td>15</td>\n",
              "      <td>San Jose</td>\n",
              "      <td>8/7/2013</td>\n",
              "      <td>NaN</td>\n",
              "      <td>8/29/2013 13:00</td>\n",
              "      <td>94.0</td>\n",
              "      <td>1021</td>\n",
              "      <td>287.2795</td>\n",
              "      <td>broken clouds</td>\n",
              "      <td>201</td>\n",
              "      <td>0</td>\n",
              "    </tr>\n",
              "    <tr>\n",
              "      <th>...</th>\n",
              "      <td>...</td>\n",
              "      <td>...</td>\n",
              "      <td>...</td>\n",
              "      <td>...</td>\n",
              "      <td>...</td>\n",
              "      <td>...</td>\n",
              "      <td>...</td>\n",
              "      <td>...</td>\n",
              "      <td>...</td>\n",
              "      <td>...</td>\n",
              "      <td>...</td>\n",
              "      <td>...</td>\n",
              "      <td>...</td>\n",
              "      <td>...</td>\n",
              "      <td>...</td>\n",
              "      <td>...</td>\n",
              "      <td>...</td>\n",
              "      <td>...</td>\n",
              "      <td>...</td>\n",
              "      <td>...</td>\n",
              "    </tr>\n",
              "    <tr>\n",
              "      <th>634687</th>\n",
              "      <td>634687</td>\n",
              "      <td>70</td>\n",
              "      <td>6</td>\n",
              "      <td>13</td>\n",
              "      <td>False</td>\n",
              "      <td>True</td>\n",
              "      <td>San Francisco Caltrain (Townsend at 4th)</td>\n",
              "      <td>37.776617</td>\n",
              "      <td>-122.395260</td>\n",
              "      <td>19</td>\n",
              "      <td>San Francisco</td>\n",
              "      <td>8/23/2013</td>\n",
              "      <td>0.0</td>\n",
              "      <td>9/28/2014 14:00</td>\n",
              "      <td>100.0</td>\n",
              "      <td>1024</td>\n",
              "      <td>286.7370</td>\n",
              "      <td>sky is clear</td>\n",
              "      <td>159</td>\n",
              "      <td>1</td>\n",
              "    </tr>\n",
              "    <tr>\n",
              "      <th>634688</th>\n",
              "      <td>634688</td>\n",
              "      <td>71</td>\n",
              "      <td>5</td>\n",
              "      <td>14</td>\n",
              "      <td>False</td>\n",
              "      <td>True</td>\n",
              "      <td>Powell at Post (Union Square)</td>\n",
              "      <td>37.788446</td>\n",
              "      <td>-122.408499</td>\n",
              "      <td>19</td>\n",
              "      <td>San Francisco</td>\n",
              "      <td>8/23/2013</td>\n",
              "      <td>-2.0</td>\n",
              "      <td>9/28/2014 14:00</td>\n",
              "      <td>100.0</td>\n",
              "      <td>1024</td>\n",
              "      <td>286.7370</td>\n",
              "      <td>sky is clear</td>\n",
              "      <td>159</td>\n",
              "      <td>1</td>\n",
              "    </tr>\n",
              "    <tr>\n",
              "      <th>634689</th>\n",
              "      <td>634689</td>\n",
              "      <td>72</td>\n",
              "      <td>14</td>\n",
              "      <td>9</td>\n",
              "      <td>False</td>\n",
              "      <td>True</td>\n",
              "      <td>Civic Center BART (7th at Market)</td>\n",
              "      <td>37.781039</td>\n",
              "      <td>-122.411748</td>\n",
              "      <td>23</td>\n",
              "      <td>San Francisco</td>\n",
              "      <td>8/23/2013</td>\n",
              "      <td>0.0</td>\n",
              "      <td>9/28/2014 14:00</td>\n",
              "      <td>100.0</td>\n",
              "      <td>1024</td>\n",
              "      <td>286.7370</td>\n",
              "      <td>sky is clear</td>\n",
              "      <td>159</td>\n",
              "      <td>1</td>\n",
              "    </tr>\n",
              "    <tr>\n",
              "      <th>634690</th>\n",
              "      <td>634690</td>\n",
              "      <td>73</td>\n",
              "      <td>10</td>\n",
              "      <td>4</td>\n",
              "      <td>False</td>\n",
              "      <td>True</td>\n",
              "      <td>Grant Avenue at Columbus Avenue</td>\n",
              "      <td>37.798522</td>\n",
              "      <td>-122.407245</td>\n",
              "      <td>15</td>\n",
              "      <td>San Francisco</td>\n",
              "      <td>8/21/2013</td>\n",
              "      <td>-3.0</td>\n",
              "      <td>9/28/2014 14:00</td>\n",
              "      <td>100.0</td>\n",
              "      <td>1024</td>\n",
              "      <td>286.7370</td>\n",
              "      <td>sky is clear</td>\n",
              "      <td>159</td>\n",
              "      <td>1</td>\n",
              "    </tr>\n",
              "    <tr>\n",
              "      <th>634691</th>\n",
              "      <td>634691</td>\n",
              "      <td>74</td>\n",
              "      <td>3</td>\n",
              "      <td>20</td>\n",
              "      <td>False</td>\n",
              "      <td>True</td>\n",
              "      <td>Steuart at Market</td>\n",
              "      <td>37.794139</td>\n",
              "      <td>-122.394434</td>\n",
              "      <td>23</td>\n",
              "      <td>San Francisco</td>\n",
              "      <td>8/25/2013</td>\n",
              "      <td>0.0</td>\n",
              "      <td>9/28/2014 14:00</td>\n",
              "      <td>100.0</td>\n",
              "      <td>1024</td>\n",
              "      <td>286.7370</td>\n",
              "      <td>sky is clear</td>\n",
              "      <td>159</td>\n",
              "      <td>1</td>\n",
              "    </tr>\n",
              "  </tbody>\n",
              "</table>\n",
              "<p>634692 rows × 20 columns</p>\n",
              "</div>"
            ],
            "text/plain": [
              "        Unnamed: 0  station_id  ...  Wind_Direction  Wind_Speed\n",
              "0                0           2  ...             201           0\n",
              "1                1           3  ...             201           0\n",
              "2                2           4  ...             201           0\n",
              "3                3           5  ...             201           0\n",
              "4                4           6  ...             201           0\n",
              "...            ...         ...  ...             ...         ...\n",
              "634687      634687          70  ...             159           1\n",
              "634688      634688          71  ...             159           1\n",
              "634689      634689          72  ...             159           1\n",
              "634690      634690          73  ...             159           1\n",
              "634691      634691          74  ...             159           1\n",
              "\n",
              "[634692 rows x 20 columns]"
            ]
          },
          "metadata": {
            "tags": []
          },
          "execution_count": 2
        }
      ]
    },
    {
      "cell_type": "code",
      "metadata": {
        "id": "dD5itaZgKHdP",
        "outputId": "060bb52d-114e-4f81-a041-266a8c3eed7b",
        "colab": {
          "base_uri": "https://localhost:8080/",
          "height": 50
        }
      },
      "source": [
        "hSSW_wdeltabike['city'].unique()"
      ],
      "execution_count": null,
      "outputs": [
        {
          "output_type": "execute_result",
          "data": {
            "text/plain": [
              "array(['San Jose', 'Redwood City', 'Mountain View', 'Palo Alto',\n",
              "       'San Francisco'], dtype=object)"
            ]
          },
          "metadata": {
            "tags": []
          },
          "execution_count": 3
        }
      ]
    },
    {
      "cell_type": "code",
      "metadata": {
        "id": "QbsMfpC3KV28",
        "outputId": "7de45ac9-912a-4768-ff0a-189dccdaa92c",
        "colab": {
          "base_uri": "https://localhost:8080/",
          "height": 168
        }
      },
      "source": [
        "hSSW_wdeltabike['Weather_Description'].unique()"
      ],
      "execution_count": null,
      "outputs": [
        {
          "output_type": "execute_result",
          "data": {
            "text/plain": [
              "array(['broken clouds', 'mist', 'few clouds', 'sky is clear',\n",
              "       'thunderstorm', 'scattered clouds', 'overcast clouds',\n",
              "       'moderate rain', 'light rain', 'proximity thunderstorm', 'fog',\n",
              "       'haze', 'light intensity drizzle', 'heavy intensity drizzle',\n",
              "       'drizzle', 'thunderstorm with rain', 'proximity shower rain',\n",
              "       'thunderstorm with light rain', 'heavy intensity rain',\n",
              "       'very heavy rain', 'thunderstorm with heavy rain',\n",
              "       'proximity thunderstorm with rain', 'light intensity shower rain'],\n",
              "      dtype=object)"
            ]
          },
          "metadata": {
            "tags": []
          },
          "execution_count": 4
        }
      ]
    },
    {
      "cell_type": "markdown",
      "metadata": {
        "id": "gv6ugX7-SwMP"
      },
      "source": [
        "# Coherence Check and Cleaning"
      ]
    },
    {
      "cell_type": "code",
      "metadata": {
        "id": "Sy6athEfI9Sn",
        "outputId": "af65af18-c605-4625-edf2-2a9557d07af3",
        "colab": {
          "base_uri": "https://localhost:8080/",
          "height": 282
        }
      },
      "source": [
        "hSSW_wdeltabike['check']=hSSW_wdeltabike['bikes_available']+hSSW_wdeltabike['docks_available']-hSSW_wdeltabike['dock_count']\n",
        "unique,count=np.unique(hSSW_wdeltabike['check'],return_counts=True)\n",
        "plt.bar(np.delete(unique,-3),np.delete(count,-3)) #delete count of value 0"
      ],
      "execution_count": null,
      "outputs": [
        {
          "output_type": "execute_result",
          "data": {
            "text/plain": [
              "<BarContainer object of 14 artists>"
            ]
          },
          "metadata": {
            "tags": []
          },
          "execution_count": 5
        },
        {
          "output_type": "display_data",
          "data": {
            "image/png": "[encoded data removed]",
            "text/plain": [
              "<Figure size 432x288 with 1 Axes>"
            ]
          },
          "metadata": {
            "tags": []
          }
        }
      ]
    },
    {
      "cell_type": "code",
      "metadata": {
        "id": "_paz44K3MeAw",
        "outputId": "f882b08c-99f2-4cde-8c39-e662acd23c9b",
        "colab": {
          "base_uri": "https://localhost:8080/",
          "height": 282
        }
      },
      "source": [
        "unique_id,count_id=np.unique(hSSW_wdeltabike[hSSW_wdeltabike['check']!=0]['station_id'],return_counts=True)\n",
        "plt.bar(unique_id,count_id)"
      ],
      "execution_count": null,
      "outputs": [
        {
          "output_type": "execute_result",
          "data": {
            "text/plain": [
              "<BarContainer object of 69 artists>"
            ]
          },
          "metadata": {
            "tags": []
          },
          "execution_count": 6
        },
        {
          "output_type": "display_data",
          "data": {
            "image/png": "[encoded data removed]",
            "text/plain": [
              "<Figure size 432x288 with 1 Axes>"
            ]
          },
          "metadata": {
            "tags": []
          }
        }
      ]
    },
    {
      "cell_type": "code",
      "metadata": {
        "id": "CsQ4YW38MyLh",
        "outputId": "61b96b78-ba1b-4f65-fa12-8c76f5dc7479",
        "colab": {
          "base_uri": "https://localhost:8080/",
          "height": 218
        }
      },
      "source": [
        "unique_id,count_id"
      ],
      "execution_count": null,
      "outputs": [
        {
          "output_type": "execute_result",
          "data": {
            "text/plain": [
              "(array([ 2,  3,  4,  5,  6,  7,  8,  9, 10, 11, 12, 13, 14, 16, 21, 22, 23,\n",
              "        24, 26, 27, 28, 29, 30, 31, 32, 33, 34, 35, 36, 37, 38, 39, 41, 42,\n",
              "        45, 46, 47, 48, 49, 50, 51, 54, 55, 56, 57, 58, 59, 60, 61, 62, 63,\n",
              "        64, 65, 66, 67, 68, 69, 70, 71, 72, 73, 74, 75, 76, 77, 80, 82, 83,\n",
              "        84], dtype=int64),\n",
              " array([ 298,   56,  124,   52,   38,  105,  110,   33,   78,   78,   83,\n",
              "          98,   84,   50,   60, 9130,   22,    2,    4,   23,  122,    2,\n",
              "          22,    5,  112,   45,  257,   70,   15,   30,   26,  382,  162,\n",
              "         100,  133,   63,  261,  104,   79,  667,  110,  147,  227,  107,\n",
              "         200,  212,  174,  161, 3675,  198,  170,  133,  207,  341,  434,\n",
              "         172,  223,  246,   82,  434,   66, 3715,  118,  317, 3714,   19,\n",
              "          56,   32,   66]))"
            ]
          },
          "metadata": {
            "tags": []
          },
          "execution_count": 7
        }
      ]
    },
    {
      "cell_type": "code",
      "metadata": {
        "id": "BSKjdX_kPzvE",
        "outputId": "18a72ce0-92e5-4cdc-efcd-4549bde3fddd",
        "colab": {
          "base_uri": "https://localhost:8080/",
          "height": 34
        }
      },
      "source": [
        "count_id[np.argsort(count_id)[-4:]],unique_id[np.argsort(count_id)[-4:]]"
      ],
      "execution_count": null,
      "outputs": [
        {
          "output_type": "execute_result",
          "data": {
            "text/plain": [
              "(array([3675, 3714, 3715, 9130]), array([61, 77, 74, 22], dtype=int64))"
            ]
          },
          "metadata": {
            "tags": []
          },
          "execution_count": 8
        }
      ]
    },
    {
      "cell_type": "code",
      "metadata": {
        "id": "NPDW3GIAQF97",
        "outputId": "160f1774-9dbf-46d5-f212-e74bba1a71c0",
        "colab": {
          "base_uri": "https://localhost:8080/",
          "height": 34
        }
      },
      "source": [
        "np.unique(hSSW_wdeltabike[hSSW_wdeltabike['station_id']==22]['check'],return_counts=True)"
      ],
      "execution_count": null,
      "outputs": [
        {
          "output_type": "execute_result",
          "data": {
            "text/plain": [
              "(array([-1,  0,  1,  2], dtype=int64), array([   3,  250,   39, 9088]))"
            ]
          },
          "metadata": {
            "tags": []
          },
          "execution_count": 9
        }
      ]
    },
    {
      "cell_type": "markdown",
      "metadata": {
        "id": "1r-lSa0rSuoS"
      },
      "source": [
        "We can certainly deduce an error in the dock count. In addition, the number of bikes and docks available is varaible, contrary to the dock_count, which is fixed. If some docks are under repair, we will see them in the availability variable, but not in the dock_count."
      ]
    },
    {
      "cell_type": "code",
      "metadata": {
        "id": "P2wstyG2R0rf",
        "outputId": "bd4b8c22-55d7-4418-d536-7e98120fb604",
        "colab": {
          "base_uri": "https://localhost:8080/",
          "height": 50
        }
      },
      "source": [
        "np.unique(hSSW_wdeltabike['dock_count'],return_counts=True)"
      ],
      "execution_count": null,
      "outputs": [
        {
          "output_type": "execute_result",
          "data": {
            "text/plain": [
              "(array([11, 15, 19, 23, 25, 27], dtype=int64),\n",
              " array([ 34598, 300137, 168663,  84397,   9380,  37517]))"
            ]
          },
          "metadata": {
            "tags": []
          },
          "execution_count": 10
        }
      ]
    },
    {
      "cell_type": "code",
      "metadata": {
        "id": "de-pkJIcSfFS"
      },
      "source": [
        "hSSW_wdeltabike['dock_total']=hSSW_wdeltabike['bikes_available']+hSSW_wdeltabike['docks_available']"
      ],
      "execution_count": null,
      "outputs": []
    },
    {
      "cell_type": "markdown",
      "metadata": {
        "id": "Owmykkj1TwZa"
      },
      "source": [
        "# Categorical Label Implementation"
      ]
    },
    {
      "cell_type": "code",
      "metadata": {
        "id": "JdajVaa5Tn5E"
      },
      "source": [
        "hSSW_wdeltabike['Category']=1"
      ],
      "execution_count": null,
      "outputs": []
    },
    {
      "cell_type": "code",
      "metadata": {
        "id": "8jcrBaaAVHC1"
      },
      "source": [
        "hSSW_wdeltabike.loc[(hSSW_wdeltabike['bikes_available']/hSSW_wdeltabike['dock_total'])<0.1,'Category']=0\n",
        "hSSW_wdeltabike.loc[(hSSW_wdeltabike['docks_available']/hSSW_wdeltabike['dock_total'])<0.1,'Category']=2"
      ],
      "execution_count": null,
      "outputs": []
    },
    {
      "cell_type": "markdown",
      "metadata": {
        "id": "WQQl6BZJXrt7"
      },
      "source": [
        "# Features Selection and Modification"
      ]
    },
    {
      "cell_type": "markdown",
      "metadata": {
        "id": "BXxshqXYfvve"
      },
      "source": [
        "### City"
      ]
    },
    {
      "cell_type": "code",
      "metadata": {
        "id": "_o08lj9GVhOz",
        "outputId": "059b1623-a5b9-48a3-b0c3-dbc10777a85a",
        "colab": {
          "base_uri": "https://localhost:8080/",
          "height": 195
        }
      },
      "source": [
        "City=pd.get_dummies(hSSW_wdeltabike['city'])\n",
        "City.head()"
      ],
      "execution_count": null,
      "outputs": [
        {
          "output_type": "execute_result",
          "data": {
            "text/html": [
              "<div>\n",
              "<style scoped>\n",
              "    .dataframe tbody tr th:only-of-type {\n",
              "        vertical-align: middle;\n",
              "    }\n",
              "\n",
              "    .dataframe tbody tr th {\n",
              "        vertical-align: top;\n",
              "    }\n",
              "\n",
              "    .dataframe thead th {\n",
              "        text-align: right;\n",
              "    }\n",
              "</style>\n",
              "<table border=\"1\" class=\"dataframe\">\n",
              "  <thead>\n",
              "    <tr style=\"text-align: right;\">\n",
              "      <th></th>\n",
              "      <th>Mountain View</th>\n",
              "      <th>Palo Alto</th>\n",
              "      <th>Redwood City</th>\n",
              "      <th>San Francisco</th>\n",
              "      <th>San Jose</th>\n",
              "    </tr>\n",
              "  </thead>\n",
              "  <tbody>\n",
              "    <tr>\n",
              "      <th>0</th>\n",
              "      <td>0</td>\n",
              "      <td>0</td>\n",
              "      <td>0</td>\n",
              "      <td>0</td>\n",
              "      <td>1</td>\n",
              "    </tr>\n",
              "    <tr>\n",
              "      <th>1</th>\n",
              "      <td>0</td>\n",
              "      <td>0</td>\n",
              "      <td>0</td>\n",
              "      <td>0</td>\n",
              "      <td>1</td>\n",
              "    </tr>\n",
              "    <tr>\n",
              "      <th>2</th>\n",
              "      <td>0</td>\n",
              "      <td>0</td>\n",
              "      <td>0</td>\n",
              "      <td>0</td>\n",
              "      <td>1</td>\n",
              "    </tr>\n",
              "    <tr>\n",
              "      <th>3</th>\n",
              "      <td>0</td>\n",
              "      <td>0</td>\n",
              "      <td>0</td>\n",
              "      <td>0</td>\n",
              "      <td>1</td>\n",
              "    </tr>\n",
              "    <tr>\n",
              "      <th>4</th>\n",
              "      <td>0</td>\n",
              "      <td>0</td>\n",
              "      <td>0</td>\n",
              "      <td>0</td>\n",
              "      <td>1</td>\n",
              "    </tr>\n",
              "  </tbody>\n",
              "</table>\n",
              "</div>"
            ],
            "text/plain": [
              "   Mountain View  Palo Alto  Redwood City  San Francisco  San Jose\n",
              "0              0          0             0              0         1\n",
              "1              0          0             0              0         1\n",
              "2              0          0             0              0         1\n",
              "3              0          0             0              0         1\n",
              "4              0          0             0              0         1"
            ]
          },
          "metadata": {
            "tags": []
          },
          "execution_count": 14
        }
      ]
    },
    {
      "cell_type": "markdown",
      "metadata": {
        "id": "wUV5-M7vf0OS"
      },
      "source": [
        "### Weather"
      ]
    },
    {
      "cell_type": "code",
      "metadata": {
        "id": "9oGnJ4P4X26z",
        "outputId": "41cd3ca8-ace1-445a-e5fd-ae450aa3dd74",
        "colab": {
          "base_uri": "https://localhost:8080/",
          "height": 168
        }
      },
      "source": [
        "hSSW_wdeltabike['Weather_Description'].unique()"
      ],
      "execution_count": null,
      "outputs": [
        {
          "output_type": "execute_result",
          "data": {
            "text/plain": [
              "array(['broken clouds', 'mist', 'few clouds', 'sky is clear',\n",
              "       'thunderstorm', 'scattered clouds', 'overcast clouds',\n",
              "       'moderate rain', 'light rain', 'proximity thunderstorm', 'fog',\n",
              "       'haze', 'light intensity drizzle', 'heavy intensity drizzle',\n",
              "       'drizzle', 'thunderstorm with rain', 'proximity shower rain',\n",
              "       'thunderstorm with light rain', 'heavy intensity rain',\n",
              "       'very heavy rain', 'thunderstorm with heavy rain',\n",
              "       'proximity thunderstorm with rain', 'light intensity shower rain'],\n",
              "      dtype=object)"
            ]
          },
          "metadata": {
            "tags": []
          },
          "execution_count": 15
        }
      ]
    },
    {
      "cell_type": "markdown",
      "metadata": {
        "id": "Sd0-aXaeYh7W"
      },
      "source": [
        "Goal: Simplify the Weather Description to a more General weather:\n",
        "- Sunny: Sky is clear\n",
        "- Cloudy: Broken clouds, Few clouds, Scattered clouds, Overcast clouds\n",
        "- Foggy: Mist, Fog, Haze, \n",
        "- Light Rain: light rain, light intensity drizzle, thunderstorm with light rain,light intensity shower rain\n",
        "- Moderate Rain: moderate rain, drizzle, thunderstorm with rain\n",
        "- Heavy Rain: heavy intensity rain, heavy intensity drizzle, thunderstorm with heavy rain, very heavy rain\n",
        "- Proximity to Rain: thunderstorm, proximity thunderstorm, proximity shower rain, proximity thunderstorm with rain"
      ]
    },
    {
      "cell_type": "code",
      "metadata": {
        "id": "oNN_swrxYgjN"
      },
      "source": [
        "hSSW_wdeltabike['Weather_Simplified']=hSSW_wdeltabike['Weather_Description']"
      ],
      "execution_count": null,
      "outputs": []
    },
    {
      "cell_type": "code",
      "metadata": {
        "id": "fMVYe6Uib4lr"
      },
      "source": [
        "hSSW_wdeltabike.loc[hSSW_wdeltabike['Weather_Description']=='sky is clear','Weather_Simplified']='Sunny'\n",
        "hSSW_wdeltabike.loc[hSSW_wdeltabike['Weather_Description']=='broken clouds','Weather_Simplified']='Cloudy'\n",
        "hSSW_wdeltabike.loc[hSSW_wdeltabike['Weather_Description']=='few clouds','Weather_Simplified']='Cloudy'\n",
        "hSSW_wdeltabike.loc[hSSW_wdeltabike['Weather_Description']=='scattered clouds','Weather_Simplified']='Cloudy'\n",
        "hSSW_wdeltabike.loc[hSSW_wdeltabike['Weather_Description']=='overcast clouds','Weather_Simplified']='Cloudy'\n",
        "hSSW_wdeltabike.loc[hSSW_wdeltabike['Weather_Description']=='mist','Weather_Simplified']='Foggy'\n",
        "hSSW_wdeltabike.loc[hSSW_wdeltabike['Weather_Description']=='fog','Weather_Simplified']='Foggy'\n",
        "hSSW_wdeltabike.loc[hSSW_wdeltabike['Weather_Description']=='haze','Weather_Simplified']='Foggy'\n",
        "hSSW_wdeltabike.loc[hSSW_wdeltabike['Weather_Description']=='light rain','Weather_Simplified']='Light Rain'\n",
        "hSSW_wdeltabike.loc[hSSW_wdeltabike['Weather_Description']=='light intensity drizzle','Weather_Simplified']='Light Rain'\n",
        "hSSW_wdeltabike.loc[hSSW_wdeltabike['Weather_Description']=='thunderstorm with light rain','Weather_Simplified']='Light Rain'\n",
        "hSSW_wdeltabike.loc[hSSW_wdeltabike['Weather_Description']=='light intensity shower rain','Weather_Simplified']='Light Rain'\n",
        "hSSW_wdeltabike.loc[hSSW_wdeltabike['Weather_Description']=='moderate rain','Weather_Simplified']='Moderate Rain'\n",
        "hSSW_wdeltabike.loc[hSSW_wdeltabike['Weather_Description']=='drizzle','Weather_Simplified']='Moderate Rain'\n",
        "hSSW_wdeltabike.loc[hSSW_wdeltabike['Weather_Description']=='thunderstorm with rain','Weather_Simplified']='Moderate Rain'\n",
        "hSSW_wdeltabike.loc[hSSW_wdeltabike['Weather_Description']=='heavy intensity rain','Weather_Simplified']='Heavy Rain'\n",
        "hSSW_wdeltabike.loc[hSSW_wdeltabike['Weather_Description']=='heavy intensity drizzle','Weather_Simplified']='Heavy Rain'\n",
        "hSSW_wdeltabike.loc[hSSW_wdeltabike['Weather_Description']=='thunderstorm with heavy rain','Weather_Simplified']='Heavy Rain'\n",
        "hSSW_wdeltabike.loc[hSSW_wdeltabike['Weather_Description']=='very heavy rain','Weather_Simplified']='Heavy Rain'\n",
        "hSSW_wdeltabike.loc[hSSW_wdeltabike['Weather_Description']=='thunderstorm','Weather_Simplified']='Proximity to Rain'\n",
        "hSSW_wdeltabike.loc[hSSW_wdeltabike['Weather_Description']=='proximity thunderstorm','Weather_Simplified']='Proximity to Rain'\n",
        "hSSW_wdeltabike.loc[hSSW_wdeltabike['Weather_Description']=='proximity shower rain','Weather_Simplified']='Proximity to Rain'\n",
        "hSSW_wdeltabike.loc[hSSW_wdeltabike['Weather_Description']=='proximity thunderstorm with rain','Weather_Simplified']='Proximity to Rain'"
      ],
      "execution_count": null,
      "outputs": []
    },
    {
      "cell_type": "code",
      "metadata": {
        "id": "byxrAer_cECE"
      },
      "source": [
        "hSSW_wdeltabike['Rain']=1\n",
        "hSSW_wdeltabike.loc[hSSW_wdeltabike['Weather_Simplified']=='Sunny','Rain']=0\n",
        "hSSW_wdeltabike.loc[hSSW_wdeltabike['Weather_Simplified']=='Cloudy','Rain']=0\n",
        "hSSW_wdeltabike.loc[hSSW_wdeltabike['Weather_Simplified']=='Foggy','Rain']=0\n",
        "hSSW_wdeltabike.loc[hSSW_wdeltabike['Weather_Simplified']=='Proximity to Rain','Rain']=0"
      ],
      "execution_count": null,
      "outputs": []
    },
    {
      "cell_type": "markdown",
      "metadata": {
        "id": "UBqK8MFRe8gY"
      },
      "source": [
        "Weather Description from 23 to 7 categories, and an additional dummy Rain column."
      ]
    },
    {
      "cell_type": "code",
      "metadata": {
        "id": "hRs9TUCEcUaV",
        "outputId": "8bc6082d-0d6d-4881-fd80-a2c868778c4f",
        "colab": {
          "base_uri": "https://localhost:8080/",
          "height": 195
        }
      },
      "source": [
        "Weather_Simplified=pd.get_dummies(hSSW_wdeltabike['Weather_Simplified'])\n",
        "Weather_Simplified.head()"
      ],
      "execution_count": null,
      "outputs": [
        {
          "output_type": "execute_result",
          "data": {
            "text/html": [
              "<div>\n",
              "<style scoped>\n",
              "    .dataframe tbody tr th:only-of-type {\n",
              "        vertical-align: middle;\n",
              "    }\n",
              "\n",
              "    .dataframe tbody tr th {\n",
              "        vertical-align: top;\n",
              "    }\n",
              "\n",
              "    .dataframe thead th {\n",
              "        text-align: right;\n",
              "    }\n",
              "</style>\n",
              "<table border=\"1\" class=\"dataframe\">\n",
              "  <thead>\n",
              "    <tr style=\"text-align: right;\">\n",
              "      <th></th>\n",
              "      <th>Cloudy</th>\n",
              "      <th>Foggy</th>\n",
              "      <th>Heavy Rain</th>\n",
              "      <th>Light Rain</th>\n",
              "      <th>Moderate Rain</th>\n",
              "      <th>Proximity to Rain</th>\n",
              "      <th>Sunny</th>\n",
              "    </tr>\n",
              "  </thead>\n",
              "  <tbody>\n",
              "    <tr>\n",
              "      <th>0</th>\n",
              "      <td>1</td>\n",
              "      <td>0</td>\n",
              "      <td>0</td>\n",
              "      <td>0</td>\n",
              "      <td>0</td>\n",
              "      <td>0</td>\n",
              "      <td>0</td>\n",
              "    </tr>\n",
              "    <tr>\n",
              "      <th>1</th>\n",
              "      <td>1</td>\n",
              "      <td>0</td>\n",
              "      <td>0</td>\n",
              "      <td>0</td>\n",
              "      <td>0</td>\n",
              "      <td>0</td>\n",
              "      <td>0</td>\n",
              "    </tr>\n",
              "    <tr>\n",
              "      <th>2</th>\n",
              "      <td>1</td>\n",
              "      <td>0</td>\n",
              "      <td>0</td>\n",
              "      <td>0</td>\n",
              "      <td>0</td>\n",
              "      <td>0</td>\n",
              "      <td>0</td>\n",
              "    </tr>\n",
              "    <tr>\n",
              "      <th>3</th>\n",
              "      <td>1</td>\n",
              "      <td>0</td>\n",
              "      <td>0</td>\n",
              "      <td>0</td>\n",
              "      <td>0</td>\n",
              "      <td>0</td>\n",
              "      <td>0</td>\n",
              "    </tr>\n",
              "    <tr>\n",
              "      <th>4</th>\n",
              "      <td>1</td>\n",
              "      <td>0</td>\n",
              "      <td>0</td>\n",
              "      <td>0</td>\n",
              "      <td>0</td>\n",
              "      <td>0</td>\n",
              "      <td>0</td>\n",
              "    </tr>\n",
              "  </tbody>\n",
              "</table>\n",
              "</div>"
            ],
            "text/plain": [
              "   Cloudy  Foggy  Heavy Rain  ...  Moderate Rain  Proximity to Rain  Sunny\n",
              "0       1      0           0  ...              0                  0      0\n",
              "1       1      0           0  ...              0                  0      0\n",
              "2       1      0           0  ...              0                  0      0\n",
              "3       1      0           0  ...              0                  0      0\n",
              "4       1      0           0  ...              0                  0      0\n",
              "\n",
              "[5 rows x 7 columns]"
            ]
          },
          "metadata": {
            "tags": []
          },
          "execution_count": 19
        }
      ]
    },
    {
      "cell_type": "markdown",
      "metadata": {
        "id": "8-zIC-OBf6j8"
      },
      "source": [
        "### Wind Direction"
      ]
    },
    {
      "cell_type": "code",
      "metadata": {
        "id": "UIO3fKuOfanL"
      },
      "source": [
        "hSSW_wdeltabike['Wind_Orientation']='North'"
      ],
      "execution_count": null,
      "outputs": []
    },
    {
      "cell_type": "code",
      "metadata": {
        "id": "dXolIvKbhDGo"
      },
      "source": [
        "hSSW_wdeltabike.loc[(hSSW_wdeltabike['Wind_Direction'].astype(int)>45) & (hSSW_wdeltabike['Wind_Direction'].astype(int)<=135),'Wind_Orientation']='East'\n",
        "hSSW_wdeltabike.loc[(hSSW_wdeltabike['Wind_Direction'].astype(int)>135) & (hSSW_wdeltabike['Wind_Direction'].astype(int)<=225),'Wind_Orientation']='South'\n",
        "hSSW_wdeltabike.loc[(hSSW_wdeltabike['Wind_Direction'].astype(int)>225) & (hSSW_wdeltabike['Wind_Direction'].astype(int)<=315),'Wind_Orientation']='West'"
      ],
      "execution_count": null,
      "outputs": []
    },
    {
      "cell_type": "code",
      "metadata": {
        "id": "1Vdns2e8hifm",
        "outputId": "11a357c8-170b-48b2-f0e7-ec95e4bf519b",
        "colab": {
          "base_uri": "https://localhost:8080/",
          "height": 195
        }
      },
      "source": [
        "Wind_Orientation=pd.get_dummies(hSSW_wdeltabike['Wind_Orientation'])\n",
        "Wind_Orientation.head()"
      ],
      "execution_count": null,
      "outputs": [
        {
          "output_type": "execute_result",
          "data": {
            "text/html": [
              "<div>\n",
              "<style scoped>\n",
              "    .dataframe tbody tr th:only-of-type {\n",
              "        vertical-align: middle;\n",
              "    }\n",
              "\n",
              "    .dataframe tbody tr th {\n",
              "        vertical-align: top;\n",
              "    }\n",
              "\n",
              "    .dataframe thead th {\n",
              "        text-align: right;\n",
              "    }\n",
              "</style>\n",
              "<table border=\"1\" class=\"dataframe\">\n",
              "  <thead>\n",
              "    <tr style=\"text-align: right;\">\n",
              "      <th></th>\n",
              "      <th>East</th>\n",
              "      <th>North</th>\n",
              "      <th>South</th>\n",
              "      <th>West</th>\n",
              "    </tr>\n",
              "  </thead>\n",
              "  <tbody>\n",
              "    <tr>\n",
              "      <th>0</th>\n",
              "      <td>0</td>\n",
              "      <td>0</td>\n",
              "      <td>1</td>\n",
              "      <td>0</td>\n",
              "    </tr>\n",
              "    <tr>\n",
              "      <th>1</th>\n",
              "      <td>0</td>\n",
              "      <td>0</td>\n",
              "      <td>1</td>\n",
              "      <td>0</td>\n",
              "    </tr>\n",
              "    <tr>\n",
              "      <th>2</th>\n",
              "      <td>0</td>\n",
              "      <td>0</td>\n",
              "      <td>1</td>\n",
              "      <td>0</td>\n",
              "    </tr>\n",
              "    <tr>\n",
              "      <th>3</th>\n",
              "      <td>0</td>\n",
              "      <td>0</td>\n",
              "      <td>1</td>\n",
              "      <td>0</td>\n",
              "    </tr>\n",
              "    <tr>\n",
              "      <th>4</th>\n",
              "      <td>0</td>\n",
              "      <td>0</td>\n",
              "      <td>1</td>\n",
              "      <td>0</td>\n",
              "    </tr>\n",
              "  </tbody>\n",
              "</table>\n",
              "</div>"
            ],
            "text/plain": [
              "   East  North  South  West\n",
              "0     0      0      1     0\n",
              "1     0      0      1     0\n",
              "2     0      0      1     0\n",
              "3     0      0      1     0\n",
              "4     0      0      1     0"
            ]
          },
          "metadata": {
            "tags": []
          },
          "execution_count": 22
        }
      ]
    },
    {
      "cell_type": "markdown",
      "metadata": {
        "id": "Sp4fjoN-rf7_"
      },
      "source": [
        "### Time"
      ]
    },
    {
      "cell_type": "code",
      "metadata": {
        "id": "JJKPMXX2h3-U"
      },
      "source": [
        "hSSW_wdeltabike['Hour']=hSSW_wdeltabike['datetime'].astype('datetime64').dt.hour\n",
        "hSSW_wdeltabike['Month']=hSSW_wdeltabike['datetime'].astype('datetime64').dt.month"
      ],
      "execution_count": null,
      "outputs": []
    },
    {
      "cell_type": "code",
      "metadata": {
        "id": "mraBVj5prpWJ",
        "outputId": "3fee4803-0acd-4db1-dc5c-c618c0e8b1fb",
        "colab": {
          "base_uri": "https://localhost:8080/",
          "height": 450
        }
      },
      "source": [
        "hSSW_wdeltabike.head()"
      ],
      "execution_count": null,
      "outputs": [
        {
          "output_type": "execute_result",
          "data": {
            "text/html": [
              "<div>\n",
              "<style scoped>\n",
              "    .dataframe tbody tr th:only-of-type {\n",
              "        vertical-align: middle;\n",
              "    }\n",
              "\n",
              "    .dataframe tbody tr th {\n",
              "        vertical-align: top;\n",
              "    }\n",
              "\n",
              "    .dataframe thead th {\n",
              "        text-align: right;\n",
              "    }\n",
              "</style>\n",
              "<table border=\"1\" class=\"dataframe\">\n",
              "  <thead>\n",
              "    <tr style=\"text-align: right;\">\n",
              "      <th></th>\n",
              "      <th>Unnamed: 0</th>\n",
              "      <th>station_id</th>\n",
              "      <th>bikes_available</th>\n",
              "      <th>docks_available</th>\n",
              "      <th>Holiday</th>\n",
              "      <th>Weekend</th>\n",
              "      <th>name</th>\n",
              "      <th>lat</th>\n",
              "      <th>long</th>\n",
              "      <th>dock_count</th>\n",
              "      <th>city</th>\n",
              "      <th>installation_date</th>\n",
              "      <th>delta_bike</th>\n",
              "      <th>datetime</th>\n",
              "      <th>Humidity</th>\n",
              "      <th>Pressure</th>\n",
              "      <th>Temperature</th>\n",
              "      <th>Weather_Description</th>\n",
              "      <th>Wind_Direction</th>\n",
              "      <th>Wind_Speed</th>\n",
              "      <th>check</th>\n",
              "      <th>dock_total</th>\n",
              "      <th>Category</th>\n",
              "      <th>Weather_Simplified</th>\n",
              "      <th>Rain</th>\n",
              "      <th>Wind_Orientation</th>\n",
              "      <th>Hour</th>\n",
              "      <th>Month</th>\n",
              "    </tr>\n",
              "  </thead>\n",
              "  <tbody>\n",
              "    <tr>\n",
              "      <th>0</th>\n",
              "      <td>0</td>\n",
              "      <td>2</td>\n",
              "      <td>2</td>\n",
              "      <td>25</td>\n",
              "      <td>False</td>\n",
              "      <td>False</td>\n",
              "      <td>San Jose Diridon Caltrain Station</td>\n",
              "      <td>37.329732</td>\n",
              "      <td>-121.901782</td>\n",
              "      <td>27</td>\n",
              "      <td>San Jose</td>\n",
              "      <td>8/6/2013</td>\n",
              "      <td>NaN</td>\n",
              "      <td>8/29/2013 13:00</td>\n",
              "      <td>94.0</td>\n",
              "      <td>1021</td>\n",
              "      <td>287.2795</td>\n",
              "      <td>broken clouds</td>\n",
              "      <td>201</td>\n",
              "      <td>0</td>\n",
              "      <td>0</td>\n",
              "      <td>27</td>\n",
              "      <td>0</td>\n",
              "      <td>Cloudy</td>\n",
              "      <td>0</td>\n",
              "      <td>South</td>\n",
              "      <td>13</td>\n",
              "      <td>8</td>\n",
              "    </tr>\n",
              "    <tr>\n",
              "      <th>1</th>\n",
              "      <td>1</td>\n",
              "      <td>3</td>\n",
              "      <td>9</td>\n",
              "      <td>6</td>\n",
              "      <td>False</td>\n",
              "      <td>False</td>\n",
              "      <td>San Jose Civic Center</td>\n",
              "      <td>37.330698</td>\n",
              "      <td>-121.888979</td>\n",
              "      <td>15</td>\n",
              "      <td>San Jose</td>\n",
              "      <td>8/5/2013</td>\n",
              "      <td>NaN</td>\n",
              "      <td>8/29/2013 13:00</td>\n",
              "      <td>94.0</td>\n",
              "      <td>1021</td>\n",
              "      <td>287.2795</td>\n",
              "      <td>broken clouds</td>\n",
              "      <td>201</td>\n",
              "      <td>0</td>\n",
              "      <td>0</td>\n",
              "      <td>15</td>\n",
              "      <td>1</td>\n",
              "      <td>Cloudy</td>\n",
              "      <td>0</td>\n",
              "      <td>South</td>\n",
              "      <td>13</td>\n",
              "      <td>8</td>\n",
              "    </tr>\n",
              "    <tr>\n",
              "      <th>2</th>\n",
              "      <td>2</td>\n",
              "      <td>4</td>\n",
              "      <td>0</td>\n",
              "      <td>11</td>\n",
              "      <td>False</td>\n",
              "      <td>False</td>\n",
              "      <td>Santa Clara at Almaden</td>\n",
              "      <td>37.333988</td>\n",
              "      <td>-121.894902</td>\n",
              "      <td>11</td>\n",
              "      <td>San Jose</td>\n",
              "      <td>8/6/2013</td>\n",
              "      <td>NaN</td>\n",
              "      <td>8/29/2013 13:00</td>\n",
              "      <td>94.0</td>\n",
              "      <td>1021</td>\n",
              "      <td>287.2795</td>\n",
              "      <td>broken clouds</td>\n",
              "      <td>201</td>\n",
              "      <td>0</td>\n",
              "      <td>0</td>\n",
              "      <td>11</td>\n",
              "      <td>0</td>\n",
              "      <td>Cloudy</td>\n",
              "      <td>0</td>\n",
              "      <td>South</td>\n",
              "      <td>13</td>\n",
              "      <td>8</td>\n",
              "    </tr>\n",
              "    <tr>\n",
              "      <th>3</th>\n",
              "      <td>3</td>\n",
              "      <td>5</td>\n",
              "      <td>9</td>\n",
              "      <td>10</td>\n",
              "      <td>False</td>\n",
              "      <td>False</td>\n",
              "      <td>Adobe on Almaden</td>\n",
              "      <td>37.331415</td>\n",
              "      <td>-121.893200</td>\n",
              "      <td>19</td>\n",
              "      <td>San Jose</td>\n",
              "      <td>8/5/2013</td>\n",
              "      <td>NaN</td>\n",
              "      <td>8/29/2013 13:00</td>\n",
              "      <td>94.0</td>\n",
              "      <td>1021</td>\n",
              "      <td>287.2795</td>\n",
              "      <td>broken clouds</td>\n",
              "      <td>201</td>\n",
              "      <td>0</td>\n",
              "      <td>0</td>\n",
              "      <td>19</td>\n",
              "      <td>1</td>\n",
              "      <td>Cloudy</td>\n",
              "      <td>0</td>\n",
              "      <td>South</td>\n",
              "      <td>13</td>\n",
              "      <td>8</td>\n",
              "    </tr>\n",
              "    <tr>\n",
              "      <th>4</th>\n",
              "      <td>4</td>\n",
              "      <td>6</td>\n",
              "      <td>4</td>\n",
              "      <td>11</td>\n",
              "      <td>False</td>\n",
              "      <td>False</td>\n",
              "      <td>San Pedro Square</td>\n",
              "      <td>37.336721</td>\n",
              "      <td>-121.894074</td>\n",
              "      <td>15</td>\n",
              "      <td>San Jose</td>\n",
              "      <td>8/7/2013</td>\n",
              "      <td>NaN</td>\n",
              "      <td>8/29/2013 13:00</td>\n",
              "      <td>94.0</td>\n",
              "      <td>1021</td>\n",
              "      <td>287.2795</td>\n",
              "      <td>broken clouds</td>\n",
              "      <td>201</td>\n",
              "      <td>0</td>\n",
              "      <td>0</td>\n",
              "      <td>15</td>\n",
              "      <td>1</td>\n",
              "      <td>Cloudy</td>\n",
              "      <td>0</td>\n",
              "      <td>South</td>\n",
              "      <td>13</td>\n",
              "      <td>8</td>\n",
              "    </tr>\n",
              "  </tbody>\n",
              "</table>\n",
              "</div>"
            ],
            "text/plain": [
              "   Unnamed: 0  station_id  bikes_available  ...  Wind_Orientation  Hour  Month\n",
              "0           0           2                2  ...             South    13      8\n",
              "1           1           3                9  ...             South    13      8\n",
              "2           2           4                0  ...             South    13      8\n",
              "3           3           5                9  ...             South    13      8\n",
              "4           4           6                4  ...             South    13      8\n",
              "\n",
              "[5 rows x 28 columns]"
            ]
          },
          "metadata": {
            "tags": []
          },
          "execution_count": 24
        }
      ]
    },
    {
      "cell_type": "markdown",
      "metadata": {
        "id": "1sMbjfmBvVdw"
      },
      "source": [
        "### Merge"
      ]
    },
    {
      "cell_type": "code",
      "metadata": {
        "id": "8Zyapc5iZviE"
      },
      "source": [
        "ML_data2=hSSW_wdeltabike[['Category','station_id','Weekend','city','Hour','Month','Humidity','Pressure','Temperature','Wind_Direction','Wind_Orientation','Wind_Speed','Weather_Simplified','Rain']]"
      ],
      "execution_count": null,
      "outputs": []
    },
    {
      "cell_type": "code",
      "metadata": {
        "id": "3WEyBwZCsP7O"
      },
      "source": [
        "ML_data=hSSW_wdeltabike[['Category','station_id','bikes_available','docks_available','Holiday','Weekend','Humidity','Pressure','Temperature',\\\n",
        "                         'Wind_Direction','Wind_Speed','Rain','Hour','Month']]"
      ],
      "execution_count": null,
      "outputs": []
    },
    {
      "cell_type": "code",
      "metadata": {
        "id": "u-D-rKnJtqx_"
      },
      "source": [
        "ML_data=pd.merge(ML_data,City,left_index=True,right_index=True)\n",
        "ML_data=pd.merge(ML_data,Weather_Simplified,left_index=True,right_index=True)\n",
        "ML_data=pd.merge(ML_data,Wind_Orientation,left_index=True,right_index=True)"
      ],
      "execution_count": null,
      "outputs": []
    },
    {
      "cell_type": "code",
      "metadata": {
        "id": "iDsuqkEDvupu"
      },
      "source": [
        "ML_data=ML_data.astype({'Holiday': int, 'Weekend': int})"
      ],
      "execution_count": null,
      "outputs": []
    },
    {
      "cell_type": "code",
      "metadata": {
        "id": "PbnPC2tGtxf1",
        "outputId": "03879736-60a8-4a42-bd0d-58ab78b83b04",
        "colab": {
          "base_uri": "https://localhost:8080/",
          "height": 438
        }
      },
      "source": [
        "ML_data"
      ],
      "execution_count": null,
      "outputs": [
        {
          "output_type": "execute_result",
          "data": {
            "text/html": [
              "<div>\n",
              "<style scoped>\n",
              "    .dataframe tbody tr th:only-of-type {\n",
              "        vertical-align: middle;\n",
              "    }\n",
              "\n",
              "    .dataframe tbody tr th {\n",
              "        vertical-align: top;\n",
              "    }\n",
              "\n",
              "    .dataframe thead th {\n",
              "        text-align: right;\n",
              "    }\n",
              "</style>\n",
              "<table border=\"1\" class=\"dataframe\">\n",
              "  <thead>\n",
              "    <tr style=\"text-align: right;\">\n",
              "      <th></th>\n",
              "      <th>Category</th>\n",
              "      <th>station_id</th>\n",
              "      <th>bikes_available</th>\n",
              "      <th>docks_available</th>\n",
              "      <th>Holiday</th>\n",
              "      <th>Weekend</th>\n",
              "      <th>Humidity</th>\n",
              "      <th>Pressure</th>\n",
              "      <th>Temperature</th>\n",
              "      <th>Wind_Direction</th>\n",
              "      <th>Wind_Speed</th>\n",
              "      <th>Rain</th>\n",
              "      <th>Hour</th>\n",
              "      <th>Month</th>\n",
              "      <th>Mountain View</th>\n",
              "      <th>Palo Alto</th>\n",
              "      <th>Redwood City</th>\n",
              "      <th>San Francisco</th>\n",
              "      <th>San Jose</th>\n",
              "      <th>Cloudy</th>\n",
              "      <th>Foggy</th>\n",
              "      <th>Heavy Rain</th>\n",
              "      <th>Light Rain</th>\n",
              "      <th>Moderate Rain</th>\n",
              "      <th>Proximity to Rain</th>\n",
              "      <th>Sunny</th>\n",
              "      <th>East</th>\n",
              "      <th>North</th>\n",
              "      <th>South</th>\n",
              "      <th>West</th>\n",
              "    </tr>\n",
              "  </thead>\n",
              "  <tbody>\n",
              "    <tr>\n",
              "      <th>0</th>\n",
              "      <td>0</td>\n",
              "      <td>2</td>\n",
              "      <td>2</td>\n",
              "      <td>25</td>\n",
              "      <td>0</td>\n",
              "      <td>0</td>\n",
              "      <td>94.0</td>\n",
              "      <td>1021</td>\n",
              "      <td>287.2795</td>\n",
              "      <td>201</td>\n",
              "      <td>0</td>\n",
              "      <td>0</td>\n",
              "      <td>13</td>\n",
              "      <td>8</td>\n",
              "      <td>0</td>\n",
              "      <td>0</td>\n",
              "      <td>0</td>\n",
              "      <td>0</td>\n",
              "      <td>1</td>\n",
              "      <td>1</td>\n",
              "      <td>0</td>\n",
              "      <td>0</td>\n",
              "      <td>0</td>\n",
              "      <td>0</td>\n",
              "      <td>0</td>\n",
              "      <td>0</td>\n",
              "      <td>0</td>\n",
              "      <td>0</td>\n",
              "      <td>1</td>\n",
              "      <td>0</td>\n",
              "    </tr>\n",
              "    <tr>\n",
              "      <th>1</th>\n",
              "      <td>1</td>\n",
              "      <td>3</td>\n",
              "      <td>9</td>\n",
              "      <td>6</td>\n",
              "      <td>0</td>\n",
              "      <td>0</td>\n",
              "      <td>94.0</td>\n",
              "      <td>1021</td>\n",
              "      <td>287.2795</td>\n",
              "      <td>201</td>\n",
              "      <td>0</td>\n",
              "      <td>0</td>\n",
              "      <td>13</td>\n",
              "      <td>8</td>\n",
              "      <td>0</td>\n",
              "      <td>0</td>\n",
              "      <td>0</td>\n",
              "      <td>0</td>\n",
              "      <td>1</td>\n",
              "      <td>1</td>\n",
              "      <td>0</td>\n",
              "      <td>0</td>\n",
              "      <td>0</td>\n",
              "      <td>0</td>\n",
              "      <td>0</td>\n",
              "      <td>0</td>\n",
              "      <td>0</td>\n",
              "      <td>0</td>\n",
              "      <td>1</td>\n",
              "      <td>0</td>\n",
              "    </tr>\n",
              "    <tr>\n",
              "      <th>2</th>\n",
              "      <td>0</td>\n",
              "      <td>4</td>\n",
              "      <td>0</td>\n",
              "      <td>11</td>\n",
              "      <td>0</td>\n",
              "      <td>0</td>\n",
              "      <td>94.0</td>\n",
              "      <td>1021</td>\n",
              "      <td>287.2795</td>\n",
              "      <td>201</td>\n",
              "      <td>0</td>\n",
              "      <td>0</td>\n",
              "      <td>13</td>\n",
              "      <td>8</td>\n",
              "      <td>0</td>\n",
              "      <td>0</td>\n",
              "      <td>0</td>\n",
              "      <td>0</td>\n",
              "      <td>1</td>\n",
              "      <td>1</td>\n",
              "      <td>0</td>\n",
              "      <td>0</td>\n",
              "      <td>0</td>\n",
              "      <td>0</td>\n",
              "      <td>0</td>\n",
              "      <td>0</td>\n",
              "      <td>0</td>\n",
              "      <td>0</td>\n",
              "      <td>1</td>\n",
              "      <td>0</td>\n",
              "    </tr>\n",
              "    <tr>\n",
              "      <th>3</th>\n",
              "      <td>1</td>\n",
              "      <td>5</td>\n",
              "      <td>9</td>\n",
              "      <td>10</td>\n",
              "      <td>0</td>\n",
              "      <td>0</td>\n",
              "      <td>94.0</td>\n",
              "      <td>1021</td>\n",
              "      <td>287.2795</td>\n",
              "      <td>201</td>\n",
              "      <td>0</td>\n",
              "      <td>0</td>\n",
              "      <td>13</td>\n",
              "      <td>8</td>\n",
              "      <td>0</td>\n",
              "      <td>0</td>\n",
              "      <td>0</td>\n",
              "      <td>0</td>\n",
              "      <td>1</td>\n",
              "      <td>1</td>\n",
              "      <td>0</td>\n",
              "      <td>0</td>\n",
              "      <td>0</td>\n",
              "      <td>0</td>\n",
              "      <td>0</td>\n",
              "      <td>0</td>\n",
              "      <td>0</td>\n",
              "      <td>0</td>\n",
              "      <td>1</td>\n",
              "      <td>0</td>\n",
              "    </tr>\n",
              "    <tr>\n",
              "      <th>4</th>\n",
              "      <td>1</td>\n",
              "      <td>6</td>\n",
              "      <td>4</td>\n",
              "      <td>11</td>\n",
              "      <td>0</td>\n",
              "      <td>0</td>\n",
              "      <td>94.0</td>\n",
              "      <td>1021</td>\n",
              "      <td>287.2795</td>\n",
              "      <td>201</td>\n",
              "      <td>0</td>\n",
              "      <td>0</td>\n",
              "      <td>13</td>\n",
              "      <td>8</td>\n",
              "      <td>0</td>\n",
              "      <td>0</td>\n",
              "      <td>0</td>\n",
              "      <td>0</td>\n",
              "      <td>1</td>\n",
              "      <td>1</td>\n",
              "      <td>0</td>\n",
              "      <td>0</td>\n",
              "      <td>0</td>\n",
              "      <td>0</td>\n",
              "      <td>0</td>\n",
              "      <td>0</td>\n",
              "      <td>0</td>\n",
              "      <td>0</td>\n",
              "      <td>1</td>\n",
              "      <td>0</td>\n",
              "    </tr>\n",
              "    <tr>\n",
              "      <th>...</th>\n",
              "      <td>...</td>\n",
              "      <td>...</td>\n",
              "      <td>...</td>\n",
              "      <td>...</td>\n",
              "      <td>...</td>\n",
              "      <td>...</td>\n",
              "      <td>...</td>\n",
              "      <td>...</td>\n",
              "      <td>...</td>\n",
              "      <td>...</td>\n",
              "      <td>...</td>\n",
              "      <td>...</td>\n",
              "      <td>...</td>\n",
              "      <td>...</td>\n",
              "      <td>...</td>\n",
              "      <td>...</td>\n",
              "      <td>...</td>\n",
              "      <td>...</td>\n",
              "      <td>...</td>\n",
              "      <td>...</td>\n",
              "      <td>...</td>\n",
              "      <td>...</td>\n",
              "      <td>...</td>\n",
              "      <td>...</td>\n",
              "      <td>...</td>\n",
              "      <td>...</td>\n",
              "      <td>...</td>\n",
              "      <td>...</td>\n",
              "      <td>...</td>\n",
              "      <td>...</td>\n",
              "    </tr>\n",
              "    <tr>\n",
              "      <th>634687</th>\n",
              "      <td>1</td>\n",
              "      <td>70</td>\n",
              "      <td>6</td>\n",
              "      <td>13</td>\n",
              "      <td>0</td>\n",
              "      <td>1</td>\n",
              "      <td>100.0</td>\n",
              "      <td>1024</td>\n",
              "      <td>286.7370</td>\n",
              "      <td>159</td>\n",
              "      <td>1</td>\n",
              "      <td>0</td>\n",
              "      <td>14</td>\n",
              "      <td>9</td>\n",
              "      <td>0</td>\n",
              "      <td>0</td>\n",
              "      <td>0</td>\n",
              "      <td>1</td>\n",
              "      <td>0</td>\n",
              "      <td>0</td>\n",
              "      <td>0</td>\n",
              "      <td>0</td>\n",
              "      <td>0</td>\n",
              "      <td>0</td>\n",
              "      <td>0</td>\n",
              "      <td>1</td>\n",
              "      <td>0</td>\n",
              "      <td>0</td>\n",
              "      <td>1</td>\n",
              "      <td>0</td>\n",
              "    </tr>\n",
              "    <tr>\n",
              "      <th>634688</th>\n",
              "      <td>1</td>\n",
              "      <td>71</td>\n",
              "      <td>5</td>\n",
              "      <td>14</td>\n",
              "      <td>0</td>\n",
              "      <td>1</td>\n",
              "      <td>100.0</td>\n",
              "      <td>1024</td>\n",
              "      <td>286.7370</td>\n",
              "      <td>159</td>\n",
              "      <td>1</td>\n",
              "      <td>0</td>\n",
              "      <td>14</td>\n",
              "      <td>9</td>\n",
              "      <td>0</td>\n",
              "      <td>0</td>\n",
              "      <td>0</td>\n",
              "      <td>1</td>\n",
              "      <td>0</td>\n",
              "      <td>0</td>\n",
              "      <td>0</td>\n",
              "      <td>0</td>\n",
              "      <td>0</td>\n",
              "      <td>0</td>\n",
              "      <td>0</td>\n",
              "      <td>1</td>\n",
              "      <td>0</td>\n",
              "      <td>0</td>\n",
              "      <td>1</td>\n",
              "      <td>0</td>\n",
              "    </tr>\n",
              "    <tr>\n",
              "      <th>634689</th>\n",
              "      <td>1</td>\n",
              "      <td>72</td>\n",
              "      <td>14</td>\n",
              "      <td>9</td>\n",
              "      <td>0</td>\n",
              "      <td>1</td>\n",
              "      <td>100.0</td>\n",
              "      <td>1024</td>\n",
              "      <td>286.7370</td>\n",
              "      <td>159</td>\n",
              "      <td>1</td>\n",
              "      <td>0</td>\n",
              "      <td>14</td>\n",
              "      <td>9</td>\n",
              "      <td>0</td>\n",
              "      <td>0</td>\n",
              "      <td>0</td>\n",
              "      <td>1</td>\n",
              "      <td>0</td>\n",
              "      <td>0</td>\n",
              "      <td>0</td>\n",
              "      <td>0</td>\n",
              "      <td>0</td>\n",
              "      <td>0</td>\n",
              "      <td>0</td>\n",
              "      <td>1</td>\n",
              "      <td>0</td>\n",
              "      <td>0</td>\n",
              "      <td>1</td>\n",
              "      <td>0</td>\n",
              "    </tr>\n",
              "    <tr>\n",
              "      <th>634690</th>\n",
              "      <td>1</td>\n",
              "      <td>73</td>\n",
              "      <td>10</td>\n",
              "      <td>4</td>\n",
              "      <td>0</td>\n",
              "      <td>1</td>\n",
              "      <td>100.0</td>\n",
              "      <td>1024</td>\n",
              "      <td>286.7370</td>\n",
              "      <td>159</td>\n",
              "      <td>1</td>\n",
              "      <td>0</td>\n",
              "      <td>14</td>\n",
              "      <td>9</td>\n",
              "      <td>0</td>\n",
              "      <td>0</td>\n",
              "      <td>0</td>\n",
              "      <td>1</td>\n",
              "      <td>0</td>\n",
              "      <td>0</td>\n",
              "      <td>0</td>\n",
              "      <td>0</td>\n",
              "      <td>0</td>\n",
              "      <td>0</td>\n",
              "      <td>0</td>\n",
              "      <td>1</td>\n",
              "      <td>0</td>\n",
              "      <td>0</td>\n",
              "      <td>1</td>\n",
              "      <td>0</td>\n",
              "    </tr>\n",
              "    <tr>\n",
              "      <th>634691</th>\n",
              "      <td>1</td>\n",
              "      <td>74</td>\n",
              "      <td>3</td>\n",
              "      <td>20</td>\n",
              "      <td>0</td>\n",
              "      <td>1</td>\n",
              "      <td>100.0</td>\n",
              "      <td>1024</td>\n",
              "      <td>286.7370</td>\n",
              "      <td>159</td>\n",
              "      <td>1</td>\n",
              "      <td>0</td>\n",
              "      <td>14</td>\n",
              "      <td>9</td>\n",
              "      <td>0</td>\n",
              "      <td>0</td>\n",
              "      <td>0</td>\n",
              "      <td>1</td>\n",
              "      <td>0</td>\n",
              "      <td>0</td>\n",
              "      <td>0</td>\n",
              "      <td>0</td>\n",
              "      <td>0</td>\n",
              "      <td>0</td>\n",
              "      <td>0</td>\n",
              "      <td>1</td>\n",
              "      <td>0</td>\n",
              "      <td>0</td>\n",
              "      <td>1</td>\n",
              "      <td>0</td>\n",
              "    </tr>\n",
              "  </tbody>\n",
              "</table>\n",
              "<p>634692 rows × 30 columns</p>\n",
              "</div>"
            ],
            "text/plain": [
              "        Category  station_id  bikes_available  ...  North  South  West\n",
              "0              0           2                2  ...      0      1     0\n",
              "1              1           3                9  ...      0      1     0\n",
              "2              0           4                0  ...      0      1     0\n",
              "3              1           5                9  ...      0      1     0\n",
              "4              1           6                4  ...      0      1     0\n",
              "...          ...         ...              ...  ...    ...    ...   ...\n",
              "634687         1          70                6  ...      0      1     0\n",
              "634688         1          71                5  ...      0      1     0\n",
              "634689         1          72               14  ...      0      1     0\n",
              "634690         1          73               10  ...      0      1     0\n",
              "634691         1          74                3  ...      0      1     0\n",
              "\n",
              "[634692 rows x 30 columns]"
            ]
          },
          "metadata": {
            "tags": []
          },
          "execution_count": 29
        }
      ]
    },
    {
      "cell_type": "code",
      "metadata": {
        "id": "a7flhE7RcyKY",
        "outputId": "736b99b1-e5da-48a6-83c5-039029bd19b7",
        "colab": {
          "base_uri": "https://localhost:8080/",
          "height": 402
        }
      },
      "source": [
        "ML_data2"
      ],
      "execution_count": null,
      "outputs": [
        {
          "output_type": "execute_result",
          "data": {
            "text/html": [
              "<div>\n",
              "<style scoped>\n",
              "    .dataframe tbody tr th:only-of-type {\n",
              "        vertical-align: middle;\n",
              "    }\n",
              "\n",
              "    .dataframe tbody tr th {\n",
              "        vertical-align: top;\n",
              "    }\n",
              "\n",
              "    .dataframe thead th {\n",
              "        text-align: right;\n",
              "    }\n",
              "</style>\n",
              "<table border=\"1\" class=\"dataframe\">\n",
              "  <thead>\n",
              "    <tr style=\"text-align: right;\">\n",
              "      <th></th>\n",
              "      <th>Category</th>\n",
              "      <th>station_id</th>\n",
              "      <th>Weekend</th>\n",
              "      <th>city</th>\n",
              "      <th>Hour</th>\n",
              "      <th>Month</th>\n",
              "      <th>Humidity</th>\n",
              "      <th>Pressure</th>\n",
              "      <th>Temperature</th>\n",
              "      <th>Wind_Direction</th>\n",
              "      <th>Wind_Orientation</th>\n",
              "      <th>Wind_Speed</th>\n",
              "      <th>Weather_Simplified</th>\n",
              "      <th>Rain</th>\n",
              "    </tr>\n",
              "  </thead>\n",
              "  <tbody>\n",
              "    <tr>\n",
              "      <th>0</th>\n",
              "      <td>0</td>\n",
              "      <td>2</td>\n",
              "      <td>False</td>\n",
              "      <td>San Jose</td>\n",
              "      <td>13</td>\n",
              "      <td>8</td>\n",
              "      <td>94.0</td>\n",
              "      <td>1021</td>\n",
              "      <td>287.2795</td>\n",
              "      <td>201</td>\n",
              "      <td>South</td>\n",
              "      <td>0</td>\n",
              "      <td>Cloudy</td>\n",
              "      <td>0</td>\n",
              "    </tr>\n",
              "    <tr>\n",
              "      <th>1</th>\n",
              "      <td>1</td>\n",
              "      <td>3</td>\n",
              "      <td>False</td>\n",
              "      <td>San Jose</td>\n",
              "      <td>13</td>\n",
              "      <td>8</td>\n",
              "      <td>94.0</td>\n",
              "      <td>1021</td>\n",
              "      <td>287.2795</td>\n",
              "      <td>201</td>\n",
              "      <td>South</td>\n",
              "      <td>0</td>\n",
              "      <td>Cloudy</td>\n",
              "      <td>0</td>\n",
              "    </tr>\n",
              "    <tr>\n",
              "      <th>2</th>\n",
              "      <td>0</td>\n",
              "      <td>4</td>\n",
              "      <td>False</td>\n",
              "      <td>San Jose</td>\n",
              "      <td>13</td>\n",
              "      <td>8</td>\n",
              "      <td>94.0</td>\n",
              "      <td>1021</td>\n",
              "      <td>287.2795</td>\n",
              "      <td>201</td>\n",
              "      <td>South</td>\n",
              "      <td>0</td>\n",
              "      <td>Cloudy</td>\n",
              "      <td>0</td>\n",
              "    </tr>\n",
              "    <tr>\n",
              "      <th>3</th>\n",
              "      <td>1</td>\n",
              "      <td>5</td>\n",
              "      <td>False</td>\n",
              "      <td>San Jose</td>\n",
              "      <td>13</td>\n",
              "      <td>8</td>\n",
              "      <td>94.0</td>\n",
              "      <td>1021</td>\n",
              "      <td>287.2795</td>\n",
              "      <td>201</td>\n",
              "      <td>South</td>\n",
              "      <td>0</td>\n",
              "      <td>Cloudy</td>\n",
              "      <td>0</td>\n",
              "    </tr>\n",
              "    <tr>\n",
              "      <th>4</th>\n",
              "      <td>1</td>\n",
              "      <td>6</td>\n",
              "      <td>False</td>\n",
              "      <td>San Jose</td>\n",
              "      <td>13</td>\n",
              "      <td>8</td>\n",
              "      <td>94.0</td>\n",
              "      <td>1021</td>\n",
              "      <td>287.2795</td>\n",
              "      <td>201</td>\n",
              "      <td>South</td>\n",
              "      <td>0</td>\n",
              "      <td>Cloudy</td>\n",
              "      <td>0</td>\n",
              "    </tr>\n",
              "    <tr>\n",
              "      <th>...</th>\n",
              "      <td>...</td>\n",
              "      <td>...</td>\n",
              "      <td>...</td>\n",
              "      <td>...</td>\n",
              "      <td>...</td>\n",
              "      <td>...</td>\n",
              "      <td>...</td>\n",
              "      <td>...</td>\n",
              "      <td>...</td>\n",
              "      <td>...</td>\n",
              "      <td>...</td>\n",
              "      <td>...</td>\n",
              "      <td>...</td>\n",
              "      <td>...</td>\n",
              "    </tr>\n",
              "    <tr>\n",
              "      <th>634687</th>\n",
              "      <td>1</td>\n",
              "      <td>70</td>\n",
              "      <td>True</td>\n",
              "      <td>San Francisco</td>\n",
              "      <td>14</td>\n",
              "      <td>9</td>\n",
              "      <td>100.0</td>\n",
              "      <td>1024</td>\n",
              "      <td>286.7370</td>\n",
              "      <td>159</td>\n",
              "      <td>South</td>\n",
              "      <td>1</td>\n",
              "      <td>Sunny</td>\n",
              "      <td>0</td>\n",
              "    </tr>\n",
              "    <tr>\n",
              "      <th>634688</th>\n",
              "      <td>1</td>\n",
              "      <td>71</td>\n",
              "      <td>True</td>\n",
              "      <td>San Francisco</td>\n",
              "      <td>14</td>\n",
              "      <td>9</td>\n",
              "      <td>100.0</td>\n",
              "      <td>1024</td>\n",
              "      <td>286.7370</td>\n",
              "      <td>159</td>\n",
              "      <td>South</td>\n",
              "      <td>1</td>\n",
              "      <td>Sunny</td>\n",
              "      <td>0</td>\n",
              "    </tr>\n",
              "    <tr>\n",
              "      <th>634689</th>\n",
              "      <td>1</td>\n",
              "      <td>72</td>\n",
              "      <td>True</td>\n",
              "      <td>San Francisco</td>\n",
              "      <td>14</td>\n",
              "      <td>9</td>\n",
              "      <td>100.0</td>\n",
              "      <td>1024</td>\n",
              "      <td>286.7370</td>\n",
              "      <td>159</td>\n",
              "      <td>South</td>\n",
              "      <td>1</td>\n",
              "      <td>Sunny</td>\n",
              "      <td>0</td>\n",
              "    </tr>\n",
              "    <tr>\n",
              "      <th>634690</th>\n",
              "      <td>1</td>\n",
              "      <td>73</td>\n",
              "      <td>True</td>\n",
              "      <td>San Francisco</td>\n",
              "      <td>14</td>\n",
              "      <td>9</td>\n",
              "      <td>100.0</td>\n",
              "      <td>1024</td>\n",
              "      <td>286.7370</td>\n",
              "      <td>159</td>\n",
              "      <td>South</td>\n",
              "      <td>1</td>\n",
              "      <td>Sunny</td>\n",
              "      <td>0</td>\n",
              "    </tr>\n",
              "    <tr>\n",
              "      <th>634691</th>\n",
              "      <td>1</td>\n",
              "      <td>74</td>\n",
              "      <td>True</td>\n",
              "      <td>San Francisco</td>\n",
              "      <td>14</td>\n",
              "      <td>9</td>\n",
              "      <td>100.0</td>\n",
              "      <td>1024</td>\n",
              "      <td>286.7370</td>\n",
              "      <td>159</td>\n",
              "      <td>South</td>\n",
              "      <td>1</td>\n",
              "      <td>Sunny</td>\n",
              "      <td>0</td>\n",
              "    </tr>\n",
              "  </tbody>\n",
              "</table>\n",
              "<p>634692 rows × 14 columns</p>\n",
              "</div>"
            ],
            "text/plain": [
              "        Category  station_id  Weekend  ... Wind_Speed  Weather_Simplified  Rain\n",
              "0              0           2    False  ...          0              Cloudy     0\n",
              "1              1           3    False  ...          0              Cloudy     0\n",
              "2              0           4    False  ...          0              Cloudy     0\n",
              "3              1           5    False  ...          0              Cloudy     0\n",
              "4              1           6    False  ...          0              Cloudy     0\n",
              "...          ...         ...      ...  ...        ...                 ...   ...\n",
              "634687         1          70     True  ...          1               Sunny     0\n",
              "634688         1          71     True  ...          1               Sunny     0\n",
              "634689         1          72     True  ...          1               Sunny     0\n",
              "634690         1          73     True  ...          1               Sunny     0\n",
              "634691         1          74     True  ...          1               Sunny     0\n",
              "\n",
              "[634692 rows x 14 columns]"
            ]
          },
          "metadata": {
            "tags": []
          },
          "execution_count": 30
        }
      ]
    },
    {
      "cell_type": "markdown",
      "metadata": {
        "id": "UBDrc-yLvHlS"
      },
      "source": [
        "# Machine Learning Models"
      ]
    },
    {
      "cell_type": "markdown",
      "metadata": {
        "id": "kwim5hIvvPkA"
      },
      "source": [
        "### Gradient Boosting"
      ]
    },
    {
      "cell_type": "markdown",
      "metadata": {
        "id": "LWY7a1Gxdi6E"
      },
      "source": [
        "We trained Gradient Boosting Trees Models, firstly on our full dataset."
      ]
    },
    {
      "cell_type": "code",
      "metadata": {
        "id": "6eV0w090uVAO"
      },
      "source": [
        "data1=ML_data.copy()"
      ],
      "execution_count": null,
      "outputs": []
    },
    {
      "cell_type": "code",
      "metadata": {
        "id": "j5dVB5ItvfUX"
      },
      "source": [
        "data1.drop(columns=['bikes_available','docks_available','North','South','East','West'],inplace=True)"
      ],
      "execution_count": null,
      "outputs": []
    },
    {
      "cell_type": "code",
      "metadata": {
        "id": "jdnqrjTpMnSj"
      },
      "source": [
        "X1_rest,X1_test,Y1_rest,Y1_test=train_test_split(data1.drop(columns=['Category']),data1['Category'],train_size=0.8,shuffle=True)"
      ],
      "execution_count": null,
      "outputs": []
    },
    {
      "cell_type": "code",
      "metadata": {
        "id": "ONuvytD6zK1M"
      },
      "source": [
        "X1_train,X1_validation,Y1_train,Y1_validation=train_test_split(X1_rest,Y1_rest,train_size=0.8,shuffle=True)"
      ],
      "execution_count": null,
      "outputs": []
    },
    {
      "cell_type": "code",
      "metadata": {
        "id": "FtPgJMNLM3m-"
      },
      "source": [
        "model1=GradientBoostingClassifier(max_depth=10,verbose=2,learning_rate=0.25)"
      ],
      "execution_count": null,
      "outputs": []
    },
    {
      "cell_type": "code",
      "metadata": {
        "id": "DWsI_MWKNVnr",
        "outputId": "69aa8374-1034-4d2f-fb6a-ff9bd3c51f6d",
        "colab": {
          "base_uri": "https://localhost:8080/",
          "height": 1000
        }
      },
      "source": [
        "model1.fit(X1_train,Y1_train)"
      ],
      "execution_count": null,
      "outputs": [
        {
          "output_type": "stream",
          "text": [
            "      Iter       Train Loss   Remaining Time \n",
            "         1       57830.2271            9.36m\n",
            "         2       53848.0165            9.43m\n",
            "         3       51076.2131            9.45m\n",
            "         4       48991.6267            9.44m\n",
            "         5       47269.9573            9.39m\n",
            "         6       45953.4975            9.33m\n",
            "         7       44427.0372            9.28m\n",
            "         8       42964.6910            9.24m\n",
            "         9       41518.9842            9.19m\n",
            "        10       40532.0871            9.11m\n",
            "        11       39641.4777            9.02m\n",
            "        12       38841.5067            8.94m\n",
            "        13       37932.3254            8.85m\n",
            "        14       37303.4617            8.76m\n",
            "        15       36672.7837            8.66m\n",
            "        16       35839.4699            8.56m\n",
            "        17       35013.8050            8.47m\n",
            "        18       34399.6903            8.37m\n",
            "        19       33670.9672            8.27m\n",
            "        20       32873.6102            8.17m\n",
            "        21       32100.2600            8.07m\n",
            "        22       31490.7034            7.98m\n",
            "        23       30971.9637            7.89m\n",
            "        24       30092.9728            7.79m\n",
            "        25       29370.6117            7.70m\n",
            "        26       28628.6595            7.60m\n",
            "        27       28131.5170            7.50m\n",
            "        28       27501.3223            7.40m\n",
            "        29       26833.3336            7.30m\n",
            "        30       26336.7746            7.20m\n",
            "        31       25945.8821            7.10m\n",
            "        32       25471.3974            7.00m\n",
            "        33       25047.8439            6.90m\n",
            "        34       24391.4598            6.80m\n",
            "        35       23972.0387            6.70m\n",
            "        36       23439.9098            6.60m\n",
            "        37       22881.3893            6.50m\n",
            "        38       22503.5852            6.40m\n",
            "        39       22323.6196            6.29m\n",
            "        40       21923.5021            6.18m\n",
            "        41       22784.8290            6.08m\n",
            "        42       22433.6496            5.98m\n",
            "        43       22158.5488            5.87m\n",
            "        44       21831.9045            5.77m\n",
            "        45       21515.2208            5.67m\n",
            "        46       21144.7754            5.56m\n",
            "        47       20846.4154            5.46m\n",
            "        48       20657.9650            5.36m\n",
            "        49       20418.1840            5.26m\n",
            "        50       20161.3045            5.16m\n",
            "        51       19837.1631            5.05m\n",
            "        52       19525.0696            4.95m\n",
            "        53       19293.1292            4.85m\n",
            "        54       18983.8701            4.75m\n",
            "        55       18708.0584            4.64m\n",
            "        56       18470.6241            4.54m\n",
            "        57       18134.4811            4.44m\n",
            "        58       17898.1013            4.34m\n",
            "        59       17539.3274            4.23m\n",
            "        60       17268.5954            4.13m\n",
            "        61       17001.4868            4.03m\n",
            "        62       16770.4844            3.93m\n",
            "        63       16666.0011            3.82m\n",
            "        64       16399.5996            3.72m\n",
            "        65       16262.8686            3.62m\n",
            "        66       15942.9402            3.51m\n",
            "        67       15794.7826            3.41m\n",
            "        68       15667.5782            3.31m\n",
            "        69       15521.6922            3.20m\n",
            "        70       15353.4007            3.10m\n",
            "        71       15235.2724            3.00m\n",
            "        72       15004.3196            2.89m\n",
            "        73       14771.1223            2.79m\n",
            "        74       14534.9398            2.69m\n",
            "        75       14319.6730            2.59m\n",
            "        76       14096.6234            2.48m\n",
            "        77       13956.0607            2.38m\n",
            "        78       13736.2877            2.28m\n",
            "        79       13505.6203            2.17m\n",
            "        80       13338.6187            2.07m\n",
            "        81       13108.5215            1.97m\n",
            "        82       12934.5876            1.86m\n",
            "        83       12753.5387            1.76m\n",
            "        84       12673.6981            1.66m\n",
            "        85       12558.2332            1.55m\n",
            "        86       12370.4272            1.45m\n",
            "        87       12248.7486            1.35m\n",
            "        88       12204.7993            1.24m\n",
            "        89       12076.9144            1.14m\n",
            "        90       11951.1211            1.04m\n",
            "        91       11904.8243           55.97s\n",
            "        92       11791.5092           49.76s\n",
            "        93       11671.4169           43.54s\n",
            "        94       11590.0512           37.33s\n",
            "        95       11486.5938           31.11s\n",
            "        96       11305.7920           24.90s\n",
            "        97       11537.8424           18.68s\n",
            "        98       18321.6669           12.46s\n",
            "        99       18245.7665            6.23s\n",
            "       100       18185.1180            0.00s\n"
          ],
          "name": "stdout"
        },
        {
          "output_type": "execute_result",
          "data": {
            "text/plain": [
              "GradientBoostingClassifier(ccp_alpha=0.0, criterion='friedman_mse', init=None,\n",
              "                           learning_rate=0.25, loss='deviance', max_depth=10,\n",
              "                           max_features=None, max_leaf_nodes=None,\n",
              "                           min_impurity_decrease=0.0, min_impurity_split=None,\n",
              "                           min_samples_leaf=1, min_samples_split=2,\n",
              "                           min_weight_fraction_leaf=0.0, n_estimators=100,\n",
              "                           n_iter_no_change=None, presort='deprecated',\n",
              "                           random_state=None, subsample=1.0, tol=0.0001,\n",
              "                           validation_fraction=0.1, verbose=2,\n",
              "                           warm_start=False)"
            ]
          },
          "metadata": {
            "tags": []
          },
          "execution_count": 36
        }
      ]
    },
    {
      "cell_type": "code",
      "metadata": {
        "id": "0eDSyZ_JeGmF",
        "outputId": "886d4943-d8d0-4618-8fc9-597f91596511",
        "colab": {
          "base_uri": "https://localhost:8080/",
          "height": 279
        }
      },
      "source": [
        "CM1_training=plot_confusion_matrix(model1,X1_train,Y1_train,normalize='true')"
      ],
      "execution_count": null,
      "outputs": [
        {
          "output_type": "display_data",
          "data": {
            "image/png": "[encoded data removed]",
            "text/plain": [
              "<Figure size 432x288 with 2 Axes>"
            ]
          },
          "metadata": {
            "tags": []
          }
        }
      ]
    },
    {
      "cell_type": "code",
      "metadata": {
        "id": "3Gqcx_vdNYvt",
        "outputId": "b006ba8f-8bb3-4993-d9d5-de54d90a1825",
        "colab": {
          "base_uri": "https://localhost:8080/",
          "height": 279
        }
      },
      "source": [
        "CM1_validation=plot_confusion_matrix(model1,X1_validation,Y1_validation,normalize='true')"
      ],
      "execution_count": null,
      "outputs": [
        {
          "output_type": "display_data",
          "data": {
            "image/png": "[encoded data removed]",
            "text/plain": [
              "<Figure size 432x288 with 2 Axes>"
            ]
          },
          "metadata": {
            "tags": []
          }
        }
      ]
    },
    {
      "cell_type": "markdown",
      "metadata": {
        "id": "Fz-Eb4DmdwqZ"
      },
      "source": [
        "We observe pretty good results on the training set, but we are not able to transfer this performance to the validation set. We are overfitting a lot."
      ]
    },
    {
      "cell_type": "code",
      "metadata": {
        "id": "W86t1PfKPRX3",
        "outputId": "4ae523ab-6c06-4782-b10f-e5c1fb3f5c26",
        "colab": {
          "base_uri": "https://localhost:8080/",
          "height": 558
        }
      },
      "source": [
        "plt.figure(figsize=(16,8))\n",
        "plt.bar(X1_train.columns,model1.feature_importances_)\n",
        "plt.setp(plt.gca().get_xticklabels(), rotation=90, horizontalalignment='right')\n",
        "plt.show()"
      ],
      "execution_count": null,
      "outputs": [
        {
          "output_type": "display_data",
          "data": {
            "image/png": "[encoded data removed]",
            "text/plain": [
              "<Figure size 1152x576 with 1 Axes>"
            ]
          },
          "metadata": {
            "tags": []
          }
        }
      ]
    },
    {
      "cell_type": "markdown",
      "metadata": {
        "id": "1VxdQ4rRd9Rt"
      },
      "source": [
        "We trained a second model by selecting only the best features."
      ]
    },
    {
      "cell_type": "code",
      "metadata": {
        "id": "5Jt8FwSaOtH2"
      },
      "source": [
        "data2=ML_data.copy()"
      ],
      "execution_count": null,
      "outputs": []
    },
    {
      "cell_type": "code",
      "metadata": {
        "id": "1786ct4mQdre"
      },
      "source": [
        "data2=data2[['Category','station_id','Hour','Month','Weekend','Temperature','Wind_Direction','Pressure','Humidity','Wind_Speed']]"
      ],
      "execution_count": null,
      "outputs": []
    },
    {
      "cell_type": "code",
      "metadata": {
        "id": "unPezDGzQ7Nz"
      },
      "source": [
        "X2_rest,X2_test,Y2_rest,Y2_test=train_test_split(data2.drop(columns=['Category']),data2['Category'],train_size=0.8,shuffle=True)\n",
        "X2_train,X2_validation,Y2_train,Y2_validation=train_test_split(X2_rest,Y2_rest,train_size=0.8,shuffle=True)"
      ],
      "execution_count": null,
      "outputs": []
    },
    {
      "cell_type": "code",
      "metadata": {
        "id": "sxgefZ6PRG5J"
      },
      "source": [
        "model2=GradientBoostingClassifier(verbose=2,max_depth=10,learning_rate=0.25)"
      ],
      "execution_count": null,
      "outputs": []
    },
    {
      "cell_type": "code",
      "metadata": {
        "id": "g19gp2UMRJ3m",
        "outputId": "3ec7183f-74c6-4f89-eb7e-62bb7916f514",
        "colab": {
          "base_uri": "https://localhost:8080/",
          "height": 1000
        }
      },
      "source": [
        "model2.fit(X2_train,Y2_train)"
      ],
      "execution_count": null,
      "outputs": [
        {
          "output_type": "stream",
          "text": [
            "      Iter       Train Loss   Remaining Time \n",
            "         1       57651.4607            7.50m\n",
            "         2       53669.9356            7.62m\n",
            "         3       51252.2476            7.59m\n",
            "         4       49371.7749            7.53m\n",
            "         5       47717.0415            7.47m\n",
            "         6       46317.3101            7.42m\n",
            "         7       44773.9659            7.38m\n",
            "         8       43173.8797            7.32m\n",
            "         9       41977.5988            7.25m\n",
            "        10       41174.3466            7.16m\n",
            "        11       40356.5744            7.09m\n",
            "        12       39094.2440            7.01m\n",
            "        13       38127.1658            6.94m\n",
            "        14       37098.1364            6.88m\n",
            "        15       36092.0457            6.80m\n",
            "        16       35528.7000            6.71m\n",
            "        17       35135.0242            6.63m\n",
            "        18       34388.4722            6.55m\n",
            "        19       33730.5442            6.46m\n",
            "        20       33149.0385            6.37m\n",
            "        21       32550.6420            6.29m\n",
            "        22       31933.9799            6.20m\n",
            "        23       31270.1027            6.12m\n",
            "        24       30733.7615            6.04m\n",
            "        25       30186.8749            5.97m\n",
            "        26       29691.1678            5.88m\n",
            "        27       29136.6261            5.81m\n",
            "        28       28612.4819            5.73m\n",
            "        29       28068.9879            5.65m\n",
            "        30       27555.1572            5.58m\n",
            "        31       27083.6086            5.50m\n",
            "        32       26735.3228            5.42m\n",
            "        33       26321.9218            5.34m\n",
            "        34       25847.1447            5.27m\n",
            "        35       25435.9105            5.19m\n",
            "        36       25037.4038            5.11m\n",
            "        37       24484.0422            5.03m\n",
            "        38       23918.9802            4.95m\n",
            "        39       23605.7701            4.87m\n",
            "        40       23143.9087            4.79m\n",
            "        41       22718.7313            4.71m\n",
            "        42       22075.6436            4.63m\n",
            "        43       21697.3284            4.56m\n",
            "        44       21326.8960            4.48m\n",
            "        45       20987.1357            4.40m\n",
            "        46       20635.7792            4.33m\n",
            "        47       20307.8154            4.25m\n",
            "        48       19966.3483            4.17m\n",
            "        49       19590.0385            4.09m\n",
            "        50       19139.7057            4.01m\n",
            "        51       18837.7008            3.93m\n",
            "        52       18347.7054            3.86m\n",
            "        53       17962.1632            3.78m\n",
            "        54       17551.3724            3.70m\n",
            "        55       17297.3188            3.62m\n",
            "        56       16962.0805            3.54m\n",
            "        57       16639.1019            3.46m\n",
            "        58       16378.2816            3.38m\n",
            "        59       16164.2517            3.30m\n",
            "        60       15881.5555            3.23m\n",
            "        61       15626.2839            3.15m\n",
            "        62       15489.4635            3.07m\n",
            "        63       15176.7122            2.99m\n",
            "        64       15065.0769            2.91m\n",
            "        65       14861.5478            2.83m\n",
            "        66       14603.2376            2.75m\n",
            "        67       14330.7372            2.66m\n",
            "        68       14092.2748            2.58m\n",
            "        69       13899.5458            2.50m\n",
            "        70       13762.4844            2.42m\n",
            "        71       13558.6287            2.34m\n",
            "        72       13281.4947            2.26m\n",
            "        73       13073.1620            2.18m\n",
            "        74       12873.6142            2.10m\n",
            "        75       12666.2383            2.02m\n",
            "        76       12503.0684            1.94m\n",
            "        77       12304.4914            1.86m\n",
            "        78       12130.4780            1.78m\n",
            "        79       11986.6838            1.70m\n",
            "        80       11821.4102            1.62m\n",
            "        81       11671.4904            1.53m\n",
            "        82       11489.7806            1.45m\n",
            "        83       11328.0798            1.37m\n",
            "        84       11095.6697            1.29m\n",
            "        85       10927.0509            1.21m\n",
            "        86       10778.3371            1.13m\n",
            "        87       10686.0447            1.05m\n",
            "        88       10580.6316           58.37s\n",
            "        89       10478.3974           53.55s\n",
            "        90       10313.4881           48.73s\n",
            "        91       10202.4548           43.87s\n",
            "        92       10081.5305           38.98s\n",
            "        93        9955.2548           34.12s\n",
            "        94        9799.4826           29.25s\n",
            "        95        9733.3907           24.37s\n",
            "        96        9642.0058           19.50s\n",
            "        97        9508.4122           14.63s\n",
            "        98        9356.4883            9.75s\n",
            "        99        9269.3156            4.88s\n",
            "       100        9119.5013            0.00s\n"
          ],
          "name": "stdout"
        },
        {
          "output_type": "execute_result",
          "data": {
            "text/plain": [
              "GradientBoostingClassifier(ccp_alpha=0.0, criterion='friedman_mse', init=None,\n",
              "                           learning_rate=0.25, loss='deviance', max_depth=10,\n",
              "                           max_features=None, max_leaf_nodes=None,\n",
              "                           min_impurity_decrease=0.0, min_impurity_split=None,\n",
              "                           min_samples_leaf=1, min_samples_split=2,\n",
              "                           min_weight_fraction_leaf=0.0, n_estimators=100,\n",
              "                           n_iter_no_change=None, presort='deprecated',\n",
              "                           random_state=None, subsample=1.0, tol=0.0001,\n",
              "                           validation_fraction=0.1, verbose=2,\n",
              "                           warm_start=False)"
            ]
          },
          "metadata": {
            "tags": []
          },
          "execution_count": 44
        }
      ]
    },
    {
      "cell_type": "code",
      "metadata": {
        "id": "3_l75ahEiP-n",
        "outputId": "505baf0d-4a4a-4eb9-b1be-2e4adc883b75",
        "colab": {
          "base_uri": "https://localhost:8080/",
          "height": 279
        }
      },
      "source": [
        "CM2_training=plot_confusion_matrix(model2,X2_train,Y2_train,normalize='true')"
      ],
      "execution_count": null,
      "outputs": [
        {
          "output_type": "display_data",
          "data": {
            "image/png": "[encoded data removed]",
            "text/plain": [
              "<Figure size 432x288 with 2 Axes>"
            ]
          },
          "metadata": {
            "tags": []
          }
        }
      ]
    },
    {
      "cell_type": "code",
      "metadata": {
        "id": "C9PsmqIGRafl",
        "outputId": "a3e235b1-441b-4421-db81-2f10bdad3498",
        "colab": {
          "base_uri": "https://localhost:8080/",
          "height": 279
        }
      },
      "source": [
        "CM2_validation=plot_confusion_matrix(model2,X2_validation,Y2_validation,normalize='true')"
      ],
      "execution_count": null,
      "outputs": [
        {
          "output_type": "display_data",
          "data": {
            "image/png": "[encoded data removed]",
            "text/plain": [
              "<Figure size 432x288 with 2 Axes>"
            ]
          },
          "metadata": {
            "tags": []
          }
        }
      ]
    },
    {
      "cell_type": "markdown",
      "metadata": {
        "id": "I-QYgBW5eD9G"
      },
      "source": [
        "Again, we overfit too much."
      ]
    },
    {
      "cell_type": "code",
      "metadata": {
        "id": "BzlGhjrzSDqR",
        "outputId": "8e7b1b1b-6a33-4b29-eb6b-05dea5924ec6",
        "colab": {
          "base_uri": "https://localhost:8080/",
          "height": 549
        }
      },
      "source": [
        "plt.figure(figsize=(16,8))\n",
        "plt.bar(X2_train.columns,model2.feature_importances_)\n",
        "plt.setp(plt.gca().get_xticklabels(), rotation=90, horizontalalignment='right')\n",
        "plt.show()"
      ],
      "execution_count": null,
      "outputs": [
        {
          "output_type": "display_data",
          "data": {
            "image/png": "[encoded data removed]",
            "text/plain": [
              "<Figure size 1152x576 with 1 Axes>"
            ]
          },
          "metadata": {
            "tags": []
          }
        }
      ]
    },
    {
      "cell_type": "markdown",
      "metadata": {
        "id": "OzWqgfyieLnH"
      },
      "source": [
        "To avoid overfitting, we run a GridSearch to find the optimal max_depth. The learning rate was validated by cross-validation by hand (test of several models, and selection on the validation set)."
      ]
    },
    {
      "cell_type": "code",
      "metadata": {
        "id": "hqw5dQRaRrTi"
      },
      "source": [
        "base_model=GradientBoostingClassifier(verbose=1,learning_rate=0.25)"
      ],
      "execution_count": null,
      "outputs": []
    },
    {
      "cell_type": "code",
      "metadata": {
        "id": "7_er7TcsbyD0"
      },
      "source": [
        "max_depth=np.arange(1,16)"
      ],
      "execution_count": null,
      "outputs": []
    },
    {
      "cell_type": "code",
      "metadata": {
        "id": "gmUKBONaeb9E"
      },
      "source": [
        "parameters={'max_depth':max_depth}"
      ],
      "execution_count": null,
      "outputs": []
    },
    {
      "cell_type": "code",
      "metadata": {
        "id": "_Ajq8-vBeWUa"
      },
      "source": [
        "model_GS=GridSearchCV(base_model,parameters,cv=3,return_train_score=True,verbose=2)"
      ],
      "execution_count": null,
      "outputs": []
    },
    {
      "cell_type": "code",
      "metadata": {
        "id": "xNqva_hwiBPx",
        "outputId": "e5b980bb-627b-4e41-dc44-e6fcbcb282f9",
        "colab": {
          "base_uri": "https://localhost:8080/",
          "height": 1000
        }
      },
      "source": [
        "model_GS.fit(X2_rest,Y2_rest)"
      ],
      "execution_count": null,
      "outputs": [
        {
          "output_type": "stream",
          "text": [
            "Fitting 3 folds for each of 15 candidates, totalling 45 fits\n",
            "[CV] max_depth=1 .....................................................\n",
            "      Iter       Train Loss   Remaining Time \n"
          ],
          "name": "stdout"
        },
        {
          "output_type": "stream",
          "text": [
            "[Parallel(n_jobs=1)]: Using backend SequentialBackend with 1 concurrent workers.\n"
          ],
          "name": "stderr"
        },
        {
          "output_type": "stream",
          "text": [
            "         1       56752.9391            1.01m\n",
            "         2       55947.1668           59.51s\n",
            "         3       55465.5520           58.59s\n",
            "         4       55212.8589           57.78s\n",
            "         5       54980.3749           56.88s\n",
            "         6       54838.6478           56.11s\n",
            "         7       54671.2546           55.42s\n",
            "         8       54593.8384           54.90s\n",
            "         9       54472.4576           54.31s\n",
            "        10       54384.2285           53.50s\n",
            "        20       53707.1545           47.29s\n",
            "        30       53329.3503           41.04s\n",
            "        40       53047.4823           35.20s\n",
            "        50       52852.4349           29.32s\n",
            "        60       52711.9458           23.42s\n",
            "        70       52584.9433           17.57s\n",
            "        80       52477.1686           11.70s\n",
            "        90       52382.3903            5.86s\n",
            "       100       52293.0335            0.00s\n",
            "[CV] ...................................... max_depth=1, total=  59.0s\n",
            "[CV] max_depth=1 .....................................................\n",
            "      Iter       Train Loss   Remaining Time \n"
          ],
          "name": "stdout"
        },
        {
          "output_type": "stream",
          "text": [
            "[Parallel(n_jobs=1)]: Done   1 out of   1 | elapsed:   59.7s remaining:    0.0s\n"
          ],
          "name": "stderr"
        },
        {
          "output_type": "stream",
          "text": [
            "         1       56792.4993            1.01m\n",
            "         2       56015.6499           59.05s\n",
            "         3       55549.5632           58.68s\n",
            "         4       55284.4790           57.77s\n",
            "         5       55077.1626           56.99s\n",
            "         6       54944.3125           56.19s\n",
            "         7       54797.6552           55.49s\n",
            "         8       54721.1586           54.64s\n",
            "         9       54636.4806           54.15s\n",
            "        10       54530.7066           53.44s\n",
            "        20       53950.3479           47.33s\n",
            "        30       53565.2447           41.31s\n",
            "        40       53326.8820           35.50s\n",
            "        50       53139.7230           29.59s\n",
            "        60       52995.8836           23.65s\n",
            "        70       52882.2502           17.71s\n",
            "        80       52774.5132           11.80s\n",
            "        90       52679.9434            5.90s\n",
            "       100       52609.6212            0.00s\n",
            "[CV] ...................................... max_depth=1, total=  59.4s\n",
            "[CV] max_depth=1 .....................................................\n",
            "      Iter       Train Loss   Remaining Time \n",
            "         1       56748.1835           58.21s\n",
            "         2       55951.4525           58.44s\n",
            "         3       55471.2579           57.99s\n",
            "         4       55203.4430           57.58s\n",
            "         5       54991.4804           56.78s\n",
            "         6       54858.7185           56.12s\n",
            "         7       54701.6977           55.29s\n",
            "         8       54628.8902           54.62s\n",
            "         9       54515.3432           54.19s\n",
            "        10       54422.9607           53.65s\n",
            "        20       53797.9786           47.44s\n",
            "        30       53454.0029           41.42s\n",
            "        40       53200.5796           35.44s\n",
            "        50       53022.4332           29.52s\n",
            "        60       52862.2992           23.60s\n",
            "        70       52722.9428           17.69s\n",
            "        80       52619.6862           11.80s\n",
            "        90       52521.0112            5.91s\n",
            "       100       52438.3318            0.00s\n",
            "[CV] ...................................... max_depth=1, total=  59.6s\n",
            "[CV] max_depth=2 .....................................................\n",
            "      Iter       Train Loss   Remaining Time \n",
            "         1       56309.7363            1.57m\n",
            "         2       55237.7634            1.55m\n",
            "         3       54618.3451            1.54m\n",
            "         4       54120.0433            1.52m\n",
            "         5       53838.9397            1.50m\n",
            "         6       53495.7644            1.49m\n",
            "         7       53318.6579            1.47m\n",
            "         8       53117.6138            1.45m\n",
            "         9       52971.7058            1.43m\n",
            "        10       52844.0311            1.41m\n",
            "        20       51942.1785            1.24m\n",
            "        30       51253.2224            1.09m\n",
            "        40       50714.4184           55.66s\n",
            "        50       50358.5817           46.23s\n",
            "        60       50054.1099           36.98s\n",
            "        70       49827.4513           27.72s\n",
            "        80       49585.3786           18.49s\n",
            "        90       49413.8562            9.23s\n",
            "       100       49259.1111            0.00s\n",
            "[CV] ...................................... max_depth=2, total= 1.6min\n",
            "[CV] max_depth=2 .....................................................\n",
            "      Iter       Train Loss   Remaining Time \n",
            "         1       56372.9070            1.64m\n",
            "         2       55324.3389            1.64m\n",
            "         3       54720.8674            1.59m\n",
            "         4       54238.5514            1.58m\n",
            "         5       53920.4787            1.57m\n",
            "         6       53725.4561            1.55m\n",
            "         7       53522.2389            1.54m\n",
            "         8       53356.7539            1.52m\n",
            "         9       53245.2636            1.51m\n",
            "        10       53121.9967            1.49m\n",
            "        20       52222.6366            1.31m\n",
            "        30       51522.9725            1.14m\n",
            "        40       51034.7964           57.68s\n",
            "        50       50692.0785           47.69s\n",
            "        60       50367.2064           37.98s\n",
            "        70       50155.3309           28.37s\n",
            "        80       49891.9438           18.82s\n",
            "        90       49695.0972            9.40s\n",
            "       100       49573.4676            0.00s\n",
            "[CV] ...................................... max_depth=2, total= 1.6min\n",
            "[CV] max_depth=2 .....................................................\n",
            "      Iter       Train Loss   Remaining Time \n",
            "         1       56331.8643            1.60m\n",
            "         2       55267.4317            1.56m\n",
            "         3       54652.7601            1.54m\n",
            "         4       54131.4786            1.52m\n",
            "         5       53821.3992            1.49m\n",
            "         6       53585.3899            1.47m\n",
            "         7       53434.7844            1.45m\n",
            "         8       53280.1973            1.44m\n",
            "         9       53123.8387            1.42m\n",
            "        10       53008.3116            1.40m\n",
            "        20       52069.2212            1.24m\n",
            "        30       51325.7614            1.08m\n",
            "        40       50882.5807           55.63s\n",
            "        50       50481.3266           46.36s\n",
            "        60       50198.1695           37.05s\n",
            "        70       49959.8758           27.76s\n",
            "        80       49755.5531           18.50s\n",
            "        90       49514.1852            9.23s\n",
            "       100       49331.5015            0.00s\n",
            "[CV] ...................................... max_depth=2, total= 1.5min\n",
            "[CV] max_depth=3 .....................................................\n",
            "      Iter       Train Loss   Remaining Time \n",
            "         1       55900.0566            2.08m\n",
            "         2       54553.6002            2.08m\n",
            "         3       53746.5165            2.06m\n",
            "         4       53164.6005            2.04m\n",
            "         5       52712.3485            2.02m\n",
            "         6       52405.1769            2.01m\n",
            "         7       52215.4050            1.97m\n",
            "         8       51957.4095            1.95m\n",
            "         9       51796.0476            1.92m\n",
            "        10       51634.4974            1.90m\n",
            "        20       50268.2917            1.69m\n",
            "        30       49462.5018            1.47m\n",
            "        40   351959483.4773            1.26m\n",
            "        50   351958878.7563            1.05m\n",
            "        60   351958426.3660           50.20s\n",
            "        70   351958096.1319           37.60s\n",
            "        80   351957800.1546           25.04s\n",
            "        90   351957542.8031           12.52s\n",
            "       100   351957263.0069            0.00s\n",
            "[CV] ...................................... max_depth=3, total= 2.1min\n",
            "[CV] max_depth=3 .....................................................\n",
            "      Iter       Train Loss   Remaining Time \n",
            "         1       56092.1479            2.10m\n",
            "         2       54896.7535            2.09m\n",
            "         3       54005.6587            2.07m\n",
            "         4       53465.2482            2.05m\n",
            "         5       53100.3610            2.03m\n",
            "         6       52667.1505            2.00m\n",
            "         7       52444.5314            1.97m\n",
            "         8       52261.4385            1.95m\n",
            "         9       51989.7833            1.92m\n",
            "        10       51835.6761            1.89m\n",
            "        20       50448.4294            1.67m\n",
            "        30       49725.7811            1.46m\n",
            "        40       49152.7346            1.25m\n",
            "        50       48622.5195            1.05m\n",
            "        60       48229.0208           50.17s\n",
            "        70       47907.1228           37.55s\n",
            "        80       47624.9874           25.01s\n",
            "        90       47412.5015           12.48s\n",
            "       100       47164.4324            0.00s\n",
            "[CV] ...................................... max_depth=3, total= 2.1min\n",
            "[CV] max_depth=3 .....................................................\n",
            "      Iter       Train Loss   Remaining Time \n",
            "         1       56046.3486            2.08m\n",
            "         2       54819.6317            2.06m\n",
            "         3       53892.9600            2.05m\n",
            "         4       53303.3073            2.03m\n",
            "         5       52862.6995            2.02m\n",
            "         6       52469.6472            2.00m\n",
            "         7       52212.3122            1.97m\n",
            "         8       52009.8088            1.95m\n",
            "         9       51822.4566            1.93m\n",
            "        10       51660.7740            1.91m\n",
            "        20       50298.9489            1.69m\n",
            "        30       49453.7786            1.47m\n",
            "        40       48839.0654            1.25m\n",
            "        50       48382.9111            1.04m\n",
            "        60       47941.5362           50.16s\n",
            "        70       48038.6437           37.68s\n",
            "        80   631569489.7462           25.10s\n",
            "        90   631569245.4364           12.54s\n",
            "       100 10102144231.5671            0.00s\n",
            "[CV] ...................................... max_depth=3, total= 2.1min\n",
            "[CV] max_depth=4 .....................................................\n",
            "      Iter       Train Loss   Remaining Time \n",
            "         1       55420.6782            2.63m\n",
            "         2       53850.8364            2.62m\n",
            "         3       52745.0762            2.60m\n",
            "         4       52075.3397            2.58m\n",
            "         5       51610.0386            2.56m\n",
            "         6       51226.5412            2.52m\n",
            "         7       50900.6804            2.49m\n",
            "         8       50600.4068            2.45m\n",
            "         9       50385.0872            2.42m\n",
            "        10       50174.7188            2.40m\n",
            "        20       48650.3767            2.11m\n",
            "        30       47581.2486            1.85m\n",
            "        40       46601.2364            1.58m\n",
            "        50       46059.7898            1.32m\n",
            "        60       45600.5072            1.05m\n",
            "        70       45146.4039           47.29s\n",
            "        80       44803.4837           31.54s\n",
            "        90       44367.2293           15.76s\n",
            "       100       43945.4562            0.00s\n",
            "[CV] ...................................... max_depth=4, total= 2.6min\n",
            "[CV] max_depth=4 .....................................................\n",
            "      Iter       Train Loss   Remaining Time \n",
            "         1       55685.5032            2.66m\n",
            "         2       54261.1300            2.64m\n",
            "         3       53094.7936            2.62m\n",
            "         4       52447.1048            2.60m\n",
            "         5       51897.7103            2.58m\n",
            "         6       51535.2708            2.55m\n",
            "         7       51145.7322            2.51m\n",
            "         8       50814.9611            2.48m\n",
            "         9       50605.9063            2.45m\n",
            "        10       50428.9246            2.41m\n",
            "        20       48984.3721            2.13m\n",
            "        30       47989.1989            1.86m\n",
            "        40       47234.7967            1.60m\n",
            "        50       46654.0560            1.35m\n",
            "        60       46244.1396            1.08m\n",
            "        70       45738.6741           48.75s\n",
            "        80       45283.5575           32.40s\n",
            "        90       44891.6069           16.16s\n",
            "       100       44632.4500            0.00s\n",
            "[CV] ...................................... max_depth=4, total= 2.7min\n",
            "[CV] max_depth=4 .....................................................\n",
            "      Iter       Train Loss   Remaining Time \n",
            "         1       55636.6920            2.68m\n",
            "         2       54186.6661            2.66m\n",
            "         3       52975.1800            2.63m\n",
            "         4       52275.6309            2.60m\n",
            "         5       51659.0192            2.58m\n",
            "         6       51095.2572            2.55m\n",
            "         7       50726.9256            2.53m\n",
            "         8       50466.5030            2.50m\n",
            "         9       50241.6236            2.46m\n",
            "        10       50032.7291            2.43m\n",
            "        20       48406.1902            2.14m\n",
            "        30       47541.8730            1.86m\n",
            "        40       46907.5091            1.59m\n",
            "        50       46243.3605            1.32m\n",
            "        60       45784.9376            1.05m\n",
            "        70       45359.7796           47.43s\n",
            "        80       44936.1367           31.59s\n",
            "        90       44613.4695           15.77s\n",
            "       100       44225.8364            0.00s\n",
            "[CV] ...................................... max_depth=4, total= 2.6min\n",
            "[CV] max_depth=5 .....................................................\n",
            "      Iter       Train Loss   Remaining Time \n",
            "         1       54735.3128            3.21m\n",
            "         2       52674.6107            3.20m\n",
            "         3       51557.7449            3.16m\n",
            "         4       50760.5313            3.13m\n",
            "         5       50186.7340            3.10m\n",
            "         6       49675.7342            3.08m\n",
            "         7       49270.7665            3.04m\n",
            "         8       48841.9550            3.00m\n",
            "         9       48557.4592            2.96m\n",
            "        10       48232.7627            2.92m\n",
            "        20       46404.8214            2.57m\n",
            "        30       45164.4986            2.24m\n",
            "        40       44234.7615            1.92m\n",
            "        50       43493.0232            1.59m\n",
            "        60       42709.8533            1.27m\n",
            "        70       42034.1949           57.35s\n",
            "        80       41444.0704           38.17s\n",
            "        90       40838.1038           19.05s\n",
            "       100       40141.9982            0.00s\n",
            "[CV] ...................................... max_depth=5, total= 3.2min\n",
            "[CV] max_depth=5 .....................................................\n",
            "      Iter       Train Loss   Remaining Time \n",
            "         1       55136.5303            3.20m\n",
            "         2       53118.5444            3.19m\n",
            "         3       51870.6258            3.16m\n",
            "         4       51101.5051            3.14m\n",
            "         5       50519.6531            3.11m\n",
            "         6       49973.3302            3.09m\n",
            "         7       49621.5323            3.05m\n",
            "         8       49067.7435            3.02m\n",
            "         9       48754.0222            2.98m\n",
            "        10       48422.8663            2.93m\n",
            "        20       46659.4597            2.57m\n",
            "        30       45461.6067            2.24m\n",
            "        40       44559.8683            1.91m\n",
            "        50       43872.2765            1.59m\n",
            "        60       43119.5526            1.27m\n",
            "        70       42429.7148           57.06s\n",
            "        80       41908.3967           38.02s\n",
            "        90       41321.7765           19.00s\n",
            "       100       40842.8518            0.00s\n",
            "[CV] ...................................... max_depth=5, total= 3.2min\n",
            "[CV] max_depth=5 .....................................................\n",
            "      Iter       Train Loss   Remaining Time \n",
            "         1       54934.9034            3.24m\n",
            "         2       53048.7889            3.20m\n",
            "         3       51861.9606            3.19m\n",
            "         4       51061.7844            3.17m\n",
            "         5       50456.5708            3.13m\n",
            "         6       49942.1067            3.10m\n",
            "         7       49585.6040            3.07m\n",
            "         8       49018.6469            3.03m\n",
            "         9       48724.8658            2.98m\n",
            "        10       48476.9684            2.95m\n",
            "        20       46667.8631            2.56m\n",
            "        30       45340.9310            2.23m\n",
            "        40       44515.7637            1.91m\n",
            "        50       43768.7377            1.59m\n",
            "        60       43080.1331            1.27m\n",
            "        70       42469.3745           57.08s\n",
            "        80       41918.7015           38.00s\n",
            "        90       41393.3091           19.02s\n",
            "       100       40817.7846            0.00s\n",
            "[CV] ...................................... max_depth=5, total= 3.2min\n",
            "[CV] max_depth=6 .....................................................\n",
            "      Iter       Train Loss   Remaining Time \n",
            "         1       53819.6939            3.87m\n",
            "         2       51931.7628            3.87m\n",
            "         3       50525.9675            3.79m\n",
            "         4       49460.2143            3.72m\n",
            "         5       48793.8782            3.67m\n",
            "         6       48054.1047            3.62m\n",
            "         7       47484.2800            3.58m\n",
            "         8       46972.4695            3.54m\n",
            "         9       46646.7571            3.48m\n",
            "        10       46319.3604            3.44m\n",
            "        20       43909.3938            3.01m\n",
            "        30       42351.2843            2.62m\n",
            "        40       41033.9944            2.24m\n",
            "        50       39928.5339            1.87m\n",
            "        60       38944.5275            1.49m\n",
            "        70       38143.7414            1.12m\n",
            "        80       37069.0733           44.68s\n",
            "        90       36232.8033           22.32s\n",
            "       100       35387.6681            0.00s\n",
            "[CV] ...................................... max_depth=6, total= 3.7min\n",
            "[CV] max_depth=6 .....................................................\n",
            "      Iter       Train Loss   Remaining Time \n",
            "         1       54218.7402            3.76m\n",
            "         2       52159.1368            3.73m\n",
            "         3       50860.7712            3.68m\n",
            "         4       49915.9162            3.64m\n",
            "         5       49017.0466            3.60m\n",
            "         6       48281.2004            3.58m\n",
            "         7       47834.0293            3.55m\n",
            "         8       47363.9551            3.50m\n",
            "         9       46962.0809            3.46m\n",
            "        10       46661.3147            3.40m\n",
            "        20       44314.7315            2.99m\n",
            "        30       42697.7829            2.61m\n",
            "        40       41544.0874            2.23m\n",
            "        50       40411.6275            1.86m\n",
            "        60       39416.1892            1.49m\n",
            "        70       38486.8260            1.11m\n",
            "        80       37514.8998           44.50s\n",
            "        90       36605.3217           22.26s\n",
            "       100       35813.3922            0.00s\n",
            "[CV] ...................................... max_depth=6, total= 3.7min\n",
            "[CV] max_depth=6 .....................................................\n",
            "      Iter       Train Loss   Remaining Time \n",
            "         1       54032.0029            3.76m\n",
            "         2       52052.0019            3.75m\n",
            "         3       50599.7289            3.70m\n",
            "         4       49559.1817            3.66m\n",
            "         5       48781.0304            3.63m\n",
            "         6       48264.3930            3.59m\n",
            "         7       47849.9006            3.55m\n",
            "         8       47436.0484            3.50m\n",
            "         9       46983.2456            3.45m\n",
            "        10       46635.4979            3.41m\n",
            "        20       44331.2720            2.98m\n",
            "        30       42660.0023            2.61m\n",
            "        40       41421.9413            2.23m\n",
            "        50       40229.1381            1.85m\n",
            "        60       98107.5883            1.48m\n",
            "        70       97194.7908            1.11m\n",
            "        80       96369.7764           44.34s\n",
            "        90       95482.5329           22.15s\n",
            "       100       94779.3070            0.00s\n",
            "[CV] ...................................... max_depth=6, total= 3.7min\n",
            "[CV] max_depth=7 .....................................................\n",
            "      Iter       Train Loss   Remaining Time \n",
            "         1       52745.4061            4.36m\n",
            "         2       50481.3460            4.31m\n",
            "         3       48985.1427            4.26m\n",
            "         4       47691.0727            4.22m\n",
            "         5       46953.0242            4.18m\n",
            "         6       46144.8438            4.14m\n",
            "         7       45546.6781            4.10m\n",
            "         8       44941.3282            4.05m\n",
            "         9       44505.5998            3.99m\n",
            "        10       44083.6098            3.94m\n",
            "        20       40969.7854            3.46m\n",
            "        30       39024.8247            3.03m\n",
            "        40       37199.8186            2.59m\n",
            "        50     1105876.6921            2.15m\n",
            "        60     1104454.7914            1.72m\n",
            "        70     1102891.4937            1.29m\n",
            "        80     1101551.4891           51.45s\n",
            "        90     1100367.0807           25.69s\n",
            "       100     1099379.6159            0.00s\n",
            "[CV] ...................................... max_depth=7, total= 4.3min\n",
            "[CV] max_depth=7 .....................................................\n",
            "      Iter       Train Loss   Remaining Time \n",
            "         1       53185.9082            4.33m\n",
            "         2       50874.1600            4.30m\n",
            "         3       49460.6439            4.26m\n",
            "         4       48228.8093            4.23m\n",
            "         5       47261.2628            4.19m\n",
            "         6       46393.3118            4.15m\n",
            "         7       45796.4889            4.11m\n",
            "         8       45238.2008            4.06m\n",
            "         9       44807.0692            4.00m\n",
            "        10       44443.4768            3.95m\n",
            "        20       41485.0946            3.48m\n",
            "        30       39327.2357            3.04m\n",
            "        40       37437.1523            2.60m\n",
            "        50       35638.4133            2.17m\n",
            "        60       34317.6094            1.73m\n",
            "        70       32849.7489            1.30m\n",
            "        80       31272.9150           51.76s\n",
            "        90       30099.3626           25.85s\n",
            "       100       29026.4136            0.00s\n",
            "[CV] ...................................... max_depth=7, total= 4.3min\n",
            "[CV] max_depth=7 .....................................................\n",
            "      Iter       Train Loss   Remaining Time \n",
            "         1       52931.3014            4.30m\n",
            "         2       50730.1031            4.27m\n",
            "         3       49176.6875            4.22m\n",
            "         4       48074.0885            4.18m\n",
            "         5       47046.4392            4.15m\n",
            "         6       46321.4778            4.12m\n",
            "         7       45606.4410            4.09m\n",
            "         8       44973.4443            4.04m\n",
            "         9       44512.2041            3.99m\n",
            "        10       44084.8071            3.94m\n",
            "        20       41096.9166            3.47m\n",
            "        30       38954.4252            3.02m\n",
            "        40       37500.3524            2.58m\n",
            "        50       35685.8887            2.15m\n",
            "        60       34115.6560            1.72m\n",
            "        70       32535.4182            1.29m\n",
            "        80       31378.6652           51.47s\n",
            "        90       30255.9498           25.69s\n",
            "       100       43960.9993            0.00s\n",
            "[CV] ...................................... max_depth=7, total= 4.3min\n",
            "[CV] max_depth=8 .....................................................\n",
            "      Iter       Train Loss   Remaining Time \n",
            "         1       51422.0714            4.96m\n",
            "         2       48911.3233            4.90m\n",
            "         3       47225.8226            4.93m\n",
            "         4       45979.9431            4.89m\n",
            "         5       45083.1769            4.84m\n",
            "         6       43913.2016            4.78m\n",
            "         7       42952.0344            4.74m\n",
            "         8       42065.8296            4.68m\n",
            "         9       41381.1361            4.61m\n",
            "        10       40992.1720            4.55m\n",
            "        20       37164.4068            3.98m\n",
            "        30       34538.0287            3.47m\n",
            "        40       32248.0516            2.96m\n",
            "        50       29834.5784            2.47m\n",
            "        60       27636.3154            1.97m\n",
            "        70       25999.8448            1.48m\n",
            "        80       24404.6508           59.08s\n",
            "        90       22541.0082           29.55s\n",
            "       100      287989.0278            0.00s\n",
            "[CV] ...................................... max_depth=8, total= 4.9min\n",
            "[CV] max_depth=8 .....................................................\n",
            "      Iter       Train Loss   Remaining Time \n",
            "         1       51819.2283            4.89m\n",
            "         2       49380.8629            4.89m\n",
            "         3       47560.3492            4.85m\n",
            "         4       46202.5064            4.79m\n",
            "         5       45172.8502            4.74m\n",
            "         6       44239.7206            4.70m\n",
            "         7       43409.6728            4.66m\n",
            "         8       42762.2213            4.61m\n",
            "         9       42160.2794            4.56m\n",
            "        10       41703.3139            4.50m\n",
            "        20       37740.7865            3.95m\n",
            "        30       35269.7072            3.45m\n",
            "        40       32350.7952            2.96m\n",
            "        50       29710.9880            2.46m\n",
            "        60       27864.7985            1.96m\n",
            "        70       56156.8643            1.47m\n",
            "        80       54438.7227           58.76s\n",
            "        90       52878.1104           29.35s\n",
            "       100       51671.5335            0.00s\n",
            "[CV] ...................................... max_depth=8, total= 4.9min\n",
            "[CV] max_depth=8 .....................................................\n",
            "      Iter       Train Loss   Remaining Time \n",
            "         1       51693.5965            4.91m\n",
            "         2       49070.4181            4.89m\n",
            "         3       47505.7676            4.88m\n",
            "         4       46042.8387            4.85m\n",
            "         5       45079.5771            4.80m\n",
            "         6       43996.2244            4.76m\n",
            "         7       43178.8235            4.72m\n",
            "         8       42197.5724            4.67m\n",
            "         9       41710.6385            4.61m\n",
            "        10       41264.2335            4.54m\n",
            "        20       37189.3830            4.00m\n",
            "        30       34345.7240            3.48m\n",
            "        40       31770.3529            2.97m\n",
            "        50       30837.8877            2.47m\n",
            "        60       28654.0683            1.98m\n",
            "        70       26675.5900            1.48m\n",
            "        80       25071.9997           59.10s\n",
            "        90       23678.0261           29.48s\n",
            "       100       22360.4003            0.00s\n",
            "[CV] ...................................... max_depth=8, total= 4.9min\n",
            "[CV] max_depth=9 .....................................................\n",
            "      Iter       Train Loss   Remaining Time \n",
            "         1       49832.3995            5.59m\n",
            "         2       46806.7171            5.60m\n",
            "         3       44872.6280            5.55m\n",
            "         4       43424.9020            5.52m\n",
            "         5       42105.5202            5.47m\n",
            "         6       40886.1511            5.40m\n",
            "         7       39879.0625            5.36m\n",
            "         8       38834.9094            5.30m\n",
            "         9       38283.7410            5.22m\n",
            "        10       37727.2564            5.16m\n",
            "        20       31947.5462            4.56m\n",
            "        30       34714.2622            3.97m\n",
            "        40       31388.3667            3.39m\n",
            "        50       28528.3468            2.82m\n",
            "        60       26032.9946            2.25m\n",
            "        70 12371316854486.8730            1.68m\n",
            "        80 12371316853073.1309            1.12m\n",
            "        90 12371316854040.0605           33.71s\n",
            "       100 12371316852989.8125            0.00s\n",
            "[CV] ...................................... max_depth=9, total= 5.7min\n",
            "[CV] max_depth=9 .....................................................\n",
            "      Iter       Train Loss   Remaining Time \n",
            "         1       50208.6421            5.51m\n",
            "         2       47454.5107            5.57m\n",
            "         3       45555.9781            5.58m\n",
            "         4       44003.3498            5.57m\n",
            "         5       42545.8396            5.53m\n",
            "         6       41379.5960            5.48m\n",
            "         7       40196.5506            5.41m\n",
            "         8       39188.6679            5.38m\n",
            "         9       38363.7820            5.32m\n",
            "        10       37771.8503            5.23m\n",
            "        20       32776.0863            4.63m\n",
            "        30       29256.3943            4.00m\n",
            "        40       25602.1941            3.42m\n",
            "        50       22758.4305            2.84m\n",
            "        60       19788.0577            2.27m\n",
            "        70       17743.9086            1.70m\n",
            "        80       16555.6252            1.13m\n",
            "        90       14456.1796           34.03s\n",
            "       100       12957.2512            0.00s\n",
            "[CV] ...................................... max_depth=9, total= 5.7min\n",
            "[CV] max_depth=9 .....................................................\n",
            "      Iter       Train Loss   Remaining Time \n",
            "         1       50161.3272            5.66m\n",
            "         2       47082.0870            5.71m\n",
            "         3       45104.3247            5.69m\n",
            "         4       43545.5756            5.62m\n",
            "         5       42243.8851            5.58m\n",
            "         6       41281.7464            5.53m\n",
            "         7       40064.8313            5.48m\n",
            "         8       39012.3892            5.44m\n",
            "         9       38118.6960            5.40m\n",
            "        10       37453.8134            5.35m\n",
            "        20       31664.4649            4.68m\n",
            "        30       27758.9072            4.07m\n",
            "        40       24391.2705            3.47m\n",
            "        50       21816.7770            2.88m\n",
            "        60       19748.9343            2.29m\n",
            "        70       17314.6194            1.72m\n",
            "        80       15562.3975            1.14m\n",
            "        90       13953.7472           34.22s\n",
            "       100       12675.9014            0.00s\n",
            "[CV] ...................................... max_depth=9, total= 5.7min\n",
            "[CV] max_depth=10 ....................................................\n",
            "      Iter       Train Loss   Remaining Time \n",
            "         1       47912.4125            6.35m\n",
            "         2       44705.4368            6.47m\n",
            "         3       42304.2085            6.45m\n",
            "         4       40177.6292            6.39m\n",
            "         5       38393.5948            6.37m\n",
            "         6       37233.6247            6.29m\n",
            "         7       36082.8963            6.24m\n",
            "         8       34945.2039            6.18m\n",
            "         9       33905.6694            6.11m\n",
            "        10       32972.5554            6.05m\n",
            "        20       25012.9830            5.34m\n",
            "        30       19781.6937            4.64m\n",
            "        40       16435.2836            3.96m\n",
            "        50       14045.6392            3.30m\n",
            "        60       11885.3720            2.64m\n",
            "        70       10136.3408            1.98m\n",
            "        80        8608.3964            1.32m\n",
            "        90        7479.2953           39.44s\n",
            "       100        6680.0729            0.00s\n",
            "[CV] ..................................... max_depth=10, total= 6.6min\n",
            "[CV] max_depth=10 ....................................................\n",
            "      Iter       Train Loss   Remaining Time \n",
            "         1       48565.1634            6.30m\n",
            "         2       45007.9061            6.48m\n",
            "         3       42627.8235            6.43m\n",
            "         4       40892.6119            6.37m\n",
            "         5       38969.2435            6.31m\n",
            "         6       37530.7539            6.25m\n",
            "         7       36383.0112            6.18m\n",
            "         8       34861.0095            6.12m\n",
            "         9       33648.8259            6.05m\n",
            "        10       32744.2446            5.98m\n",
            "        20       25921.9108            5.27m\n",
            "        30       19765.5060            4.64m\n",
            "        40       16176.1597            3.97m\n",
            "        50       14121.3695            3.29m\n",
            "        60       12093.9343            2.63m\n",
            "        70       10074.9643            1.97m\n",
            "        80        8841.0883            1.31m\n",
            "        90       13493.6548           39.35s\n",
            "       100       12049.2218            0.00s\n",
            "[CV] ..................................... max_depth=10, total= 6.6min\n",
            "[CV] max_depth=10 ....................................................\n",
            "      Iter       Train Loss   Remaining Time \n",
            "         1       48399.2305            6.37m\n",
            "         2       44816.4338            6.54m\n",
            "         3       42540.3045            6.54m\n",
            "         4       40688.3260            6.48m\n",
            "         5       39208.2798            6.42m\n",
            "         6       37922.4051            6.37m\n",
            "         7       36512.9090            6.31m\n",
            "         8       35317.3428            6.27m\n",
            "         9       34125.8452            6.23m\n",
            "        10       33553.6068            6.16m\n",
            "        20       27074.4330            5.40m\n",
            "        30       20917.6567            4.73m\n",
            "        40       16852.2044            4.03m\n",
            "        50     3386507.0140            3.36m\n",
            "        60     3384574.7285            2.68m\n",
            "        70     3383121.6051            2.00m\n",
            "        80     3381844.6995            1.33m\n",
            "        90     3380812.7324           39.88s\n",
            "       100     3380065.7759            0.00s\n",
            "[CV] ..................................... max_depth=10, total= 6.7min\n",
            "[CV] max_depth=11 ....................................................\n",
            "      Iter       Train Loss   Remaining Time \n",
            "         1       45765.5958            7.15m\n",
            "         2       41561.2883            7.48m\n",
            "         3       38732.6641            7.51m\n",
            "         4       36305.0510            7.49m\n",
            "         5       34339.6073            7.45m\n",
            "         6       32493.9710            7.41m\n",
            "         7       30690.9855            7.37m\n",
            "         8       29208.4910            7.27m\n",
            "         9       27997.9772            7.18m\n",
            "        10       26594.3309            7.10m\n",
            "        20       18639.2018            6.31m\n",
            "        30       13247.7554            5.53m\n",
            "        40       10101.5902            4.73m\n",
            "        50        7802.0305            3.93m\n",
            "        60        6270.5534            3.14m\n",
            "        70        5025.7114            2.35m\n",
            "        80        3984.0647            1.56m\n",
            "        90        3204.3791           46.85s\n",
            "       100        2694.0325            0.00s\n",
            "[CV] ..................................... max_depth=11, total= 7.8min\n",
            "[CV] max_depth=11 ....................................................\n",
            "      Iter       Train Loss   Remaining Time \n",
            "         1       46381.8407            7.12m\n",
            "         2       42063.1613            7.47m\n",
            "         3       39182.3006            7.56m\n",
            "         4       37111.7651            7.48m\n",
            "         5       35286.2291            7.39m\n",
            "         6       33614.9190            7.32m\n",
            "         7       31636.6791            7.26m\n",
            "         8       30501.3252            7.16m\n",
            "         9       29427.8868            7.06m\n",
            "        10       28476.5614            6.98m\n",
            "        20       18795.7802            6.22m\n",
            "        30       13801.1656            5.42m\n",
            "        40       10773.3314            4.63m\n",
            "        50        8420.8005            3.85m\n",
            "        60        6624.9113            3.08m\n",
            "        70        5456.8557            2.30m\n",
            "        80        4594.4562            1.53m\n",
            "        90        3857.6480           45.82s\n",
            "       100        3168.6185            0.00s\n",
            "[CV] ..................................... max_depth=11, total= 7.7min\n",
            "[CV] max_depth=11 ....................................................\n",
            "      Iter       Train Loss   Remaining Time \n",
            "         1       46290.2510            7.04m\n",
            "         2       42091.7114            7.33m\n",
            "         3       39416.8557            7.37m\n",
            "         4       37584.7584            7.33m\n",
            "         5       35681.7073            7.29m\n",
            "         6       33855.1602            7.28m\n",
            "         7       31836.0214            7.24m\n",
            "         8       30047.1802            7.18m\n",
            "         9       29044.6468            7.10m\n",
            "        10       28136.3323            7.02m\n",
            "        20       19241.1889            6.24m\n",
            "        30       13701.0938            5.45m\n",
            "        40       15889.4511            4.67m\n",
            "        50       13574.7393            3.88m\n",
            "        60       12185.4131            3.09m\n",
            "        70       11064.7606            2.31m\n",
            "        80       10132.3934            1.54m\n",
            "        90        9413.2086           46.06s\n",
            "       100        8787.5042            0.00s\n",
            "[CV] ..................................... max_depth=11, total= 7.7min\n",
            "[CV] max_depth=12 ....................................................\n",
            "      Iter       Train Loss   Remaining Time \n",
            "         1       43252.0397            8.00m\n",
            "         2       38243.8008            8.68m\n",
            "         3       35101.5567            8.84m\n",
            "         4       32326.8565            8.83m\n",
            "         5       30258.1128            8.80m\n",
            "         6       27919.1438            8.77m\n",
            "         7       25932.0682            8.72m\n",
            "         8       23916.4644            8.68m\n",
            "         9       22404.6000            8.62m\n",
            "        10       21224.1336            8.52m\n",
            "        20       12655.0909            7.56m\n",
            "        30        8559.6464            6.55m\n",
            "        40        5939.2443            5.59m\n",
            "        50        4163.2740            4.64m\n",
            "        60        3093.8129            3.69m\n",
            "        70        2314.8778            2.76m\n",
            "        80        1683.5973            1.84m\n",
            "        90        1268.7810           54.99s\n",
            "       100         978.5804            0.00s\n",
            "[CV] ..................................... max_depth=12, total= 9.2min\n",
            "[CV] max_depth=12 ....................................................\n",
            "      Iter       Train Loss   Remaining Time \n",
            "         1       43695.9425            7.88m\n",
            "         2       38739.8996            8.59m\n",
            "         3       35456.1546            8.70m\n",
            "         4       32666.3396            8.77m\n",
            "         5       30482.6919            8.74m\n",
            "         6       28619.6477            8.72m\n",
            "         7       26982.2311            8.66m\n",
            "         8       25523.0472            8.59m\n",
            "         9       24188.5637            8.51m\n",
            "        10       22566.2119            8.44m\n",
            "        20       13285.8121            7.56m\n",
            "        30        8609.1569            6.61m\n",
            "        40        6175.3386            5.62m\n",
            "        50        4588.1449            4.63m\n",
            "        60        3245.5742            3.69m\n",
            "        70        2482.0542            2.75m\n",
            "        80        1842.4810            1.83m\n",
            "        90        1373.3781           54.78s\n",
            "       100        1037.7665            0.00s\n",
            "[CV] ..................................... max_depth=12, total= 9.2min\n",
            "[CV] max_depth=12 ....................................................\n",
            "      Iter       Train Loss   Remaining Time \n",
            "         1       43890.9907            7.96m\n",
            "         2       39025.5397            8.60m\n",
            "         3       35611.8987            8.75m\n",
            "         4       33148.4128            8.78m\n",
            "         5       31065.6058            8.76m\n",
            "         6       28019.8003            8.78m\n",
            "         7       25751.5467            8.75m\n",
            "         8       24491.0555            8.64m\n",
            "         9       23364.5077            8.54m\n",
            "        10       22217.1915            8.47m\n",
            "        20       12409.5881            7.56m\n",
            "        30        8069.7940            6.63m\n",
            "        40        5987.6265            5.61m\n",
            "        50        4265.2305            4.65m\n",
            "        60        3240.0558            3.69m\n",
            "        70        2444.8081            2.75m\n",
            "        80        1898.9432            1.82m\n",
            "        90        1482.6893           54.46s\n",
            "       100        1156.6627            0.00s\n",
            "[CV] ..................................... max_depth=12, total= 9.1min\n",
            "[CV] max_depth=13 ....................................................\n",
            "      Iter       Train Loss   Remaining Time \n",
            "         1       40424.0314            8.84m\n",
            "         2       33433.5483           10.37m\n",
            "         3       29218.4144           10.77m\n",
            "         4       26162.8281           10.89m\n",
            "         5       23573.1917           10.85m\n",
            "         6       21508.2897           10.82m\n",
            "         7       19638.6163           10.74m\n",
            "         8       17774.5898           10.71m\n",
            "         9       16500.0634           10.62m\n",
            "        10       15563.2616           10.49m\n",
            "        20        7881.8429            9.24m\n",
            "        30        4935.8114            7.96m\n",
            "        40        3199.9923            6.72m\n",
            "        50        2132.0964            5.55m\n",
            "        60        1439.3457            4.40m\n",
            "        70         995.0759            3.27m\n",
            "        80         676.7802            2.16m\n",
            "        90         474.8123            1.08m\n",
            "       100         325.5080            0.00s\n",
            "[CV] ..................................... max_depth=13, total=10.7min\n",
            "[CV] max_depth=13 ....................................................\n",
            "      Iter       Train Loss   Remaining Time \n",
            "         1       40800.6932            8.90m\n",
            "         2       34676.1347           10.19m\n",
            "         3       31062.5722           10.56m\n",
            "         4       27963.7094           10.80m\n",
            "         5       25487.8096           10.89m\n",
            "         6       23124.4006           10.85m\n",
            "         7       21362.0628           10.79m\n",
            "         8       19847.6703           10.68m\n",
            "         9       18638.4571           10.53m\n",
            "        10       17624.5382           10.37m\n",
            "        20        8963.3354            9.26m\n",
            "        30        5650.9607            8.00m\n",
            "        40        3598.7535            6.79m\n",
            "        50        2391.5121            5.58m\n",
            "        60        1472.1298            4.45m\n",
            "        70         997.4129            3.31m\n",
            "        80         678.0869            2.19m\n",
            "        90         481.2002            1.08m\n",
            "       100         329.9806            0.00s\n",
            "[CV] ..................................... max_depth=13, total=10.8min\n",
            "[CV] max_depth=13 ....................................................\n",
            "      Iter       Train Loss   Remaining Time \n",
            "         1       40887.2411            8.96m\n",
            "         2       34801.7233           10.13m\n",
            "         3       30977.6568           10.60m\n",
            "         4       28098.6335           10.69m\n",
            "         5       25058.0801           10.85m\n",
            "         6       22918.1968           10.90m\n",
            "         7       21189.3897           10.87m\n",
            "         8       19748.6172           10.80m\n",
            "         9       18167.1842           10.67m\n",
            "        10       17083.5771           10.56m\n",
            "        20        9102.7928            9.24m\n",
            "        30        4972.2598            8.03m\n",
            "        40        3117.8920            6.79m\n",
            "        50        2131.8624            5.57m\n",
            "        60        1425.2438            4.42m\n",
            "        70         936.2494            3.30m\n",
            "        80         613.2256            2.19m\n",
            "        90         425.8228            1.08m\n",
            "       100         283.7606            0.00s\n",
            "[CV] ..................................... max_depth=13, total=10.8min\n",
            "[CV] max_depth=14 ....................................................\n",
            "      Iter       Train Loss   Remaining Time \n",
            "         1       36946.8485            9.99m\n",
            "         2       29387.2434           12.55m\n",
            "         3       25001.4834           13.45m\n",
            "         4       21381.7839           13.66m\n",
            "         5       18276.9694           13.79m\n",
            "         6       15797.6337           13.71m\n",
            "         7       13752.8252           13.76m\n",
            "         8       12509.9580           13.57m\n",
            "         9       11325.6710           13.49m\n",
            "        10       10286.8790           13.40m\n",
            "        20 644096597464200730704649080283455396264821652066462969736685147966796893178382996037565853924828581200387946540026856462090240.0000           11.47m\n",
            "        30 644096597464200730704649080283455396264821652066462969736685147966796893178382996037565853924828581200387946540026856462090240.0000            9.68m\n",
            "        40 644096597464200730704649080283455396264821652066462969736685147966796893178382996037565853924828581200387946540026856462090240.0000            8.04m\n",
            "        50 644096597464200730704649080283455396264821652066462969736685147966796893178382996037565853924828581200387946540026856462090240.0000            6.53m\n",
            "        60 644096597464200730704649080283455396264821652066462969736685147966796893178382996037565853924828581200387946540026856462090240.0000            5.09m\n",
            "        70 644096597464200730704649080283455396264821652066462969736685147966796893178382996037565853924828581200387946540026856462090240.0000            3.74m\n",
            "        80 644096597464200730704649080283455396264821652066462969736685147966796893178382996037565853924828581200387946540026856462090240.0000            2.45m\n",
            "        90 644096597464200730704649080283455396264821652066462969736685147966796893178382996037565853924828581200387946540026856462090240.0000            1.20m\n",
            "       100 644096597464200730704649080283455396264821652066462969736685147966796893178382996037565853924828581200387946540026856462090240.0000            0.00s\n",
            "[CV] ..................................... max_depth=14, total=11.8min\n",
            "[CV] max_depth=14 ....................................................\n",
            "      Iter       Train Loss   Remaining Time \n",
            "         1       37473.9143            9.97m\n",
            "         2       29889.8617           12.24m\n",
            "         3       25520.0757           13.05m\n",
            "         4       21812.6715           13.36m\n",
            "         5       18373.3125           13.74m\n",
            "         6       16212.6323           13.80m\n",
            "         7 5107227404590732338528256.0000           13.77m\n",
            "         8 5107227404590732338528256.0000           13.75m\n",
            "         9 5107227404590732338528256.0000           13.57m\n",
            "        10 5107227404590732338528256.0000           13.35m\n",
            "        20 5107227404590732338528256.0000           11.57m\n",
            "        30 5107227404590747370913792.0000            9.71m\n",
            "        40 5107227404590747370913792.0000            8.03m\n",
            "        50 5107227404590747370913792.0000            6.53m\n",
            "        60 5107227404590747370913792.0000            5.11m\n",
            "        70 5107227404590747370913792.0000            3.76m\n",
            "        80 5107227404590747370913792.0000            2.45m\n",
            "        90 5107227404590747370913792.0000            1.20m\n",
            "       100 5107227404590747370913792.0000            0.00s\n",
            "[CV] ..................................... max_depth=14, total=11.9min\n",
            "[CV] max_depth=14 ....................................................\n",
            "      Iter       Train Loss   Remaining Time \n",
            "         1       37484.1275            9.94m\n",
            "         2       29561.0336           12.38m\n",
            "         3       24634.2123           13.39m\n",
            "         4       20974.5230           13.82m\n",
            "         5       17968.3005           13.93m\n",
            "         6       16019.5483           13.94m\n",
            "         7       14111.0381           13.91m\n",
            "         8       12473.7685           13.80m\n",
            "         9       11317.7956           13.63m\n",
            "        10       10439.0927           13.40m\n",
            "        20        4421.1138           11.53m\n",
            "        30        2259.9678            9.81m\n",
            "        40        1451.6465            8.05m\n",
            "        50         923.8028            6.54m\n",
            "        60         534.5416            5.16m\n",
            "        70         319.8259            3.80m\n",
            "        80         190.9775            2.48m\n",
            "        90         119.5910            1.21m\n",
            "       100          84.0815            0.00s\n",
            "[CV] ..................................... max_depth=14, total=11.8min\n",
            "[CV] max_depth=15 ....................................................\n",
            "      Iter       Train Loss   Remaining Time \n",
            "         1       33446.1478           11.17m\n",
            "         2       26070.9997           14.41m\n",
            "         3       20592.5703           15.90m\n",
            "         4       16796.3997           16.62m\n",
            "         5       14099.0086           16.78m\n",
            "         6       11602.9595           16.86m\n",
            "         7        9885.0548           16.82m\n",
            "         8        8656.9312           16.66m\n",
            "         9        7647.3252           16.46m\n",
            "        10        6702.4689           16.30m\n",
            "        20        2941.9361           13.58m\n",
            "        30        1301.7839           11.51m\n",
            "        40         622.1563            9.54m\n",
            "        50         311.8263            7.65m\n",
            "        60         166.7015            5.84m\n",
            "        70         100.5891            4.14m\n",
            "        80          71.7055            2.61m\n",
            "        90          55.0886            1.23m\n",
            "       100          48.3411            0.00s\n",
            "[CV] ..................................... max_depth=15, total=11.8min\n",
            "[CV] max_depth=15 ....................................................\n",
            "      Iter       Train Loss   Remaining Time \n",
            "         1       33932.9287           11.14m\n",
            "         2       25666.2625           14.77m\n",
            "         3       21329.7506           15.89m\n",
            "         4 889207139739051136.0000           16.48m\n",
            "         5 889207139739049344.0000           16.69m\n",
            "         6 889207139739046912.0000           16.74m\n",
            "         7 889207139739045376.0000           16.75m\n",
            "         8 889207139739044480.0000           16.56m\n",
            "         9 889207139739043712.0000           16.29m\n",
            "        10 889207139739042048.0000           16.04m\n",
            "        20 889207139739037824.0000           13.44m\n",
            "        30 889207139739034880.0000           11.43m\n",
            "        40 889207139739034368.0000            9.54m\n",
            "        50 889207139739034112.0000            7.64m\n",
            "        60 889207139739034112.0000            5.84m\n",
            "        70 889207139739034112.0000            4.16m\n",
            "        80 889207139739034112.0000            2.62m\n",
            "        90 889207139739034112.0000            1.24m\n",
            "       100 889207139739033984.0000            0.00s\n",
            "[CV] ..................................... max_depth=15, total=11.9min\n",
            "[CV] max_depth=15 ....................................................\n",
            "      Iter       Train Loss   Remaining Time \n",
            "         1       33804.7942           11.24m\n",
            "         2       24433.2915           15.09m\n",
            "         3       19549.0149           16.56m\n",
            "         4       16400.8702           16.97m\n",
            "         5       13860.9136           17.13m\n",
            "         6       11597.5212           17.35m\n",
            "         7       10029.9251           17.07m\n",
            "         8        8871.4538           16.76m\n",
            "         9        7794.1391           16.57m\n",
            "        10        6889.7546           16.48m\n",
            "        20        2642.8922           13.90m\n",
            "        30        1239.0598           11.61m\n",
            "        40         636.3164            9.52m\n",
            "        50         320.8289            7.69m\n",
            "        60         172.5402            5.92m\n",
            "        70         103.7814            4.23m\n",
            "        80          71.1152            2.67m\n",
            "        90          54.7139            1.27m\n",
            "       100          49.1057            0.00s\n",
            "[CV] ..................................... max_depth=15, total=12.1min\n",
            "      Iter       Train Loss   Remaining Time \n"
          ],
          "name": "stdout"
        },
        {
          "output_type": "stream",
          "text": [
            "[Parallel(n_jobs=1)]: Done  45 out of  45 | elapsed: 264.7min finished\n"
          ],
          "name": "stderr"
        },
        {
          "output_type": "stream",
          "text": [
            "         1       85146.9092            1.54m\n",
            "         2       83957.3303            1.52m\n",
            "         3       83243.4455            1.50m\n",
            "         4       82836.7438            1.48m\n",
            "         5       82522.1036            1.47m\n",
            "         6       82319.3398            1.44m\n",
            "         7       82085.3846            1.43m\n",
            "         8       81971.6616            1.42m\n",
            "         9       81843.1235            1.40m\n",
            "        10       81702.3843            1.39m\n",
            "        20       80715.1853            1.22m\n",
            "        30       80178.0132            1.07m\n",
            "        40       79783.9175           54.83s\n",
            "        50       79526.7366           45.73s\n",
            "        60       79292.6186           36.56s\n",
            "        70       79115.4948           27.41s\n",
            "        80       78963.4147           18.26s\n",
            "        90       78819.5798            9.12s\n",
            "       100       78693.5205            0.00s\n"
          ],
          "name": "stdout"
        },
        {
          "output_type": "execute_result",
          "data": {
            "text/plain": [
              "GridSearchCV(cv=3, error_score=nan,\n",
              "             estimator=GradientBoostingClassifier(ccp_alpha=0.0,\n",
              "                                                  criterion='friedman_mse',\n",
              "                                                  init=None, learning_rate=0.25,\n",
              "                                                  loss='deviance', max_depth=3,\n",
              "                                                  max_features=None,\n",
              "                                                  max_leaf_nodes=None,\n",
              "                                                  min_impurity_decrease=0.0,\n",
              "                                                  min_impurity_split=None,\n",
              "                                                  min_samples_leaf=1,\n",
              "                                                  min_samples_split=2,\n",
              "                                                  min_weight_fraction_leaf=0.0,\n",
              "                                                  n_estimators=100,\n",
              "                                                  n_iter_no_change=None,\n",
              "                                                  presort='deprecated',\n",
              "                                                  random_state=None,\n",
              "                                                  subsample=1.0, tol=0.0001,\n",
              "                                                  validation_fraction=0.1,\n",
              "                                                  verbose=1, warm_start=False),\n",
              "             iid='deprecated', n_jobs=None,\n",
              "             param_grid={'max_depth': array([ 1,  2,  3,  4,  5,  6,  7,  8,  9, 10, 11, 12, 13, 14, 15])},\n",
              "             pre_dispatch='2*n_jobs', refit=True, return_train_score=True,\n",
              "             scoring=None, verbose=2)"
            ]
          },
          "metadata": {
            "tags": []
          },
          "execution_count": 57
        }
      ]
    },
    {
      "cell_type": "code",
      "metadata": {
        "id": "bCdOKPMSlfcd",
        "outputId": "37221db8-14eb-4c60-d8e1-411f31733ed7",
        "colab": {
          "base_uri": "https://localhost:8080/",
          "height": 185
        }
      },
      "source": [
        "model_GS.best_estimator_"
      ],
      "execution_count": null,
      "outputs": [
        {
          "output_type": "execute_result",
          "data": {
            "text/plain": [
              "GradientBoostingClassifier(ccp_alpha=0.0, criterion='friedman_mse', init=None,\n",
              "                           learning_rate=0.25, loss='deviance', max_depth=1,\n",
              "                           max_features=None, max_leaf_nodes=None,\n",
              "                           min_impurity_decrease=0.0, min_impurity_split=None,\n",
              "                           min_samples_leaf=1, min_samples_split=2,\n",
              "                           min_weight_fraction_leaf=0.0, n_estimators=100,\n",
              "                           n_iter_no_change=None, presort='deprecated',\n",
              "                           random_state=None, subsample=1.0, tol=0.0001,\n",
              "                           validation_fraction=0.1, verbose=1,\n",
              "                           warm_start=False)"
            ]
          },
          "metadata": {
            "tags": []
          },
          "execution_count": 58
        }
      ]
    },
    {
      "cell_type": "markdown",
      "metadata": {
        "id": "xr1_OvqTefdi"
      },
      "source": [
        "At the end of the GridSearch, we conclude that the best Gradient Boosting Tree has only a depth of 1, which is a very simple model.\n",
        "\n",
        "To conclude, Machine Learning models, except the KNN model, alone are pretty bad, because they can't handle the minority datas. We will try an Oversampling method, called SMOTE, to solve this problem."
      ]
    },
    {
      "cell_type": "code",
      "metadata": {
        "id": "btWZlsQA8g85"
      },
      "source": [
        ""
      ],
      "execution_count": null,
      "outputs": []
    }
  ]
}