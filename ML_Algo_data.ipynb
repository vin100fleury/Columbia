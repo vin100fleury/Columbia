{
  "nbformat": 4,
  "nbformat_minor": 0,
  "metadata": {
    "colab": {
      "name": "ML_Algo_data.ipynb",
      "provenance": [],
      "collapsed_sections": []
    },
    "kernelspec": {
      "name": "python3",
      "display_name": "Python 3"
    }
  },
  "cells": [
    {
      "cell_type": "markdown",
      "metadata": {
        "id": "zKZPl96NnWvu"
      },
      "source": [
        "# Extraction"
      ]
    },
    {
      "cell_type": "code",
      "metadata": {
        "id": "XlE1b1s4H4-A",
        "outputId": "2e9473ff-e82f-4c58-f87b-11ab7c73bce6",
        "colab": {
          "base_uri": "https://localhost:8080/",
          "height": 101
        }
      },
      "source": [
        "!pip install -U -q PyDrive\n",
        "!pip install -U scikit-learn\n",
        "from pydrive.auth import GoogleAuth\n",
        "from pydrive.drive import GoogleDrive\n",
        "from google.colab import auth\n",
        "from oauth2client.client import GoogleCredentials\n",
        "# Authenticate and create the PyDrive client.\n",
        "auth.authenticate_user()\n",
        "gauth = GoogleAuth()\n",
        "gauth.credentials = GoogleCredentials.get_application_default()\n",
        "drive = GoogleDrive(gauth)\n",
        "\n",
        "import pandas as pd\n",
        "import numpy as np\n",
        "\n",
        "import matplotlib.pyplot as plt\n",
        "\n",
        "import scipy.stats as spst\n",
        "from scipy.optimize import minimize\n",
        "import scipy.special as spsp\n",
        "import datetime\n",
        "\n",
        "from sklearn.neighbors import KNeighborsClassifier\n",
        "\n",
        "link=\"https://drive.google.com/open?id=1ekH_MmN_ofsmz6bR3xHrRnmDfXSDCWQK\"\n",
        "_,id=link.split(\"=\")\n",
        "downloaded = drive.CreateFile({'id':id}) \n",
        "downloaded.GetContentFile('myfile.csv')\n",
        "hSSW_wdeltabike= pd.read_csv('myfile.csv')\n",
        "print('hSSW_wdeltabike imported')"
      ],
      "execution_count": null,
      "outputs": [
        {
          "output_type": "stream",
          "text": [
            "Requirement already up-to-date: scikit-learn in /usr/local/lib/python3.6/dist-packages (0.22)\n",
            "Requirement already satisfied, skipping upgrade: joblib>=0.11 in /usr/local/lib/python3.6/dist-packages (from scikit-learn) (0.14.1)\n",
            "Requirement already satisfied, skipping upgrade: scipy>=0.17.0 in /usr/local/lib/python3.6/dist-packages (from scikit-learn) (1.3.3)\n",
            "Requirement already satisfied, skipping upgrade: numpy>=1.11.0 in /usr/local/lib/python3.6/dist-packages (from scikit-learn) (1.17.4)\n",
            "hSSW_wdeltabike imported\n"
          ],
          "name": "stdout"
        }
      ]
    },
    {
      "cell_type": "code",
      "metadata": {
        "id": "I6m3fC_mIpiG",
        "outputId": "78ad011d-b612-45df-8df4-1daf9ae0b091",
        "colab": {
          "base_uri": "https://localhost:8080/",
          "height": 825
        }
      },
      "source": [
        "hSSW_wdeltabike"
      ],
      "execution_count": null,
      "outputs": [
        {
          "output_type": "execute_result",
          "data": {
            "text/html": [
              "<div>\n",
              "<style scoped>\n",
              "    .dataframe tbody tr th:only-of-type {\n",
              "        vertical-align: middle;\n",
              "    }\n",
              "\n",
              "    .dataframe tbody tr th {\n",
              "        vertical-align: top;\n",
              "    }\n",
              "\n",
              "    .dataframe thead th {\n",
              "        text-align: right;\n",
              "    }\n",
              "</style>\n",
              "<table border=\"1\" class=\"dataframe\">\n",
              "  <thead>\n",
              "    <tr style=\"text-align: right;\">\n",
              "      <th></th>\n",
              "      <th>Unnamed: 0</th>\n",
              "      <th>station_id</th>\n",
              "      <th>bikes_available</th>\n",
              "      <th>docks_available</th>\n",
              "      <th>Holiday</th>\n",
              "      <th>Weekend</th>\n",
              "      <th>name</th>\n",
              "      <th>lat</th>\n",
              "      <th>long</th>\n",
              "      <th>dock_count</th>\n",
              "      <th>city</th>\n",
              "      <th>installation_date</th>\n",
              "      <th>delta_bike</th>\n",
              "      <th>datetime</th>\n",
              "      <th>Humidity</th>\n",
              "      <th>Pressure</th>\n",
              "      <th>Temperature</th>\n",
              "      <th>Weather_Description</th>\n",
              "      <th>Wind_Direction</th>\n",
              "      <th>Wind_Speed</th>\n",
              "    </tr>\n",
              "  </thead>\n",
              "  <tbody>\n",
              "    <tr>\n",
              "      <th>0</th>\n",
              "      <td>0</td>\n",
              "      <td>2</td>\n",
              "      <td>2</td>\n",
              "      <td>25</td>\n",
              "      <td>False</td>\n",
              "      <td>False</td>\n",
              "      <td>San Jose Diridon Caltrain Station</td>\n",
              "      <td>37.329732</td>\n",
              "      <td>-121.901782</td>\n",
              "      <td>27</td>\n",
              "      <td>San Jose</td>\n",
              "      <td>8/6/2013</td>\n",
              "      <td>NaN</td>\n",
              "      <td>8/29/2013 13:00</td>\n",
              "      <td>94.0</td>\n",
              "      <td>1021</td>\n",
              "      <td>287.2795</td>\n",
              "      <td>broken clouds</td>\n",
              "      <td>201</td>\n",
              "      <td>0</td>\n",
              "    </tr>\n",
              "    <tr>\n",
              "      <th>1</th>\n",
              "      <td>1</td>\n",
              "      <td>3</td>\n",
              "      <td>9</td>\n",
              "      <td>6</td>\n",
              "      <td>False</td>\n",
              "      <td>False</td>\n",
              "      <td>San Jose Civic Center</td>\n",
              "      <td>37.330698</td>\n",
              "      <td>-121.888979</td>\n",
              "      <td>15</td>\n",
              "      <td>San Jose</td>\n",
              "      <td>8/5/2013</td>\n",
              "      <td>NaN</td>\n",
              "      <td>8/29/2013 13:00</td>\n",
              "      <td>94.0</td>\n",
              "      <td>1021</td>\n",
              "      <td>287.2795</td>\n",
              "      <td>broken clouds</td>\n",
              "      <td>201</td>\n",
              "      <td>0</td>\n",
              "    </tr>\n",
              "    <tr>\n",
              "      <th>2</th>\n",
              "      <td>2</td>\n",
              "      <td>4</td>\n",
              "      <td>0</td>\n",
              "      <td>11</td>\n",
              "      <td>False</td>\n",
              "      <td>False</td>\n",
              "      <td>Santa Clara at Almaden</td>\n",
              "      <td>37.333988</td>\n",
              "      <td>-121.894902</td>\n",
              "      <td>11</td>\n",
              "      <td>San Jose</td>\n",
              "      <td>8/6/2013</td>\n",
              "      <td>NaN</td>\n",
              "      <td>8/29/2013 13:00</td>\n",
              "      <td>94.0</td>\n",
              "      <td>1021</td>\n",
              "      <td>287.2795</td>\n",
              "      <td>broken clouds</td>\n",
              "      <td>201</td>\n",
              "      <td>0</td>\n",
              "    </tr>\n",
              "    <tr>\n",
              "      <th>3</th>\n",
              "      <td>3</td>\n",
              "      <td>5</td>\n",
              "      <td>9</td>\n",
              "      <td>10</td>\n",
              "      <td>False</td>\n",
              "      <td>False</td>\n",
              "      <td>Adobe on Almaden</td>\n",
              "      <td>37.331415</td>\n",
              "      <td>-121.893200</td>\n",
              "      <td>19</td>\n",
              "      <td>San Jose</td>\n",
              "      <td>8/5/2013</td>\n",
              "      <td>NaN</td>\n",
              "      <td>8/29/2013 13:00</td>\n",
              "      <td>94.0</td>\n",
              "      <td>1021</td>\n",
              "      <td>287.2795</td>\n",
              "      <td>broken clouds</td>\n",
              "      <td>201</td>\n",
              "      <td>0</td>\n",
              "    </tr>\n",
              "    <tr>\n",
              "      <th>4</th>\n",
              "      <td>4</td>\n",
              "      <td>6</td>\n",
              "      <td>4</td>\n",
              "      <td>11</td>\n",
              "      <td>False</td>\n",
              "      <td>False</td>\n",
              "      <td>San Pedro Square</td>\n",
              "      <td>37.336721</td>\n",
              "      <td>-121.894074</td>\n",
              "      <td>15</td>\n",
              "      <td>San Jose</td>\n",
              "      <td>8/7/2013</td>\n",
              "      <td>NaN</td>\n",
              "      <td>8/29/2013 13:00</td>\n",
              "      <td>94.0</td>\n",
              "      <td>1021</td>\n",
              "      <td>287.2795</td>\n",
              "      <td>broken clouds</td>\n",
              "      <td>201</td>\n",
              "      <td>0</td>\n",
              "    </tr>\n",
              "    <tr>\n",
              "      <th>...</th>\n",
              "      <td>...</td>\n",
              "      <td>...</td>\n",
              "      <td>...</td>\n",
              "      <td>...</td>\n",
              "      <td>...</td>\n",
              "      <td>...</td>\n",
              "      <td>...</td>\n",
              "      <td>...</td>\n",
              "      <td>...</td>\n",
              "      <td>...</td>\n",
              "      <td>...</td>\n",
              "      <td>...</td>\n",
              "      <td>...</td>\n",
              "      <td>...</td>\n",
              "      <td>...</td>\n",
              "      <td>...</td>\n",
              "      <td>...</td>\n",
              "      <td>...</td>\n",
              "      <td>...</td>\n",
              "      <td>...</td>\n",
              "    </tr>\n",
              "    <tr>\n",
              "      <th>634687</th>\n",
              "      <td>634687</td>\n",
              "      <td>70</td>\n",
              "      <td>6</td>\n",
              "      <td>13</td>\n",
              "      <td>False</td>\n",
              "      <td>True</td>\n",
              "      <td>San Francisco Caltrain (Townsend at 4th)</td>\n",
              "      <td>37.776617</td>\n",
              "      <td>-122.395260</td>\n",
              "      <td>19</td>\n",
              "      <td>San Francisco</td>\n",
              "      <td>8/23/2013</td>\n",
              "      <td>0.0</td>\n",
              "      <td>9/28/2014 14:00</td>\n",
              "      <td>100.0</td>\n",
              "      <td>1024</td>\n",
              "      <td>286.7370</td>\n",
              "      <td>sky is clear</td>\n",
              "      <td>159</td>\n",
              "      <td>1</td>\n",
              "    </tr>\n",
              "    <tr>\n",
              "      <th>634688</th>\n",
              "      <td>634688</td>\n",
              "      <td>71</td>\n",
              "      <td>5</td>\n",
              "      <td>14</td>\n",
              "      <td>False</td>\n",
              "      <td>True</td>\n",
              "      <td>Powell at Post (Union Square)</td>\n",
              "      <td>37.788446</td>\n",
              "      <td>-122.408499</td>\n",
              "      <td>19</td>\n",
              "      <td>San Francisco</td>\n",
              "      <td>8/23/2013</td>\n",
              "      <td>-2.0</td>\n",
              "      <td>9/28/2014 14:00</td>\n",
              "      <td>100.0</td>\n",
              "      <td>1024</td>\n",
              "      <td>286.7370</td>\n",
              "      <td>sky is clear</td>\n",
              "      <td>159</td>\n",
              "      <td>1</td>\n",
              "    </tr>\n",
              "    <tr>\n",
              "      <th>634689</th>\n",
              "      <td>634689</td>\n",
              "      <td>72</td>\n",
              "      <td>14</td>\n",
              "      <td>9</td>\n",
              "      <td>False</td>\n",
              "      <td>True</td>\n",
              "      <td>Civic Center BART (7th at Market)</td>\n",
              "      <td>37.781039</td>\n",
              "      <td>-122.411748</td>\n",
              "      <td>23</td>\n",
              "      <td>San Francisco</td>\n",
              "      <td>8/23/2013</td>\n",
              "      <td>0.0</td>\n",
              "      <td>9/28/2014 14:00</td>\n",
              "      <td>100.0</td>\n",
              "      <td>1024</td>\n",
              "      <td>286.7370</td>\n",
              "      <td>sky is clear</td>\n",
              "      <td>159</td>\n",
              "      <td>1</td>\n",
              "    </tr>\n",
              "    <tr>\n",
              "      <th>634690</th>\n",
              "      <td>634690</td>\n",
              "      <td>73</td>\n",
              "      <td>10</td>\n",
              "      <td>4</td>\n",
              "      <td>False</td>\n",
              "      <td>True</td>\n",
              "      <td>Grant Avenue at Columbus Avenue</td>\n",
              "      <td>37.798522</td>\n",
              "      <td>-122.407245</td>\n",
              "      <td>15</td>\n",
              "      <td>San Francisco</td>\n",
              "      <td>8/21/2013</td>\n",
              "      <td>-3.0</td>\n",
              "      <td>9/28/2014 14:00</td>\n",
              "      <td>100.0</td>\n",
              "      <td>1024</td>\n",
              "      <td>286.7370</td>\n",
              "      <td>sky is clear</td>\n",
              "      <td>159</td>\n",
              "      <td>1</td>\n",
              "    </tr>\n",
              "    <tr>\n",
              "      <th>634691</th>\n",
              "      <td>634691</td>\n",
              "      <td>74</td>\n",
              "      <td>3</td>\n",
              "      <td>20</td>\n",
              "      <td>False</td>\n",
              "      <td>True</td>\n",
              "      <td>Steuart at Market</td>\n",
              "      <td>37.794139</td>\n",
              "      <td>-122.394434</td>\n",
              "      <td>23</td>\n",
              "      <td>San Francisco</td>\n",
              "      <td>8/25/2013</td>\n",
              "      <td>0.0</td>\n",
              "      <td>9/28/2014 14:00</td>\n",
              "      <td>100.0</td>\n",
              "      <td>1024</td>\n",
              "      <td>286.7370</td>\n",
              "      <td>sky is clear</td>\n",
              "      <td>159</td>\n",
              "      <td>1</td>\n",
              "    </tr>\n",
              "  </tbody>\n",
              "</table>\n",
              "<p>634692 rows × 20 columns</p>\n",
              "</div>"
            ],
            "text/plain": [
              "        Unnamed: 0  station_id  ...  Wind_Direction  Wind_Speed\n",
              "0                0           2  ...             201           0\n",
              "1                1           3  ...             201           0\n",
              "2                2           4  ...             201           0\n",
              "3                3           5  ...             201           0\n",
              "4                4           6  ...             201           0\n",
              "...            ...         ...  ...             ...         ...\n",
              "634687      634687          70  ...             159           1\n",
              "634688      634688          71  ...             159           1\n",
              "634689      634689          72  ...             159           1\n",
              "634690      634690          73  ...             159           1\n",
              "634691      634691          74  ...             159           1\n",
              "\n",
              "[634692 rows x 20 columns]"
            ]
          },
          "metadata": {
            "tags": []
          },
          "execution_count": 2
        }
      ]
    },
    {
      "cell_type": "code",
      "metadata": {
        "id": "dD5itaZgKHdP",
        "outputId": "5e02b6c9-2e39-4712-9ce0-285755ce0ff6",
        "colab": {
          "base_uri": "https://localhost:8080/",
          "height": 50
        }
      },
      "source": [
        "hSSW_wdeltabike['city'].unique()"
      ],
      "execution_count": null,
      "outputs": [
        {
          "output_type": "execute_result",
          "data": {
            "text/plain": [
              "array(['San Jose', 'Redwood City', 'Mountain View', 'Palo Alto',\n",
              "       'San Francisco'], dtype=object)"
            ]
          },
          "metadata": {
            "tags": []
          },
          "execution_count": 3
        }
      ]
    },
    {
      "cell_type": "code",
      "metadata": {
        "id": "QbsMfpC3KV28",
        "outputId": "9a3f8a50-60e5-4074-8545-f300b28fbe9b",
        "colab": {
          "base_uri": "https://localhost:8080/",
          "height": 168
        }
      },
      "source": [
        "hSSW_wdeltabike['Weather_Description'].unique()"
      ],
      "execution_count": null,
      "outputs": [
        {
          "output_type": "execute_result",
          "data": {
            "text/plain": [
              "array(['broken clouds', 'mist', 'few clouds', 'sky is clear',\n",
              "       'thunderstorm', 'scattered clouds', 'overcast clouds',\n",
              "       'moderate rain', 'light rain', 'proximity thunderstorm', 'fog',\n",
              "       'haze', 'light intensity drizzle', 'heavy intensity drizzle',\n",
              "       'drizzle', 'thunderstorm with rain', 'proximity shower rain',\n",
              "       'thunderstorm with light rain', 'heavy intensity rain',\n",
              "       'very heavy rain', 'thunderstorm with heavy rain',\n",
              "       'proximity thunderstorm with rain', 'light intensity shower rain'],\n",
              "      dtype=object)"
            ]
          },
          "metadata": {
            "tags": []
          },
          "execution_count": 4
        }
      ]
    },
    {
      "cell_type": "markdown",
      "metadata": {
        "id": "gv6ugX7-SwMP"
      },
      "source": [
        "# Coherence Check and Cleaning"
      ]
    },
    {
      "cell_type": "markdown",
      "metadata": {
        "id": "7wSc8rqkoCC1"
      },
      "source": [
        "First, we plot the difference between available bikes and docks, and the count expected for  this station."
      ]
    },
    {
      "cell_type": "code",
      "metadata": {
        "id": "Sy6athEfI9Sn",
        "outputId": "ffe89152-7c50-4afc-bb4b-7c6d8de9ccf0",
        "colab": {
          "base_uri": "https://localhost:8080/",
          "height": 282
        }
      },
      "source": [
        "hSSW_wdeltabike['check']=hSSW_wdeltabike['bikes_available']+hSSW_wdeltabike['docks_available']-hSSW_wdeltabike['dock_count']\n",
        "unique,count=np.unique(hSSW_wdeltabike['check'],return_counts=True)\n",
        "plt.bar(np.delete(unique,-3),np.delete(count,-3)) #delete count of value 0"
      ],
      "execution_count": null,
      "outputs": [
        {
          "output_type": "execute_result",
          "data": {
            "text/plain": [
              "<BarContainer object of 14 artists>"
            ]
          },
          "metadata": {
            "tags": []
          },
          "execution_count": 5
        },
        {
          "output_type": "display_data",
          "data": {
            "image/png": "[encoded data removed]",
            "text/plain": [
              "<Figure size 432x288 with 1 Axes>"
            ]
          },
          "metadata": {
            "tags": []
          }
        }
      ]
    },
    {
      "cell_type": "markdown",
      "metadata": {
        "id": "E5FRAho5p26f"
      },
      "source": [
        "For your information, we dropped the 0 differences, as they have no problem.\n",
        "We see that we have approximately 30,000 samples with incorrect sums. If we can assume that negative sums are reflecting out of use docks, the positive sums are weird."
      ]
    },
    {
      "cell_type": "markdown",
      "metadata": {
        "id": "_eWRH-P-rfEQ"
      },
      "source": [
        "Let's breakdown these errors by stations"
      ]
    },
    {
      "cell_type": "code",
      "metadata": {
        "id": "_paz44K3MeAw",
        "outputId": "05b526b8-9cb8-4827-b91f-a419dccd05b4",
        "colab": {
          "base_uri": "https://localhost:8080/",
          "height": 282
        }
      },
      "source": [
        "unique_id,count_id=np.unique(hSSW_wdeltabike[hSSW_wdeltabike['check']!=0]['station_id'],return_counts=True)\n",
        "plt.bar(unique_id,count_id)"
      ],
      "execution_count": null,
      "outputs": [
        {
          "output_type": "execute_result",
          "data": {
            "text/plain": [
              "<BarContainer object of 69 artists>"
            ]
          },
          "metadata": {
            "tags": []
          },
          "execution_count": 6
        },
        {
          "output_type": "display_data",
          "data": {
            "image/png": "[encoded data removed]",
            "text/plain": [
              "<Figure size 432x288 with 1 Axes>"
            ]
          },
          "metadata": {
            "tags": []
          }
        }
      ]
    },
    {
      "cell_type": "code",
      "metadata": {
        "id": "CsQ4YW38MyLh",
        "outputId": "44639409-7854-469c-b5f3-adc2fbb3852d",
        "colab": {
          "base_uri": "https://localhost:8080/",
          "height": 218
        }
      },
      "source": [
        "unique_id,count_id"
      ],
      "execution_count": null,
      "outputs": [
        {
          "output_type": "execute_result",
          "data": {
            "text/plain": [
              "(array([ 2,  3,  4,  5,  6,  7,  8,  9, 10, 11, 12, 13, 14, 16, 21, 22, 23,\n",
              "        24, 26, 27, 28, 29, 30, 31, 32, 33, 34, 35, 36, 37, 38, 39, 41, 42,\n",
              "        45, 46, 47, 48, 49, 50, 51, 54, 55, 56, 57, 58, 59, 60, 61, 62, 63,\n",
              "        64, 65, 66, 67, 68, 69, 70, 71, 72, 73, 74, 75, 76, 77, 80, 82, 83,\n",
              "        84], dtype=int64),\n",
              " array([ 298,   56,  124,   52,   38,  105,  110,   33,   78,   78,   83,\n",
              "          98,   84,   50,   60, 9130,   22,    2,    4,   23,  122,    2,\n",
              "          22,    5,  112,   45,  257,   70,   15,   30,   26,  382,  162,\n",
              "         100,  133,   63,  261,  104,   79,  667,  110,  147,  227,  107,\n",
              "         200,  212,  174,  161, 3675,  198,  170,  133,  207,  341,  434,\n",
              "         172,  223,  246,   82,  434,   66, 3715,  118,  317, 3714,   19,\n",
              "          56,   32,   66]))"
            ]
          },
          "metadata": {
            "tags": []
          },
          "execution_count": 7
        }
      ]
    },
    {
      "cell_type": "code",
      "metadata": {
        "id": "BSKjdX_kPzvE",
        "outputId": "5e0acc4b-0c52-4218-b63a-454d13f96de9",
        "colab": {
          "base_uri": "https://localhost:8080/",
          "height": 34
        }
      },
      "source": [
        "count_id[np.argsort(count_id)[-4:]],unique_id[np.argsort(count_id)[-4:]]"
      ],
      "execution_count": null,
      "outputs": [
        {
          "output_type": "execute_result",
          "data": {
            "text/plain": [
              "(array([3675, 3714, 3715, 9130]), array([61, 77, 74, 22], dtype=int64))"
            ]
          },
          "metadata": {
            "tags": []
          },
          "execution_count": 8
        }
      ]
    },
    {
      "cell_type": "markdown",
      "metadata": {
        "id": "FYu7WA_3rlW7"
      },
      "source": [
        "We see that 4 stations are generating almost the totality of the errors."
      ]
    },
    {
      "cell_type": "markdown",
      "metadata": {
        "id": "1QT7cgRjrwnL"
      },
      "source": [
        "If we take a look at the station 22:"
      ]
    },
    {
      "cell_type": "code",
      "metadata": {
        "id": "NPDW3GIAQF97",
        "outputId": "1bc2e884-5f5d-4282-aa7b-308c6b8439fb",
        "colab": {
          "base_uri": "https://localhost:8080/",
          "height": 34
        }
      },
      "source": [
        "np.unique(hSSW_wdeltabike[hSSW_wdeltabike['station_id']==22]['check'],return_counts=True)"
      ],
      "execution_count": null,
      "outputs": [
        {
          "output_type": "execute_result",
          "data": {
            "text/plain": [
              "(array([-1,  0,  1,  2], dtype=int64), array([   3,  250,   39, 9088]))"
            ]
          },
          "metadata": {
            "tags": []
          },
          "execution_count": 9
        }
      ]
    },
    {
      "cell_type": "markdown",
      "metadata": {
        "id": "1r-lSa0rSuoS"
      },
      "source": [
        "We observe that this station is generating almost all positive errors. Thus, we can certainly deduce an error in this dock count. In addition, the number of bikes and docks available is variable, contrary to the dock_count, which is fixed. If some docks are under repair, we will see them in the availability variable, but not in the dock_count."
      ]
    },
    {
      "cell_type": "code",
      "metadata": {
        "id": "P2wstyG2R0rf",
        "outputId": "a7f47d09-1a6c-4da6-8d64-5889e51c3186",
        "colab": {
          "base_uri": "https://localhost:8080/",
          "height": 50
        }
      },
      "source": [
        "np.unique(hSSW_wdeltabike['dock_count'],return_counts=True)"
      ],
      "execution_count": null,
      "outputs": [
        {
          "output_type": "execute_result",
          "data": {
            "text/plain": [
              "(array([11, 15, 19, 23, 25, 27], dtype=int64),\n",
              " array([ 34598, 300137, 168663,  84397,   9380,  37517]))"
            ]
          },
          "metadata": {
            "tags": []
          },
          "execution_count": 10
        }
      ]
    },
    {
      "cell_type": "markdown",
      "metadata": {
        "id": "-5mFkbWEsL2i"
      },
      "source": [
        "To take into account this specificity, we implement a new column, called dock_total, which is the total of docks currently usable in the station (hence already used by a bike, or available)."
      ]
    },
    {
      "cell_type": "code",
      "metadata": {
        "id": "de-pkJIcSfFS"
      },
      "source": [
        "hSSW_wdeltabike['dock_total']=hSSW_wdeltabike['bikes_available']+hSSW_wdeltabike['docks_available']"
      ],
      "execution_count": null,
      "outputs": []
    },
    {
      "cell_type": "markdown",
      "metadata": {
        "id": "Owmykkj1TwZa"
      },
      "source": [
        "# Categorical Label Implementation"
      ]
    },
    {
      "cell_type": "markdown",
      "metadata": {
        "id": "5dlp1Sd8sjxB"
      },
      "source": [
        "We create our Status Categories:"
      ]
    },
    {
      "cell_type": "code",
      "metadata": {
        "id": "JdajVaa5Tn5E"
      },
      "source": [
        "hSSW_wdeltabike['Category']=1"
      ],
      "execution_count": null,
      "outputs": []
    },
    {
      "cell_type": "code",
      "metadata": {
        "id": "8jcrBaaAVHC1"
      },
      "source": [
        "hSSW_wdeltabike.loc[(hSSW_wdeltabike['bikes_available']/hSSW_wdeltabike['dock_total'])<0.1,'Category']=0\n",
        "hSSW_wdeltabike.loc[(hSSW_wdeltabike['docks_available']/hSSW_wdeltabike['dock_total'])<0.1,'Category']=2"
      ],
      "execution_count": null,
      "outputs": []
    },
    {
      "cell_type": "markdown",
      "metadata": {
        "id": "WQQl6BZJXrt7"
      },
      "source": [
        "# Features Selection and Modification"
      ]
    },
    {
      "cell_type": "markdown",
      "metadata": {
        "id": "9nosTzSysxMO"
      },
      "source": [
        "In this part, we implement Features adaptations and modifications in order to work on an ML-adapted dataset."
      ]
    },
    {
      "cell_type": "markdown",
      "metadata": {
        "id": "BXxshqXYfvve"
      },
      "source": [
        "### City"
      ]
    },
    {
      "cell_type": "markdown",
      "metadata": {
        "id": "XUYvlLQNtB4O"
      },
      "source": [
        "City is a categorical Variable, We Create OneHotEncoder to merge in the dataset."
      ]
    },
    {
      "cell_type": "code",
      "metadata": {
        "id": "_o08lj9GVhOz",
        "outputId": "452c57d8-ad9a-4291-ee28-20c35e87763d",
        "colab": {
          "base_uri": "https://localhost:8080/",
          "height": 195
        }
      },
      "source": [
        "City=pd.get_dummies(hSSW_wdeltabike['city'])\n",
        "City.head()"
      ],
      "execution_count": null,
      "outputs": [
        {
          "output_type": "execute_result",
          "data": {
            "text/html": [
              "<div>\n",
              "<style scoped>\n",
              "    .dataframe tbody tr th:only-of-type {\n",
              "        vertical-align: middle;\n",
              "    }\n",
              "\n",
              "    .dataframe tbody tr th {\n",
              "        vertical-align: top;\n",
              "    }\n",
              "\n",
              "    .dataframe thead th {\n",
              "        text-align: right;\n",
              "    }\n",
              "</style>\n",
              "<table border=\"1\" class=\"dataframe\">\n",
              "  <thead>\n",
              "    <tr style=\"text-align: right;\">\n",
              "      <th></th>\n",
              "      <th>Mountain View</th>\n",
              "      <th>Palo Alto</th>\n",
              "      <th>Redwood City</th>\n",
              "      <th>San Francisco</th>\n",
              "      <th>San Jose</th>\n",
              "    </tr>\n",
              "  </thead>\n",
              "  <tbody>\n",
              "    <tr>\n",
              "      <th>0</th>\n",
              "      <td>0</td>\n",
              "      <td>0</td>\n",
              "      <td>0</td>\n",
              "      <td>0</td>\n",
              "      <td>1</td>\n",
              "    </tr>\n",
              "    <tr>\n",
              "      <th>1</th>\n",
              "      <td>0</td>\n",
              "      <td>0</td>\n",
              "      <td>0</td>\n",
              "      <td>0</td>\n",
              "      <td>1</td>\n",
              "    </tr>\n",
              "    <tr>\n",
              "      <th>2</th>\n",
              "      <td>0</td>\n",
              "      <td>0</td>\n",
              "      <td>0</td>\n",
              "      <td>0</td>\n",
              "      <td>1</td>\n",
              "    </tr>\n",
              "    <tr>\n",
              "      <th>3</th>\n",
              "      <td>0</td>\n",
              "      <td>0</td>\n",
              "      <td>0</td>\n",
              "      <td>0</td>\n",
              "      <td>1</td>\n",
              "    </tr>\n",
              "    <tr>\n",
              "      <th>4</th>\n",
              "      <td>0</td>\n",
              "      <td>0</td>\n",
              "      <td>0</td>\n",
              "      <td>0</td>\n",
              "      <td>1</td>\n",
              "    </tr>\n",
              "  </tbody>\n",
              "</table>\n",
              "</div>"
            ],
            "text/plain": [
              "   Mountain View  Palo Alto  Redwood City  San Francisco  San Jose\n",
              "0              0          0             0              0         1\n",
              "1              0          0             0              0         1\n",
              "2              0          0             0              0         1\n",
              "3              0          0             0              0         1\n",
              "4              0          0             0              0         1"
            ]
          },
          "metadata": {
            "tags": []
          },
          "execution_count": 14
        }
      ]
    },
    {
      "cell_type": "markdown",
      "metadata": {
        "id": "wUV5-M7vf0OS"
      },
      "source": [
        "### Weather"
      ]
    },
    {
      "cell_type": "markdown",
      "metadata": {
        "id": "QDVefAhGtPll"
      },
      "source": [
        "We see below that the Weather Description is a multiclass categorical variable. But we will have too many parameters.\n",
        "\n",
        "Let's simplify these descriptions!"
      ]
    },
    {
      "cell_type": "code",
      "metadata": {
        "id": "9oGnJ4P4X26z",
        "outputId": "0ecea577-a02b-4bc4-ac4f-89eb9dc99a4a",
        "colab": {
          "base_uri": "https://localhost:8080/",
          "height": 168
        }
      },
      "source": [
        "hSSW_wdeltabike['Weather_Description'].unique()"
      ],
      "execution_count": null,
      "outputs": [
        {
          "output_type": "execute_result",
          "data": {
            "text/plain": [
              "array(['broken clouds', 'mist', 'few clouds', 'sky is clear',\n",
              "       'thunderstorm', 'scattered clouds', 'overcast clouds',\n",
              "       'moderate rain', 'light rain', 'proximity thunderstorm', 'fog',\n",
              "       'haze', 'light intensity drizzle', 'heavy intensity drizzle',\n",
              "       'drizzle', 'thunderstorm with rain', 'proximity shower rain',\n",
              "       'thunderstorm with light rain', 'heavy intensity rain',\n",
              "       'very heavy rain', 'thunderstorm with heavy rain',\n",
              "       'proximity thunderstorm with rain', 'light intensity shower rain'],\n",
              "      dtype=object)"
            ]
          },
          "metadata": {
            "tags": []
          },
          "execution_count": 15
        }
      ]
    },
    {
      "cell_type": "markdown",
      "metadata": {
        "id": "Sd0-aXaeYh7W"
      },
      "source": [
        "Goal: Simplify the Weather Description to a more General weather:\n",
        "- Sunny: Sky is clear\n",
        "- Cloudy: Broken clouds, Few clouds, Scattered clouds, Overcast clouds\n",
        "- Foggy: Mist, Fog, Haze, \n",
        "- Light Rain: light rain, light intensity drizzle, thunderstorm with light rain,light intensity shower rain\n",
        "- Moderate Rain: moderate rain, drizzle, thunderstorm with rain\n",
        "- Heavy Rain: heavy intensity rain, heavy intensity drizzle, thunderstorm with heavy rain, very heavy rain\n",
        "- Proximity to Rain: thunderstorm, proximity thunderstorm, proximity shower rain, proximity thunderstorm with rain"
      ]
    },
    {
      "cell_type": "code",
      "metadata": {
        "id": "oNN_swrxYgjN"
      },
      "source": [
        "hSSW_wdeltabike['Weather_Simplified']=hSSW_wdeltabike['Weather_Description']"
      ],
      "execution_count": null,
      "outputs": []
    },
    {
      "cell_type": "code",
      "metadata": {
        "id": "fMVYe6Uib4lr"
      },
      "source": [
        "hSSW_wdeltabike.loc[hSSW_wdeltabike['Weather_Description']=='sky is clear','Weather_Simplified']='Sunny'\n",
        "hSSW_wdeltabike.loc[hSSW_wdeltabike['Weather_Description']=='broken clouds','Weather_Simplified']='Cloudy'\n",
        "hSSW_wdeltabike.loc[hSSW_wdeltabike['Weather_Description']=='few clouds','Weather_Simplified']='Cloudy'\n",
        "hSSW_wdeltabike.loc[hSSW_wdeltabike['Weather_Description']=='scattered clouds','Weather_Simplified']='Cloudy'\n",
        "hSSW_wdeltabike.loc[hSSW_wdeltabike['Weather_Description']=='overcast clouds','Weather_Simplified']='Cloudy'\n",
        "hSSW_wdeltabike.loc[hSSW_wdeltabike['Weather_Description']=='mist','Weather_Simplified']='Foggy'\n",
        "hSSW_wdeltabike.loc[hSSW_wdeltabike['Weather_Description']=='fog','Weather_Simplified']='Foggy'\n",
        "hSSW_wdeltabike.loc[hSSW_wdeltabike['Weather_Description']=='haze','Weather_Simplified']='Foggy'\n",
        "hSSW_wdeltabike.loc[hSSW_wdeltabike['Weather_Description']=='light rain','Weather_Simplified']='Light Rain'\n",
        "hSSW_wdeltabike.loc[hSSW_wdeltabike['Weather_Description']=='light intensity drizzle','Weather_Simplified']='Light Rain'\n",
        "hSSW_wdeltabike.loc[hSSW_wdeltabike['Weather_Description']=='thunderstorm with light rain','Weather_Simplified']='Light Rain'\n",
        "hSSW_wdeltabike.loc[hSSW_wdeltabike['Weather_Description']=='light intensity shower rain','Weather_Simplified']='Light Rain'\n",
        "hSSW_wdeltabike.loc[hSSW_wdeltabike['Weather_Description']=='moderate rain','Weather_Simplified']='Moderate Rain'\n",
        "hSSW_wdeltabike.loc[hSSW_wdeltabike['Weather_Description']=='drizzle','Weather_Simplified']='Moderate Rain'\n",
        "hSSW_wdeltabike.loc[hSSW_wdeltabike['Weather_Description']=='thunderstorm with rain','Weather_Simplified']='Moderate Rain'\n",
        "hSSW_wdeltabike.loc[hSSW_wdeltabike['Weather_Description']=='heavy intensity rain','Weather_Simplified']='Heavy Rain'\n",
        "hSSW_wdeltabike.loc[hSSW_wdeltabike['Weather_Description']=='heavy intensity drizzle','Weather_Simplified']='Heavy Rain'\n",
        "hSSW_wdeltabike.loc[hSSW_wdeltabike['Weather_Description']=='thunderstorm with heavy rain','Weather_Simplified']='Heavy Rain'\n",
        "hSSW_wdeltabike.loc[hSSW_wdeltabike['Weather_Description']=='very heavy rain','Weather_Simplified']='Heavy Rain'\n",
        "hSSW_wdeltabike.loc[hSSW_wdeltabike['Weather_Description']=='thunderstorm','Weather_Simplified']='Proximity to Rain'\n",
        "hSSW_wdeltabike.loc[hSSW_wdeltabike['Weather_Description']=='proximity thunderstorm','Weather_Simplified']='Proximity to Rain'\n",
        "hSSW_wdeltabike.loc[hSSW_wdeltabike['Weather_Description']=='proximity shower rain','Weather_Simplified']='Proximity to Rain'\n",
        "hSSW_wdeltabike.loc[hSSW_wdeltabike['Weather_Description']=='proximity thunderstorm with rain','Weather_Simplified']='Proximity to Rain'"
      ],
      "execution_count": null,
      "outputs": []
    },
    {
      "cell_type": "markdown",
      "metadata": {
        "id": "RQNTzWhctt3t"
      },
      "source": [
        "We also add a binary variable, if the Weather is rainy or not, which would be more general than the description."
      ]
    },
    {
      "cell_type": "code",
      "metadata": {
        "id": "byxrAer_cECE"
      },
      "source": [
        "hSSW_wdeltabike['Rain']=1\n",
        "hSSW_wdeltabike.loc[hSSW_wdeltabike['Weather_Simplified']=='Sunny','Rain']=0\n",
        "hSSW_wdeltabike.loc[hSSW_wdeltabike['Weather_Simplified']=='Cloudy','Rain']=0\n",
        "hSSW_wdeltabike.loc[hSSW_wdeltabike['Weather_Simplified']=='Foggy','Rain']=0\n",
        "hSSW_wdeltabike.loc[hSSW_wdeltabike['Weather_Simplified']=='Proximity to Rain','Rain']=0"
      ],
      "execution_count": null,
      "outputs": []
    },
    {
      "cell_type": "markdown",
      "metadata": {
        "id": "UBqK8MFRe8gY"
      },
      "source": [
        "Weather Description from 23 to 7 categories, and an additional dummy Rain column."
      ]
    },
    {
      "cell_type": "code",
      "metadata": {
        "id": "hRs9TUCEcUaV",
        "outputId": "a167644d-2ea8-4f52-e794-5228597628fc",
        "colab": {
          "base_uri": "https://localhost:8080/",
          "height": 195
        }
      },
      "source": [
        "Weather_Simplified=pd.get_dummies(hSSW_wdeltabike['Weather_Simplified'])\n",
        "Weather_Simplified.head()"
      ],
      "execution_count": null,
      "outputs": [
        {
          "output_type": "execute_result",
          "data": {
            "text/html": [
              "<div>\n",
              "<style scoped>\n",
              "    .dataframe tbody tr th:only-of-type {\n",
              "        vertical-align: middle;\n",
              "    }\n",
              "\n",
              "    .dataframe tbody tr th {\n",
              "        vertical-align: top;\n",
              "    }\n",
              "\n",
              "    .dataframe thead th {\n",
              "        text-align: right;\n",
              "    }\n",
              "</style>\n",
              "<table border=\"1\" class=\"dataframe\">\n",
              "  <thead>\n",
              "    <tr style=\"text-align: right;\">\n",
              "      <th></th>\n",
              "      <th>Cloudy</th>\n",
              "      <th>Foggy</th>\n",
              "      <th>Heavy Rain</th>\n",
              "      <th>Light Rain</th>\n",
              "      <th>Moderate Rain</th>\n",
              "      <th>Proximity to Rain</th>\n",
              "      <th>Sunny</th>\n",
              "    </tr>\n",
              "  </thead>\n",
              "  <tbody>\n",
              "    <tr>\n",
              "      <th>0</th>\n",
              "      <td>1</td>\n",
              "      <td>0</td>\n",
              "      <td>0</td>\n",
              "      <td>0</td>\n",
              "      <td>0</td>\n",
              "      <td>0</td>\n",
              "      <td>0</td>\n",
              "    </tr>\n",
              "    <tr>\n",
              "      <th>1</th>\n",
              "      <td>1</td>\n",
              "      <td>0</td>\n",
              "      <td>0</td>\n",
              "      <td>0</td>\n",
              "      <td>0</td>\n",
              "      <td>0</td>\n",
              "      <td>0</td>\n",
              "    </tr>\n",
              "    <tr>\n",
              "      <th>2</th>\n",
              "      <td>1</td>\n",
              "      <td>0</td>\n",
              "      <td>0</td>\n",
              "      <td>0</td>\n",
              "      <td>0</td>\n",
              "      <td>0</td>\n",
              "      <td>0</td>\n",
              "    </tr>\n",
              "    <tr>\n",
              "      <th>3</th>\n",
              "      <td>1</td>\n",
              "      <td>0</td>\n",
              "      <td>0</td>\n",
              "      <td>0</td>\n",
              "      <td>0</td>\n",
              "      <td>0</td>\n",
              "      <td>0</td>\n",
              "    </tr>\n",
              "    <tr>\n",
              "      <th>4</th>\n",
              "      <td>1</td>\n",
              "      <td>0</td>\n",
              "      <td>0</td>\n",
              "      <td>0</td>\n",
              "      <td>0</td>\n",
              "      <td>0</td>\n",
              "      <td>0</td>\n",
              "    </tr>\n",
              "  </tbody>\n",
              "</table>\n",
              "</div>"
            ],
            "text/plain": [
              "   Cloudy  Foggy  Heavy Rain  ...  Moderate Rain  Proximity to Rain  Sunny\n",
              "0       1      0           0  ...              0                  0      0\n",
              "1       1      0           0  ...              0                  0      0\n",
              "2       1      0           0  ...              0                  0      0\n",
              "3       1      0           0  ...              0                  0      0\n",
              "4       1      0           0  ...              0                  0      0\n",
              "\n",
              "[5 rows x 7 columns]"
            ]
          },
          "metadata": {
            "tags": []
          },
          "execution_count": 19
        }
      ]
    },
    {
      "cell_type": "markdown",
      "metadata": {
        "id": "8-zIC-OBf6j8"
      },
      "source": [
        "### Wind Direction"
      ]
    },
    {
      "cell_type": "markdown",
      "metadata": {
        "id": "zZu5kuZKuIOw"
      },
      "source": [
        "We also have the Wind Direction as an integer variable. We also decided to test categorical variables, using the Wind_Orientation. So we created dummies to see the effect on the algorithm."
      ]
    },
    {
      "cell_type": "code",
      "metadata": {
        "id": "UIO3fKuOfanL"
      },
      "source": [
        "hSSW_wdeltabike['Wind_Orientation']='North'"
      ],
      "execution_count": null,
      "outputs": []
    },
    {
      "cell_type": "code",
      "metadata": {
        "id": "dXolIvKbhDGo"
      },
      "source": [
        "hSSW_wdeltabike.loc[(hSSW_wdeltabike['Wind_Direction'].astype(int)>45) & (hSSW_wdeltabike['Wind_Direction'].astype(int)<=135),'Wind_Orientation']='East'\n",
        "hSSW_wdeltabike.loc[(hSSW_wdeltabike['Wind_Direction'].astype(int)>135) & (hSSW_wdeltabike['Wind_Direction'].astype(int)<=225),'Wind_Orientation']='South'\n",
        "hSSW_wdeltabike.loc[(hSSW_wdeltabike['Wind_Direction'].astype(int)>225) & (hSSW_wdeltabike['Wind_Direction'].astype(int)<=315),'Wind_Orientation']='West'"
      ],
      "execution_count": null,
      "outputs": []
    },
    {
      "cell_type": "code",
      "metadata": {
        "id": "1Vdns2e8hifm",
        "outputId": "b8aecd77-94a0-4fe0-cece-6dc8958e1ddc",
        "colab": {
          "base_uri": "https://localhost:8080/",
          "height": 195
        }
      },
      "source": [
        "Wind_Orientation=pd.get_dummies(hSSW_wdeltabike['Wind_Orientation'])\n",
        "Wind_Orientation.head()"
      ],
      "execution_count": null,
      "outputs": [
        {
          "output_type": "execute_result",
          "data": {
            "text/html": [
              "<div>\n",
              "<style scoped>\n",
              "    .dataframe tbody tr th:only-of-type {\n",
              "        vertical-align: middle;\n",
              "    }\n",
              "\n",
              "    .dataframe tbody tr th {\n",
              "        vertical-align: top;\n",
              "    }\n",
              "\n",
              "    .dataframe thead th {\n",
              "        text-align: right;\n",
              "    }\n",
              "</style>\n",
              "<table border=\"1\" class=\"dataframe\">\n",
              "  <thead>\n",
              "    <tr style=\"text-align: right;\">\n",
              "      <th></th>\n",
              "      <th>East</th>\n",
              "      <th>North</th>\n",
              "      <th>South</th>\n",
              "      <th>West</th>\n",
              "    </tr>\n",
              "  </thead>\n",
              "  <tbody>\n",
              "    <tr>\n",
              "      <th>0</th>\n",
              "      <td>0</td>\n",
              "      <td>0</td>\n",
              "      <td>1</td>\n",
              "      <td>0</td>\n",
              "    </tr>\n",
              "    <tr>\n",
              "      <th>1</th>\n",
              "      <td>0</td>\n",
              "      <td>0</td>\n",
              "      <td>1</td>\n",
              "      <td>0</td>\n",
              "    </tr>\n",
              "    <tr>\n",
              "      <th>2</th>\n",
              "      <td>0</td>\n",
              "      <td>0</td>\n",
              "      <td>1</td>\n",
              "      <td>0</td>\n",
              "    </tr>\n",
              "    <tr>\n",
              "      <th>3</th>\n",
              "      <td>0</td>\n",
              "      <td>0</td>\n",
              "      <td>1</td>\n",
              "      <td>0</td>\n",
              "    </tr>\n",
              "    <tr>\n",
              "      <th>4</th>\n",
              "      <td>0</td>\n",
              "      <td>0</td>\n",
              "      <td>1</td>\n",
              "      <td>0</td>\n",
              "    </tr>\n",
              "  </tbody>\n",
              "</table>\n",
              "</div>"
            ],
            "text/plain": [
              "   East  North  South  West\n",
              "0     0      0      1     0\n",
              "1     0      0      1     0\n",
              "2     0      0      1     0\n",
              "3     0      0      1     0\n",
              "4     0      0      1     0"
            ]
          },
          "metadata": {
            "tags": []
          },
          "execution_count": 22
        }
      ]
    },
    {
      "cell_type": "markdown",
      "metadata": {
        "id": "Sp4fjoN-rf7_"
      },
      "source": [
        "### Time"
      ]
    },
    {
      "cell_type": "markdown",
      "metadata": {
        "id": "f1x9vaWvujqP"
      },
      "source": [
        "We also extracted from the Timestamp hours and months data."
      ]
    },
    {
      "cell_type": "code",
      "metadata": {
        "id": "JJKPMXX2h3-U"
      },
      "source": [
        "hSSW_wdeltabike['Hour']=hSSW_wdeltabike['datetime'].astype('datetime64').dt.hour\n",
        "hSSW_wdeltabike['Month']=hSSW_wdeltabike['datetime'].astype('datetime64').dt.month"
      ],
      "execution_count": null,
      "outputs": []
    },
    {
      "cell_type": "code",
      "metadata": {
        "id": "mraBVj5prpWJ",
        "outputId": "8debcfea-4ea3-49bf-a941-e9a23467ad70",
        "colab": {
          "base_uri": "https://localhost:8080/",
          "height": 450
        }
      },
      "source": [
        "hSSW_wdeltabike.head()"
      ],
      "execution_count": null,
      "outputs": [
        {
          "output_type": "execute_result",
          "data": {
            "text/html": [
              "<div>\n",
              "<style scoped>\n",
              "    .dataframe tbody tr th:only-of-type {\n",
              "        vertical-align: middle;\n",
              "    }\n",
              "\n",
              "    .dataframe tbody tr th {\n",
              "        vertical-align: top;\n",
              "    }\n",
              "\n",
              "    .dataframe thead th {\n",
              "        text-align: right;\n",
              "    }\n",
              "</style>\n",
              "<table border=\"1\" class=\"dataframe\">\n",
              "  <thead>\n",
              "    <tr style=\"text-align: right;\">\n",
              "      <th></th>\n",
              "      <th>Unnamed: 0</th>\n",
              "      <th>station_id</th>\n",
              "      <th>bikes_available</th>\n",
              "      <th>docks_available</th>\n",
              "      <th>Holiday</th>\n",
              "      <th>Weekend</th>\n",
              "      <th>name</th>\n",
              "      <th>lat</th>\n",
              "      <th>long</th>\n",
              "      <th>dock_count</th>\n",
              "      <th>city</th>\n",
              "      <th>installation_date</th>\n",
              "      <th>delta_bike</th>\n",
              "      <th>datetime</th>\n",
              "      <th>Humidity</th>\n",
              "      <th>Pressure</th>\n",
              "      <th>Temperature</th>\n",
              "      <th>Weather_Description</th>\n",
              "      <th>Wind_Direction</th>\n",
              "      <th>Wind_Speed</th>\n",
              "      <th>check</th>\n",
              "      <th>dock_total</th>\n",
              "      <th>Category</th>\n",
              "      <th>Weather_Simplified</th>\n",
              "      <th>Rain</th>\n",
              "      <th>Wind_Orientation</th>\n",
              "      <th>Hour</th>\n",
              "      <th>Month</th>\n",
              "    </tr>\n",
              "  </thead>\n",
              "  <tbody>\n",
              "    <tr>\n",
              "      <th>0</th>\n",
              "      <td>0</td>\n",
              "      <td>2</td>\n",
              "      <td>2</td>\n",
              "      <td>25</td>\n",
              "      <td>False</td>\n",
              "      <td>False</td>\n",
              "      <td>San Jose Diridon Caltrain Station</td>\n",
              "      <td>37.329732</td>\n",
              "      <td>-121.901782</td>\n",
              "      <td>27</td>\n",
              "      <td>San Jose</td>\n",
              "      <td>8/6/2013</td>\n",
              "      <td>NaN</td>\n",
              "      <td>8/29/2013 13:00</td>\n",
              "      <td>94.0</td>\n",
              "      <td>1021</td>\n",
              "      <td>287.2795</td>\n",
              "      <td>broken clouds</td>\n",
              "      <td>201</td>\n",
              "      <td>0</td>\n",
              "      <td>0</td>\n",
              "      <td>27</td>\n",
              "      <td>0</td>\n",
              "      <td>Cloudy</td>\n",
              "      <td>0</td>\n",
              "      <td>South</td>\n",
              "      <td>13</td>\n",
              "      <td>8</td>\n",
              "    </tr>\n",
              "    <tr>\n",
              "      <th>1</th>\n",
              "      <td>1</td>\n",
              "      <td>3</td>\n",
              "      <td>9</td>\n",
              "      <td>6</td>\n",
              "      <td>False</td>\n",
              "      <td>False</td>\n",
              "      <td>San Jose Civic Center</td>\n",
              "      <td>37.330698</td>\n",
              "      <td>-121.888979</td>\n",
              "      <td>15</td>\n",
              "      <td>San Jose</td>\n",
              "      <td>8/5/2013</td>\n",
              "      <td>NaN</td>\n",
              "      <td>8/29/2013 13:00</td>\n",
              "      <td>94.0</td>\n",
              "      <td>1021</td>\n",
              "      <td>287.2795</td>\n",
              "      <td>broken clouds</td>\n",
              "      <td>201</td>\n",
              "      <td>0</td>\n",
              "      <td>0</td>\n",
              "      <td>15</td>\n",
              "      <td>1</td>\n",
              "      <td>Cloudy</td>\n",
              "      <td>0</td>\n",
              "      <td>South</td>\n",
              "      <td>13</td>\n",
              "      <td>8</td>\n",
              "    </tr>\n",
              "    <tr>\n",
              "      <th>2</th>\n",
              "      <td>2</td>\n",
              "      <td>4</td>\n",
              "      <td>0</td>\n",
              "      <td>11</td>\n",
              "      <td>False</td>\n",
              "      <td>False</td>\n",
              "      <td>Santa Clara at Almaden</td>\n",
              "      <td>37.333988</td>\n",
              "      <td>-121.894902</td>\n",
              "      <td>11</td>\n",
              "      <td>San Jose</td>\n",
              "      <td>8/6/2013</td>\n",
              "      <td>NaN</td>\n",
              "      <td>8/29/2013 13:00</td>\n",
              "      <td>94.0</td>\n",
              "      <td>1021</td>\n",
              "      <td>287.2795</td>\n",
              "      <td>broken clouds</td>\n",
              "      <td>201</td>\n",
              "      <td>0</td>\n",
              "      <td>0</td>\n",
              "      <td>11</td>\n",
              "      <td>0</td>\n",
              "      <td>Cloudy</td>\n",
              "      <td>0</td>\n",
              "      <td>South</td>\n",
              "      <td>13</td>\n",
              "      <td>8</td>\n",
              "    </tr>\n",
              "    <tr>\n",
              "      <th>3</th>\n",
              "      <td>3</td>\n",
              "      <td>5</td>\n",
              "      <td>9</td>\n",
              "      <td>10</td>\n",
              "      <td>False</td>\n",
              "      <td>False</td>\n",
              "      <td>Adobe on Almaden</td>\n",
              "      <td>37.331415</td>\n",
              "      <td>-121.893200</td>\n",
              "      <td>19</td>\n",
              "      <td>San Jose</td>\n",
              "      <td>8/5/2013</td>\n",
              "      <td>NaN</td>\n",
              "      <td>8/29/2013 13:00</td>\n",
              "      <td>94.0</td>\n",
              "      <td>1021</td>\n",
              "      <td>287.2795</td>\n",
              "      <td>broken clouds</td>\n",
              "      <td>201</td>\n",
              "      <td>0</td>\n",
              "      <td>0</td>\n",
              "      <td>19</td>\n",
              "      <td>1</td>\n",
              "      <td>Cloudy</td>\n",
              "      <td>0</td>\n",
              "      <td>South</td>\n",
              "      <td>13</td>\n",
              "      <td>8</td>\n",
              "    </tr>\n",
              "    <tr>\n",
              "      <th>4</th>\n",
              "      <td>4</td>\n",
              "      <td>6</td>\n",
              "      <td>4</td>\n",
              "      <td>11</td>\n",
              "      <td>False</td>\n",
              "      <td>False</td>\n",
              "      <td>San Pedro Square</td>\n",
              "      <td>37.336721</td>\n",
              "      <td>-121.894074</td>\n",
              "      <td>15</td>\n",
              "      <td>San Jose</td>\n",
              "      <td>8/7/2013</td>\n",
              "      <td>NaN</td>\n",
              "      <td>8/29/2013 13:00</td>\n",
              "      <td>94.0</td>\n",
              "      <td>1021</td>\n",
              "      <td>287.2795</td>\n",
              "      <td>broken clouds</td>\n",
              "      <td>201</td>\n",
              "      <td>0</td>\n",
              "      <td>0</td>\n",
              "      <td>15</td>\n",
              "      <td>1</td>\n",
              "      <td>Cloudy</td>\n",
              "      <td>0</td>\n",
              "      <td>South</td>\n",
              "      <td>13</td>\n",
              "      <td>8</td>\n",
              "    </tr>\n",
              "  </tbody>\n",
              "</table>\n",
              "</div>"
            ],
            "text/plain": [
              "   Unnamed: 0  station_id  bikes_available  ...  Wind_Orientation  Hour  Month\n",
              "0           0           2                2  ...             South    13      8\n",
              "1           1           3                9  ...             South    13      8\n",
              "2           2           4                0  ...             South    13      8\n",
              "3           3           5                9  ...             South    13      8\n",
              "4           4           6                4  ...             South    13      8\n",
              "\n",
              "[5 rows x 28 columns]"
            ]
          },
          "metadata": {
            "tags": []
          },
          "execution_count": 24
        }
      ]
    },
    {
      "cell_type": "markdown",
      "metadata": {
        "id": "1sMbjfmBvVdw"
      },
      "source": [
        "### Merge"
      ]
    },
    {
      "cell_type": "markdown",
      "metadata": {
        "id": "-YpxKsA7usY1"
      },
      "source": [
        "To conclude, we merged all our dataset together to build the Machine Learning Dataset."
      ]
    },
    {
      "cell_type": "code",
      "metadata": {
        "id": "3WEyBwZCsP7O"
      },
      "source": [
        "ML_data=hSSW_wdeltabike[['Category','station_id','bikes_available','docks_available','Holiday','Weekend','Humidity','Pressure','Temperature',\\\n",
        "                         'Wind_Direction','Wind_Speed','Rain','Hour','Month']]"
      ],
      "execution_count": null,
      "outputs": []
    },
    {
      "cell_type": "code",
      "metadata": {
        "id": "u-D-rKnJtqx_"
      },
      "source": [
        "ML_data=pd.merge(ML_data,City,left_index=True,right_index=True)\n",
        "ML_data=pd.merge(ML_data,Weather_Simplified,left_index=True,right_index=True)\n",
        "ML_data=pd.merge(ML_data,Wind_Orientation,left_index=True,right_index=True)"
      ],
      "execution_count": null,
      "outputs": []
    },
    {
      "cell_type": "code",
      "metadata": {
        "id": "iDsuqkEDvupu"
      },
      "source": [
        "ML_data=ML_data.astype({'Holiday': int, 'Weekend': int})"
      ],
      "execution_count": null,
      "outputs": []
    },
    {
      "cell_type": "code",
      "metadata": {
        "id": "PbnPC2tGtxf1",
        "outputId": "791602e2-fc04-4495-9d67-06d0c5881b6b",
        "colab": {
          "base_uri": "https://localhost:8080/",
          "height": 438
        }
      },
      "source": [
        "ML_data"
      ],
      "execution_count": null,
      "outputs": [
        {
          "output_type": "execute_result",
          "data": {
            "text/html": [
              "<div>\n",
              "<style scoped>\n",
              "    .dataframe tbody tr th:only-of-type {\n",
              "        vertical-align: middle;\n",
              "    }\n",
              "\n",
              "    .dataframe tbody tr th {\n",
              "        vertical-align: top;\n",
              "    }\n",
              "\n",
              "    .dataframe thead th {\n",
              "        text-align: right;\n",
              "    }\n",
              "</style>\n",
              "<table border=\"1\" class=\"dataframe\">\n",
              "  <thead>\n",
              "    <tr style=\"text-align: right;\">\n",
              "      <th></th>\n",
              "      <th>Category</th>\n",
              "      <th>station_id</th>\n",
              "      <th>bikes_available</th>\n",
              "      <th>docks_available</th>\n",
              "      <th>Holiday</th>\n",
              "      <th>Weekend</th>\n",
              "      <th>Humidity</th>\n",
              "      <th>Pressure</th>\n",
              "      <th>Temperature</th>\n",
              "      <th>Wind_Direction</th>\n",
              "      <th>Wind_Speed</th>\n",
              "      <th>Rain</th>\n",
              "      <th>Hour</th>\n",
              "      <th>Month</th>\n",
              "      <th>Mountain View</th>\n",
              "      <th>Palo Alto</th>\n",
              "      <th>Redwood City</th>\n",
              "      <th>San Francisco</th>\n",
              "      <th>San Jose</th>\n",
              "      <th>Cloudy</th>\n",
              "      <th>Foggy</th>\n",
              "      <th>Heavy Rain</th>\n",
              "      <th>Light Rain</th>\n",
              "      <th>Moderate Rain</th>\n",
              "      <th>Proximity to Rain</th>\n",
              "      <th>Sunny</th>\n",
              "      <th>East</th>\n",
              "      <th>North</th>\n",
              "      <th>South</th>\n",
              "      <th>West</th>\n",
              "    </tr>\n",
              "  </thead>\n",
              "  <tbody>\n",
              "    <tr>\n",
              "      <th>0</th>\n",
              "      <td>0</td>\n",
              "      <td>2</td>\n",
              "      <td>2</td>\n",
              "      <td>25</td>\n",
              "      <td>0</td>\n",
              "      <td>0</td>\n",
              "      <td>94.0</td>\n",
              "      <td>1021</td>\n",
              "      <td>287.2795</td>\n",
              "      <td>201</td>\n",
              "      <td>0</td>\n",
              "      <td>0</td>\n",
              "      <td>13</td>\n",
              "      <td>8</td>\n",
              "      <td>0</td>\n",
              "      <td>0</td>\n",
              "      <td>0</td>\n",
              "      <td>0</td>\n",
              "      <td>1</td>\n",
              "      <td>1</td>\n",
              "      <td>0</td>\n",
              "      <td>0</td>\n",
              "      <td>0</td>\n",
              "      <td>0</td>\n",
              "      <td>0</td>\n",
              "      <td>0</td>\n",
              "      <td>0</td>\n",
              "      <td>0</td>\n",
              "      <td>1</td>\n",
              "      <td>0</td>\n",
              "    </tr>\n",
              "    <tr>\n",
              "      <th>1</th>\n",
              "      <td>1</td>\n",
              "      <td>3</td>\n",
              "      <td>9</td>\n",
              "      <td>6</td>\n",
              "      <td>0</td>\n",
              "      <td>0</td>\n",
              "      <td>94.0</td>\n",
              "      <td>1021</td>\n",
              "      <td>287.2795</td>\n",
              "      <td>201</td>\n",
              "      <td>0</td>\n",
              "      <td>0</td>\n",
              "      <td>13</td>\n",
              "      <td>8</td>\n",
              "      <td>0</td>\n",
              "      <td>0</td>\n",
              "      <td>0</td>\n",
              "      <td>0</td>\n",
              "      <td>1</td>\n",
              "      <td>1</td>\n",
              "      <td>0</td>\n",
              "      <td>0</td>\n",
              "      <td>0</td>\n",
              "      <td>0</td>\n",
              "      <td>0</td>\n",
              "      <td>0</td>\n",
              "      <td>0</td>\n",
              "      <td>0</td>\n",
              "      <td>1</td>\n",
              "      <td>0</td>\n",
              "    </tr>\n",
              "    <tr>\n",
              "      <th>2</th>\n",
              "      <td>0</td>\n",
              "      <td>4</td>\n",
              "      <td>0</td>\n",
              "      <td>11</td>\n",
              "      <td>0</td>\n",
              "      <td>0</td>\n",
              "      <td>94.0</td>\n",
              "      <td>1021</td>\n",
              "      <td>287.2795</td>\n",
              "      <td>201</td>\n",
              "      <td>0</td>\n",
              "      <td>0</td>\n",
              "      <td>13</td>\n",
              "      <td>8</td>\n",
              "      <td>0</td>\n",
              "      <td>0</td>\n",
              "      <td>0</td>\n",
              "      <td>0</td>\n",
              "      <td>1</td>\n",
              "      <td>1</td>\n",
              "      <td>0</td>\n",
              "      <td>0</td>\n",
              "      <td>0</td>\n",
              "      <td>0</td>\n",
              "      <td>0</td>\n",
              "      <td>0</td>\n",
              "      <td>0</td>\n",
              "      <td>0</td>\n",
              "      <td>1</td>\n",
              "      <td>0</td>\n",
              "    </tr>\n",
              "    <tr>\n",
              "      <th>3</th>\n",
              "      <td>1</td>\n",
              "      <td>5</td>\n",
              "      <td>9</td>\n",
              "      <td>10</td>\n",
              "      <td>0</td>\n",
              "      <td>0</td>\n",
              "      <td>94.0</td>\n",
              "      <td>1021</td>\n",
              "      <td>287.2795</td>\n",
              "      <td>201</td>\n",
              "      <td>0</td>\n",
              "      <td>0</td>\n",
              "      <td>13</td>\n",
              "      <td>8</td>\n",
              "      <td>0</td>\n",
              "      <td>0</td>\n",
              "      <td>0</td>\n",
              "      <td>0</td>\n",
              "      <td>1</td>\n",
              "      <td>1</td>\n",
              "      <td>0</td>\n",
              "      <td>0</td>\n",
              "      <td>0</td>\n",
              "      <td>0</td>\n",
              "      <td>0</td>\n",
              "      <td>0</td>\n",
              "      <td>0</td>\n",
              "      <td>0</td>\n",
              "      <td>1</td>\n",
              "      <td>0</td>\n",
              "    </tr>\n",
              "    <tr>\n",
              "      <th>4</th>\n",
              "      <td>1</td>\n",
              "      <td>6</td>\n",
              "      <td>4</td>\n",
              "      <td>11</td>\n",
              "      <td>0</td>\n",
              "      <td>0</td>\n",
              "      <td>94.0</td>\n",
              "      <td>1021</td>\n",
              "      <td>287.2795</td>\n",
              "      <td>201</td>\n",
              "      <td>0</td>\n",
              "      <td>0</td>\n",
              "      <td>13</td>\n",
              "      <td>8</td>\n",
              "      <td>0</td>\n",
              "      <td>0</td>\n",
              "      <td>0</td>\n",
              "      <td>0</td>\n",
              "      <td>1</td>\n",
              "      <td>1</td>\n",
              "      <td>0</td>\n",
              "      <td>0</td>\n",
              "      <td>0</td>\n",
              "      <td>0</td>\n",
              "      <td>0</td>\n",
              "      <td>0</td>\n",
              "      <td>0</td>\n",
              "      <td>0</td>\n",
              "      <td>1</td>\n",
              "      <td>0</td>\n",
              "    </tr>\n",
              "    <tr>\n",
              "      <th>...</th>\n",
              "      <td>...</td>\n",
              "      <td>...</td>\n",
              "      <td>...</td>\n",
              "      <td>...</td>\n",
              "      <td>...</td>\n",
              "      <td>...</td>\n",
              "      <td>...</td>\n",
              "      <td>...</td>\n",
              "      <td>...</td>\n",
              "      <td>...</td>\n",
              "      <td>...</td>\n",
              "      <td>...</td>\n",
              "      <td>...</td>\n",
              "      <td>...</td>\n",
              "      <td>...</td>\n",
              "      <td>...</td>\n",
              "      <td>...</td>\n",
              "      <td>...</td>\n",
              "      <td>...</td>\n",
              "      <td>...</td>\n",
              "      <td>...</td>\n",
              "      <td>...</td>\n",
              "      <td>...</td>\n",
              "      <td>...</td>\n",
              "      <td>...</td>\n",
              "      <td>...</td>\n",
              "      <td>...</td>\n",
              "      <td>...</td>\n",
              "      <td>...</td>\n",
              "      <td>...</td>\n",
              "    </tr>\n",
              "    <tr>\n",
              "      <th>634687</th>\n",
              "      <td>1</td>\n",
              "      <td>70</td>\n",
              "      <td>6</td>\n",
              "      <td>13</td>\n",
              "      <td>0</td>\n",
              "      <td>1</td>\n",
              "      <td>100.0</td>\n",
              "      <td>1024</td>\n",
              "      <td>286.7370</td>\n",
              "      <td>159</td>\n",
              "      <td>1</td>\n",
              "      <td>0</td>\n",
              "      <td>14</td>\n",
              "      <td>9</td>\n",
              "      <td>0</td>\n",
              "      <td>0</td>\n",
              "      <td>0</td>\n",
              "      <td>1</td>\n",
              "      <td>0</td>\n",
              "      <td>0</td>\n",
              "      <td>0</td>\n",
              "      <td>0</td>\n",
              "      <td>0</td>\n",
              "      <td>0</td>\n",
              "      <td>0</td>\n",
              "      <td>1</td>\n",
              "      <td>0</td>\n",
              "      <td>0</td>\n",
              "      <td>1</td>\n",
              "      <td>0</td>\n",
              "    </tr>\n",
              "    <tr>\n",
              "      <th>634688</th>\n",
              "      <td>1</td>\n",
              "      <td>71</td>\n",
              "      <td>5</td>\n",
              "      <td>14</td>\n",
              "      <td>0</td>\n",
              "      <td>1</td>\n",
              "      <td>100.0</td>\n",
              "      <td>1024</td>\n",
              "      <td>286.7370</td>\n",
              "      <td>159</td>\n",
              "      <td>1</td>\n",
              "      <td>0</td>\n",
              "      <td>14</td>\n",
              "      <td>9</td>\n",
              "      <td>0</td>\n",
              "      <td>0</td>\n",
              "      <td>0</td>\n",
              "      <td>1</td>\n",
              "      <td>0</td>\n",
              "      <td>0</td>\n",
              "      <td>0</td>\n",
              "      <td>0</td>\n",
              "      <td>0</td>\n",
              "      <td>0</td>\n",
              "      <td>0</td>\n",
              "      <td>1</td>\n",
              "      <td>0</td>\n",
              "      <td>0</td>\n",
              "      <td>1</td>\n",
              "      <td>0</td>\n",
              "    </tr>\n",
              "    <tr>\n",
              "      <th>634689</th>\n",
              "      <td>1</td>\n",
              "      <td>72</td>\n",
              "      <td>14</td>\n",
              "      <td>9</td>\n",
              "      <td>0</td>\n",
              "      <td>1</td>\n",
              "      <td>100.0</td>\n",
              "      <td>1024</td>\n",
              "      <td>286.7370</td>\n",
              "      <td>159</td>\n",
              "      <td>1</td>\n",
              "      <td>0</td>\n",
              "      <td>14</td>\n",
              "      <td>9</td>\n",
              "      <td>0</td>\n",
              "      <td>0</td>\n",
              "      <td>0</td>\n",
              "      <td>1</td>\n",
              "      <td>0</td>\n",
              "      <td>0</td>\n",
              "      <td>0</td>\n",
              "      <td>0</td>\n",
              "      <td>0</td>\n",
              "      <td>0</td>\n",
              "      <td>0</td>\n",
              "      <td>1</td>\n",
              "      <td>0</td>\n",
              "      <td>0</td>\n",
              "      <td>1</td>\n",
              "      <td>0</td>\n",
              "    </tr>\n",
              "    <tr>\n",
              "      <th>634690</th>\n",
              "      <td>1</td>\n",
              "      <td>73</td>\n",
              "      <td>10</td>\n",
              "      <td>4</td>\n",
              "      <td>0</td>\n",
              "      <td>1</td>\n",
              "      <td>100.0</td>\n",
              "      <td>1024</td>\n",
              "      <td>286.7370</td>\n",
              "      <td>159</td>\n",
              "      <td>1</td>\n",
              "      <td>0</td>\n",
              "      <td>14</td>\n",
              "      <td>9</td>\n",
              "      <td>0</td>\n",
              "      <td>0</td>\n",
              "      <td>0</td>\n",
              "      <td>1</td>\n",
              "      <td>0</td>\n",
              "      <td>0</td>\n",
              "      <td>0</td>\n",
              "      <td>0</td>\n",
              "      <td>0</td>\n",
              "      <td>0</td>\n",
              "      <td>0</td>\n",
              "      <td>1</td>\n",
              "      <td>0</td>\n",
              "      <td>0</td>\n",
              "      <td>1</td>\n",
              "      <td>0</td>\n",
              "    </tr>\n",
              "    <tr>\n",
              "      <th>634691</th>\n",
              "      <td>1</td>\n",
              "      <td>74</td>\n",
              "      <td>3</td>\n",
              "      <td>20</td>\n",
              "      <td>0</td>\n",
              "      <td>1</td>\n",
              "      <td>100.0</td>\n",
              "      <td>1024</td>\n",
              "      <td>286.7370</td>\n",
              "      <td>159</td>\n",
              "      <td>1</td>\n",
              "      <td>0</td>\n",
              "      <td>14</td>\n",
              "      <td>9</td>\n",
              "      <td>0</td>\n",
              "      <td>0</td>\n",
              "      <td>0</td>\n",
              "      <td>1</td>\n",
              "      <td>0</td>\n",
              "      <td>0</td>\n",
              "      <td>0</td>\n",
              "      <td>0</td>\n",
              "      <td>0</td>\n",
              "      <td>0</td>\n",
              "      <td>0</td>\n",
              "      <td>1</td>\n",
              "      <td>0</td>\n",
              "      <td>0</td>\n",
              "      <td>1</td>\n",
              "      <td>0</td>\n",
              "    </tr>\n",
              "  </tbody>\n",
              "</table>\n",
              "<p>634692 rows × 30 columns</p>\n",
              "</div>"
            ],
            "text/plain": [
              "        Category  station_id  bikes_available  ...  North  South  West\n",
              "0              0           2                2  ...      0      1     0\n",
              "1              1           3                9  ...      0      1     0\n",
              "2              0           4                0  ...      0      1     0\n",
              "3              1           5                9  ...      0      1     0\n",
              "4              1           6                4  ...      0      1     0\n",
              "...          ...         ...              ...  ...    ...    ...   ...\n",
              "634687         1          70                6  ...      0      1     0\n",
              "634688         1          71                5  ...      0      1     0\n",
              "634689         1          72               14  ...      0      1     0\n",
              "634690         1          73               10  ...      0      1     0\n",
              "634691         1          74                3  ...      0      1     0\n",
              "\n",
              "[634692 rows x 30 columns]"
            ]
          },
          "metadata": {
            "tags": []
          },
          "execution_count": 28
        }
      ]
    },
    {
      "cell_type": "markdown",
      "metadata": {
        "id": "J1J0KOyou0Dw"
      },
      "source": [
        "# Data Analysis"
      ]
    },
    {
      "cell_type": "markdown",
      "metadata": {
        "id": "SlOb0x3ovCOM"
      },
      "source": [
        "In this part, we focused on simple Analysis to better understand our dataset."
      ]
    },
    {
      "cell_type": "markdown",
      "metadata": {
        "id": "Ja9J2A7qu7B4"
      },
      "source": [
        "### Categories"
      ]
    },
    {
      "cell_type": "markdown",
      "metadata": {
        "id": "9klwzqGhvVnp"
      },
      "source": [
        "Repartition of Station Status:"
      ]
    },
    {
      "cell_type": "code",
      "metadata": {
        "id": "sQNMC8NtNoGB",
        "outputId": "27822a9c-27dc-41bc-db91-3c3480bc5244",
        "colab": {
          "base_uri": "https://localhost:8080/",
          "height": 312
        }
      },
      "source": [
        "categories=np.unique(ML_data['Category'],return_counts=True)\n",
        "plt.bar(categories[0].astype('str'),categories[1])\n",
        "plt.title('Repartition of Station Status')\n",
        "plt.xlabel('Status Categories')\n",
        "plt.ylabel('Number of Status Occurences')"
      ],
      "execution_count": null,
      "outputs": [
        {
          "output_type": "execute_result",
          "data": {
            "text/plain": [
              "Text(0, 0.5, 'Number of Status Occurences')"
            ]
          },
          "metadata": {
            "tags": []
          },
          "execution_count": 29
        },
        {
          "output_type": "display_data",
          "data": {
            "image/png": "[encoded data removed]",
            "text/plain": [
              "<Figure size 432x288 with 1 Axes>"
            ]
          },
          "metadata": {
            "tags": []
          }
        }
      ]
    },
    {
      "cell_type": "markdown",
      "metadata": {
        "id": "wok9eeaVve69"
      },
      "source": [
        "We clearly see that the challenge of using Machine Learning algorithm will be to classify rare events regarding to normal ones."
      ]
    },
    {
      "cell_type": "markdown",
      "metadata": {
        "id": "B6KELSjTKjSy"
      },
      "source": [
        "### Analysis on rare events"
      ]
    },
    {
      "cell_type": "markdown",
      "metadata": {
        "id": "c8dtmxh-Ktoc"
      },
      "source": [
        "We split our dataset to get only almost empty and full stations"
      ]
    },
    {
      "cell_type": "code",
      "metadata": {
        "id": "xI0HbmrwNmrE"
      },
      "source": [
        "Problems_data=ML_data[ML_data['Category']!=1]"
      ],
      "execution_count": null,
      "outputs": []
    },
    {
      "cell_type": "code",
      "metadata": {
        "id": "3a5A16yvONaK"
      },
      "source": [
        "problems_station=np.unique(Problems_data['station_id'],return_counts=True)"
      ],
      "execution_count": null,
      "outputs": []
    },
    {
      "cell_type": "code",
      "metadata": {
        "id": "gR3DnrvpOBVq",
        "outputId": "cd2b6549-b804-4e2f-cda9-507af5907c40",
        "colab": {
          "base_uri": "https://localhost:8080/",
          "height": 282
        }
      },
      "source": [
        "plt.bar(problems_station[0],problems_station[1])"
      ],
      "execution_count": null,
      "outputs": [
        {
          "output_type": "execute_result",
          "data": {
            "text/plain": [
              "<BarContainer object of 69 artists>"
            ]
          },
          "metadata": {
            "tags": []
          },
          "execution_count": 32
        },
        {
          "output_type": "display_data",
          "data": {
            "image/png": "[encoded data removed]",
            "text/plain": [
              "<Figure size 432x288 with 1 Axes>"
            ]
          },
          "metadata": {
            "tags": []
          }
        }
      ]
    },
    {
      "cell_type": "markdown",
      "metadata": {
        "id": "Rvyy0oIKLfXg"
      },
      "source": [
        "We observe that some stations are more likely to encounter problematic situations, but difficult to get identify a particular trend."
      ]
    },
    {
      "cell_type": "code",
      "metadata": {
        "id": "LS0NzXa_Oz5O",
        "outputId": "33c0a121-85dd-438b-80b7-0cc6f1fd932f",
        "colab": {
          "base_uri": "https://localhost:8080/",
          "height": 34
        }
      },
      "source": [
        "ML_data['Rain'].mean()"
      ],
      "execution_count": null,
      "outputs": [
        {
          "output_type": "execute_result",
          "data": {
            "text/plain": [
              "0.10299956514340815"
            ]
          },
          "metadata": {
            "tags": []
          },
          "execution_count": 33
        }
      ]
    },
    {
      "cell_type": "code",
      "metadata": {
        "id": "GVQijWPaOszu",
        "outputId": "f72fb670-37da-4216-bed2-7f51288fb485",
        "colab": {
          "base_uri": "https://localhost:8080/",
          "height": 34
        }
      },
      "source": [
        "Problems_data['Rain'].mean()"
      ],
      "execution_count": null,
      "outputs": [
        {
          "output_type": "execute_result",
          "data": {
            "text/plain": [
              "0.09064193222518138"
            ]
          },
          "metadata": {
            "tags": []
          },
          "execution_count": 34
        }
      ]
    },
    {
      "cell_type": "markdown",
      "metadata": {
        "id": "w3UWdjIDLmMJ"
      },
      "source": [
        "Here again, difficult to identify a correlation between the rain and these rare events."
      ]
    },
    {
      "cell_type": "code",
      "metadata": {
        "id": "YHNYJk2bO3Bs",
        "outputId": "f359db9e-8226-40e8-f959-dcdbe04bdff3",
        "colab": {
          "base_uri": "https://localhost:8080/",
          "height": 282
        }
      },
      "source": [
        "problems_hour=np.unique(Problems_data['Hour'],return_counts=True)\n",
        "plt.bar(problems_hour[0],problems_hour[1])"
      ],
      "execution_count": null,
      "outputs": [
        {
          "output_type": "execute_result",
          "data": {
            "text/plain": [
              "<BarContainer object of 24 artists>"
            ]
          },
          "metadata": {
            "tags": []
          },
          "execution_count": 35
        },
        {
          "output_type": "display_data",
          "data": {
            "image/png": "[encoded data removed]",
            "text/plain": [
              "<Figure size 432x288 with 1 Axes>"
            ]
          },
          "metadata": {
            "tags": []
          }
        }
      ]
    },
    {
      "cell_type": "code",
      "metadata": {
        "id": "mRZHlevZPLCT",
        "outputId": "8eb23437-42d1-4241-9a68-624a2155ca35",
        "colab": {
          "base_uri": "https://localhost:8080/",
          "height": 282
        }
      },
      "source": [
        "problems_month=np.unique(Problems_data['Month'],return_counts=True)\n",
        "plt.bar(problems_month[0],problems_month[1])"
      ],
      "execution_count": null,
      "outputs": [
        {
          "output_type": "execute_result",
          "data": {
            "text/plain": [
              "<BarContainer object of 12 artists>"
            ]
          },
          "metadata": {
            "tags": []
          },
          "execution_count": 36
        },
        {
          "output_type": "display_data",
          "data": {
            "image/png": "[encoded data removed]",
            "text/plain": [
              "<Figure size 432x288 with 1 Axes>"
            ]
          },
          "metadata": {
            "tags": []
          }
        }
      ]
    },
    {
      "cell_type": "code",
      "metadata": {
        "id": "2vCFs8cJNK0V",
        "outputId": "7fc8935d-f814-49e1-f72f-b3436abb77ce",
        "colab": {
          "base_uri": "https://localhost:8080/",
          "height": 282
        }
      },
      "source": [
        "ML_month=np.unique(ML_data['Month'],return_counts=True)\n",
        "plt.bar(ML_month[0],ML_month[1])"
      ],
      "execution_count": null,
      "outputs": [
        {
          "output_type": "execute_result",
          "data": {
            "text/plain": [
              "<BarContainer object of 12 artists>"
            ]
          },
          "metadata": {
            "tags": []
          },
          "execution_count": 37
        },
        {
          "output_type": "display_data",
          "data": {
            "image/png": "[encoded data removed]",
            "text/plain": [
              "<Figure size 432x288 with 1 Axes>"
            ]
          },
          "metadata": {
            "tags": []
          }
        }
      ]
    },
    {
      "cell_type": "markdown",
      "metadata": {
        "id": "sr-dKnSJL91W"
      },
      "source": [
        "We see that Hours and Months influence the problematic situations, as there are more problems in the system during rush hours and during the September month (mostly because we have one September Month more than other Months)."
      ]
    },
    {
      "cell_type": "code",
      "metadata": {
        "id": "K--ElKtGPsZG",
        "outputId": "4ea66e46-27fb-4847-ee6d-4768d3dce96a",
        "colab": {
          "base_uri": "https://localhost:8080/",
          "height": 282
        }
      },
      "source": [
        "problems_temperature=np.unique(Problems_data['Temperature'],return_counts=True)\n",
        "plt.bar(problems_temperature[0],problems_temperature[1])"
      ],
      "execution_count": null,
      "outputs": [
        {
          "output_type": "execute_result",
          "data": {
            "text/plain": [
              "<BarContainer object of 4089 artists>"
            ]
          },
          "metadata": {
            "tags": []
          },
          "execution_count": 38
        },
        {
          "output_type": "display_data",
          "data": {
            "image/png": "[encoded data removed]",
            "text/plain": [
              "<Figure size 432x288 with 1 Axes>"
            ]
          },
          "metadata": {
            "tags": []
          }
        }
      ]
    },
    {
      "cell_type": "code",
      "metadata": {
        "id": "iZgIQ-gDMmQR",
        "outputId": "30d667c8-ab12-4f54-8b6f-6d1884872826",
        "colab": {
          "base_uri": "https://localhost:8080/",
          "height": 282
        }
      },
      "source": [
        "ML_temperature=np.unique(ML_data['Temperature'],return_counts=True)\n",
        "plt.bar(ML_temperature[0],ML_temperature[1])"
      ],
      "execution_count": null,
      "outputs": [
        {
          "output_type": "execute_result",
          "data": {
            "text/plain": [
              "<BarContainer object of 4637 artists>"
            ]
          },
          "metadata": {
            "tags": []
          },
          "execution_count": 39
        },
        {
          "output_type": "display_data",
          "data": {
            "image/png": "[encoded data removed]",
            "text/plain": [
              "<Figure size 432x288 with 1 Axes>"
            ]
          },
          "metadata": {
            "tags": []
          }
        }
      ]
    },
    {
      "cell_type": "markdown",
      "metadata": {
        "id": "qiMIi-BgNGC4"
      },
      "source": [
        "Identically, difficult to find correlations between Empty/Full Stations and the Temperature."
      ]
    },
    {
      "cell_type": "markdown",
      "metadata": {
        "id": "698i4_UDNwQ4"
      },
      "source": [
        "After this analysis, we could jump to Machine Learning, by implementing our first KNearestNeighbor Classifier."
      ]
    },
    {
      "cell_type": "code",
      "metadata": {
        "id": "4mCBrOd7Okpv"
      },
      "source": [
        ""
      ],
      "execution_count": null,
      "outputs": []
    }
  ]
}